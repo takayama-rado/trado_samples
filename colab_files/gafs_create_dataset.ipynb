{
  "nbformat": 4,
  "nbformat_minor": 0,
  "metadata": {
    "colab": {
      "provenance": [],
      "authorship_tag": "ABX9TyOgO1w3JWSQ8eAiKt/9xKxq",
      "include_colab_link": true
    },
    "kernelspec": {
      "name": "python3",
      "display_name": "Python 3"
    },
    "language_info": {
      "name": "python"
    }
  },
  "cells": [
    {
      "cell_type": "markdown",
      "metadata": {
        "id": "view-in-github",
        "colab_type": "text"
      },
      "source": [
        "<a href=\"https://colab.research.google.com/github/takayama-rado/trado_samples/blob/main/colab_files/gafs_create_dataset.ipynb\" target=\"_parent\"><img src=\"https://colab.research.google.com/assets/colab-badge.svg\" alt=\"Open In Colab\"/></a>"
      ]
    },
    {
      "cell_type": "markdown",
      "source": [
        "# 1. Download original GAFS dataset"
      ],
      "metadata": {
        "id": "JzaeM7zr6tYS"
      }
    },
    {
      "cell_type": "code",
      "execution_count": 1,
      "metadata": {
        "colab": {
          "base_uri": "https://localhost:8080/"
        },
        "id": "qmj4qq1B6gnj",
        "outputId": "c4aa70f9-ec06-44b5-caba-41c89c072358"
      },
      "outputs": [
        {
          "output_type": "stream",
          "name": "stdout",
          "text": [
            "Mounted at /content/drive\n"
          ]
        }
      ],
      "source": [
        "from google.colab import drive\n",
        "\n",
        "drive.mount(\"/content/drive\")"
      ]
    },
    {
      "cell_type": "code",
      "source": [
        "# Copy to local.\n",
        "!cp drive/MyDrive/Datasets/gafs_dataset_orig.zip gafs_orig.zip"
      ],
      "metadata": {
        "id": "n201zyEV7Tnq"
      },
      "execution_count": 2,
      "outputs": []
    },
    {
      "cell_type": "code",
      "source": [
        "!unzip -o gafs_orig.zip"
      ],
      "metadata": {
        "colab": {
          "base_uri": "https://localhost:8080/"
        },
        "id": "OKApny8v7ZSj",
        "outputId": "6389f8fd-f418-4bb8-e8d2-e1a559f04ba4"
      },
      "execution_count": 3,
      "outputs": [
        {
          "output_type": "stream",
          "name": "stdout",
          "text": [
            "Archive:  gafs_orig.zip\n",
            "   creating: inputs/\n",
            "   creating: inputs/google_fs/\n",
            "  inflating: inputs/google_fs/character_to_prediction_index.json  \n",
            "   creating: inputs/google_fs/supplemental_landmarks/\n",
            "  inflating: inputs/google_fs/supplemental_metadata.csv  \n",
            "  inflating: inputs/google_fs/train.csv  \n",
            "   creating: inputs/google_fs/train_landmarks/\n",
            "  inflating: inputs/google_fs/train_landmarks/450474571.parquet  \n"
          ]
        }
      ]
    },
    {
      "cell_type": "code",
      "source": [
        "!ls inputs/google_fs"
      ],
      "metadata": {
        "colab": {
          "base_uri": "https://localhost:8080/"
        },
        "id": "8aK98D7w7d4i",
        "outputId": "4b585dcc-4b4a-4856-d703-f9ba5dc812d5"
      },
      "execution_count": 4,
      "outputs": [
        {
          "output_type": "stream",
          "name": "stdout",
          "text": [
            "character_to_prediction_index.json  supplemental_metadata.csv  train_landmarks\n",
            "supplemental_landmarks\t\t    train.csv\n"
          ]
        }
      ]
    },
    {
      "cell_type": "code",
      "source": [
        "!cat inputs/google_fs/character_to_prediction_index.json"
      ],
      "metadata": {
        "colab": {
          "base_uri": "https://localhost:8080/"
        },
        "id": "4UwP7AD_7f6y",
        "outputId": "7c369ade-b237-4a13-ef5d-dde8d948bb1c"
      },
      "execution_count": 5,
      "outputs": [
        {
          "output_type": "stream",
          "name": "stdout",
          "text": [
            "{\" \":0,\"!\":1,\"#\":2,\"$\":3,\"%\":4,\"&\":5,\"'\":6,\"(\":7,\")\":8,\"*\":9,\"+\":10,\",\":11,\"-\":12,\".\":13,\"\\/\":14,\"0\":15,\"1\":16,\"2\":17,\"3\":18,\"4\":19,\"5\":20,\"6\":21,\"7\":22,\"8\":23,\"9\":24,\":\":25,\";\":26,\"=\":27,\"?\":28,\"@\":29,\"[\":30,\"_\":31,\"a\":32,\"b\":33,\"c\":34,\"d\":35,\"e\":36,\"f\":37,\"g\":38,\"h\":39,\"i\":40,\"j\":41,\"k\":42,\"l\":43,\"m\":44,\"n\":45,\"o\":46,\"p\":47,\"q\":48,\"r\":49,\"s\":50,\"t\":51,\"u\":52,\"v\":53,\"w\":54,\"x\":55,\"y\":56,\"z\":57,\"~\":58}"
          ]
        }
      ]
    },
    {
      "cell_type": "code",
      "source": [
        "!cat inputs/google_fs/train.csv | head"
      ],
      "metadata": {
        "colab": {
          "base_uri": "https://localhost:8080/"
        },
        "id": "yfUVqk8D79hy",
        "outputId": "9f291465-a979-4bb1-da69-7fa4dc191baa"
      },
      "execution_count": 6,
      "outputs": [
        {
          "output_type": "stream",
          "name": "stdout",
          "text": [
            "path,file_id,sequence_id,participant_id,phrase\n",
            "train_landmarks/5414471.parquet,5414471,1816796431,217,3 creekhouse\n",
            "train_landmarks/5414471.parquet,5414471,1816825349,107,scales/kuhaylah\n",
            "train_landmarks/5414471.parquet,5414471,1816909464,1,1383 william lanier\n",
            "train_landmarks/5414471.parquet,5414471,1816967051,63,988 franklin lane\n",
            "train_landmarks/5414471.parquet,5414471,1817123330,89,6920 northeast 661st road\n",
            "train_landmarks/5414471.parquet,5414471,1817141095,38,www.freem.ne.jp\n",
            "train_landmarks/5414471.parquet,5414471,1817169529,70,https://jsi.is/hukuoka\n",
            "train_landmarks/5414471.parquet,5414471,1817171518,202,239613 stolze street\n",
            "train_landmarks/5414471.parquet,5414471,1817195757,136,242-197-6202\n"
          ]
        }
      ]
    },
    {
      "cell_type": "code",
      "source": [
        "!ls inputs/google_fs/train_landmarks"
      ],
      "metadata": {
        "colab": {
          "base_uri": "https://localhost:8080/"
        },
        "id": "8SZ3p4728AuB",
        "outputId": "b539cd3d-8b6b-4d3d-f244-2f20ad42f289"
      },
      "execution_count": 7,
      "outputs": [
        {
          "output_type": "stream",
          "name": "stdout",
          "text": [
            "450474571.parquet\n"
          ]
        }
      ]
    },
    {
      "cell_type": "markdown",
      "source": [
        "# 2. Check data format\n",
        "## 2.1 import modules"
      ],
      "metadata": {
        "id": "PIiHtXrs9Dvi"
      }
    },
    {
      "cell_type": "code",
      "source": [
        "# Standard modules.\n",
        "import os\n",
        "import json\n",
        "import shutil\n",
        "import time\n",
        "\n",
        "# 3rd party's modules.\n",
        "import numpy as np\n",
        "import h5py\n",
        "import pandas as pd\n",
        "import matplotlib.pyplot as plt"
      ],
      "metadata": {
        "id": "zlkg7Qwd9IaK"
      },
      "execution_count": 8,
      "outputs": []
    },
    {
      "cell_type": "markdown",
      "source": [
        "## 2.2 load and analyze files"
      ],
      "metadata": {
        "id": "LeYG9aM59ZVp"
      }
    },
    {
      "cell_type": "markdown",
      "source": [
        "### Dataset information and dictionary."
      ],
      "metadata": {
        "id": "jMemvudyCVOy"
      }
    },
    {
      "cell_type": "code",
      "source": [
        "# Load data definition.\n",
        "root_dir = \"inputs/google_fs\"\n",
        "track_info = pd.read_csv(os.path.join(root_dir, \"train.csv\"))\n",
        "print(track_info)"
      ],
      "metadata": {
        "colab": {
          "base_uri": "https://localhost:8080/"
        },
        "id": "ZcUft5mL9Ycp",
        "outputId": "caba5bfa-0b9b-44e2-9cc3-3e194937fd53"
      },
      "execution_count": 9,
      "outputs": [
        {
          "output_type": "stream",
          "name": "stdout",
          "text": [
            "                                     path     file_id  sequence_id  \\\n",
            "0         train_landmarks/5414471.parquet     5414471   1816796431   \n",
            "1         train_landmarks/5414471.parquet     5414471   1816825349   \n",
            "2         train_landmarks/5414471.parquet     5414471   1816909464   \n",
            "3         train_landmarks/5414471.parquet     5414471   1816967051   \n",
            "4         train_landmarks/5414471.parquet     5414471   1817123330   \n",
            "...                                   ...         ...          ...   \n",
            "67203  train_landmarks/2118949241.parquet  2118949241    388192924   \n",
            "67204  train_landmarks/2118949241.parquet  2118949241    388225542   \n",
            "67205  train_landmarks/2118949241.parquet  2118949241    388232076   \n",
            "67206  train_landmarks/2118949241.parquet  2118949241    388235284   \n",
            "67207  train_landmarks/2118949241.parquet  2118949241    388332538   \n",
            "\n",
            "       participant_id                          phrase  \n",
            "0                 217                    3 creekhouse  \n",
            "1                 107                 scales/kuhaylah  \n",
            "2                   1             1383 william lanier  \n",
            "3                  63               988 franklin lane  \n",
            "4                  89       6920 northeast 661st road  \n",
            "...               ...                             ...  \n",
            "67203              88                    431-366-2913  \n",
            "67204             154                    994-392-3850  \n",
            "67205              95  https://www.tianjiagenomes.com  \n",
            "67206              36               90 kerwood circle  \n",
            "67207             176                      802 co 66b  \n",
            "\n",
            "[67208 rows x 5 columns]\n"
          ]
        }
      ]
    },
    {
      "cell_type": "code",
      "source": [
        "pids = track_info[\"participant_id\"]\n",
        "unique_pids = np.unique(pids)\n",
        "print(unique_pids)\n",
        "print(len(unique_pids))"
      ],
      "metadata": {
        "colab": {
          "base_uri": "https://localhost:8080/"
        },
        "id": "DtmI0nhNByx7",
        "outputId": "f2a26296-577e-4861-f02e-e92c797ee376"
      },
      "execution_count": 10,
      "outputs": [
        {
          "output_type": "stream",
          "name": "stdout",
          "text": [
            "[  0   1   2   4   6   9  10  13  15  18  20  21  24  25  27  33  36  38\n",
            "  40  43  53  56  59  63  68  70  71  72  73  74  76  80  81  88  89  92\n",
            "  93  95 102 105 107 109 112 113 115 117 121 122 125 128 135 136 138 141\n",
            " 143 145 147 151 153 154 157 158 159 160 161 168 169 171 176 178 181 186\n",
            " 187 188 192 196 202 203 216 217 219 223 225 227 230 231 233 236 239 241\n",
            " 242 246 251 254]\n",
            "94\n"
          ]
        }
      ]
    },
    {
      "cell_type": "code",
      "source": [
        "phrases = track_info[\"phrase\"]\n",
        "unique_phrases = np.unique(phrases)\n",
        "len_phrases = len(phrases)\n",
        "len_unique_phrases = len(unique_phrases)\n",
        "print(f\"The number of total phrases:{len_phrases}\")\n",
        "print(f\"Ther number of unique phrases:{len_unique_phrases}\")\n",
        "print(f\"Ratio of unique phrases:{len_unique_phrases / len_phrases}\")\n",
        "print(f\"Ratio of duplicate phrases:{(len_phrases - len_unique_phrases) / len_phrases}\")"
      ],
      "metadata": {
        "colab": {
          "base_uri": "https://localhost:8080/"
        },
        "id": "-tNZweXT9-ER",
        "outputId": "fe259a85-33c5-4377-d63c-248f8e39724b"
      },
      "execution_count": 11,
      "outputs": [
        {
          "output_type": "stream",
          "name": "stdout",
          "text": [
            "The number of total phrases:67208\n",
            "Ther number of unique phrases:46478\n",
            "Ratio of unique phrases:0.6915545768360909\n",
            "Ratio of duplicate phrases:0.30844542316390905\n"
          ]
        }
      ]
    },
    {
      "cell_type": "markdown",
      "source": [
        "### Phrase length distribution"
      ],
      "metadata": {
        "id": "4YP-oLbs4Se3"
      }
    },
    {
      "cell_type": "code",
      "source": [
        "lengths = np.array([len(p) for p in phrases])\n",
        "max_len = np.max(lengths)\n",
        "print(max_len)"
      ],
      "metadata": {
        "colab": {
          "base_uri": "https://localhost:8080/"
        },
        "id": "P5a4SAGg5iGv",
        "outputId": "18a2b048-e70e-4d75-e599-e988271d6ed9"
      },
      "execution_count": 12,
      "outputs": [
        {
          "output_type": "stream",
          "name": "stdout",
          "text": [
            "31\n"
          ]
        }
      ]
    },
    {
      "cell_type": "code",
      "source": [
        "lengths = np.array([len(p) for p in phrases])\n",
        "max_len = np.max(lengths)\n",
        "histo, borders = np.histogram(lengths, bins=np.arange(1, max_len+1))\n",
        "\n",
        "print(borders)\n",
        "print(histo)\n",
        "\n",
        "plt.figure(figsize=(14, 10))\n",
        "plt.bar(borders[:-1]+1, histo, align=\"center\")\n",
        "plt.grid(axis=\"y\", linestyle=\"--\")\n",
        "plt.xticks(fontsize=20)\n",
        "plt.yticks(fontsize=20)\n",
        "plt.show()"
      ],
      "metadata": {
        "colab": {
          "base_uri": "https://localhost:8080/",
          "height": 940
        },
        "id": "utTVsYdH4V5v",
        "outputId": "32caa129-e64f-459e-df12-8ee3d6a784d1"
      },
      "execution_count": 13,
      "outputs": [
        {
          "output_type": "stream",
          "name": "stdout",
          "text": [
            "[ 1  2  3  4  5  6  7  8  9 10 11 12 13 14 15 16 17 18 19 20 21 22 23 24\n",
            " 25 26 27 28 29 30 31]\n",
            "[    1     0     5    27    66   136   225   421   815  1295  2634 11460\n",
            "  3716  3760  3977  3563  3558  3423  3184  3171  3149  3115  2579  2212\n",
            "  2061  1878  1966  1540  1767  1504]\n"
          ]
        },
        {
          "output_type": "display_data",
          "data": {
            "text/plain": [
              "<Figure size 1400x1000 with 1 Axes>"
            ],
            "image/png": "[encoded data removed]"
          },
          "metadata": {}
        }
      ]
    },
    {
      "cell_type": "markdown",
      "source": [
        "### Character distribution"
      ],
      "metadata": {
        "id": "vOTcdmwE308H"
      }
    },
    {
      "cell_type": "code",
      "source": [
        "dict_file = os.path.join(root_dir, \"character_to_prediction_index.json\")\n",
        "with open(dict_file, \"r\") as fread:\n",
        "    key2token = json.load(fread)\n",
        "characters = list(key2token.keys())\n",
        "print(characters)\n",
        "char_counter = {k: 0 for k in characters}\n",
        "\n",
        "for phrase in phrases:\n",
        "    for char in phrase:\n",
        "        char_counter[char] += 1\n",
        "print(char_counter)"
      ],
      "metadata": {
        "colab": {
          "base_uri": "https://localhost:8080/"
        },
        "id": "sx_TM3Vm-_I6",
        "outputId": "6ca9a841-bd79-4449-97e6-989f59280648"
      },
      "execution_count": 14,
      "outputs": [
        {
          "output_type": "stream",
          "name": "stdout",
          "text": [
            "[' ', '!', '#', '$', '%', '&', \"'\", '(', ')', '*', '+', ',', '-', '.', '/', '0', '1', '2', '3', '4', '5', '6', '7', '8', '9', ':', ';', '=', '?', '@', '[', '_', 'a', 'b', 'c', 'd', 'e', 'f', 'g', 'h', 'i', 'j', 'k', 'l', 'm', 'n', 'o', 'p', 'q', 'r', 's', 't', 'u', 'v', 'w', 'x', 'y', 'z', '~']\n",
            "{' ': 58569, '!': 3, '#': 3, '$': 5, '%': 128, '&': 24, \"'\": 3, '(': 16, ')': 16, '*': 3, '+': 8307, ',': 40, '-': 54242, '.': 24652, '/': 19477, '0': 26744, '1': 31292, '2': 31599, '3': 29789, '4': 29810, '5': 29565, '6': 29701, '7': 28119, '8': 28202, '9': 29440, ':': 1939, ';': 1, '=': 304, '?': 302, '@': 45, '[': 2, '_': 1683, 'a': 69521, 'b': 13655, 'c': 33020, 'd': 25751, 'e': 71986, 'f': 8639, 'g': 15257, 'h': 24243, 'i': 43840, 'j': 4403, 'k': 12355, 'l': 38452, 'm': 26391, 'n': 45663, 'o': 57784, 'p': 17326, 'q': 1114, 'r': 55533, 's': 43224, 't': 47132, 'u': 20907, 'v': 10370, 'w': 28532, 'x': 2315, 'y': 11409, 'z': 3746, '~': 21}\n"
          ]
        }
      ]
    },
    {
      "cell_type": "code",
      "source": [
        "x = np.arange(1, len(characters)+1)\n",
        "y = char_counter.values()\n",
        "label_x = char_counter.keys()\n",
        "\n",
        "plt.figure(figsize=(14, 10))\n",
        "plt.bar(x, y, align=\"center\")\n",
        "plt.xticks(x, label_x)\n",
        "plt.grid(axis=\"y\", linestyle=\"--\")\n",
        "plt.xticks(fontsize=15)\n",
        "plt.yticks(fontsize=20)\n",
        "plt.show()"
      ],
      "metadata": {
        "colab": {
          "base_uri": "https://localhost:8080/",
          "height": 836
        },
        "id": "tZI8q5IfAdpS",
        "outputId": "156d9a25-df28-4ae0-b7d8-b6ddcc261b1a"
      },
      "execution_count": 15,
      "outputs": [
        {
          "output_type": "display_data",
          "data": {
            "text/plain": [
              "<Figure size 1400x1000 with 1 Axes>"
            ],
            "image/png": "[encoded data removed]"
          },
          "metadata": {}
        }
      ]
    },
    {
      "cell_type": "markdown",
      "source": [
        "### Tracking data."
      ],
      "metadata": {
        "id": "mUWkZ1rrCZZh"
      }
    },
    {
      "cell_type": "code",
      "source": [
        "data_path  = os.path.join(root_dir, \"train_landmarks/450474571.parquet\")\n",
        "data = pd.read_parquet(data_path)\n",
        "print(data)"
      ],
      "metadata": {
        "colab": {
          "base_uri": "https://localhost:8080/"
        },
        "id": "-AqWyJKJCa1x",
        "outputId": "5c98891e-ee52-4034-d0d3-e498fb0eb7f4"
      },
      "execution_count": 16,
      "outputs": [
        {
          "output_type": "stream",
          "name": "stdout",
          "text": [
            "             frame  x_face_0  x_face_1  x_face_2  x_face_3  x_face_4  \\\n",
            "sequence_id                                                            \n",
            "2138557488       0  0.663001  0.644330  0.657036  0.627135  0.640392   \n",
            "2138557488       1  0.667972  0.643810  0.656717  0.626106  0.639789   \n",
            "2138557488       2  0.671009  0.642717  0.655539  0.624751  0.638660   \n",
            "2138557488       3  0.668623  0.641970  0.654859  0.623967  0.637923   \n",
            "2138557488       4  0.669397  0.647073  0.658502  0.627655  0.643198   \n",
            "...            ...       ...       ...       ...       ...       ...   \n",
            "2147465106     231  0.652571  0.639059  0.644006  0.621364  0.637387   \n",
            "2147465106     232  0.659162  0.641239  0.646395  0.623293  0.639435   \n",
            "2147465106     233  0.663675  0.649184  0.653125  0.630293  0.647554   \n",
            "2147465106     234  0.662469  0.648533  0.652406  0.630325  0.647052   \n",
            "2147465106     235  0.660208  0.641396  0.646925  0.625453  0.639898   \n",
            "\n",
            "             x_face_5  x_face_6  x_face_7  x_face_8  ...  z_right_hand_11  \\\n",
            "sequence_id                                          ...                    \n",
            "2138557488   0.639885  0.641768  0.534376  0.636691  ...        -0.132502   \n",
            "2138557488   0.639204  0.640857  0.533343  0.635632  ...        -0.145262   \n",
            "2138557488   0.637980  0.639263  0.531785  0.634024  ...              NaN   \n",
            "2138557488   0.637240  0.638609  0.531507  0.633598  ...              NaN   \n",
            "2138557488   0.642010  0.641524  0.526642  0.635745  ...              NaN   \n",
            "...               ...       ...       ...       ...  ...              ...   \n",
            "2147465106   0.636664  0.635819  0.524396  0.633164  ...        -0.126637   \n",
            "2147465106   0.638730  0.638012  0.528311  0.635227  ...        -0.018019   \n",
            "2147465106   0.646427  0.644188  0.528351  0.641039  ...        -0.067727   \n",
            "2147465106   0.646258  0.645174  0.527520  0.643011  ...        -0.103198   \n",
            "2147465106   0.639926  0.641605  0.533975  0.640696  ...        -0.139647   \n",
            "\n",
            "             z_right_hand_12  z_right_hand_13  z_right_hand_14  \\\n",
            "sequence_id                                                      \n",
            "2138557488         -0.126746        -0.043463        -0.123367   \n",
            "2138557488         -0.136643        -0.046104        -0.135400   \n",
            "2138557488               NaN              NaN              NaN   \n",
            "2138557488               NaN              NaN              NaN   \n",
            "2138557488               NaN              NaN              NaN   \n",
            "...                      ...              ...              ...   \n",
            "2147465106         -0.114350        -0.051195        -0.131952   \n",
            "2147465106         -0.016099         0.004961        -0.022643   \n",
            "2147465106         -0.064758        -0.024968        -0.068932   \n",
            "2147465106         -0.097452        -0.040354        -0.101917   \n",
            "2147465106         -0.128986        -0.053927        -0.144123   \n",
            "\n",
            "             z_right_hand_15  z_right_hand_16  z_right_hand_17  \\\n",
            "sequence_id                                                      \n",
            "2138557488         -0.132086        -0.109608        -0.065347   \n",
            "2138557488         -0.142422        -0.113242        -0.064694   \n",
            "2138557488               NaN              NaN              NaN   \n",
            "2138557488               NaN              NaN              NaN   \n",
            "2138557488               NaN              NaN              NaN   \n",
            "...                      ...              ...              ...   \n",
            "2147465106         -0.122410        -0.093948        -0.059035   \n",
            "2147465106         -0.022986        -0.014463         0.000456   \n",
            "2147465106         -0.068522        -0.057520        -0.026081   \n",
            "2147465106         -0.097122        -0.077666        -0.044165   \n",
            "2147465106         -0.141579        -0.113838        -0.061854   \n",
            "\n",
            "             z_right_hand_18  z_right_hand_19  z_right_hand_20  \n",
            "sequence_id                                                     \n",
            "2138557488         -0.107437        -0.117422        -0.111925  \n",
            "2138557488         -0.109843        -0.114211        -0.101464  \n",
            "2138557488               NaN              NaN              NaN  \n",
            "2138557488               NaN              NaN              NaN  \n",
            "2138557488               NaN              NaN              NaN  \n",
            "...                      ...              ...              ...  \n",
            "2147465106         -0.124274        -0.119032        -0.097088  \n",
            "2147465106         -0.026378        -0.023387        -0.012794  \n",
            "2147465106         -0.070682        -0.070979        -0.060423  \n",
            "2147465106         -0.098527        -0.096455        -0.080358  \n",
            "2147465106         -0.135274        -0.133947        -0.112528  \n",
            "\n",
            "[46260 rows x 1630 columns]\n"
          ]
        }
      ]
    },
    {
      "cell_type": "code",
      "source": [
        "print(data.columns)\n",
        "sids = data.index\n",
        "unique_sids = np.unique(sids)\n",
        "print(len(unique_sids))"
      ],
      "metadata": {
        "colab": {
          "base_uri": "https://localhost:8080/"
        },
        "id": "m-R1DRO5DmNa",
        "outputId": "d798672f-a802-4700-813d-09b63bae9567"
      },
      "execution_count": 17,
      "outputs": [
        {
          "output_type": "stream",
          "name": "stdout",
          "text": [
            "Index(['frame', 'x_face_0', 'x_face_1', 'x_face_2', 'x_face_3', 'x_face_4',\n",
            "       'x_face_5', 'x_face_6', 'x_face_7', 'x_face_8',\n",
            "       ...\n",
            "       'z_right_hand_11', 'z_right_hand_12', 'z_right_hand_13',\n",
            "       'z_right_hand_14', 'z_right_hand_15', 'z_right_hand_16',\n",
            "       'z_right_hand_17', 'z_right_hand_18', 'z_right_hand_19',\n",
            "       'z_right_hand_20'],\n",
            "      dtype='object', length=1630)\n",
            "287\n"
          ]
        }
      ]
    },
    {
      "cell_type": "markdown",
      "source": [
        "## 2.3 Main process"
      ],
      "metadata": {
        "id": "8PkFsaM1ESVz"
      }
    },
    {
      "cell_type": "markdown",
      "source": [
        "### Define loading function of track data."
      ],
      "metadata": {
        "id": "VBGb3YhdEUeb"
      }
    },
    {
      "cell_type": "code",
      "source": [
        "# Define column names.\n",
        "FACE_NUM = 468\n",
        "LHAND_NUM = 21\n",
        "POSE_NUM = 33\n",
        "RHAND_NUM = 21\n",
        "ROWS_PER_FRAME = FACE_NUM + LHAND_NUM + POSE_NUM + RHAND_NUM\n",
        "\n",
        "FACE_COLUMNS = [[f\"x_face_{i}\", f\"y_face_{i}\", f\"z_face_{i}\"] for i in range(FACE_NUM)]\n",
        "LHAND_COLUMNS = [[f\"x_left_hand_{i}\", f\"y_left_hand_{i}\", f\"z_left_hand_{i}\"] for i in range(LHAND_NUM)]\n",
        "POSE_COLUMNS = [[f\"x_pose_{i}\", f\"y_pose_{i}\", f\"z_pose_{i}\"] for i in range(POSE_NUM)]\n",
        "RHAND_COLUMNS = [[f\"x_right_hand_{i}\", f\"y_right_hand_{i}\", f\"z_right_hand_{i}\"] for i in range(RHAND_NUM)]\n",
        "# Flatten.\n",
        "FACE_COLUMNS = [item for sublist in FACE_COLUMNS for item in sublist]\n",
        "LHAND_COLUMNS = [item for sublist in LHAND_COLUMNS for item in sublist]\n",
        "POSE_COLUMNS = [item for sublist in POSE_COLUMNS for item in sublist]\n",
        "RHAND_COLUMNS = [item for sublist in RHAND_COLUMNS for item in sublist]\n",
        "# Concatenate.\n",
        "COLUMNS = FACE_COLUMNS + LHAND_COLUMNS + POSE_COLUMNS + RHAND_COLUMNS\n",
        "\n",
        "print(COLUMNS)"
      ],
      "metadata": {
        "colab": {
          "base_uri": "https://localhost:8080/"
        },
        "id": "KfEHGflIEayx",
        "outputId": "2d5ce2b5-6b0d-46a0-a091-546bdfe55a50"
      },
      "execution_count": 18,
      "outputs": [
        {
          "output_type": "stream",
          "name": "stdout",
          "text": [
            "['x_face_0', 'y_face_0', 'z_face_0', 'x_face_1', 'y_face_1', 'z_face_1', 'x_face_2', 'y_face_2', 'z_face_2', 'x_face_3', 'y_face_3', 'z_face_3', 'x_face_4', 'y_face_4', 'z_face_4', 'x_face_5', 'y_face_5', 'z_face_5', 'x_face_6', 'y_face_6', 'z_face_6', 'x_face_7', 'y_face_7', 'z_face_7', 'x_face_8', 'y_face_8', 'z_face_8', 'x_face_9', 'y_face_9', 'z_face_9', 'x_face_10', 'y_face_10', 'z_face_10', 'x_face_11', 'y_face_11', 'z_face_11', 'x_face_12', 'y_face_12', 'z_face_12', 'x_face_13', 'y_face_13', 'z_face_13', 'x_face_14', 'y_face_14', 'z_face_14', 'x_face_15', 'y_face_15', 'z_face_15', 'x_face_16', 'y_face_16', 'z_face_16', 'x_face_17', 'y_face_17', 'z_face_17', 'x_face_18', 'y_face_18', 'z_face_18', 'x_face_19', 'y_face_19', 'z_face_19', 'x_face_20', 'y_face_20', 'z_face_20', 'x_face_21', 'y_face_21', 'z_face_21', 'x_face_22', 'y_face_22', 'z_face_22', 'x_face_23', 'y_face_23', 'z_face_23', 'x_face_24', 'y_face_24', 'z_face_24', 'x_face_25', 'y_face_25', 'z_face_25', 'x_face_26', 'y_face_26', 'z_face_26', 'x_face_27', 'y_face_27', 'z_face_27', 'x_face_28', 'y_face_28', 'z_face_28', 'x_face_29', 'y_face_29', 'z_face_29', 'x_face_30', 'y_face_30', 'z_face_30', 'x_face_31', 'y_face_31', 'z_face_31', 'x_face_32', 'y_face_32', 'z_face_32', 'x_face_33', 'y_face_33', 'z_face_33', 'x_face_34', 'y_face_34', 'z_face_34', 'x_face_35', 'y_face_35', 'z_face_35', 'x_face_36', 'y_face_36', 'z_face_36', 'x_face_37', 'y_face_37', 'z_face_37', 'x_face_38', 'y_face_38', 'z_face_38', 'x_face_39', 'y_face_39', 'z_face_39', 'x_face_40', 'y_face_40', 'z_face_40', 'x_face_41', 'y_face_41', 'z_face_41', 'x_face_42', 'y_face_42', 'z_face_42', 'x_face_43', 'y_face_43', 'z_face_43', 'x_face_44', 'y_face_44', 'z_face_44', 'x_face_45', 'y_face_45', 'z_face_45', 'x_face_46', 'y_face_46', 'z_face_46', 'x_face_47', 'y_face_47', 'z_face_47', 'x_face_48', 'y_face_48', 'z_face_48', 'x_face_49', 'y_face_49', 'z_face_49', 'x_face_50', 'y_face_50', 'z_face_50', 'x_face_51', 'y_face_51', 'z_face_51', 'x_face_52', 'y_face_52', 'z_face_52', 'x_face_53', 'y_face_53', 'z_face_53', 'x_face_54', 'y_face_54', 'z_face_54', 'x_face_55', 'y_face_55', 'z_face_55', 'x_face_56', 'y_face_56', 'z_face_56', 'x_face_57', 'y_face_57', 'z_face_57', 'x_face_58', 'y_face_58', 'z_face_58', 'x_face_59', 'y_face_59', 'z_face_59', 'x_face_60', 'y_face_60', 'z_face_60', 'x_face_61', 'y_face_61', 'z_face_61', 'x_face_62', 'y_face_62', 'z_face_62', 'x_face_63', 'y_face_63', 'z_face_63', 'x_face_64', 'y_face_64', 'z_face_64', 'x_face_65', 'y_face_65', 'z_face_65', 'x_face_66', 'y_face_66', 'z_face_66', 'x_face_67', 'y_face_67', 'z_face_67', 'x_face_68', 'y_face_68', 'z_face_68', 'x_face_69', 'y_face_69', 'z_face_69', 'x_face_70', 'y_face_70', 'z_face_70', 'x_face_71', 'y_face_71', 'z_face_71', 'x_face_72', 'y_face_72', 'z_face_72', 'x_face_73', 'y_face_73', 'z_face_73', 'x_face_74', 'y_face_74', 'z_face_74', 'x_face_75', 'y_face_75', 'z_face_75', 'x_face_76', 'y_face_76', 'z_face_76', 'x_face_77', 'y_face_77', 'z_face_77', 'x_face_78', 'y_face_78', 'z_face_78', 'x_face_79', 'y_face_79', 'z_face_79', 'x_face_80', 'y_face_80', 'z_face_80', 'x_face_81', 'y_face_81', 'z_face_81', 'x_face_82', 'y_face_82', 'z_face_82', 'x_face_83', 'y_face_83', 'z_face_83', 'x_face_84', 'y_face_84', 'z_face_84', 'x_face_85', 'y_face_85', 'z_face_85', 'x_face_86', 'y_face_86', 'z_face_86', 'x_face_87', 'y_face_87', 'z_face_87', 'x_face_88', 'y_face_88', 'z_face_88', 'x_face_89', 'y_face_89', 'z_face_89', 'x_face_90', 'y_face_90', 'z_face_90', 'x_face_91', 'y_face_91', 'z_face_91', 'x_face_92', 'y_face_92', 'z_face_92', 'x_face_93', 'y_face_93', 'z_face_93', 'x_face_94', 'y_face_94', 'z_face_94', 'x_face_95', 'y_face_95', 'z_face_95', 'x_face_96', 'y_face_96', 'z_face_96', 'x_face_97', 'y_face_97', 'z_face_97', 'x_face_98', 'y_face_98', 'z_face_98', 'x_face_99', 'y_face_99', 'z_face_99', 'x_face_100', 'y_face_100', 'z_face_100', 'x_face_101', 'y_face_101', 'z_face_101', 'x_face_102', 'y_face_102', 'z_face_102', 'x_face_103', 'y_face_103', 'z_face_103', 'x_face_104', 'y_face_104', 'z_face_104', 'x_face_105', 'y_face_105', 'z_face_105', 'x_face_106', 'y_face_106', 'z_face_106', 'x_face_107', 'y_face_107', 'z_face_107', 'x_face_108', 'y_face_108', 'z_face_108', 'x_face_109', 'y_face_109', 'z_face_109', 'x_face_110', 'y_face_110', 'z_face_110', 'x_face_111', 'y_face_111', 'z_face_111', 'x_face_112', 'y_face_112', 'z_face_112', 'x_face_113', 'y_face_113', 'z_face_113', 'x_face_114', 'y_face_114', 'z_face_114', 'x_face_115', 'y_face_115', 'z_face_115', 'x_face_116', 'y_face_116', 'z_face_116', 'x_face_117', 'y_face_117', 'z_face_117', 'x_face_118', 'y_face_118', 'z_face_118', 'x_face_119', 'y_face_119', 'z_face_119', 'x_face_120', 'y_face_120', 'z_face_120', 'x_face_121', 'y_face_121', 'z_face_121', 'x_face_122', 'y_face_122', 'z_face_122', 'x_face_123', 'y_face_123', 'z_face_123', 'x_face_124', 'y_face_124', 'z_face_124', 'x_face_125', 'y_face_125', 'z_face_125', 'x_face_126', 'y_face_126', 'z_face_126', 'x_face_127', 'y_face_127', 'z_face_127', 'x_face_128', 'y_face_128', 'z_face_128', 'x_face_129', 'y_face_129', 'z_face_129', 'x_face_130', 'y_face_130', 'z_face_130', 'x_face_131', 'y_face_131', 'z_face_131', 'x_face_132', 'y_face_132', 'z_face_132', 'x_face_133', 'y_face_133', 'z_face_133', 'x_face_134', 'y_face_134', 'z_face_134', 'x_face_135', 'y_face_135', 'z_face_135', 'x_face_136', 'y_face_136', 'z_face_136', 'x_face_137', 'y_face_137', 'z_face_137', 'x_face_138', 'y_face_138', 'z_face_138', 'x_face_139', 'y_face_139', 'z_face_139', 'x_face_140', 'y_face_140', 'z_face_140', 'x_face_141', 'y_face_141', 'z_face_141', 'x_face_142', 'y_face_142', 'z_face_142', 'x_face_143', 'y_face_143', 'z_face_143', 'x_face_144', 'y_face_144', 'z_face_144', 'x_face_145', 'y_face_145', 'z_face_145', 'x_face_146', 'y_face_146', 'z_face_146', 'x_face_147', 'y_face_147', 'z_face_147', 'x_face_148', 'y_face_148', 'z_face_148', 'x_face_149', 'y_face_149', 'z_face_149', 'x_face_150', 'y_face_150', 'z_face_150', 'x_face_151', 'y_face_151', 'z_face_151', 'x_face_152', 'y_face_152', 'z_face_152', 'x_face_153', 'y_face_153', 'z_face_153', 'x_face_154', 'y_face_154', 'z_face_154', 'x_face_155', 'y_face_155', 'z_face_155', 'x_face_156', 'y_face_156', 'z_face_156', 'x_face_157', 'y_face_157', 'z_face_157', 'x_face_158', 'y_face_158', 'z_face_158', 'x_face_159', 'y_face_159', 'z_face_159', 'x_face_160', 'y_face_160', 'z_face_160', 'x_face_161', 'y_face_161', 'z_face_161', 'x_face_162', 'y_face_162', 'z_face_162', 'x_face_163', 'y_face_163', 'z_face_163', 'x_face_164', 'y_face_164', 'z_face_164', 'x_face_165', 'y_face_165', 'z_face_165', 'x_face_166', 'y_face_166', 'z_face_166', 'x_face_167', 'y_face_167', 'z_face_167', 'x_face_168', 'y_face_168', 'z_face_168', 'x_face_169', 'y_face_169', 'z_face_169', 'x_face_170', 'y_face_170', 'z_face_170', 'x_face_171', 'y_face_171', 'z_face_171', 'x_face_172', 'y_face_172', 'z_face_172', 'x_face_173', 'y_face_173', 'z_face_173', 'x_face_174', 'y_face_174', 'z_face_174', 'x_face_175', 'y_face_175', 'z_face_175', 'x_face_176', 'y_face_176', 'z_face_176', 'x_face_177', 'y_face_177', 'z_face_177', 'x_face_178', 'y_face_178', 'z_face_178', 'x_face_179', 'y_face_179', 'z_face_179', 'x_face_180', 'y_face_180', 'z_face_180', 'x_face_181', 'y_face_181', 'z_face_181', 'x_face_182', 'y_face_182', 'z_face_182', 'x_face_183', 'y_face_183', 'z_face_183', 'x_face_184', 'y_face_184', 'z_face_184', 'x_face_185', 'y_face_185', 'z_face_185', 'x_face_186', 'y_face_186', 'z_face_186', 'x_face_187', 'y_face_187', 'z_face_187', 'x_face_188', 'y_face_188', 'z_face_188', 'x_face_189', 'y_face_189', 'z_face_189', 'x_face_190', 'y_face_190', 'z_face_190', 'x_face_191', 'y_face_191', 'z_face_191', 'x_face_192', 'y_face_192', 'z_face_192', 'x_face_193', 'y_face_193', 'z_face_193', 'x_face_194', 'y_face_194', 'z_face_194', 'x_face_195', 'y_face_195', 'z_face_195', 'x_face_196', 'y_face_196', 'z_face_196', 'x_face_197', 'y_face_197', 'z_face_197', 'x_face_198', 'y_face_198', 'z_face_198', 'x_face_199', 'y_face_199', 'z_face_199', 'x_face_200', 'y_face_200', 'z_face_200', 'x_face_201', 'y_face_201', 'z_face_201', 'x_face_202', 'y_face_202', 'z_face_202', 'x_face_203', 'y_face_203', 'z_face_203', 'x_face_204', 'y_face_204', 'z_face_204', 'x_face_205', 'y_face_205', 'z_face_205', 'x_face_206', 'y_face_206', 'z_face_206', 'x_face_207', 'y_face_207', 'z_face_207', 'x_face_208', 'y_face_208', 'z_face_208', 'x_face_209', 'y_face_209', 'z_face_209', 'x_face_210', 'y_face_210', 'z_face_210', 'x_face_211', 'y_face_211', 'z_face_211', 'x_face_212', 'y_face_212', 'z_face_212', 'x_face_213', 'y_face_213', 'z_face_213', 'x_face_214', 'y_face_214', 'z_face_214', 'x_face_215', 'y_face_215', 'z_face_215', 'x_face_216', 'y_face_216', 'z_face_216', 'x_face_217', 'y_face_217', 'z_face_217', 'x_face_218', 'y_face_218', 'z_face_218', 'x_face_219', 'y_face_219', 'z_face_219', 'x_face_220', 'y_face_220', 'z_face_220', 'x_face_221', 'y_face_221', 'z_face_221', 'x_face_222', 'y_face_222', 'z_face_222', 'x_face_223', 'y_face_223', 'z_face_223', 'x_face_224', 'y_face_224', 'z_face_224', 'x_face_225', 'y_face_225', 'z_face_225', 'x_face_226', 'y_face_226', 'z_face_226', 'x_face_227', 'y_face_227', 'z_face_227', 'x_face_228', 'y_face_228', 'z_face_228', 'x_face_229', 'y_face_229', 'z_face_229', 'x_face_230', 'y_face_230', 'z_face_230', 'x_face_231', 'y_face_231', 'z_face_231', 'x_face_232', 'y_face_232', 'z_face_232', 'x_face_233', 'y_face_233', 'z_face_233', 'x_face_234', 'y_face_234', 'z_face_234', 'x_face_235', 'y_face_235', 'z_face_235', 'x_face_236', 'y_face_236', 'z_face_236', 'x_face_237', 'y_face_237', 'z_face_237', 'x_face_238', 'y_face_238', 'z_face_238', 'x_face_239', 'y_face_239', 'z_face_239', 'x_face_240', 'y_face_240', 'z_face_240', 'x_face_241', 'y_face_241', 'z_face_241', 'x_face_242', 'y_face_242', 'z_face_242', 'x_face_243', 'y_face_243', 'z_face_243', 'x_face_244', 'y_face_244', 'z_face_244', 'x_face_245', 'y_face_245', 'z_face_245', 'x_face_246', 'y_face_246', 'z_face_246', 'x_face_247', 'y_face_247', 'z_face_247', 'x_face_248', 'y_face_248', 'z_face_248', 'x_face_249', 'y_face_249', 'z_face_249', 'x_face_250', 'y_face_250', 'z_face_250', 'x_face_251', 'y_face_251', 'z_face_251', 'x_face_252', 'y_face_252', 'z_face_252', 'x_face_253', 'y_face_253', 'z_face_253', 'x_face_254', 'y_face_254', 'z_face_254', 'x_face_255', 'y_face_255', 'z_face_255', 'x_face_256', 'y_face_256', 'z_face_256', 'x_face_257', 'y_face_257', 'z_face_257', 'x_face_258', 'y_face_258', 'z_face_258', 'x_face_259', 'y_face_259', 'z_face_259', 'x_face_260', 'y_face_260', 'z_face_260', 'x_face_261', 'y_face_261', 'z_face_261', 'x_face_262', 'y_face_262', 'z_face_262', 'x_face_263', 'y_face_263', 'z_face_263', 'x_face_264', 'y_face_264', 'z_face_264', 'x_face_265', 'y_face_265', 'z_face_265', 'x_face_266', 'y_face_266', 'z_face_266', 'x_face_267', 'y_face_267', 'z_face_267', 'x_face_268', 'y_face_268', 'z_face_268', 'x_face_269', 'y_face_269', 'z_face_269', 'x_face_270', 'y_face_270', 'z_face_270', 'x_face_271', 'y_face_271', 'z_face_271', 'x_face_272', 'y_face_272', 'z_face_272', 'x_face_273', 'y_face_273', 'z_face_273', 'x_face_274', 'y_face_274', 'z_face_274', 'x_face_275', 'y_face_275', 'z_face_275', 'x_face_276', 'y_face_276', 'z_face_276', 'x_face_277', 'y_face_277', 'z_face_277', 'x_face_278', 'y_face_278', 'z_face_278', 'x_face_279', 'y_face_279', 'z_face_279', 'x_face_280', 'y_face_280', 'z_face_280', 'x_face_281', 'y_face_281', 'z_face_281', 'x_face_282', 'y_face_282', 'z_face_282', 'x_face_283', 'y_face_283', 'z_face_283', 'x_face_284', 'y_face_284', 'z_face_284', 'x_face_285', 'y_face_285', 'z_face_285', 'x_face_286', 'y_face_286', 'z_face_286', 'x_face_287', 'y_face_287', 'z_face_287', 'x_face_288', 'y_face_288', 'z_face_288', 'x_face_289', 'y_face_289', 'z_face_289', 'x_face_290', 'y_face_290', 'z_face_290', 'x_face_291', 'y_face_291', 'z_face_291', 'x_face_292', 'y_face_292', 'z_face_292', 'x_face_293', 'y_face_293', 'z_face_293', 'x_face_294', 'y_face_294', 'z_face_294', 'x_face_295', 'y_face_295', 'z_face_295', 'x_face_296', 'y_face_296', 'z_face_296', 'x_face_297', 'y_face_297', 'z_face_297', 'x_face_298', 'y_face_298', 'z_face_298', 'x_face_299', 'y_face_299', 'z_face_299', 'x_face_300', 'y_face_300', 'z_face_300', 'x_face_301', 'y_face_301', 'z_face_301', 'x_face_302', 'y_face_302', 'z_face_302', 'x_face_303', 'y_face_303', 'z_face_303', 'x_face_304', 'y_face_304', 'z_face_304', 'x_face_305', 'y_face_305', 'z_face_305', 'x_face_306', 'y_face_306', 'z_face_306', 'x_face_307', 'y_face_307', 'z_face_307', 'x_face_308', 'y_face_308', 'z_face_308', 'x_face_309', 'y_face_309', 'z_face_309', 'x_face_310', 'y_face_310', 'z_face_310', 'x_face_311', 'y_face_311', 'z_face_311', 'x_face_312', 'y_face_312', 'z_face_312', 'x_face_313', 'y_face_313', 'z_face_313', 'x_face_314', 'y_face_314', 'z_face_314', 'x_face_315', 'y_face_315', 'z_face_315', 'x_face_316', 'y_face_316', 'z_face_316', 'x_face_317', 'y_face_317', 'z_face_317', 'x_face_318', 'y_face_318', 'z_face_318', 'x_face_319', 'y_face_319', 'z_face_319', 'x_face_320', 'y_face_320', 'z_face_320', 'x_face_321', 'y_face_321', 'z_face_321', 'x_face_322', 'y_face_322', 'z_face_322', 'x_face_323', 'y_face_323', 'z_face_323', 'x_face_324', 'y_face_324', 'z_face_324', 'x_face_325', 'y_face_325', 'z_face_325', 'x_face_326', 'y_face_326', 'z_face_326', 'x_face_327', 'y_face_327', 'z_face_327', 'x_face_328', 'y_face_328', 'z_face_328', 'x_face_329', 'y_face_329', 'z_face_329', 'x_face_330', 'y_face_330', 'z_face_330', 'x_face_331', 'y_face_331', 'z_face_331', 'x_face_332', 'y_face_332', 'z_face_332', 'x_face_333', 'y_face_333', 'z_face_333', 'x_face_334', 'y_face_334', 'z_face_334', 'x_face_335', 'y_face_335', 'z_face_335', 'x_face_336', 'y_face_336', 'z_face_336', 'x_face_337', 'y_face_337', 'z_face_337', 'x_face_338', 'y_face_338', 'z_face_338', 'x_face_339', 'y_face_339', 'z_face_339', 'x_face_340', 'y_face_340', 'z_face_340', 'x_face_341', 'y_face_341', 'z_face_341', 'x_face_342', 'y_face_342', 'z_face_342', 'x_face_343', 'y_face_343', 'z_face_343', 'x_face_344', 'y_face_344', 'z_face_344', 'x_face_345', 'y_face_345', 'z_face_345', 'x_face_346', 'y_face_346', 'z_face_346', 'x_face_347', 'y_face_347', 'z_face_347', 'x_face_348', 'y_face_348', 'z_face_348', 'x_face_349', 'y_face_349', 'z_face_349', 'x_face_350', 'y_face_350', 'z_face_350', 'x_face_351', 'y_face_351', 'z_face_351', 'x_face_352', 'y_face_352', 'z_face_352', 'x_face_353', 'y_face_353', 'z_face_353', 'x_face_354', 'y_face_354', 'z_face_354', 'x_face_355', 'y_face_355', 'z_face_355', 'x_face_356', 'y_face_356', 'z_face_356', 'x_face_357', 'y_face_357', 'z_face_357', 'x_face_358', 'y_face_358', 'z_face_358', 'x_face_359', 'y_face_359', 'z_face_359', 'x_face_360', 'y_face_360', 'z_face_360', 'x_face_361', 'y_face_361', 'z_face_361', 'x_face_362', 'y_face_362', 'z_face_362', 'x_face_363', 'y_face_363', 'z_face_363', 'x_face_364', 'y_face_364', 'z_face_364', 'x_face_365', 'y_face_365', 'z_face_365', 'x_face_366', 'y_face_366', 'z_face_366', 'x_face_367', 'y_face_367', 'z_face_367', 'x_face_368', 'y_face_368', 'z_face_368', 'x_face_369', 'y_face_369', 'z_face_369', 'x_face_370', 'y_face_370', 'z_face_370', 'x_face_371', 'y_face_371', 'z_face_371', 'x_face_372', 'y_face_372', 'z_face_372', 'x_face_373', 'y_face_373', 'z_face_373', 'x_face_374', 'y_face_374', 'z_face_374', 'x_face_375', 'y_face_375', 'z_face_375', 'x_face_376', 'y_face_376', 'z_face_376', 'x_face_377', 'y_face_377', 'z_face_377', 'x_face_378', 'y_face_378', 'z_face_378', 'x_face_379', 'y_face_379', 'z_face_379', 'x_face_380', 'y_face_380', 'z_face_380', 'x_face_381', 'y_face_381', 'z_face_381', 'x_face_382', 'y_face_382', 'z_face_382', 'x_face_383', 'y_face_383', 'z_face_383', 'x_face_384', 'y_face_384', 'z_face_384', 'x_face_385', 'y_face_385', 'z_face_385', 'x_face_386', 'y_face_386', 'z_face_386', 'x_face_387', 'y_face_387', 'z_face_387', 'x_face_388', 'y_face_388', 'z_face_388', 'x_face_389', 'y_face_389', 'z_face_389', 'x_face_390', 'y_face_390', 'z_face_390', 'x_face_391', 'y_face_391', 'z_face_391', 'x_face_392', 'y_face_392', 'z_face_392', 'x_face_393', 'y_face_393', 'z_face_393', 'x_face_394', 'y_face_394', 'z_face_394', 'x_face_395', 'y_face_395', 'z_face_395', 'x_face_396', 'y_face_396', 'z_face_396', 'x_face_397', 'y_face_397', 'z_face_397', 'x_face_398', 'y_face_398', 'z_face_398', 'x_face_399', 'y_face_399', 'z_face_399', 'x_face_400', 'y_face_400', 'z_face_400', 'x_face_401', 'y_face_401', 'z_face_401', 'x_face_402', 'y_face_402', 'z_face_402', 'x_face_403', 'y_face_403', 'z_face_403', 'x_face_404', 'y_face_404', 'z_face_404', 'x_face_405', 'y_face_405', 'z_face_405', 'x_face_406', 'y_face_406', 'z_face_406', 'x_face_407', 'y_face_407', 'z_face_407', 'x_face_408', 'y_face_408', 'z_face_408', 'x_face_409', 'y_face_409', 'z_face_409', 'x_face_410', 'y_face_410', 'z_face_410', 'x_face_411', 'y_face_411', 'z_face_411', 'x_face_412', 'y_face_412', 'z_face_412', 'x_face_413', 'y_face_413', 'z_face_413', 'x_face_414', 'y_face_414', 'z_face_414', 'x_face_415', 'y_face_415', 'z_face_415', 'x_face_416', 'y_face_416', 'z_face_416', 'x_face_417', 'y_face_417', 'z_face_417', 'x_face_418', 'y_face_418', 'z_face_418', 'x_face_419', 'y_face_419', 'z_face_419', 'x_face_420', 'y_face_420', 'z_face_420', 'x_face_421', 'y_face_421', 'z_face_421', 'x_face_422', 'y_face_422', 'z_face_422', 'x_face_423', 'y_face_423', 'z_face_423', 'x_face_424', 'y_face_424', 'z_face_424', 'x_face_425', 'y_face_425', 'z_face_425', 'x_face_426', 'y_face_426', 'z_face_426', 'x_face_427', 'y_face_427', 'z_face_427', 'x_face_428', 'y_face_428', 'z_face_428', 'x_face_429', 'y_face_429', 'z_face_429', 'x_face_430', 'y_face_430', 'z_face_430', 'x_face_431', 'y_face_431', 'z_face_431', 'x_face_432', 'y_face_432', 'z_face_432', 'x_face_433', 'y_face_433', 'z_face_433', 'x_face_434', 'y_face_434', 'z_face_434', 'x_face_435', 'y_face_435', 'z_face_435', 'x_face_436', 'y_face_436', 'z_face_436', 'x_face_437', 'y_face_437', 'z_face_437', 'x_face_438', 'y_face_438', 'z_face_438', 'x_face_439', 'y_face_439', 'z_face_439', 'x_face_440', 'y_face_440', 'z_face_440', 'x_face_441', 'y_face_441', 'z_face_441', 'x_face_442', 'y_face_442', 'z_face_442', 'x_face_443', 'y_face_443', 'z_face_443', 'x_face_444', 'y_face_444', 'z_face_444', 'x_face_445', 'y_face_445', 'z_face_445', 'x_face_446', 'y_face_446', 'z_face_446', 'x_face_447', 'y_face_447', 'z_face_447', 'x_face_448', 'y_face_448', 'z_face_448', 'x_face_449', 'y_face_449', 'z_face_449', 'x_face_450', 'y_face_450', 'z_face_450', 'x_face_451', 'y_face_451', 'z_face_451', 'x_face_452', 'y_face_452', 'z_face_452', 'x_face_453', 'y_face_453', 'z_face_453', 'x_face_454', 'y_face_454', 'z_face_454', 'x_face_455', 'y_face_455', 'z_face_455', 'x_face_456', 'y_face_456', 'z_face_456', 'x_face_457', 'y_face_457', 'z_face_457', 'x_face_458', 'y_face_458', 'z_face_458', 'x_face_459', 'y_face_459', 'z_face_459', 'x_face_460', 'y_face_460', 'z_face_460', 'x_face_461', 'y_face_461', 'z_face_461', 'x_face_462', 'y_face_462', 'z_face_462', 'x_face_463', 'y_face_463', 'z_face_463', 'x_face_464', 'y_face_464', 'z_face_464', 'x_face_465', 'y_face_465', 'z_face_465', 'x_face_466', 'y_face_466', 'z_face_466', 'x_face_467', 'y_face_467', 'z_face_467', 'x_left_hand_0', 'y_left_hand_0', 'z_left_hand_0', 'x_left_hand_1', 'y_left_hand_1', 'z_left_hand_1', 'x_left_hand_2', 'y_left_hand_2', 'z_left_hand_2', 'x_left_hand_3', 'y_left_hand_3', 'z_left_hand_3', 'x_left_hand_4', 'y_left_hand_4', 'z_left_hand_4', 'x_left_hand_5', 'y_left_hand_5', 'z_left_hand_5', 'x_left_hand_6', 'y_left_hand_6', 'z_left_hand_6', 'x_left_hand_7', 'y_left_hand_7', 'z_left_hand_7', 'x_left_hand_8', 'y_left_hand_8', 'z_left_hand_8', 'x_left_hand_9', 'y_left_hand_9', 'z_left_hand_9', 'x_left_hand_10', 'y_left_hand_10', 'z_left_hand_10', 'x_left_hand_11', 'y_left_hand_11', 'z_left_hand_11', 'x_left_hand_12', 'y_left_hand_12', 'z_left_hand_12', 'x_left_hand_13', 'y_left_hand_13', 'z_left_hand_13', 'x_left_hand_14', 'y_left_hand_14', 'z_left_hand_14', 'x_left_hand_15', 'y_left_hand_15', 'z_left_hand_15', 'x_left_hand_16', 'y_left_hand_16', 'z_left_hand_16', 'x_left_hand_17', 'y_left_hand_17', 'z_left_hand_17', 'x_left_hand_18', 'y_left_hand_18', 'z_left_hand_18', 'x_left_hand_19', 'y_left_hand_19', 'z_left_hand_19', 'x_left_hand_20', 'y_left_hand_20', 'z_left_hand_20', 'x_pose_0', 'y_pose_0', 'z_pose_0', 'x_pose_1', 'y_pose_1', 'z_pose_1', 'x_pose_2', 'y_pose_2', 'z_pose_2', 'x_pose_3', 'y_pose_3', 'z_pose_3', 'x_pose_4', 'y_pose_4', 'z_pose_4', 'x_pose_5', 'y_pose_5', 'z_pose_5', 'x_pose_6', 'y_pose_6', 'z_pose_6', 'x_pose_7', 'y_pose_7', 'z_pose_7', 'x_pose_8', 'y_pose_8', 'z_pose_8', 'x_pose_9', 'y_pose_9', 'z_pose_9', 'x_pose_10', 'y_pose_10', 'z_pose_10', 'x_pose_11', 'y_pose_11', 'z_pose_11', 'x_pose_12', 'y_pose_12', 'z_pose_12', 'x_pose_13', 'y_pose_13', 'z_pose_13', 'x_pose_14', 'y_pose_14', 'z_pose_14', 'x_pose_15', 'y_pose_15', 'z_pose_15', 'x_pose_16', 'y_pose_16', 'z_pose_16', 'x_pose_17', 'y_pose_17', 'z_pose_17', 'x_pose_18', 'y_pose_18', 'z_pose_18', 'x_pose_19', 'y_pose_19', 'z_pose_19', 'x_pose_20', 'y_pose_20', 'z_pose_20', 'x_pose_21', 'y_pose_21', 'z_pose_21', 'x_pose_22', 'y_pose_22', 'z_pose_22', 'x_pose_23', 'y_pose_23', 'z_pose_23', 'x_pose_24', 'y_pose_24', 'z_pose_24', 'x_pose_25', 'y_pose_25', 'z_pose_25', 'x_pose_26', 'y_pose_26', 'z_pose_26', 'x_pose_27', 'y_pose_27', 'z_pose_27', 'x_pose_28', 'y_pose_28', 'z_pose_28', 'x_pose_29', 'y_pose_29', 'z_pose_29', 'x_pose_30', 'y_pose_30', 'z_pose_30', 'x_pose_31', 'y_pose_31', 'z_pose_31', 'x_pose_32', 'y_pose_32', 'z_pose_32', 'x_right_hand_0', 'y_right_hand_0', 'z_right_hand_0', 'x_right_hand_1', 'y_right_hand_1', 'z_right_hand_1', 'x_right_hand_2', 'y_right_hand_2', 'z_right_hand_2', 'x_right_hand_3', 'y_right_hand_3', 'z_right_hand_3', 'x_right_hand_4', 'y_right_hand_4', 'z_right_hand_4', 'x_right_hand_5', 'y_right_hand_5', 'z_right_hand_5', 'x_right_hand_6', 'y_right_hand_6', 'z_right_hand_6', 'x_right_hand_7', 'y_right_hand_7', 'z_right_hand_7', 'x_right_hand_8', 'y_right_hand_8', 'z_right_hand_8', 'x_right_hand_9', 'y_right_hand_9', 'z_right_hand_9', 'x_right_hand_10', 'y_right_hand_10', 'z_right_hand_10', 'x_right_hand_11', 'y_right_hand_11', 'z_right_hand_11', 'x_right_hand_12', 'y_right_hand_12', 'z_right_hand_12', 'x_right_hand_13', 'y_right_hand_13', 'z_right_hand_13', 'x_right_hand_14', 'y_right_hand_14', 'z_right_hand_14', 'x_right_hand_15', 'y_right_hand_15', 'z_right_hand_15', 'x_right_hand_16', 'y_right_hand_16', 'z_right_hand_16', 'x_right_hand_17', 'y_right_hand_17', 'z_right_hand_17', 'x_right_hand_18', 'y_right_hand_18', 'z_right_hand_18', 'x_right_hand_19', 'y_right_hand_19', 'z_right_hand_19', 'x_right_hand_20', 'y_right_hand_20', 'z_right_hand_20']\n"
          ]
        }
      ]
    },
    {
      "cell_type": "code",
      "source": [
        "def load_relevant_data_subset(pq_path):\n",
        "    data = pd.read_parquet(pq_path, columns=COLUMNS)\n",
        "    ids = data.index.unique()\n",
        "    retval = {_id: np.array(data[data.index == _id], dtype=np.float32) for _id in ids}\n",
        "    return retval"
      ],
      "metadata": {
        "id": "IjcsjwVTFVxa"
      },
      "execution_count": 19,
      "outputs": []
    },
    {
      "cell_type": "markdown",
      "source": [
        "### Main loop."
      ],
      "metadata": {
        "id": "H-7k_YETFqHx"
      }
    },
    {
      "cell_type": "code",
      "source": [
        "outdir = \"dataset_fs\"\n",
        "shutil.rmtree(outdir, ignore_errors=True)\n",
        "os.makedirs(outdir, exist_ok=True)\n",
        "\n",
        "paths = np.unique(np.array(track_info[\"path\"]))\n",
        "for path in paths:\n",
        "    pq_path = os.path.join(root_dir, path)\n",
        "    if not os.path.exists(pq_path):\n",
        "        continue\n",
        "\n",
        "    start = time.perf_counter()\n",
        "    data = load_relevant_data_subset(pq_path)\n",
        "    sids = list(data.keys())\n",
        "    for sid in sids:\n",
        "        meta = track_info[track_info[\"sequence_id\"] == sid]\n",
        "        pid = meta[\"participant_id\"].values[0]\n",
        "        phrase = meta[\"phrase\"].values\n",
        "        if isinstance(phrase, (tuple, list, np.ndarray)):\n",
        "            phrase = phrase[0]\n",
        "        tokens = np.array([key2token[p] for p in phrase])\n",
        "        track = data[sid]\n",
        "        # `[T, J, C]`\n",
        "        track = track.reshape([track.shape[0], ROWS_PER_FRAME, -1])\n",
        "        outpath = os.path.join(outdir, str(pid) + \".hdf5\")\n",
        "        mode = \"a\" if os.path.exists(outpath) else \"w\"\n",
        "        with h5py.File(outpath, mode) as fwrite:\n",
        "            # Create group and write data.\n",
        "            grp = fwrite.create_group(str(sid))\n",
        "            grp.create_dataset(\"track\", data=track)\n",
        "            grp.create_dataset(\"token\", data=tokens)\n",
        "    interval = time.perf_counter() - start\n",
        "    print(f\"Processed {path} in {interval} seconds.\")"
      ],
      "metadata": {
        "colab": {
          "base_uri": "https://localhost:8080/"
        },
        "id": "hn3_dPrZFsm6",
        "outputId": "5892d44b-017b-4114-f5d2-175200467e0a"
      },
      "execution_count": 20,
      "outputs": [
        {
          "output_type": "stream",
          "name": "stdout",
          "text": [
            "Processed train_landmarks/450474571.parquet in 4.961596001000004 seconds.\n"
          ]
        }
      ]
    },
    {
      "cell_type": "code",
      "source": [
        "# Copy dictionary.\n",
        "shutil.copy(dict_file, os.path.join(outdir, \"character_to_prediction_index.json\"))"
      ],
      "metadata": {
        "colab": {
          "base_uri": "https://localhost:8080/",
          "height": 35
        },
        "id": "IhH47zBzHm0y",
        "outputId": "130caea3-c908-4403-d828-f33c7fd3cfc6"
      },
      "execution_count": 21,
      "outputs": [
        {
          "output_type": "execute_result",
          "data": {
            "text/plain": [
              "'dataset_fs/character_to_prediction_index.json'"
            ],
            "application/vnd.google.colaboratory.intrinsic+json": {
              "type": "string"
            }
          },
          "metadata": {},
          "execution_count": 21
        }
      ]
    },
    {
      "cell_type": "code",
      "source": [
        "!ls -alhs dataset_fs"
      ],
      "metadata": {
        "colab": {
          "base_uri": "https://localhost:8080/"
        },
        "id": "DSoXBUfWHtsJ",
        "outputId": "a6ab3f38-d177-4011-a2e5-b5b0e538f80c"
      },
      "execution_count": 22,
      "outputs": [
        {
          "output_type": "stream",
          "name": "stdout",
          "text": [
            "total 289M\n",
            "4.0K drwxr-xr-x 2 root root 4.0K Sep  7 01:41 .\n",
            "4.0K drwxr-xr-x 1 root root 4.0K Sep  7 01:41 ..\n",
            "776K -rw-r--r-- 1 root root 775K Sep  7 01:41 0.hdf5\n",
            "784K -rw-r--r-- 1 root root 781K Sep  7 01:41 102.hdf5\n",
            "5.9M -rw-r--r-- 1 root root 5.9M Sep  7 01:41 105.hdf5\n",
            "6.2M -rw-r--r-- 1 root root 6.2M Sep  7 01:41 107.hdf5\n",
            "1.3M -rw-r--r-- 1 root root 1.3M Sep  7 01:41 109.hdf5\n",
            "7.1M -rw-r--r-- 1 root root 7.1M Sep  7 01:41 10.hdf5\n",
            "1.9M -rw-r--r-- 1 root root 1.9M Sep  7 01:41 112.hdf5\n",
            "3.8M -rw-r--r-- 1 root root 3.8M Sep  7 01:41 113.hdf5\n",
            "4.1M -rw-r--r-- 1 root root 4.1M Sep  7 01:41 115.hdf5\n",
            " 44K -rw-r--r-- 1 root root  43K Sep  7 01:41 121.hdf5\n",
            "3.7M -rw-r--r-- 1 root root 3.7M Sep  7 01:41 125.hdf5\n",
            "3.5M -rw-r--r-- 1 root root 3.5M Sep  7 01:41 128.hdf5\n",
            "7.2M -rw-r--r-- 1 root root 7.2M Sep  7 01:41 135.hdf5\n",
            "3.6M -rw-r--r-- 1 root root 3.6M Sep  7 01:41 136.hdf5\n",
            "9.0M -rw-r--r-- 1 root root 9.0M Sep  7 01:41 138.hdf5\n",
            " 11M -rw-r--r-- 1 root root  11M Sep  7 01:41 13.hdf5\n",
            "6.5M -rw-r--r-- 1 root root 6.5M Sep  7 01:41 141.hdf5\n",
            "5.1M -rw-r--r-- 1 root root 5.1M Sep  7 01:41 143.hdf5\n",
            "3.1M -rw-r--r-- 1 root root 3.1M Sep  7 01:41 145.hdf5\n",
            "1.1M -rw-r--r-- 1 root root 1.1M Sep  7 01:41 147.hdf5\n",
            "2.5M -rw-r--r-- 1 root root 2.5M Sep  7 01:41 151.hdf5\n",
            "972K -rw-r--r-- 1 root root 972K Sep  7 01:41 153.hdf5\n",
            "5.7M -rw-r--r-- 1 root root 5.7M Sep  7 01:41 154.hdf5\n",
            "1.6M -rw-r--r-- 1 root root 1.6M Sep  7 01:41 157.hdf5\n",
            "1.3M -rw-r--r-- 1 root root 1.3M Sep  7 01:41 158.hdf5\n",
            "4.2M -rw-r--r-- 1 root root 4.2M Sep  7 01:41 15.hdf5\n",
            "2.6M -rw-r--r-- 1 root root 2.6M Sep  7 01:41 160.hdf5\n",
            "1.5M -rw-r--r-- 1 root root 1.5M Sep  7 01:41 161.hdf5\n",
            "6.1M -rw-r--r-- 1 root root 6.1M Sep  7 01:41 168.hdf5\n",
            "272K -rw-r--r-- 1 root root 272K Sep  7 01:41 169.hdf5\n",
            "1.1M -rw-r--r-- 1 root root 1.1M Sep  7 01:41 171.hdf5\n",
            "1.4M -rw-r--r-- 1 root root 1.4M Sep  7 01:41 178.hdf5\n",
            "568K -rw-r--r-- 1 root root 565K Sep  7 01:41 181.hdf5\n",
            "1.6M -rw-r--r-- 1 root root 1.6M Sep  7 01:41 186.hdf5\n",
            "2.2M -rw-r--r-- 1 root root 2.2M Sep  7 01:41 187.hdf5\n",
            "2.0M -rw-r--r-- 1 root root 2.0M Sep  7 01:41 188.hdf5\n",
            "5.5M -rw-r--r-- 1 root root 5.5M Sep  7 01:41 18.hdf5\n",
            "2.3M -rw-r--r-- 1 root root 2.3M Sep  7 01:41 192.hdf5\n",
            "1.7M -rw-r--r-- 1 root root 1.7M Sep  7 01:41 196.hdf5\n",
            "832K -rw-r--r-- 1 root root 832K Sep  7 01:41 1.hdf5\n",
            "4.5M -rw-r--r-- 1 root root 4.5M Sep  7 01:41 202.hdf5\n",
            "5.1M -rw-r--r-- 1 root root 5.1M Sep  7 01:41 203.hdf5\n",
            "4.2M -rw-r--r-- 1 root root 4.2M Sep  7 01:41 20.hdf5\n",
            "1.7M -rw-r--r-- 1 root root 1.7M Sep  7 01:41 216.hdf5\n",
            "2.0M -rw-r--r-- 1 root root 2.0M Sep  7 01:41 217.hdf5\n",
            "5.2M -rw-r--r-- 1 root root 5.2M Sep  7 01:41 219.hdf5\n",
            "3.3M -rw-r--r-- 1 root root 3.3M Sep  7 01:41 21.hdf5\n",
            "8.2M -rw-r--r-- 1 root root 8.2M Sep  7 01:41 230.hdf5\n",
            "752K -rw-r--r-- 1 root root 749K Sep  7 01:41 231.hdf5\n",
            "660K -rw-r--r-- 1 root root 658K Sep  7 01:41 233.hdf5\n",
            "3.4M -rw-r--r-- 1 root root 3.4M Sep  7 01:41 236.hdf5\n",
            "2.5M -rw-r--r-- 1 root root 2.5M Sep  7 01:41 239.hdf5\n",
            "1.4M -rw-r--r-- 1 root root 1.4M Sep  7 01:41 241.hdf5\n",
            "2.3M -rw-r--r-- 1 root root 2.3M Sep  7 01:41 246.hdf5\n",
            "2.0M -rw-r--r-- 1 root root 2.0M Sep  7 01:41 24.hdf5\n",
            "692K -rw-r--r-- 1 root root 692K Sep  7 01:41 251.hdf5\n",
            "6.5M -rw-r--r-- 1 root root 6.5M Sep  7 01:41 254.hdf5\n",
            "2.2M -rw-r--r-- 1 root root 2.2M Sep  7 01:41 25.hdf5\n",
            "3.6M -rw-r--r-- 1 root root 3.6M Sep  7 01:41 27.hdf5\n",
            "6.8M -rw-r--r-- 1 root root 6.8M Sep  7 01:41 2.hdf5\n",
            "5.9M -rw-r--r-- 1 root root 5.9M Sep  7 01:41 36.hdf5\n",
            "4.4M -rw-r--r-- 1 root root 4.4M Sep  7 01:41 38.hdf5\n",
            "2.1M -rw-r--r-- 1 root root 2.1M Sep  7 01:41 40.hdf5\n",
            "1.5M -rw-r--r-- 1 root root 1.5M Sep  7 01:41 43.hdf5\n",
            "2.3M -rw-r--r-- 1 root root 2.3M Sep  7 01:41 4.hdf5\n",
            "2.6M -rw-r--r-- 1 root root 2.6M Sep  7 01:41 53.hdf5\n",
            "5.4M -rw-r--r-- 1 root root 5.4M Sep  7 01:41 56.hdf5\n",
            "1.8M -rw-r--r-- 1 root root 1.8M Sep  7 01:41 63.hdf5\n",
            "2.7M -rw-r--r-- 1 root root 2.7M Sep  7 01:41 68.hdf5\n",
            "9.3M -rw-r--r-- 1 root root 9.3M Sep  7 01:41 6.hdf5\n",
            "5.4M -rw-r--r-- 1 root root 5.4M Sep  7 01:41 70.hdf5\n",
            "2.4M -rw-r--r-- 1 root root 2.4M Sep  7 01:41 71.hdf5\n",
            "4.1M -rw-r--r-- 1 root root 4.1M Sep  7 01:41 72.hdf5\n",
            "2.1M -rw-r--r-- 1 root root 2.1M Sep  7 01:41 73.hdf5\n",
            "1.6M -rw-r--r-- 1 root root 1.6M Sep  7 01:41 74.hdf5\n",
            "2.8M -rw-r--r-- 1 root root 2.8M Sep  7 01:41 76.hdf5\n",
            "1.5M -rw-r--r-- 1 root root 1.5M Sep  7 01:41 80.hdf5\n",
            "5.0M -rw-r--r-- 1 root root 5.0M Sep  7 01:41 81.hdf5\n",
            "8.0M -rw-r--r-- 1 root root 8.0M Sep  7 01:41 88.hdf5\n",
            "8.2M -rw-r--r-- 1 root root 8.2M Sep  7 01:41 89.hdf5\n",
            "2.0M -rw-r--r-- 1 root root 2.0M Sep  7 01:41 92.hdf5\n",
            " 11M -rw-r--r-- 1 root root  11M Sep  7 01:41 93.hdf5\n",
            "1.8M -rw-r--r-- 1 root root 1.8M Sep  7 01:41 95.hdf5\n",
            "592K -rw-r--r-- 1 root root 590K Sep  7 01:41 9.hdf5\n",
            "4.0K -rw-rw-rw- 1 root root  405 Sep  7 01:41 character_to_prediction_index.json\n"
          ]
        }
      ]
    }
  ]
}