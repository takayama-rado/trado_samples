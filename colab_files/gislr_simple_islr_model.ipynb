{
  "nbformat": 4,
  "nbformat_minor": 0,
  "metadata": {
    "colab": {
      "provenance": [],
      "authorship_tag": "ABX9TyNbRXw36y7m9Glnr8ZNKorO",
      "include_colab_link": true
    },
    "kernelspec": {
      "name": "python3",
      "display_name": "Python 3"
    },
    "language_info": {
      "name": "python"
    }
  },
  "cells": [
    {
      "cell_type": "markdown",
      "metadata": {
        "id": "view-in-github",
        "colab_type": "text"
      },
      "source": [
        "<a href=\"https://colab.research.google.com/github/takayama-rado/trado_samples/blob/main/colab_files/gislr_simple_islr_model.ipynb\" target=\"_parent\"><img src=\"https://colab.research.google.com/assets/colab-badge.svg\" alt=\"Open In Colab\"/></a>"
      ]
    },
    {
      "cell_type": "markdown",
      "source": [
        "# 1. Download dataset and modules"
      ],
      "metadata": {
        "id": "wScni5-7JoB_"
      }
    },
    {
      "cell_type": "code",
      "execution_count": null,
      "metadata": {
        "colab": {
          "base_uri": "https://localhost:8080/"
        },
        "id": "Od6I1s00Jk9n",
        "outputId": "770dcdd8-1df3-40a1-fab9-488e2439c962"
      },
      "outputs": [
        {
          "output_type": "stream",
          "name": "stdout",
          "text": [
            "Mounted at /content/drive\n"
          ]
        }
      ],
      "source": [
        "from google.colab import drive\n",
        "\n",
        "drive.mount(\"/content/drive\")"
      ]
    },
    {
      "cell_type": "code",
      "source": [
        "# Copy to local.\n",
        "!cp drive/MyDrive/Datasets/gislr_dataset_top10.zip gislr_top10.zip"
      ],
      "metadata": {
        "id": "sTJKQ-9WJ4px"
      },
      "execution_count": null,
      "outputs": []
    },
    {
      "cell_type": "code",
      "source": [
        "!unzip -o gislr_top10.zip"
      ],
      "metadata": {
        "colab": {
          "base_uri": "https://localhost:8080/"
        },
        "id": "RWZvfO_0J5On",
        "outputId": "9dd29f2a-5f37-4db6-bdb7-acff14a83681"
      },
      "execution_count": null,
      "outputs": [
        {
          "output_type": "stream",
          "name": "stdout",
          "text": [
            "Archive:  gislr_top10.zip\n",
            "   creating: dataset_top10/\n",
            "  inflating: dataset_top10/16069.hdf5  \n",
            "  inflating: dataset_top10/18796.hdf5  \n",
            "  inflating: dataset_top10/2044.hdf5  \n",
            "  inflating: dataset_top10/22343.hdf5  \n",
            "  inflating: dataset_top10/25571.hdf5  \n",
            "  inflating: dataset_top10/26734.hdf5  \n",
            "  inflating: dataset_top10/27610.hdf5  \n",
            "  inflating: dataset_top10/28656.hdf5  \n",
            "  inflating: dataset_top10/29302.hdf5  \n",
            "  inflating: dataset_top10/30680.hdf5  \n",
            "  inflating: dataset_top10/32319.hdf5  \n",
            "  inflating: dataset_top10/34503.hdf5  \n",
            "  inflating: dataset_top10/36257.hdf5  \n",
            "  inflating: dataset_top10/37055.hdf5  \n",
            "  inflating: dataset_top10/37779.hdf5  \n",
            "  inflating: dataset_top10/4718.hdf5  \n",
            "  inflating: dataset_top10/49445.hdf5  \n",
            "  inflating: dataset_top10/53618.hdf5  \n",
            "  inflating: dataset_top10/55372.hdf5  \n",
            "  inflating: dataset_top10/61333.hdf5  \n",
            "  inflating: dataset_top10/62590.hdf5  \n",
            "  inflating: dataset_top10/LICENSE.txt  \n",
            "  inflating: dataset_top10/sign_to_prediction_index_map.json  \n"
          ]
        }
      ]
    },
    {
      "cell_type": "code",
      "source": [
        "!ls dataset_top10"
      ],
      "metadata": {
        "colab": {
          "base_uri": "https://localhost:8080/"
        },
        "id": "z0li39OxJ7df",
        "outputId": "500cbbcf-740f-4018-a2eb-7f56a1dce900"
      },
      "execution_count": null,
      "outputs": [
        {
          "output_type": "stream",
          "name": "stdout",
          "text": [
            "16069.hdf5  25571.hdf5\t29302.hdf5  36257.hdf5\t49445.hdf5  62590.hdf5\n",
            "18796.hdf5  26734.hdf5\t30680.hdf5  37055.hdf5\t53618.hdf5  LICENSE.txt\n",
            "2044.hdf5   27610.hdf5\t32319.hdf5  37779.hdf5\t55372.hdf5  sign_to_prediction_index_map.json\n",
            "22343.hdf5  28656.hdf5\t34503.hdf5  4718.hdf5\t61333.hdf5\n"
          ]
        }
      ]
    },
    {
      "cell_type": "code",
      "source": [
        "!cat dataset_top10/sign_to_prediction_index_map.json"
      ],
      "metadata": {
        "colab": {
          "base_uri": "https://localhost:8080/"
        },
        "id": "eSHBTUxKJ9Zf",
        "outputId": "7e66c4a8-9643-4977-8496-2b14ceca3793"
      },
      "execution_count": null,
      "outputs": [
        {
          "output_type": "stream",
          "name": "stdout",
          "text": [
            "{\n",
            "    \"listen\": 0,\n",
            "    \"look\": 1,\n",
            "    \"shhh\": 2,\n",
            "    \"donkey\": 3,\n",
            "    \"mouse\": 4,\n",
            "    \"duck\": 5,\n",
            "    \"uncle\": 6,\n",
            "    \"hear\": 7,\n",
            "    \"pretend\": 8,\n",
            "    \"cow\": 9\n",
            "}"
          ]
        }
      ]
    },
    {
      "cell_type": "code",
      "source": [
        "!cat dataset_top10/LICENSE.txt"
      ],
      "metadata": {
        "colab": {
          "base_uri": "https://localhost:8080/"
        },
        "id": "Swy-t-5YKAZv",
        "outputId": "46fec3c4-d505-48b5-b0e0-b929b77a6c39"
      },
      "execution_count": null,
      "outputs": [
        {
          "output_type": "stream",
          "name": "stdout",
          "text": [
            "The dataset provided by Natsuki Takayama (Takayama Research and Development Office) is licensed under CC-BY 4.0.\r\n",
            "Author: Copyright 2024 Natsuki Takayama\r\n",
            "Title: GISLR Top 10 dataset\r\n",
            "Original licenser: Deaf Professional Arts Network and the Georgia Institute of Technology\r\n",
            "Modification\r\n",
            "- Extract 10 most frequent words.\r\n",
            "- Packaged into HDF5 format.\r\n"
          ]
        }
      ]
    },
    {
      "cell_type": "code",
      "source": [
        "import h5py\n",
        "with h5py.File(\"dataset_top10/16069.hdf5\", \"r\") as fread:\n",
        "    keys = list(fread.keys())\n",
        "    print(keys)\n",
        "    group = fread[keys[0]]\n",
        "    print(group.keys())\n",
        "    feature = group[\"feature\"][:]\n",
        "    token = group[\"token\"][:]\n",
        "    print(feature.shape)\n",
        "    print(token)"
      ],
      "metadata": {
        "colab": {
          "base_uri": "https://localhost:8080/"
        },
        "id": "nXQbjUq0KCZv",
        "outputId": "0647f1fe-e7b1-4a35-b5c9-5301ae98cd6d"
      },
      "execution_count": null,
      "outputs": [
        {
          "output_type": "stream",
          "name": "stdout",
          "text": [
            "['1109479272', '11121526', '1120349077', '1125456612', '1159046211', '1169128497', '1186032553', '1223803476', '1259708636', '1281972067', '129232566', '1334702305', '1340979012', '1352964057', '1370052047', '1383455381', '1431148933', '1435203624', '1437919781', '1458770030', '1462881097', '1469867050', '1474050058', '147607644', '1513539919', '1520635928', '1524297234', '153676122', '1537751003', '1542212461', '1551759770', '158232956', '1585855916', '1632709119', '1638742455', '1696757219', '177479476', '1779635114', '1791684792', '1801566440', '1831167282', '1867385690', '1880570146', '1901587887', '1910121429', '1919659282', '192873038', '1935012113', '1949620203', '195098847', '1983552660', '1989475963', '1998715062', '2007709802', '2036010239', '2036360025', '2046296211', '2082116372', '2098813002', '2109640010', '2121879330', '2141852087', '2148832702', '2152013823', '2166805079', '2176613834', '2184232774', '2213965523', '2249630763', '2256677805', '2263287955', '2263683020', '2264826605', '2270117351', '2281372282', '2285328250', '2322449232', '2326092712', '2336131857', '2346410171', '2405684784', '2467219838', '2473091535', '2488751095', '2515673021', '252176572', '2555449229', '2601816518', '2624310025', '2672738462', '2679264929', '2708514724', '2708544445', '2721276879', '2723773273', '2728839865', '2740241949', '2758304792', '2772051790', '2779816680', '2804441762', '2811346655', '2811646800', '2820103955', '2839681895', '2900998385', '2976200180', '2994456336', '3057994128', '3095010437', '3104317075', '3109672704', '3137179145', '3153285641', '3173321541', '3181666887', '3201889607', '3208820205', '3248401349', '3280527321', '3283246198', '3300057240', '3355963469', '3378306304', '3383637897', '3395075403', '3399503065', '3417877266', '3433092803', '347484677', '348956807', '3490841593', '3509324997', '3527069516', '3537611572', '3543711249', '3550826234', '3574700791', '3577812263', '3608551465', '3609537739', '3622960580', '3666781780', '3701422761', '3721927307', '3751410902', '3756613238', '3769544385', '3783554953', '3794712078', '380369091', '3813230821', '3817572483', '3843929707', '3869664504', '3892179393', '3923913515', '3981562204', '4078929101', '4101587978', '4150900444', '4191136837', '4200829752', '4209136328', '420958416', '422113773', '42222766', '4233346443', '4233985575', '4236057556', '4252161228', '425542996', '4276854486', '4294775577', '431609031', '439844759', '446236576', '470582324', '472128010', '492897929', '537402693', '5501547', '561170018', '593416697', '631898947', '649410423', '654529993', '678960043', '699907539', '707716966', '713615518', '778875120', '792981518', '796465415', '798649922', '856068671', '923153024', '957739544', '970593849', '976754415']\n",
            "<KeysViewHDF5 ['feature', 'token']>\n",
            "(3, 23, 543)\n",
            "[1]\n"
          ]
        }
      ]
    },
    {
      "cell_type": "code",
      "source": [
        "!wget https://github.com/takayama-rado/trado_samples/archive/refs/tags/v0.1.zip -O master.zip"
      ],
      "metadata": {
        "colab": {
          "base_uri": "https://localhost:8080/"
        },
        "id": "sbbfALIiKG3X",
        "outputId": "59e86518-bdf6-462b-91a6-25625c8fa141"
      },
      "execution_count": null,
      "outputs": [
        {
          "output_type": "stream",
          "name": "stdout",
          "text": [
            "--2024-02-14 01:40:55--  https://github.com/takayama-rado/trado_samples/archive/master.zip\n",
            "Resolving github.com (github.com)... 140.82.113.4\n",
            "Connecting to github.com (github.com)|140.82.113.4|:443... connected.\n",
            "HTTP request sent, awaiting response... 302 Found\n",
            "Location: https://codeload.github.com/takayama-rado/trado_samples/zip/main [following]\n",
            "--2024-02-14 01:40:55--  https://codeload.github.com/takayama-rado/trado_samples/zip/main\n",
            "Resolving codeload.github.com (codeload.github.com)... 140.82.112.9\n",
            "Connecting to codeload.github.com (codeload.github.com)|140.82.112.9|:443... connected.\n",
            "HTTP request sent, awaiting response... 200 OK\n",
            "Length: unspecified [application/zip]\n",
            "Saving to: ‘master.zip’\n",
            "\n",
            "master.zip              [          <=>       ]  74.02M  18.9MB/s    in 3.9s    \n",
            "\n",
            "2024-02-14 01:40:59 (18.9 MB/s) - ‘master.zip’ saved [77614476]\n",
            "\n"
          ]
        }
      ]
    },
    {
      "cell_type": "code",
      "source": [
        "!unzip -o master.zip -d master"
      ],
      "metadata": {
        "colab": {
          "base_uri": "https://localhost:8080/"
        },
        "id": "O84WgKgNKrC4",
        "outputId": "1cf9b02e-8f49-4164-dcad-94e92e505d59"
      },
      "execution_count": null,
      "outputs": [
        {
          "output_type": "stream",
          "name": "stdout",
          "text": [
            "Archive:  master.zip\n",
            "7e22b943e25c71297485361f0572c70517d4af91\n",
            "   creating: master/trado_samples-main/\n",
            "  inflating: master/trado_samples-main/.gitignore  \n",
            "  inflating: master/trado_samples-main/LICENSE  \n",
            "  inflating: master/trado_samples-main/README.md  \n",
            "   creating: master/trado_samples-main/colab_files/\n",
            " extracting: master/trado_samples-main/colab_files/.gitkeep  \n",
            "  inflating: master/trado_samples-main/colab_files/exp_affine_np_einsum.ipynb  \n",
            "  inflating: master/trado_samples-main/colab_files/exp_jax_static.ipynb  \n",
            "  inflating: master/trado_samples-main/colab_files/exp_mpholistic_0.ipynb  \n",
            "  inflating: master/trado_samples-main/colab_files/exp_mpothers_0.ipynb  \n",
            "  inflating: master/trado_samples-main/colab_files/exp_track_affine_jax.ipynb  \n",
            "  inflating: master/trado_samples-main/colab_files/exp_track_affine_numpy.ipynb  \n",
            "  inflating: master/trado_samples-main/colab_files/exp_track_affine_tensorflow.ipynb  \n",
            "  inflating: master/trado_samples-main/colab_files/exp_track_affine_torch.ipynb  \n",
            "  inflating: master/trado_samples-main/colab_files/exp_track_interp_jax.ipynb  \n",
            "  inflating: master/trado_samples-main/colab_files/exp_track_interp_numpy_0.ipynb  \n",
            "  inflating: master/trado_samples-main/colab_files/exp_track_interp_numpy_1.ipynb  \n",
            "  inflating: master/trado_samples-main/colab_files/exp_track_interp_tensorflow.ipynb  \n",
            "  inflating: master/trado_samples-main/colab_files/exp_track_interp_torch.ipynb  \n",
            "  inflating: master/trado_samples-main/colab_files/gislr_access_dataset.ipynb  \n",
            "  inflating: master/trado_samples-main/colab_files/gislr_normalize_landmarks.ipynb  \n",
            "  inflating: master/trado_samples-main/colab_files/gislr_rnn_islr_model.ipynb  \n",
            "  inflating: master/trado_samples-main/colab_files/gislr_rnn_islr_model_1.ipynb  \n",
            "  inflating: master/trado_samples-main/colab_files/gislr_rnn_islr_model_2.ipynb  \n",
            "  inflating: master/trado_samples-main/colab_files/gislr_rnn_islr_model_3.ipynb  \n",
            "  inflating: master/trado_samples-main/colab_files/gislr_select_landmarks.ipynb  \n",
            "  inflating: master/trado_samples-main/colab_files/gislr_simple_islr_model.ipynb  \n",
            "   creating: master/trado_samples-main/src/\n",
            "   creating: master/trado_samples-main/src/modules_gislr/\n",
            " extracting: master/trado_samples-main/src/modules_gislr/__init__.py  \n",
            "  inflating: master/trado_samples-main/src/modules_gislr/dataset.py  \n",
            "  inflating: master/trado_samples-main/src/modules_gislr/defines.py  \n",
            "  inflating: master/trado_samples-main/src/modules_gislr/draw_functions.py  \n",
            "  inflating: master/trado_samples-main/src/modules_gislr/layers.py  \n",
            "  inflating: master/trado_samples-main/src/modules_gislr/train_functions.py  \n",
            "  inflating: master/trado_samples-main/src/modules_gislr/transforms.py  \n",
            "   creating: master/trado_samples-main/test_data/\n",
            "  inflating: master/trado_samples-main/test_data/finger_far0.mp4  \n",
            "  inflating: master/trado_samples-main/test_data/finger_far0_non_static.npy  \n",
            "  inflating: master/trado_samples-main/test_data/finger_far0_non_static_affine.npy  \n",
            "  inflating: master/trado_samples-main/test_data/finger_far0_non_static_interp.npy  \n",
            "  inflating: master/trado_samples-main/test_data/finger_middle0.mp4  \n",
            "  inflating: master/trado_samples-main/test_data/finger_near0.mp4  \n",
            "  inflating: master/trado_samples-main/test_data/hand_only.mp4  \n"
          ]
        }
      ]
    },
    {
      "cell_type": "code",
      "source": [
        "!mv master/trado_samples-0.1/src/modules_gislr ."
      ],
      "metadata": {
        "id": "4qq4vgIaaVNY"
      },
      "execution_count": null,
      "outputs": []
    },
    {
      "cell_type": "code",
      "source": [
        "!rm -rf master master.zip"
      ],
      "metadata": {
        "id": "oX2zLvICaZ44"
      },
      "execution_count": null,
      "outputs": []
    },
    {
      "cell_type": "code",
      "source": [
        "!ls"
      ],
      "metadata": {
        "colab": {
          "base_uri": "https://localhost:8080/"
        },
        "id": "jYwKfuCab1OQ",
        "outputId": "65efb0a8-8e22-4a0e-ab85-7b4b045e57ca"
      },
      "execution_count": null,
      "outputs": [
        {
          "output_type": "stream",
          "name": "stdout",
          "text": [
            "dataset_top10  drive  gislr_top10.zip  modules_gislr  sample_data\n"
          ]
        }
      ]
    },
    {
      "cell_type": "markdown",
      "source": [
        "# 2. Load library"
      ],
      "metadata": {
        "id": "g54Rq2AUKs6w"
      }
    },
    {
      "cell_type": "code",
      "source": [
        "import json\n",
        "import math\n",
        "import sys\n",
        "import time\n",
        "from functools import partial\n",
        "from pathlib import Path\n",
        "from typing import (\n",
        "    Any,\n",
        "    Dict\n",
        ")\n",
        "\n",
        "# Third party's modules\n",
        "import numpy as np\n",
        "\n",
        "import torch\n",
        "from torch import nn\n",
        "from torch.nn import functional as F\n",
        "from torch.utils.data import (\n",
        "    DataLoader)\n",
        "\n",
        "from torchvision.transforms import Compose\n",
        "\n",
        "# Local modules\n",
        "sys.path.append(\"modules_gislr\")\n",
        "from modules_gislr.dataset import (\n",
        "    HDF5Dataset,\n",
        "    merge_padded_batch)\n",
        "from modules_gislr.transforms import (\n",
        "    ToTensor\n",
        ")"
      ],
      "metadata": {
        "id": "tRjIxCv0KxKf"
      },
      "execution_count": null,
      "outputs": []
    },
    {
      "cell_type": "markdown",
      "source": [
        "# 3. Implement preprocess"
      ],
      "metadata": {
        "id": "3bV2HLPBM39u"
      }
    },
    {
      "cell_type": "code",
      "source": [
        "class ReplaceNan():\n",
        "    \"\"\" Replace NaN value in the feature.\n",
        "    \"\"\"\n",
        "    def __init__(self, replace_val=0.0) -> None:\n",
        "        self.replace_val = replace_val\n",
        "\n",
        "    def __call__(self,\n",
        "                 data: Dict[str, Any]) -> Dict[str, Any]:\n",
        "        feature = data[\"feature\"]\n",
        "        feature[np.isnan(feature)] = self.replace_val\n",
        "        data[\"feature\"] = feature\n",
        "        return data"
      ],
      "metadata": {
        "id": "vaZWRk6MM2Ef"
      },
      "execution_count": null,
      "outputs": []
    },
    {
      "cell_type": "code",
      "source": [
        "# Access check.\n",
        "dataset_dir = Path(\"dataset_top10\")\n",
        "files = list(dataset_dir.iterdir())\n",
        "dictionary = [fin for fin in files if \".json\" in fin.name][0]\n",
        "hdf5_files = [fin for fin in files if \".hdf5\" in fin.name]\n",
        "\n",
        "print(dictionary)\n",
        "print(hdf5_files)"
      ],
      "metadata": {
        "colab": {
          "base_uri": "https://localhost:8080/"
        },
        "id": "srS0oWPDNU1X",
        "outputId": "36dd9001-ea72-42aa-8210-853e8adb0744"
      },
      "execution_count": null,
      "outputs": [
        {
          "output_type": "stream",
          "name": "stdout",
          "text": [
            "dataset_top10/sign_to_prediction_index_map.json\n",
            "[PosixPath('dataset_top10/55372.hdf5'), PosixPath('dataset_top10/27610.hdf5'), PosixPath('dataset_top10/37779.hdf5'), PosixPath('dataset_top10/2044.hdf5'), PosixPath('dataset_top10/36257.hdf5'), PosixPath('dataset_top10/53618.hdf5'), PosixPath('dataset_top10/32319.hdf5'), PosixPath('dataset_top10/37055.hdf5'), PosixPath('dataset_top10/4718.hdf5'), PosixPath('dataset_top10/25571.hdf5'), PosixPath('dataset_top10/18796.hdf5'), PosixPath('dataset_top10/29302.hdf5'), PosixPath('dataset_top10/34503.hdf5'), PosixPath('dataset_top10/28656.hdf5'), PosixPath('dataset_top10/26734.hdf5'), PosixPath('dataset_top10/16069.hdf5'), PosixPath('dataset_top10/30680.hdf5'), PosixPath('dataset_top10/49445.hdf5'), PosixPath('dataset_top10/22343.hdf5'), PosixPath('dataset_top10/62590.hdf5'), PosixPath('dataset_top10/61333.hdf5')]\n"
          ]
        }
      ]
    },
    {
      "cell_type": "code",
      "source": [
        "# Load dictionary.\n",
        "with open(dictionary, \"r\") as fread:\n",
        "    key2token = json.load(fread)\n",
        "\n",
        "VOCAB = len(key2token)"
      ],
      "metadata": {
        "id": "4YwAZuPvgABp"
      },
      "execution_count": null,
      "outputs": []
    },
    {
      "cell_type": "code",
      "source": [
        "dataset = HDF5Dataset(hdf5_files)\n",
        "\n",
        "batch_size = 2\n",
        "feature_shape = (3, -1, 543)\n",
        "token_shape = (1,)\n",
        "merge_fn = partial(merge_padded_batch,\n",
        "                   feature_shape=feature_shape,\n",
        "                   token_shape=token_shape,\n",
        "                   feature_padding_val=0.0,\n",
        "                   token_padding_val=0)\n",
        "\n",
        "dataloader = DataLoader(dataset, batch_size=batch_size, collate_fn=merge_fn)\n",
        "\n",
        "try:\n",
        "    data = next(iter(dataloader))\n",
        "    feature = data[\"feature\"]\n",
        "    token = data[\"token\"]\n",
        "    feature_pad_mask = data[\"feature_pad_mask\"]\n",
        "    token_pad_mask = data[\"token_pad_mask\"]\n",
        "\n",
        "    print(feature.shape)\n",
        "    print(token)\n",
        "    print(feature_pad_mask)\n",
        "    print(token_pad_mask)\n",
        "except Exception as inst:\n",
        "    print(inst)"
      ],
      "metadata": {
        "colab": {
          "base_uri": "https://localhost:8080/"
        },
        "id": "11xxGxEKNktn",
        "outputId": "3222d0a5-8c19-40cb-a666-f9e483a525ed"
      },
      "execution_count": null,
      "outputs": [
        {
          "output_type": "stream",
          "name": "stdout",
          "text": [
            "torch.Size([2, 3, 25, 543])\n",
            "tensor([[3],\n",
            "        [0]])\n",
            "tensor([[ True,  True,  True,  True,  True,  True,  True,  True,  True,  True,\n",
            "          True,  True,  True,  True,  True,  True,  True,  True,  True,  True,\n",
            "          True,  True,  True,  True,  True],\n",
            "        [ True,  True,  True,  True,  True,  True,  True,  True,  True,  True,\n",
            "          True,  True,  True,  True,  True,  True,  True,  True,  True,  True,\n",
            "          True,  True,  True, False, False]])\n",
            "tensor([[ True],\n",
            "        [False]])\n"
          ]
        }
      ]
    },
    {
      "cell_type": "code",
      "source": [
        "print(feature)\n",
        "print(torch.isnan(feature).any())"
      ],
      "metadata": {
        "colab": {
          "base_uri": "https://localhost:8080/"
        },
        "id": "3LAQ6mwdNtIg",
        "outputId": "2c606804-3d9f-4e62-a9f0-cf5fa30ee6e6"
      },
      "execution_count": null,
      "outputs": [
        {
          "output_type": "stream",
          "name": "stdout",
          "text": [
            "tensor([[[[ 0.4083,  0.3988,  0.4019,  ...,     nan,     nan,     nan],\n",
            "          [ 0.4061,  0.3961,  0.3993,  ...,     nan,     nan,     nan],\n",
            "          [ 0.4037,  0.3938,  0.3975,  ...,     nan,     nan,     nan],\n",
            "          ...,\n",
            "          [ 0.4156,  0.4075,  0.4108,  ...,     nan,     nan,     nan],\n",
            "          [ 0.4158,  0.4043,  0.4099,  ...,     nan,     nan,     nan],\n",
            "          [ 0.4174,  0.4095,  0.4126,  ...,     nan,     nan,     nan]],\n",
            "\n",
            "         [[ 0.4963,  0.4558,  0.4668,  ...,     nan,     nan,     nan],\n",
            "          [ 0.4986,  0.4565,  0.4670,  ...,     nan,     nan,     nan],\n",
            "          [ 0.5007,  0.4553,  0.4663,  ...,     nan,     nan,     nan],\n",
            "          ...,\n",
            "          [ 0.4881,  0.4439,  0.4559,  ...,     nan,     nan,     nan],\n",
            "          [ 0.4893,  0.4478,  0.4591,  ...,     nan,     nan,     nan],\n",
            "          [ 0.4889,  0.4459,  0.4574,  ...,     nan,     nan,     nan]],\n",
            "\n",
            "         [[-0.0397, -0.0771, -0.0392,  ...,     nan,     nan,     nan],\n",
            "          [-0.0388, -0.0772, -0.0388,  ...,     nan,     nan,     nan],\n",
            "          [-0.0414, -0.0786, -0.0404,  ...,     nan,     nan,     nan],\n",
            "          ...,\n",
            "          [-0.0441, -0.0807, -0.0423,  ...,     nan,     nan,     nan],\n",
            "          [-0.0443, -0.0809, -0.0424,  ...,     nan,     nan,     nan],\n",
            "          [-0.0464, -0.0800, -0.0432,  ...,     nan,     nan,     nan]]],\n",
            "\n",
            "\n",
            "        [[[ 0.4357,  0.4157,  0.4208,  ...,     nan,     nan,     nan],\n",
            "          [ 0.4254,  0.4093,  0.4154,  ...,     nan,     nan,     nan],\n",
            "          [ 0.4210,  0.4015,  0.4094,  ...,     nan,     nan,     nan],\n",
            "          ...,\n",
            "          [ 0.4407,  0.4203,  0.4267,  ...,     nan,     nan,     nan],\n",
            "          [ 0.0000,  0.0000,  0.0000,  ...,  0.0000,  0.0000,  0.0000],\n",
            "          [ 0.0000,  0.0000,  0.0000,  ...,  0.0000,  0.0000,  0.0000]],\n",
            "\n",
            "         [[ 0.4509,  0.4088,  0.4204,  ...,     nan,     nan,     nan],\n",
            "          [ 0.4621,  0.4183,  0.4304,  ...,     nan,     nan,     nan],\n",
            "          [ 0.4687,  0.4227,  0.4351,  ...,     nan,     nan,     nan],\n",
            "          ...,\n",
            "          [ 0.4419,  0.3960,  0.4082,  ...,     nan,     nan,     nan],\n",
            "          [ 0.0000,  0.0000,  0.0000,  ...,  0.0000,  0.0000,  0.0000],\n",
            "          [ 0.0000,  0.0000,  0.0000,  ...,  0.0000,  0.0000,  0.0000]],\n",
            "\n",
            "         [[-0.0435, -0.0755, -0.0418,  ...,     nan,     nan,     nan],\n",
            "          [-0.0439, -0.0744, -0.0402,  ...,     nan,     nan,     nan],\n",
            "          [-0.0447, -0.0766, -0.0412,  ...,     nan,     nan,     nan],\n",
            "          ...,\n",
            "          [-0.0456, -0.0804, -0.0430,  ...,     nan,     nan,     nan],\n",
            "          [ 0.0000,  0.0000,  0.0000,  ...,  0.0000,  0.0000,  0.0000],\n",
            "          [ 0.0000,  0.0000,  0.0000,  ...,  0.0000,  0.0000,  0.0000]]]])\n",
            "tensor(True)\n"
          ]
        }
      ]
    },
    {
      "cell_type": "code",
      "source": [
        "pre_transforms = Compose([ReplaceNan()])\n",
        "transforms = Compose([ToTensor()])\n",
        "\n",
        "dataset = HDF5Dataset(hdf5_files, pre_transforms=pre_transforms, transforms=transforms)\n",
        "\n",
        "dataloader = DataLoader(dataset, batch_size=batch_size, collate_fn=merge_fn)\n",
        "try:\n",
        "    data = next(iter(dataloader))\n",
        "    feature = data[\"feature\"]\n",
        "\n",
        "    print(feature)\n",
        "    print(torch.isnan(feature).any())\n",
        "except Exception as inst:\n",
        "    print(inst)"
      ],
      "metadata": {
        "colab": {
          "base_uri": "https://localhost:8080/"
        },
        "id": "sSEvt5MlNvhP",
        "outputId": "2e3562a5-1dd7-4746-9362-dce7e666a41e"
      },
      "execution_count": null,
      "outputs": [
        {
          "output_type": "stream",
          "name": "stdout",
          "text": [
            "tensor([[[[ 0.4083,  0.3988,  0.4019,  ...,  0.0000,  0.0000,  0.0000],\n",
            "          [ 0.4061,  0.3961,  0.3993,  ...,  0.0000,  0.0000,  0.0000],\n",
            "          [ 0.4037,  0.3938,  0.3975,  ...,  0.0000,  0.0000,  0.0000],\n",
            "          ...,\n",
            "          [ 0.4156,  0.4075,  0.4108,  ...,  0.0000,  0.0000,  0.0000],\n",
            "          [ 0.4158,  0.4043,  0.4099,  ...,  0.0000,  0.0000,  0.0000],\n",
            "          [ 0.4174,  0.4095,  0.4126,  ...,  0.0000,  0.0000,  0.0000]],\n",
            "\n",
            "         [[ 0.4963,  0.4558,  0.4668,  ...,  0.0000,  0.0000,  0.0000],\n",
            "          [ 0.4986,  0.4565,  0.4670,  ...,  0.0000,  0.0000,  0.0000],\n",
            "          [ 0.5007,  0.4553,  0.4663,  ...,  0.0000,  0.0000,  0.0000],\n",
            "          ...,\n",
            "          [ 0.4881,  0.4439,  0.4559,  ...,  0.0000,  0.0000,  0.0000],\n",
            "          [ 0.4893,  0.4478,  0.4591,  ...,  0.0000,  0.0000,  0.0000],\n",
            "          [ 0.4889,  0.4459,  0.4574,  ...,  0.0000,  0.0000,  0.0000]],\n",
            "\n",
            "         [[-0.0397, -0.0771, -0.0392,  ...,  0.0000,  0.0000,  0.0000],\n",
            "          [-0.0388, -0.0772, -0.0388,  ...,  0.0000,  0.0000,  0.0000],\n",
            "          [-0.0414, -0.0786, -0.0404,  ...,  0.0000,  0.0000,  0.0000],\n",
            "          ...,\n",
            "          [-0.0441, -0.0807, -0.0423,  ...,  0.0000,  0.0000,  0.0000],\n",
            "          [-0.0443, -0.0809, -0.0424,  ...,  0.0000,  0.0000,  0.0000],\n",
            "          [-0.0464, -0.0800, -0.0432,  ...,  0.0000,  0.0000,  0.0000]]],\n",
            "\n",
            "\n",
            "        [[[ 0.4357,  0.4157,  0.4208,  ...,  0.0000,  0.0000,  0.0000],\n",
            "          [ 0.4254,  0.4093,  0.4154,  ...,  0.0000,  0.0000,  0.0000],\n",
            "          [ 0.4210,  0.4015,  0.4094,  ...,  0.0000,  0.0000,  0.0000],\n",
            "          ...,\n",
            "          [ 0.4407,  0.4203,  0.4267,  ...,  0.0000,  0.0000,  0.0000],\n",
            "          [ 0.0000,  0.0000,  0.0000,  ...,  0.0000,  0.0000,  0.0000],\n",
            "          [ 0.0000,  0.0000,  0.0000,  ...,  0.0000,  0.0000,  0.0000]],\n",
            "\n",
            "         [[ 0.4509,  0.4088,  0.4204,  ...,  0.0000,  0.0000,  0.0000],\n",
            "          [ 0.4621,  0.4183,  0.4304,  ...,  0.0000,  0.0000,  0.0000],\n",
            "          [ 0.4687,  0.4227,  0.4351,  ...,  0.0000,  0.0000,  0.0000],\n",
            "          ...,\n",
            "          [ 0.4419,  0.3960,  0.4082,  ...,  0.0000,  0.0000,  0.0000],\n",
            "          [ 0.0000,  0.0000,  0.0000,  ...,  0.0000,  0.0000,  0.0000],\n",
            "          [ 0.0000,  0.0000,  0.0000,  ...,  0.0000,  0.0000,  0.0000]],\n",
            "\n",
            "         [[-0.0435, -0.0755, -0.0418,  ...,  0.0000,  0.0000,  0.0000],\n",
            "          [-0.0439, -0.0744, -0.0402,  ...,  0.0000,  0.0000,  0.0000],\n",
            "          [-0.0447, -0.0766, -0.0412,  ...,  0.0000,  0.0000,  0.0000],\n",
            "          ...,\n",
            "          [-0.0456, -0.0804, -0.0430,  ...,  0.0000,  0.0000,  0.0000],\n",
            "          [ 0.0000,  0.0000,  0.0000,  ...,  0.0000,  0.0000,  0.0000],\n",
            "          [ 0.0000,  0.0000,  0.0000,  ...,  0.0000,  0.0000,  0.0000]]]])\n",
            "tensor(False)\n"
          ]
        }
      ]
    },
    {
      "cell_type": "markdown",
      "source": [
        "# 4. Implement ISLR model"
      ],
      "metadata": {
        "id": "DyKkUBEWOaMI"
      }
    },
    {
      "cell_type": "code",
      "source": [
        "class GPoolRecognitionHead(nn.Module):\n",
        "    def __init__(self,\n",
        "                 in_channels,\n",
        "                 out_channels):\n",
        "        super().__init__()\n",
        "        self.in_channels = in_channels\n",
        "        self.out_channels = out_channels\n",
        "\n",
        "        self.head = nn.Linear(in_channels, out_channels)\n",
        "        self._init_weight()\n",
        "\n",
        "    def _init_weight(self):\n",
        "        nn.init.normal_(self.head.weight,\n",
        "                        mean=0.,\n",
        "                        std=math.sqrt(1. / self.out_channels))\n",
        "\n",
        "    def forward(self, feature):\n",
        "        # Averaging over temporal axis.\n",
        "        # `[N, C, T] -> [N, C, 1] -> [N, C]`\n",
        "        feature = feature = F.avg_pool1d(feature, kernel_size=feature.shape[-1])\n",
        "        feature = feature.reshape(feature.shape[0], -1)\n",
        "\n",
        "        # Predict.\n",
        "        feature = self.head(feature)\n",
        "        return feature"
      ],
      "metadata": {
        "id": "WHK70-GIOmgI"
      },
      "execution_count": null,
      "outputs": []
    },
    {
      "cell_type": "code",
      "source": [
        "class SimpleISLR(nn.Module):\n",
        "    def __init__(self, in_channels, out_channels):\n",
        "        super().__init__()\n",
        "\n",
        "        self.linear = nn.Linear(in_channels, 64)\n",
        "        self.activation = nn.ReLU()\n",
        "        self.head = GPoolRecognitionHead(64, out_channels)\n",
        "\n",
        "    def forward(self, feature):\n",
        "        # Feature extraction.\n",
        "        # `[N, C, T, J] -> [N, T, C, J] -> [N, T, C*J] -> [N, T, C']`\n",
        "        N, C, T, J = feature.shape\n",
        "        feature = feature.permute([0, 2, 1, 3])\n",
        "        feature = feature.reshape(N, T, -1)\n",
        "\n",
        "        feature = self.linear(feature)\n",
        "        feature = self.activation(feature)\n",
        "\n",
        "        # `[N, T, C'] -> [N, C', T]`\n",
        "        feature = feature.permute(0, 2, 1)\n",
        "        logit = self.head(feature)\n",
        "        return logit"
      ],
      "metadata": {
        "id": "Exb_4syWTLQh"
      },
      "execution_count": null,
      "outputs": []
    },
    {
      "cell_type": "code",
      "source": [
        "# Define model.\n",
        "# in_channels: J * C (543*3=1629)\n",
        "#   J: use_landmarks (543)\n",
        "#   C: use_channels (3)\n",
        "# out_channels: vocaburary\n",
        "feature_shape = (3, -1, 543)\n",
        "in_channels = feature_shape[0] * feature_shape[2]\n",
        "out_channels = VOCAB\n",
        "\n",
        "model = SimpleISLR(in_channels, out_channels)\n",
        "print(model)\n",
        "\n",
        "# Sanity check.\n",
        "logit = model(feature)\n",
        "print(logit.shape)"
      ],
      "metadata": {
        "colab": {
          "base_uri": "https://localhost:8080/"
        },
        "id": "zUdZEKnBTQlR",
        "outputId": "a61d16a6-1cdc-4018-f17b-688a987d403b"
      },
      "execution_count": null,
      "outputs": [
        {
          "output_type": "stream",
          "name": "stdout",
          "text": [
            "SimpleISLR(\n",
            "  (linear): Linear(in_features=1629, out_features=64, bias=True)\n",
            "  (activation): ReLU()\n",
            "  (head): GPoolRecognitionHead(\n",
            "    (head): Linear(in_features=64, out_features=10, bias=True)\n",
            "  )\n",
            ")\n",
            "torch.Size([2, 10])\n"
          ]
        }
      ]
    },
    {
      "cell_type": "markdown",
      "source": [
        "# 5. Implement training loop"
      ],
      "metadata": {
        "id": "142dfXYxU23x"
      }
    },
    {
      "cell_type": "code",
      "source": [
        "def train_loop(dataloader, model, loss_fn, optimizer, device):\n",
        "    size = len(dataloader.dataset)\n",
        "\n",
        "    # Switch to training mode.\n",
        "    model.train()\n",
        "    # Main loop.\n",
        "    print(\"Start training.\")\n",
        "    start = time.perf_counter()\n",
        "    for batch_idx, batch_sample in enumerate(dataloader):\n",
        "        feature = batch_sample[\"feature\"]\n",
        "        token = batch_sample[\"token\"]\n",
        "        feature = feature.to(device)\n",
        "        token = token.to(device)\n",
        "\n",
        "        # Predict and compute loss.\n",
        "        pred = model(feature)\n",
        "        loss = loss_fn(pred, token.squeeze(-1))\n",
        "\n",
        "        # Back propagation.\n",
        "        optimizer.zero_grad()\n",
        "        loss.backward()\n",
        "        optimizer.step()\n",
        "\n",
        "        # Print current loss per 100 steps.\n",
        "        if batch_idx % 100 == 0:\n",
        "            loss = loss.item()\n",
        "            steps = batch_idx * len(feature)\n",
        "            print(f\"loss:{loss:>7f} [{steps:>5d}/{size:>5d}]\")\n",
        "    print(f\"Done. Time:{time.perf_counter()-start}\")\n",
        "\n",
        "\n",
        "def val_loop(dataloader, model, loss_fn, device):\n",
        "    num_batches = len(dataloader)\n",
        "    val_loss = 0\n",
        "\n",
        "    # Switch to evaluation mode.\n",
        "    model.eval()\n",
        "    # Main loop.\n",
        "    print(\"Start validation.\")\n",
        "    start = time.perf_counter()\n",
        "    with torch.no_grad():\n",
        "        for batch_sample in dataloader:\n",
        "            feature = batch_sample[\"feature\"]\n",
        "            token = batch_sample[\"token\"]\n",
        "            feature = feature.to(device)\n",
        "            token = token.to(device)\n",
        "\n",
        "            pred = model(feature)\n",
        "            val_loss += loss_fn(pred, token.squeeze(-1)).item()\n",
        "    print(f\"Done. Time:{time.perf_counter()-start}\")\n",
        "\n",
        "    # Average loss.\n",
        "    val_loss /= num_batches\n",
        "    print(\"Validation performance: \\n\",\n",
        "          f\"Avg loss:{val_loss:>8f}\\n\")\n",
        "    return val_loss\n",
        "\n",
        "\n",
        "def test_loop(dataloader, model, device):\n",
        "    size = len(dataloader.dataset)\n",
        "    correct = 0\n",
        "\n",
        "    # Switch to evaluation mode.\n",
        "    model.eval()\n",
        "    # Main loop.\n",
        "    print(\"Start evaluation.\")\n",
        "    start = time.perf_counter()\n",
        "    with torch.no_grad():\n",
        "        for batch_sample in dataloader:\n",
        "            feature = batch_sample[\"feature\"]\n",
        "            token = batch_sample[\"token\"]\n",
        "            feature = feature.to(device)\n",
        "            token = token.to(device)\n",
        "\n",
        "            pred = model(feature)\n",
        "            pred_ids = pred.argmax(dim=1).unsqueeze(-1)\n",
        "            count = (pred_ids == token).sum().detach().cpu().numpy()\n",
        "            correct += int(count)\n",
        "    print(f\"Done. Time:{time.perf_counter()-start}\")\n",
        "\n",
        "    acc = correct / size * 100\n",
        "    print(\"Test performance: \\n\",\n",
        "          f\"Accuracy:{acc:>0.1f}%\")\n",
        "    return acc"
      ],
      "metadata": {
        "id": "1-xHI8pJU6hX"
      },
      "execution_count": null,
      "outputs": []
    },
    {
      "cell_type": "markdown",
      "source": [
        "# 6. Train and evaluation"
      ],
      "metadata": {
        "id": "PoXUv61zVHEn"
      }
    },
    {
      "cell_type": "code",
      "source": [
        "# Build dataloaders.\n",
        "batch_size = 32\n",
        "load_into_ram = True\n",
        "test_pid = 16069\n",
        "num_workers = 1\n",
        "\n",
        "train_hdf5files = [fin for fin in hdf5_files if str(test_pid) not in fin.name]\n",
        "val_hdf5files = [fin for fin in hdf5_files if str(test_pid) in fin.name]\n",
        "test_hdf5files = [fin for fin in hdf5_files if str(test_pid) in fin.name]\n",
        "\n",
        "train_dataset = HDF5Dataset(train_hdf5files, pre_transforms=pre_transforms,\n",
        "    transforms=transforms, load_into_ram=load_into_ram)\n",
        "val_dataset = HDF5Dataset(val_hdf5files, pre_transforms=pre_transforms,\n",
        "    transforms=transforms, load_into_ram=load_into_ram)\n",
        "test_dataset = HDF5Dataset(test_hdf5files, pre_transforms=pre_transforms,\n",
        "    transforms=transforms, load_into_ram=load_into_ram)\n",
        "\n",
        "train_dataloader = DataLoader(train_dataset, batch_size=batch_size, collate_fn=merge_fn, num_workers=num_workers)\n",
        "val_dataloader = DataLoader(val_dataset, batch_size=batch_size, collate_fn=merge_fn, num_workers=num_workers)\n",
        "test_dataloader = DataLoader(test_dataset, batch_size=1, collate_fn=merge_fn, num_workers=num_workers)"
      ],
      "metadata": {
        "id": "A1ys2cVTVLoo"
      },
      "execution_count": null,
      "outputs": []
    },
    {
      "cell_type": "code",
      "source": [
        "loss_fn = nn.CrossEntropyLoss(reduction=\"mean\")\n",
        "optimizer = torch.optim.Adam(model.parameters(), lr=1e-3)"
      ],
      "metadata": {
        "id": "uyW7zbfRVahA"
      },
      "execution_count": null,
      "outputs": []
    },
    {
      "cell_type": "code",
      "source": [
        "# Train, validation, and evaluation.\n",
        "epochs = 10\n",
        "eval_every_n_epochs = 1\n",
        "device = \"cuda\" if torch.cuda.is_available() else \"cpu\"\n",
        "print(f\"Using {device} for computation.\")\n",
        "model.to(device)\n",
        "\n",
        "val_losses = []\n",
        "test_accs = []\n",
        "print(\"Start training.\")\n",
        "for epoch in range(epochs):\n",
        "    print(\"-\" * 80)\n",
        "    print(f\"Epoch {epoch+1}\")\n",
        "\n",
        "    train_loop(train_dataloader, model, loss_fn, optimizer, device)\n",
        "    val_loss = val_loop(val_dataloader, model, loss_fn, device)\n",
        "    val_losses.append(val_loss)\n",
        "\n",
        "    if (epoch+1) % eval_every_n_epochs == 0:\n",
        "        acc = test_loop(test_dataloader, model, device)\n",
        "        test_accs.append(acc)\n",
        "val_losses = np.array(val_losses)\n",
        "test_accs = np.array(test_accs)\n",
        "print(f\"Minimum validation loss:{val_losses.min()} at {np.argmin(val_losses)+1} epoch.\")\n",
        "print(f\"Maximum accuracy:{test_accs.max()} at {np.argmax(test_accs)*eval_every_n_epochs+1} epoch.\")"
      ],
      "metadata": {
        "colab": {
          "base_uri": "https://localhost:8080/"
        },
        "id": "8ol38Vb_VXwX",
        "outputId": "731640c1-eefa-41ec-b32a-3930687dd208"
      },
      "execution_count": null,
      "outputs": [
        {
          "output_type": "stream",
          "name": "stdout",
          "text": [
            "Using cpu for computation.\n",
            "Start training.\n",
            "--------------------------------------------------------------------------------\n",
            "Epoch 1\n",
            "Start training.\n",
            "loss:2.303755 [    0/ 3881]\n",
            "loss:2.317927 [ 3200/ 3881]\n",
            "Done. Time:16.25283791800001\n",
            "Start validation.\n",
            "Done. Time:1.6533643710000092\n",
            "Validation performance: \n",
            " Avg loss:2.303200\n",
            "\n",
            "Start evaluation.\n",
            "Done. Time:1.2242392460000247\n",
            "Test performance: \n",
            " Accuracy:15.5%\n",
            "--------------------------------------------------------------------------------\n",
            "Epoch 2\n",
            "Start training.\n",
            "loss:2.297729 [    0/ 3881]\n",
            "loss:2.282529 [ 3200/ 3881]\n",
            "Done. Time:15.40429001999999\n",
            "Start validation.\n",
            "Done. Time:1.0380141130000027\n",
            "Validation performance: \n",
            " Avg loss:2.299753\n",
            "\n",
            "Start evaluation.\n",
            "Done. Time:1.2411924060000104\n",
            "Test performance: \n",
            " Accuracy:16.0%\n",
            "--------------------------------------------------------------------------------\n",
            "Epoch 3\n",
            "Start training.\n",
            "loss:2.286596 [    0/ 3881]\n",
            "loss:2.255390 [ 3200/ 3881]\n",
            "Done. Time:17.21963500999999\n",
            "Start validation.\n",
            "Done. Time:1.0516339399999879\n",
            "Validation performance: \n",
            " Avg loss:2.291872\n",
            "\n",
            "Start evaluation.\n",
            "Done. Time:1.0191002979999837\n",
            "Test performance: \n",
            " Accuracy:15.5%\n",
            "--------------------------------------------------------------------------------\n",
            "Epoch 4\n",
            "Start training.\n",
            "loss:2.273104 [    0/ 3881]\n",
            "loss:2.246473 [ 3200/ 3881]\n",
            "Done. Time:15.487138549999997\n",
            "Start validation.\n",
            "Done. Time:1.0673211079999874\n",
            "Validation performance: \n",
            " Avg loss:2.287523\n",
            "\n",
            "Start evaluation.\n",
            "Done. Time:1.0116144870000028\n",
            "Test performance: \n",
            " Accuracy:16.5%\n",
            "--------------------------------------------------------------------------------\n",
            "Epoch 5\n",
            "Start training.\n",
            "loss:2.262950 [    0/ 3881]\n",
            "loss:2.241771 [ 3200/ 3881]\n",
            "Done. Time:16.098934953999986\n",
            "Start validation.\n",
            "Done. Time:1.0732723140000076\n",
            "Validation performance: \n",
            " Avg loss:2.284790\n",
            "\n",
            "Start evaluation.\n",
            "Done. Time:1.02862638900001\n",
            "Test performance: \n",
            " Accuracy:19.5%\n",
            "--------------------------------------------------------------------------------\n",
            "Epoch 6\n",
            "Start training.\n",
            "loss:2.251716 [    0/ 3881]\n",
            "loss:2.236864 [ 3200/ 3881]\n",
            "Done. Time:16.848593382000047\n",
            "Start validation.\n",
            "Done. Time:1.7196888020000074\n",
            "Validation performance: \n",
            " Avg loss:2.282653\n",
            "\n",
            "Start evaluation.\n",
            "Done. Time:1.0187300669999786\n",
            "Test performance: \n",
            " Accuracy:19.5%\n",
            "--------------------------------------------------------------------------------\n",
            "Epoch 7\n",
            "Start training.\n",
            "loss:2.242381 [    0/ 3881]\n",
            "loss:2.233133 [ 3200/ 3881]\n",
            "Done. Time:17.79254947999999\n",
            "Start validation.\n",
            "Done. Time:1.0547298800000249\n",
            "Validation performance: \n",
            " Avg loss:2.286286\n",
            "\n",
            "Start evaluation.\n",
            "Done. Time:1.0225065420000305\n",
            "Test performance: \n",
            " Accuracy:16.5%\n",
            "--------------------------------------------------------------------------------\n",
            "Epoch 8\n",
            "Start training.\n",
            "loss:2.235185 [    0/ 3881]\n",
            "loss:2.229652 [ 3200/ 3881]\n",
            "Done. Time:15.817477930999985\n",
            "Start validation.\n",
            "Done. Time:1.0369538819999775\n",
            "Validation performance: \n",
            " Avg loss:2.283601\n",
            "\n",
            "Start evaluation.\n",
            "Done. Time:1.0180914640000083\n",
            "Test performance: \n",
            " Accuracy:16.5%\n",
            "--------------------------------------------------------------------------------\n",
            "Epoch 9\n",
            "Start training.\n",
            "loss:2.226208 [    0/ 3881]\n",
            "loss:2.226482 [ 3200/ 3881]\n",
            "Done. Time:16.49739824300002\n",
            "Start validation.\n",
            "Done. Time:1.6854657189999784\n",
            "Validation performance: \n",
            " Avg loss:2.290413\n",
            "\n",
            "Start evaluation.\n",
            "Done. Time:1.1503551519999746\n",
            "Test performance: \n",
            " Accuracy:17.5%\n",
            "--------------------------------------------------------------------------------\n",
            "Epoch 10\n",
            "Start training.\n",
            "loss:2.222016 [    0/ 3881]\n",
            "loss:2.227139 [ 3200/ 3881]\n",
            "Done. Time:15.94905552199998\n",
            "Start validation.\n",
            "Done. Time:1.0453532259999747\n",
            "Validation performance: \n",
            " Avg loss:2.269447\n",
            "\n",
            "Start evaluation.\n",
            "Done. Time:1.028427401999977\n",
            "Test performance: \n",
            " Accuracy:19.5%\n",
            "Minimum validation loss:2.269446781703404 at 10 epoch.\n",
            "Maximum accuracy:19.5 at 5 epoch.\n"
          ]
        }
      ]
    }
  ]
}