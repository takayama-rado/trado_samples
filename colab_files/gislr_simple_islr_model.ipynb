{
  "nbformat": 4,
  "nbformat_minor": 0,
  "metadata": {
    "colab": {
      "provenance": [],
      "authorship_tag": "ABX9TyOpjEaAM6iIVk8HsLRHk1hW",
      "include_colab_link": true
    },
    "kernelspec": {
      "name": "python3",
      "display_name": "Python 3"
    },
    "language_info": {
      "name": "python"
    }
  },
  "cells": [
    {
      "cell_type": "markdown",
      "metadata": {
        "id": "view-in-github",
        "colab_type": "text"
      },
      "source": [
        "<a href=\"https://colab.research.google.com/github/takayama-rado/trado_samples/blob/main/colab_files/gislr_simple_islr_model.ipynb\" target=\"_parent\"><img src=\"https://colab.research.google.com/assets/colab-badge.svg\" alt=\"Open In Colab\"/></a>"
      ]
    },
    {
      "cell_type": "markdown",
      "source": [
        "# 1. Download dataset and modules"
      ],
      "metadata": {
        "id": "wScni5-7JoB_"
      }
    },
    {
      "cell_type": "code",
      "execution_count": 1,
      "metadata": {
        "colab": {
          "base_uri": "https://localhost:8080/"
        },
        "id": "Od6I1s00Jk9n",
        "outputId": "681ac474-59a8-4ef3-89c2-886cc4da046e"
      },
      "outputs": [
        {
          "output_type": "stream",
          "name": "stdout",
          "text": [
            "Collecting gdown==4.6.0\n",
            "  Downloading gdown-4.6.0-py3-none-any.whl (14 kB)\n",
            "Requirement already satisfied: filelock in /usr/local/lib/python3.10/dist-packages (from gdown==4.6.0) (3.13.1)\n",
            "Requirement already satisfied: requests[socks] in /usr/local/lib/python3.10/dist-packages (from gdown==4.6.0) (2.31.0)\n",
            "Requirement already satisfied: six in /usr/local/lib/python3.10/dist-packages (from gdown==4.6.0) (1.16.0)\n",
            "Requirement already satisfied: tqdm in /usr/local/lib/python3.10/dist-packages (from gdown==4.6.0) (4.66.1)\n",
            "Requirement already satisfied: beautifulsoup4 in /usr/local/lib/python3.10/dist-packages (from gdown==4.6.0) (4.11.2)\n",
            "Requirement already satisfied: soupsieve>1.2 in /usr/local/lib/python3.10/dist-packages (from beautifulsoup4->gdown==4.6.0) (2.5)\n",
            "Requirement already satisfied: charset-normalizer<4,>=2 in /usr/local/lib/python3.10/dist-packages (from requests[socks]->gdown==4.6.0) (3.3.2)\n",
            "Requirement already satisfied: idna<4,>=2.5 in /usr/local/lib/python3.10/dist-packages (from requests[socks]->gdown==4.6.0) (3.6)\n",
            "Requirement already satisfied: urllib3<3,>=1.21.1 in /usr/local/lib/python3.10/dist-packages (from requests[socks]->gdown==4.6.0) (2.0.7)\n",
            "Requirement already satisfied: certifi>=2017.4.17 in /usr/local/lib/python3.10/dist-packages (from requests[socks]->gdown==4.6.0) (2023.11.17)\n",
            "Requirement already satisfied: PySocks!=1.5.7,>=1.5.6 in /usr/local/lib/python3.10/dist-packages (from requests[socks]->gdown==4.6.0) (1.7.1)\n",
            "Installing collected packages: gdown\n",
            "  Attempting uninstall: gdown\n",
            "    Found existing installation: gdown 4.7.3\n",
            "    Uninstalling gdown-4.7.3:\n",
            "      Successfully uninstalled gdown-4.7.3\n",
            "Successfully installed gdown-4.6.0\n"
          ]
        }
      ],
      "source": [
        "# I do not why, but only older virsion is works.\n",
        "# https://github.com/wkentaro/gdown/issues/43#issuecomment-1426653602\n",
        "!pip install gdown==4.6.0"
      ]
    },
    {
      "cell_type": "code",
      "source": [
        "import gdown\n",
        "\n",
        "url = \"https://drive.google.com/uc?id=1LJDGEwr4zqpBftjqO9SiSOLgUcNhMiSe\"\n",
        "output = \"gislr_top10.zip\"\n",
        "gdown.download(url, output, quiet=False, fuzzy=True)"
      ],
      "metadata": {
        "colab": {
          "base_uri": "https://localhost:8080/",
          "height": 105
        },
        "id": "sTJKQ-9WJ4px",
        "outputId": "70b4e2a8-967b-4b32-9d38-f3dc934f2ce9"
      },
      "execution_count": 2,
      "outputs": [
        {
          "output_type": "stream",
          "name": "stderr",
          "text": [
            "Downloading...\n",
            "From: https://drive.google.com/uc?id=1LJDGEwr4zqpBftjqO9SiSOLgUcNhMiSe\n",
            "To: /content/gislr_top10.zip\n",
            "100%|██████████| 880M/880M [00:07<00:00, 111MB/s]\n"
          ]
        },
        {
          "output_type": "execute_result",
          "data": {
            "text/plain": [
              "'gislr_top10.zip'"
            ],
            "application/vnd.google.colaboratory.intrinsic+json": {
              "type": "string"
            }
          },
          "metadata": {},
          "execution_count": 2
        }
      ]
    },
    {
      "cell_type": "code",
      "source": [
        "!unzip -o gislr_top10.zip"
      ],
      "metadata": {
        "colab": {
          "base_uri": "https://localhost:8080/"
        },
        "id": "RWZvfO_0J5On",
        "outputId": "2ad0b12d-f875-42f7-d857-c2d1f198c5cc"
      },
      "execution_count": 3,
      "outputs": [
        {
          "output_type": "stream",
          "name": "stdout",
          "text": [
            "Archive:  gislr_top10.zip\n",
            "   creating: dataset_top10/\n",
            "  inflating: dataset_top10/16069.hdf5  \n",
            "  inflating: dataset_top10/18796.hdf5  \n",
            "  inflating: dataset_top10/2044.hdf5  \n",
            "  inflating: dataset_top10/22343.hdf5  \n",
            "  inflating: dataset_top10/25571.hdf5  \n",
            "  inflating: dataset_top10/26734.hdf5  \n",
            "  inflating: dataset_top10/27610.hdf5  \n",
            "  inflating: dataset_top10/28656.hdf5  \n",
            "  inflating: dataset_top10/29302.hdf5  \n",
            "  inflating: dataset_top10/30680.hdf5  \n",
            "  inflating: dataset_top10/32319.hdf5  \n",
            "  inflating: dataset_top10/34503.hdf5  \n",
            "  inflating: dataset_top10/36257.hdf5  \n",
            "  inflating: dataset_top10/37055.hdf5  \n",
            "  inflating: dataset_top10/37779.hdf5  \n",
            "  inflating: dataset_top10/4718.hdf5  \n",
            "  inflating: dataset_top10/49445.hdf5  \n",
            "  inflating: dataset_top10/53618.hdf5  \n",
            "  inflating: dataset_top10/55372.hdf5  \n",
            "  inflating: dataset_top10/61333.hdf5  \n",
            "  inflating: dataset_top10/62590.hdf5  \n",
            "  inflating: dataset_top10/LICENSE.txt  \n",
            "  inflating: dataset_top10/sign_to_prediction_index_map.json  \n"
          ]
        }
      ]
    },
    {
      "cell_type": "code",
      "source": [
        "!ls dataset_top10"
      ],
      "metadata": {
        "colab": {
          "base_uri": "https://localhost:8080/"
        },
        "id": "z0li39OxJ7df",
        "outputId": "0fef198d-28d0-4297-b66a-7bf521cd5577"
      },
      "execution_count": 4,
      "outputs": [
        {
          "output_type": "stream",
          "name": "stdout",
          "text": [
            "16069.hdf5  25571.hdf5\t29302.hdf5  36257.hdf5\t49445.hdf5  62590.hdf5\n",
            "18796.hdf5  26734.hdf5\t30680.hdf5  37055.hdf5\t53618.hdf5  LICENSE.txt\n",
            "2044.hdf5   27610.hdf5\t32319.hdf5  37779.hdf5\t55372.hdf5  sign_to_prediction_index_map.json\n",
            "22343.hdf5  28656.hdf5\t34503.hdf5  4718.hdf5\t61333.hdf5\n"
          ]
        }
      ]
    },
    {
      "cell_type": "code",
      "source": [
        "!cat dataset_top10/sign_to_prediction_index_map.json"
      ],
      "metadata": {
        "colab": {
          "base_uri": "https://localhost:8080/"
        },
        "id": "eSHBTUxKJ9Zf",
        "outputId": "cf4b890f-6b4c-478e-ba1a-b7d814d1b0f7"
      },
      "execution_count": 5,
      "outputs": [
        {
          "output_type": "stream",
          "name": "stdout",
          "text": [
            "{\n",
            "    \"listen\": 0,\n",
            "    \"look\": 1,\n",
            "    \"shhh\": 2,\n",
            "    \"donkey\": 3,\n",
            "    \"mouse\": 4,\n",
            "    \"duck\": 5,\n",
            "    \"uncle\": 6,\n",
            "    \"hear\": 7,\n",
            "    \"pretend\": 8,\n",
            "    \"cow\": 9\n",
            "}"
          ]
        }
      ]
    },
    {
      "cell_type": "code",
      "source": [
        "!cat dataset_top10/LICENSE.txt"
      ],
      "metadata": {
        "colab": {
          "base_uri": "https://localhost:8080/"
        },
        "id": "Swy-t-5YKAZv",
        "outputId": "ac6ef8a9-a029-4569-8c95-818b79fbf517"
      },
      "execution_count": 6,
      "outputs": [
        {
          "output_type": "stream",
          "name": "stdout",
          "text": [
            "The dataset provided by Natsuki Takayama (Takayama Research and Development Office) is licensed under CC-BY 4.0.\r\n",
            "Author: Copyright 2024 Natsuki Takayama\r\n",
            "Title: GISLR Top 10 dataset\r\n",
            "Original licenser: Deaf Professional Arts Network and the Georgia Institute of Technology\r\n",
            "Modification\r\n",
            "- Extract 10 most frequent words.\r\n",
            "- Packaged into HDF5 format.\r\n"
          ]
        }
      ]
    },
    {
      "cell_type": "code",
      "source": [
        "import h5py\n",
        "with h5py.File(\"dataset_top10/16069.hdf5\", \"r\") as fread:\n",
        "    keys = list(fread.keys())\n",
        "    print(keys)\n",
        "    group = fread[keys[0]]\n",
        "    print(group.keys())\n",
        "    feature = group[\"feature\"][:]\n",
        "    token = group[\"token\"][:]\n",
        "    print(feature.shape)\n",
        "    print(token)"
      ],
      "metadata": {
        "colab": {
          "base_uri": "https://localhost:8080/"
        },
        "id": "nXQbjUq0KCZv",
        "outputId": "cd71cdf3-3fa5-4e35-fde2-8f05ce599ea9"
      },
      "execution_count": 7,
      "outputs": [
        {
          "output_type": "stream",
          "name": "stdout",
          "text": [
            "['1109479272', '11121526', '1120349077', '1125456612', '1159046211', '1169128497', '1186032553', '1223803476', '1259708636', '1281972067', '129232566', '1334702305', '1340979012', '1352964057', '1370052047', '1383455381', '1431148933', '1435203624', '1437919781', '1458770030', '1462881097', '1469867050', '1474050058', '147607644', '1513539919', '1520635928', '1524297234', '153676122', '1537751003', '1542212461', '1551759770', '158232956', '1585855916', '1632709119', '1638742455', '1696757219', '177479476', '1779635114', '1791684792', '1801566440', '1831167282', '1867385690', '1880570146', '1901587887', '1910121429', '1919659282', '192873038', '1935012113', '1949620203', '195098847', '1983552660', '1989475963', '1998715062', '2007709802', '2036010239', '2036360025', '2046296211', '2082116372', '2098813002', '2109640010', '2121879330', '2141852087', '2148832702', '2152013823', '2166805079', '2176613834', '2184232774', '2213965523', '2249630763', '2256677805', '2263287955', '2263683020', '2264826605', '2270117351', '2281372282', '2285328250', '2322449232', '2326092712', '2336131857', '2346410171', '2405684784', '2467219838', '2473091535', '2488751095', '2515673021', '252176572', '2555449229', '2601816518', '2624310025', '2672738462', '2679264929', '2708514724', '2708544445', '2721276879', '2723773273', '2728839865', '2740241949', '2758304792', '2772051790', '2779816680', '2804441762', '2811346655', '2811646800', '2820103955', '2839681895', '2900998385', '2976200180', '2994456336', '3057994128', '3095010437', '3104317075', '3109672704', '3137179145', '3153285641', '3173321541', '3181666887', '3201889607', '3208820205', '3248401349', '3280527321', '3283246198', '3300057240', '3355963469', '3378306304', '3383637897', '3395075403', '3399503065', '3417877266', '3433092803', '347484677', '348956807', '3490841593', '3509324997', '3527069516', '3537611572', '3543711249', '3550826234', '3574700791', '3577812263', '3608551465', '3609537739', '3622960580', '3666781780', '3701422761', '3721927307', '3751410902', '3756613238', '3769544385', '3783554953', '3794712078', '380369091', '3813230821', '3817572483', '3843929707', '3869664504', '3892179393', '3923913515', '3981562204', '4078929101', '4101587978', '4150900444', '4191136837', '4200829752', '4209136328', '420958416', '422113773', '42222766', '4233346443', '4233985575', '4236057556', '4252161228', '425542996', '4276854486', '4294775577', '431609031', '439844759', '446236576', '470582324', '472128010', '492897929', '537402693', '5501547', '561170018', '593416697', '631898947', '649410423', '654529993', '678960043', '699907539', '707716966', '713615518', '778875120', '792981518', '796465415', '798649922', '856068671', '923153024', '957739544', '970593849', '976754415']\n",
            "<KeysViewHDF5 ['feature', 'token']>\n",
            "(3, 23, 543)\n",
            "[1]\n"
          ]
        }
      ]
    },
    {
      "cell_type": "code",
      "source": [
        "!wget https://github.com/takayama-rado/trado_samples/archive/master.zip"
      ],
      "metadata": {
        "colab": {
          "base_uri": "https://localhost:8080/"
        },
        "id": "sbbfALIiKG3X",
        "outputId": "f27194ab-def5-4b93-dc43-3aa1c36e176a"
      },
      "execution_count": 8,
      "outputs": [
        {
          "output_type": "stream",
          "name": "stdout",
          "text": [
            "--2024-01-23 08:48:24--  https://github.com/takayama-rado/trado_samples/archive/master.zip\n",
            "Resolving github.com (github.com)... 140.82.112.3\n",
            "Connecting to github.com (github.com)|140.82.112.3|:443... connected.\n",
            "HTTP request sent, awaiting response... 302 Found\n",
            "Location: https://codeload.github.com/takayama-rado/trado_samples/zip/main [following]\n",
            "--2024-01-23 08:48:24--  https://codeload.github.com/takayama-rado/trado_samples/zip/main\n",
            "Resolving codeload.github.com (codeload.github.com)... 140.82.114.10\n",
            "Connecting to codeload.github.com (codeload.github.com)|140.82.114.10|:443... connected.\n",
            "HTTP request sent, awaiting response... 200 OK\n",
            "Length: unspecified [application/zip]\n",
            "Saving to: ‘master.zip’\n",
            "\n",
            "master.zip              [         <=>        ]  72.21M  20.2MB/s    in 3.6s    \n",
            "\n",
            "2024-01-23 08:48:28 (20.2 MB/s) - ‘master.zip’ saved [75720783]\n",
            "\n"
          ]
        }
      ]
    },
    {
      "cell_type": "code",
      "source": [
        "!unzip -o master.zip -d master"
      ],
      "metadata": {
        "colab": {
          "base_uri": "https://localhost:8080/"
        },
        "id": "O84WgKgNKrC4",
        "outputId": "b2183b1a-fc33-489b-b38a-2bc19edeed6a"
      },
      "execution_count": 9,
      "outputs": [
        {
          "output_type": "stream",
          "name": "stdout",
          "text": [
            "Archive:  master.zip\n",
            "6c090ef7a8414ec3f3bf82a85388a924d85c5a52\n",
            "   creating: master/trado_samples-main/\n",
            "  inflating: master/trado_samples-main/.gitignore  \n",
            "  inflating: master/trado_samples-main/LICENSE  \n",
            "  inflating: master/trado_samples-main/README.md  \n",
            "   creating: master/trado_samples-main/colab_files/\n",
            " extracting: master/trado_samples-main/colab_files/.gitkeep  \n",
            "  inflating: master/trado_samples-main/colab_files/exp_affine_np_einsum.ipynb  \n",
            "  inflating: master/trado_samples-main/colab_files/exp_jax_static.ipynb  \n",
            "  inflating: master/trado_samples-main/colab_files/exp_mpholistic_0.ipynb  \n",
            "  inflating: master/trado_samples-main/colab_files/exp_mpothers_0.ipynb  \n",
            "  inflating: master/trado_samples-main/colab_files/exp_track_affine_jax.ipynb  \n",
            "  inflating: master/trado_samples-main/colab_files/exp_track_affine_numpy.ipynb  \n",
            "  inflating: master/trado_samples-main/colab_files/exp_track_affine_tensorflow.ipynb  \n",
            "  inflating: master/trado_samples-main/colab_files/exp_track_affine_torch.ipynb  \n",
            "  inflating: master/trado_samples-main/colab_files/exp_track_interp_jax.ipynb  \n",
            "  inflating: master/trado_samples-main/colab_files/exp_track_interp_numpy_0.ipynb  \n",
            "  inflating: master/trado_samples-main/colab_files/exp_track_interp_numpy_1.ipynb  \n",
            "  inflating: master/trado_samples-main/colab_files/exp_track_interp_tensorflow.ipynb  \n",
            "  inflating: master/trado_samples-main/colab_files/exp_track_interp_torch.ipynb  \n",
            "  inflating: master/trado_samples-main/colab_files/gislr_access_dataset.ipynb  \n",
            "  inflating: master/trado_samples-main/colab_files/gislr_simple_islr_model.ipynb  \n",
            "   creating: master/trado_samples-main/src/\n",
            "   creating: master/trado_samples-main/src/modules_gislr/\n",
            " extracting: master/trado_samples-main/src/modules_gislr/__init__.py  \n",
            "  inflating: master/trado_samples-main/src/modules_gislr/dataset.py  \n",
            "  inflating: master/trado_samples-main/src/modules_gislr/defines.py  \n",
            "  inflating: master/trado_samples-main/src/modules_gislr/layers.py  \n",
            "  inflating: master/trado_samples-main/src/modules_gislr/transforms.py  \n",
            "   creating: master/trado_samples-main/test_data/\n",
            "  inflating: master/trado_samples-main/test_data/finger_far0.mp4  \n",
            "  inflating: master/trado_samples-main/test_data/finger_far0_non_static.npy  \n",
            "  inflating: master/trado_samples-main/test_data/finger_far0_non_static_affine.npy  \n",
            "  inflating: master/trado_samples-main/test_data/finger_far0_non_static_interp.npy  \n",
            "  inflating: master/trado_samples-main/test_data/finger_middle0.mp4  \n",
            "  inflating: master/trado_samples-main/test_data/finger_near0.mp4  \n",
            "  inflating: master/trado_samples-main/test_data/hand_only.mp4  \n"
          ]
        }
      ]
    },
    {
      "cell_type": "code",
      "source": [
        "!mv master/trado_samples-main/src/modules_gislr ."
      ],
      "metadata": {
        "id": "4qq4vgIaaVNY"
      },
      "execution_count": 10,
      "outputs": []
    },
    {
      "cell_type": "code",
      "source": [
        "!rm -rf master master.zip"
      ],
      "metadata": {
        "id": "oX2zLvICaZ44"
      },
      "execution_count": 11,
      "outputs": []
    },
    {
      "cell_type": "code",
      "source": [
        "!ls"
      ],
      "metadata": {
        "colab": {
          "base_uri": "https://localhost:8080/"
        },
        "id": "jYwKfuCab1OQ",
        "outputId": "b8edc1c1-af00-4fee-bb2e-8a0bff60d49d"
      },
      "execution_count": 12,
      "outputs": [
        {
          "output_type": "stream",
          "name": "stdout",
          "text": [
            "dataset_top10  gislr_top10.zip\tmodules_gislr  sample_data\n"
          ]
        }
      ]
    },
    {
      "cell_type": "markdown",
      "source": [
        "# 2. Load library"
      ],
      "metadata": {
        "id": "g54Rq2AUKs6w"
      }
    },
    {
      "cell_type": "code",
      "source": [
        "import json\n",
        "import math\n",
        "import sys\n",
        "import time\n",
        "from functools import partial\n",
        "from pathlib import Path\n",
        "from typing import (\n",
        "    Any,\n",
        "    Dict\n",
        ")\n",
        "\n",
        "# Third party's modules\n",
        "import numpy as np\n",
        "\n",
        "import torch\n",
        "from torch import nn\n",
        "from torch.nn import functional as F\n",
        "from torch.utils.data import (\n",
        "    DataLoader)\n",
        "\n",
        "from torchvision.transforms import Compose\n",
        "\n",
        "# Local modules\n",
        "sys.path.append(\"modules_gislr\")\n",
        "from modules_gislr.dataset import (\n",
        "    HDF5Dataset,\n",
        "    merge_padded_batch)\n",
        "from modules_gislr.transforms import (\n",
        "    ToTensor\n",
        ")"
      ],
      "metadata": {
        "id": "tRjIxCv0KxKf"
      },
      "execution_count": 13,
      "outputs": []
    },
    {
      "cell_type": "markdown",
      "source": [
        "# 3. Implement preprocess"
      ],
      "metadata": {
        "id": "3bV2HLPBM39u"
      }
    },
    {
      "cell_type": "code",
      "source": [
        "class ReplaceNan():\n",
        "    \"\"\" Replace NaN value in the feature.\n",
        "    \"\"\"\n",
        "    def __init__(self, replace_val=0.0) -> None:\n",
        "        self.replace_val = replace_val\n",
        "\n",
        "    def __call__(self,\n",
        "                 data: Dict[str, Any]) -> Dict[str, Any]:\n",
        "        feature = data[\"feature\"]\n",
        "        feature[np.isnan(feature)] = self.replace_val\n",
        "        data[\"feature\"] = feature\n",
        "        return data"
      ],
      "metadata": {
        "id": "vaZWRk6MM2Ef"
      },
      "execution_count": 14,
      "outputs": []
    },
    {
      "cell_type": "code",
      "source": [
        "# Access check.\n",
        "dataset_dir = Path(\"dataset_top10\")\n",
        "files = list(dataset_dir.iterdir())\n",
        "dictionary = [fin for fin in files if \".json\" in fin.name][0]\n",
        "hdf5_files = [fin for fin in files if \".hdf5\" in fin.name]\n",
        "\n",
        "print(dictionary)\n",
        "print(hdf5_files)"
      ],
      "metadata": {
        "colab": {
          "base_uri": "https://localhost:8080/"
        },
        "id": "srS0oWPDNU1X",
        "outputId": "14dcc9a6-4c06-4ae4-f955-40ac956d74a6"
      },
      "execution_count": 15,
      "outputs": [
        {
          "output_type": "stream",
          "name": "stdout",
          "text": [
            "dataset_top10/sign_to_prediction_index_map.json\n",
            "[PosixPath('dataset_top10/25571.hdf5'), PosixPath('dataset_top10/26734.hdf5'), PosixPath('dataset_top10/4718.hdf5'), PosixPath('dataset_top10/18796.hdf5'), PosixPath('dataset_top10/53618.hdf5'), PosixPath('dataset_top10/28656.hdf5'), PosixPath('dataset_top10/29302.hdf5'), PosixPath('dataset_top10/61333.hdf5'), PosixPath('dataset_top10/55372.hdf5'), PosixPath('dataset_top10/37055.hdf5'), PosixPath('dataset_top10/16069.hdf5'), PosixPath('dataset_top10/2044.hdf5'), PosixPath('dataset_top10/37779.hdf5'), PosixPath('dataset_top10/36257.hdf5'), PosixPath('dataset_top10/30680.hdf5'), PosixPath('dataset_top10/62590.hdf5'), PosixPath('dataset_top10/32319.hdf5'), PosixPath('dataset_top10/22343.hdf5'), PosixPath('dataset_top10/34503.hdf5'), PosixPath('dataset_top10/49445.hdf5'), PosixPath('dataset_top10/27610.hdf5')]\n"
          ]
        }
      ]
    },
    {
      "cell_type": "code",
      "source": [
        "# Load dictionary.\n",
        "with open(dictionary, \"r\") as fread:\n",
        "    key2token = json.load(fread)\n",
        "\n",
        "VOCAB = len(key2token)"
      ],
      "metadata": {
        "id": "4YwAZuPvgABp"
      },
      "execution_count": 16,
      "outputs": []
    },
    {
      "cell_type": "code",
      "source": [
        "dataset = HDF5Dataset(hdf5_files)\n",
        "\n",
        "batch_size = 2\n",
        "feature_shape = (3, -1, 543)\n",
        "token_shape = (1,)\n",
        "merge_fn = partial(merge_padded_batch,\n",
        "                   feature_shape=feature_shape,\n",
        "                   token_shape=token_shape,\n",
        "                   feature_padding_val=0.0,\n",
        "                   token_padding_val=0)\n",
        "\n",
        "dataloader = DataLoader(dataset, batch_size=batch_size, collate_fn=merge_fn)\n",
        "\n",
        "try:\n",
        "    data = next(iter(dataloader))\n",
        "    feature = data[\"feature\"]\n",
        "    token = data[\"token\"]\n",
        "    feature_pad_mask = data[\"feature_pad_mask\"]\n",
        "    token_pad_mask = data[\"token_pad_mask\"]\n",
        "\n",
        "    print(feature.shape)\n",
        "    print(token)\n",
        "    print(feature_pad_mask)\n",
        "    print(token_pad_mask)\n",
        "except Exception as inst:\n",
        "    print(inst)"
      ],
      "metadata": {
        "colab": {
          "base_uri": "https://localhost:8080/"
        },
        "id": "11xxGxEKNktn",
        "outputId": "1ba983fc-96f5-426c-f1cd-aa2f58ce45a9"
      },
      "execution_count": 17,
      "outputs": [
        {
          "output_type": "stream",
          "name": "stdout",
          "text": [
            "torch.Size([2, 3, 10, 543])\n",
            "tensor([[1],\n",
            "        [0]])\n",
            "tensor([[ True,  True,  True,  True,  True,  True,  True,  True,  True,  True],\n",
            "        [ True,  True,  True,  True,  True,  True, False, False, False, False]])\n",
            "tensor([[ True],\n",
            "        [False]])\n"
          ]
        }
      ]
    },
    {
      "cell_type": "code",
      "source": [
        "print(feature)\n",
        "print(torch.isnan(feature).any())"
      ],
      "metadata": {
        "colab": {
          "base_uri": "https://localhost:8080/"
        },
        "id": "3LAQ6mwdNtIg",
        "outputId": "6856543c-d63f-4466-a921-6943d96c6d0c"
      },
      "execution_count": 18,
      "outputs": [
        {
          "output_type": "stream",
          "name": "stdout",
          "text": [
            "tensor([[[[ 0.6020,  0.6008,  0.6004,  ...,  0.3008,  0.3186,  0.3224],\n",
            "          [ 0.5998,  0.5978,  0.5971,  ...,  0.2837,  0.3185,  0.3470],\n",
            "          [ 0.5967,  0.5938,  0.5937,  ...,  0.2871,  0.3153,  0.3338],\n",
            "          ...,\n",
            "          [ 0.5993,  0.5950,  0.5954,  ...,  0.2187,  0.2626,  0.2932],\n",
            "          [ 0.5990,  0.5902,  0.5912,  ...,  0.2307,  0.2748,  0.3057],\n",
            "          [ 0.5929,  0.5841,  0.5852,  ...,  0.2281,  0.2617,  0.2861]],\n",
            "\n",
            "         [[ 0.4126,  0.3731,  0.3865,  ...,  0.6289,  0.6606,  0.6815],\n",
            "          [ 0.4152,  0.3747,  0.3878,  ...,  0.5925,  0.6253,  0.6521],\n",
            "          [ 0.4185,  0.3801,  0.3923,  ...,  0.5981,  0.6307,  0.6593],\n",
            "          ...,\n",
            "          [ 0.4176,  0.3795,  0.3915,  ...,  0.6774,  0.7266,  0.7591],\n",
            "          [ 0.4180,  0.3824,  0.3940,  ...,  0.7010,  0.7437,  0.7703],\n",
            "          [ 0.4249,  0.3859,  0.3978,  ...,  0.7200,  0.7573,  0.7856]],\n",
            "\n",
            "         [[-0.0462, -0.0671, -0.0394,  ..., -0.1630, -0.1708, -0.1682],\n",
            "          [-0.0452, -0.0696, -0.0401,  ..., -0.1595, -0.1662, -0.1622],\n",
            "          [-0.0428, -0.0690, -0.0389,  ..., -0.1491, -0.1530, -0.1436],\n",
            "          ...,\n",
            "          [-0.0423, -0.0714, -0.0390,  ..., -0.3101, -0.3289, -0.3293],\n",
            "          [-0.0417, -0.0710, -0.0387,  ..., -0.3157, -0.3248, -0.3178],\n",
            "          [-0.0409, -0.0698, -0.0383,  ..., -0.1982, -0.2008, -0.1897]]],\n",
            "\n",
            "\n",
            "        [[[ 0.5159,  0.5117,  0.5125,  ...,     nan,     nan,     nan],\n",
            "          [ 0.5313,  0.5280,  0.5279,  ...,     nan,     nan,     nan],\n",
            "          [ 0.5447,  0.5422,  0.5417,  ...,     nan,     nan,     nan],\n",
            "          ...,\n",
            "          [ 0.0000,  0.0000,  0.0000,  ...,  0.0000,  0.0000,  0.0000],\n",
            "          [ 0.0000,  0.0000,  0.0000,  ...,  0.0000,  0.0000,  0.0000],\n",
            "          [ 0.0000,  0.0000,  0.0000,  ...,  0.0000,  0.0000,  0.0000]],\n",
            "\n",
            "         [[ 0.5265,  0.4911,  0.5016,  ...,     nan,     nan,     nan],\n",
            "          [ 0.5239,  0.4896,  0.4987,  ...,     nan,     nan,     nan],\n",
            "          [ 0.5249,  0.4870,  0.4967,  ...,     nan,     nan,     nan],\n",
            "          ...,\n",
            "          [ 0.0000,  0.0000,  0.0000,  ...,  0.0000,  0.0000,  0.0000],\n",
            "          [ 0.0000,  0.0000,  0.0000,  ...,  0.0000,  0.0000,  0.0000],\n",
            "          [ 0.0000,  0.0000,  0.0000,  ...,  0.0000,  0.0000,  0.0000]],\n",
            "\n",
            "         [[-0.0411, -0.0671, -0.0378,  ...,     nan,     nan,     nan],\n",
            "          [-0.0390, -0.0689, -0.0374,  ...,     nan,     nan,     nan],\n",
            "          [-0.0387, -0.0680, -0.0369,  ...,     nan,     nan,     nan],\n",
            "          ...,\n",
            "          [ 0.0000,  0.0000,  0.0000,  ...,  0.0000,  0.0000,  0.0000],\n",
            "          [ 0.0000,  0.0000,  0.0000,  ...,  0.0000,  0.0000,  0.0000],\n",
            "          [ 0.0000,  0.0000,  0.0000,  ...,  0.0000,  0.0000,  0.0000]]]])\n",
            "tensor(True)\n"
          ]
        }
      ]
    },
    {
      "cell_type": "code",
      "source": [
        "pre_transforms = Compose([ReplaceNan()])\n",
        "transforms = Compose([ToTensor()])\n",
        "\n",
        "dataset = HDF5Dataset(hdf5_files, pre_transforms=pre_transforms, transforms=transforms)\n",
        "\n",
        "dataloader = DataLoader(dataset, batch_size=batch_size, collate_fn=merge_fn)\n",
        "try:\n",
        "    data = next(iter(dataloader))\n",
        "    feature = data[\"feature\"]\n",
        "\n",
        "    print(feature)\n",
        "    print(torch.isnan(feature).any())\n",
        "except Exception as inst:\n",
        "    print(inst)"
      ],
      "metadata": {
        "colab": {
          "base_uri": "https://localhost:8080/"
        },
        "id": "sSEvt5MlNvhP",
        "outputId": "406521e9-80a4-4d00-ec23-68524f62a2b2"
      },
      "execution_count": 19,
      "outputs": [
        {
          "output_type": "stream",
          "name": "stdout",
          "text": [
            "tensor([[[[ 0.6020,  0.6008,  0.6004,  ...,  0.3008,  0.3186,  0.3224],\n",
            "          [ 0.5998,  0.5978,  0.5971,  ...,  0.2837,  0.3185,  0.3470],\n",
            "          [ 0.5967,  0.5938,  0.5937,  ...,  0.2871,  0.3153,  0.3338],\n",
            "          ...,\n",
            "          [ 0.5993,  0.5950,  0.5954,  ...,  0.2187,  0.2626,  0.2932],\n",
            "          [ 0.5990,  0.5902,  0.5912,  ...,  0.2307,  0.2748,  0.3057],\n",
            "          [ 0.5929,  0.5841,  0.5852,  ...,  0.2281,  0.2617,  0.2861]],\n",
            "\n",
            "         [[ 0.4126,  0.3731,  0.3865,  ...,  0.6289,  0.6606,  0.6815],\n",
            "          [ 0.4152,  0.3747,  0.3878,  ...,  0.5925,  0.6253,  0.6521],\n",
            "          [ 0.4185,  0.3801,  0.3923,  ...,  0.5981,  0.6307,  0.6593],\n",
            "          ...,\n",
            "          [ 0.4176,  0.3795,  0.3915,  ...,  0.6774,  0.7266,  0.7591],\n",
            "          [ 0.4180,  0.3824,  0.3940,  ...,  0.7010,  0.7437,  0.7703],\n",
            "          [ 0.4249,  0.3859,  0.3978,  ...,  0.7200,  0.7573,  0.7856]],\n",
            "\n",
            "         [[-0.0462, -0.0671, -0.0394,  ..., -0.1630, -0.1708, -0.1682],\n",
            "          [-0.0452, -0.0696, -0.0401,  ..., -0.1595, -0.1662, -0.1622],\n",
            "          [-0.0428, -0.0690, -0.0389,  ..., -0.1491, -0.1530, -0.1436],\n",
            "          ...,\n",
            "          [-0.0423, -0.0714, -0.0390,  ..., -0.3101, -0.3289, -0.3293],\n",
            "          [-0.0417, -0.0710, -0.0387,  ..., -0.3157, -0.3248, -0.3178],\n",
            "          [-0.0409, -0.0698, -0.0383,  ..., -0.1982, -0.2008, -0.1897]]],\n",
            "\n",
            "\n",
            "        [[[ 0.5159,  0.5117,  0.5125,  ...,  0.0000,  0.0000,  0.0000],\n",
            "          [ 0.5313,  0.5280,  0.5279,  ...,  0.0000,  0.0000,  0.0000],\n",
            "          [ 0.5447,  0.5422,  0.5417,  ...,  0.0000,  0.0000,  0.0000],\n",
            "          ...,\n",
            "          [ 0.0000,  0.0000,  0.0000,  ...,  0.0000,  0.0000,  0.0000],\n",
            "          [ 0.0000,  0.0000,  0.0000,  ...,  0.0000,  0.0000,  0.0000],\n",
            "          [ 0.0000,  0.0000,  0.0000,  ...,  0.0000,  0.0000,  0.0000]],\n",
            "\n",
            "         [[ 0.5265,  0.4911,  0.5016,  ...,  0.0000,  0.0000,  0.0000],\n",
            "          [ 0.5239,  0.4896,  0.4987,  ...,  0.0000,  0.0000,  0.0000],\n",
            "          [ 0.5249,  0.4870,  0.4967,  ...,  0.0000,  0.0000,  0.0000],\n",
            "          ...,\n",
            "          [ 0.0000,  0.0000,  0.0000,  ...,  0.0000,  0.0000,  0.0000],\n",
            "          [ 0.0000,  0.0000,  0.0000,  ...,  0.0000,  0.0000,  0.0000],\n",
            "          [ 0.0000,  0.0000,  0.0000,  ...,  0.0000,  0.0000,  0.0000]],\n",
            "\n",
            "         [[-0.0411, -0.0671, -0.0378,  ...,  0.0000,  0.0000,  0.0000],\n",
            "          [-0.0390, -0.0689, -0.0374,  ...,  0.0000,  0.0000,  0.0000],\n",
            "          [-0.0387, -0.0680, -0.0369,  ...,  0.0000,  0.0000,  0.0000],\n",
            "          ...,\n",
            "          [ 0.0000,  0.0000,  0.0000,  ...,  0.0000,  0.0000,  0.0000],\n",
            "          [ 0.0000,  0.0000,  0.0000,  ...,  0.0000,  0.0000,  0.0000],\n",
            "          [ 0.0000,  0.0000,  0.0000,  ...,  0.0000,  0.0000,  0.0000]]]])\n",
            "tensor(False)\n"
          ]
        }
      ]
    },
    {
      "cell_type": "markdown",
      "source": [
        "# 4. Implement ISLR model"
      ],
      "metadata": {
        "id": "DyKkUBEWOaMI"
      }
    },
    {
      "cell_type": "code",
      "source": [
        "class GPoolRecognitionHead(nn.Module):\n",
        "    def __init__(self,\n",
        "                 in_channels,\n",
        "                 out_channels):\n",
        "        super().__init__()\n",
        "        self.in_channels = in_channels\n",
        "        self.out_channels = out_channels\n",
        "\n",
        "        self.head = nn.Linear(in_channels, out_channels)\n",
        "        self._init_weight()\n",
        "\n",
        "    def _init_weight(self):\n",
        "        nn.init.normal_(self.head.weight,\n",
        "                        mean=0.,\n",
        "                        std=math.sqrt(1. / self.out_channels))\n",
        "\n",
        "    def forward(self, feature):\n",
        "        # Averaging over temporal axis.\n",
        "        # `[N, C, T] -> [N, C, 1] -> [N, C]`\n",
        "        feature = feature = F.avg_pool1d(feature, kernel_size=feature.shape[-1])\n",
        "        feature = feature.reshape(feature.shape[0], -1)\n",
        "\n",
        "        # Predict.\n",
        "        feature = self.head(feature)\n",
        "        return feature"
      ],
      "metadata": {
        "id": "WHK70-GIOmgI"
      },
      "execution_count": 20,
      "outputs": []
    },
    {
      "cell_type": "code",
      "source": [
        "class SimpleISLR(nn.Module):\n",
        "    def __init__(self, in_channels, out_channels):\n",
        "        super().__init__()\n",
        "\n",
        "        self.linear = nn.Linear(in_channels, 64)\n",
        "        self.activation = nn.ReLU()\n",
        "        self.head = GPoolRecognitionHead(64, out_channels)\n",
        "\n",
        "    def forward(self, feature):\n",
        "        # Feature extraction.\n",
        "        # `[N, C, T, J] -> [N, T, C, J] -> [N, T, C*J] -> [N, T, C']`\n",
        "        N, C, T, J = feature.shape\n",
        "        feature = feature.permute([0, 2, 1, 3])\n",
        "        feature = feature.reshape(N, T, -1)\n",
        "\n",
        "        feature = self.linear(feature)\n",
        "        feature = self.activation(feature)\n",
        "\n",
        "        # `[N, T, C'] -> [N, C', T]`\n",
        "        feature = feature.permute(0, 2, 1)\n",
        "        logit = self.head(feature)\n",
        "        return logit"
      ],
      "metadata": {
        "id": "Exb_4syWTLQh"
      },
      "execution_count": 21,
      "outputs": []
    },
    {
      "cell_type": "code",
      "source": [
        "# Define model.\n",
        "# in_channels: J * C (543*3=1629)\n",
        "#   J: use_landmarks (543)\n",
        "#   C: use_channels (3)\n",
        "# out_channels: vocaburary\n",
        "feature_shape = (3, -1, 543)\n",
        "in_channels = feature_shape[0] * feature_shape[2]\n",
        "out_channels = VOCAB\n",
        "\n",
        "model = SimpleISLR(in_channels, out_channels)\n",
        "print(model)\n",
        "\n",
        "# Sanity check.\n",
        "logit = model(feature)\n",
        "print(logit.shape)"
      ],
      "metadata": {
        "colab": {
          "base_uri": "https://localhost:8080/"
        },
        "id": "zUdZEKnBTQlR",
        "outputId": "901b5dac-0cd1-499b-dfdd-514d5230a00a"
      },
      "execution_count": 22,
      "outputs": [
        {
          "output_type": "stream",
          "name": "stdout",
          "text": [
            "SimpleISLR(\n",
            "  (linear): Linear(in_features=1629, out_features=64, bias=True)\n",
            "  (activation): ReLU()\n",
            "  (head): GPoolRecognitionHead(\n",
            "    (head): Linear(in_features=64, out_features=10, bias=True)\n",
            "  )\n",
            ")\n",
            "torch.Size([2, 10])\n"
          ]
        }
      ]
    },
    {
      "cell_type": "markdown",
      "source": [
        "# 5. Implement training loop"
      ],
      "metadata": {
        "id": "142dfXYxU23x"
      }
    },
    {
      "cell_type": "code",
      "source": [
        "def train_loop(dataloader, model, loss_fn, optimizer, device):\n",
        "    size = len(dataloader.dataset)\n",
        "\n",
        "    # Switch to training mode.\n",
        "    model.train()\n",
        "    # Main loop.\n",
        "    print(\"Start training.\")\n",
        "    start = time.perf_counter()\n",
        "    for batch_idx, batch_sample in enumerate(dataloader):\n",
        "        feature = batch_sample[\"feature\"]\n",
        "        token = batch_sample[\"token\"]\n",
        "        feature = feature.to(device)\n",
        "        token = token.to(device)\n",
        "\n",
        "        # Predict and compute loss.\n",
        "        pred = model(feature)\n",
        "        loss = loss_fn(pred, token.squeeze(-1))\n",
        "\n",
        "        # Back propagation.\n",
        "        optimizer.zero_grad()\n",
        "        loss.backward()\n",
        "        optimizer.step()\n",
        "\n",
        "        # Print current loss per 100 steps.\n",
        "        if batch_idx % 100 == 0:\n",
        "            loss = loss.item()\n",
        "            steps = batch_idx * len(feature)\n",
        "            print(f\"loss:{loss:>7f} [{steps:>5d}/{size:>5d}]\")\n",
        "    print(f\"Done. Time:{time.perf_counter()-start}\")\n",
        "\n",
        "\n",
        "def val_loop(dataloader, model, loss_fn, device):\n",
        "    num_batches = len(dataloader)\n",
        "    val_loss = 0\n",
        "\n",
        "    # Switch to evaluation mode.\n",
        "    model.eval()\n",
        "    # Main loop.\n",
        "    print(\"Start validation.\")\n",
        "    start = time.perf_counter()\n",
        "    with torch.no_grad():\n",
        "        for batch_sample in dataloader:\n",
        "            feature = batch_sample[\"feature\"]\n",
        "            token = batch_sample[\"token\"]\n",
        "            feature = feature.to(device)\n",
        "            token = token.to(device)\n",
        "\n",
        "            pred = model(feature)\n",
        "            val_loss += loss_fn(pred, token.squeeze(-1)).item()\n",
        "    print(f\"Done. Time:{time.perf_counter()-start}\")\n",
        "\n",
        "    # Average loss.\n",
        "    val_loss /= num_batches\n",
        "    print(\"Validation performance: \\n\",\n",
        "          f\"Avg loss:{val_loss:>8f}\\n\")\n",
        "    return val_loss\n",
        "\n",
        "\n",
        "def test_loop(dataloader, model, device):\n",
        "    size = len(dataloader.dataset)\n",
        "    correct = 0\n",
        "\n",
        "    # Switch to evaluation mode.\n",
        "    model.eval()\n",
        "    # Main loop.\n",
        "    print(\"Start evaluation.\")\n",
        "    start = time.perf_counter()\n",
        "    with torch.no_grad():\n",
        "        for batch_sample in dataloader:\n",
        "            feature = batch_sample[\"feature\"]\n",
        "            token = batch_sample[\"token\"]\n",
        "            feature = feature.to(device)\n",
        "            token = token.to(device)\n",
        "\n",
        "            pred = model(feature)\n",
        "            pred_ids = pred.argmax(dim=1).unsqueeze(-1)\n",
        "            count = (pred_ids == token).sum().detach().cpu().numpy()\n",
        "            correct += int(count)\n",
        "    print(f\"Done. Time:{time.perf_counter()-start}\")\n",
        "\n",
        "    acc = correct / size * 100\n",
        "    print(\"Test performance: \\n\",\n",
        "          f\"Accuracy:{acc:>0.1f}%\")\n",
        "    return acc"
      ],
      "metadata": {
        "id": "1-xHI8pJU6hX"
      },
      "execution_count": 23,
      "outputs": []
    },
    {
      "cell_type": "markdown",
      "source": [
        "# 6. Train and evaluation"
      ],
      "metadata": {
        "id": "PoXUv61zVHEn"
      }
    },
    {
      "cell_type": "code",
      "source": [
        "# Build dataloaders.\n",
        "batch_size = 32\n",
        "load_into_ram = True\n",
        "test_pid = 16069\n",
        "num_workers = 1\n",
        "\n",
        "train_hdf5files = [fin for fin in hdf5_files if str(test_pid) not in fin.name]\n",
        "val_hdf5files = [fin for fin in hdf5_files if str(test_pid) in fin.name]\n",
        "test_hdf5files = [fin for fin in hdf5_files if str(test_pid) in fin.name]\n",
        "\n",
        "train_dataset = HDF5Dataset(train_hdf5files, pre_transforms=pre_transforms,\n",
        "    transforms=transforms, load_into_ram=load_into_ram)\n",
        "val_dataset = HDF5Dataset(val_hdf5files, pre_transforms=pre_transforms,\n",
        "    transforms=transforms, load_into_ram=load_into_ram)\n",
        "test_dataset = HDF5Dataset(test_hdf5files, pre_transforms=pre_transforms,\n",
        "    transforms=transforms, load_into_ram=load_into_ram)\n",
        "\n",
        "train_dataloader = DataLoader(train_dataset, batch_size=batch_size, collate_fn=merge_fn, num_workers=num_workers)\n",
        "val_dataloader = DataLoader(val_dataset, batch_size=batch_size, collate_fn=merge_fn, num_workers=num_workers)\n",
        "test_dataloader = DataLoader(test_dataset, batch_size=1, collate_fn=merge_fn, num_workers=num_workers)"
      ],
      "metadata": {
        "id": "A1ys2cVTVLoo"
      },
      "execution_count": 24,
      "outputs": []
    },
    {
      "cell_type": "code",
      "source": [
        "loss_fn = nn.CrossEntropyLoss(reduction=\"mean\")\n",
        "optimizer = torch.optim.Adam(model.parameters(), lr=1e-3)"
      ],
      "metadata": {
        "id": "uyW7zbfRVahA"
      },
      "execution_count": 25,
      "outputs": []
    },
    {
      "cell_type": "code",
      "source": [
        "# Train, validation, and evaluation.\n",
        "epochs = 10\n",
        "eval_every_n_epochs = 1\n",
        "device = \"cuda\" if torch.cuda.is_available() else \"cpu\"\n",
        "print(f\"Using {device} for computation.\")\n",
        "model.to(device)\n",
        "\n",
        "val_losses = []\n",
        "test_accs = []\n",
        "print(\"Start training.\")\n",
        "for epoch in range(epochs):\n",
        "    print(\"-\" * 80)\n",
        "    print(f\"Epoch {epoch+1}\")\n",
        "\n",
        "    train_loop(train_dataloader, model, loss_fn, optimizer, device)\n",
        "    val_loss = val_loop(val_dataloader, model, loss_fn, device)\n",
        "    val_losses.append(val_loss)\n",
        "\n",
        "    if (epoch+1) % eval_every_n_epochs == 0:\n",
        "        acc = test_loop(test_dataloader, model, device)\n",
        "        test_accs.append(acc)\n",
        "val_losses = np.array(val_losses)\n",
        "test_accs = np.array(test_accs)\n",
        "print(f\"Minimum validation loss:{val_losses.min()} at {np.argmin(val_losses)+1} epoch.\")\n",
        "print(f\"Maximum accuracy:{test_accs.max()} at {np.argmax(test_accs)*eval_every_n_epochs+1} epoch.\")"
      ],
      "metadata": {
        "colab": {
          "base_uri": "https://localhost:8080/"
        },
        "id": "8ol38Vb_VXwX",
        "outputId": "205eec49-e4fb-42e7-e5f9-326cb3839d87"
      },
      "execution_count": 26,
      "outputs": [
        {
          "output_type": "stream",
          "name": "stdout",
          "text": [
            "Using cpu for computation.\n",
            "Start training.\n",
            "--------------------------------------------------------------------------------\n",
            "Epoch 1\n",
            "Start training.\n",
            "loss:2.374237 [    0/ 3881]\n",
            "loss:2.310635 [ 3200/ 3881]\n",
            "Done. Time:15.682512226000028\n",
            "Start validation.\n",
            "Done. Time:1.03349592699999\n",
            "Validation performance: \n",
            " Avg loss:2.299444\n",
            "\n",
            "Start evaluation.\n",
            "Done. Time:0.8781382120000103\n",
            "Test performance: \n",
            " Accuracy:15.0%\n",
            "--------------------------------------------------------------------------------\n",
            "Epoch 2\n",
            "Start training.\n",
            "loss:2.286641 [    0/ 3881]\n",
            "loss:2.272179 [ 3200/ 3881]\n",
            "Done. Time:15.265459824999994\n",
            "Start validation.\n",
            "Done. Time:1.0450313769999866\n",
            "Validation performance: \n",
            " Avg loss:2.299181\n",
            "\n",
            "Start evaluation.\n",
            "Done. Time:0.8987629260000176\n",
            "Test performance: \n",
            " Accuracy:13.0%\n",
            "--------------------------------------------------------------------------------\n",
            "Epoch 3\n",
            "Start training.\n",
            "loss:2.286115 [    0/ 3881]\n",
            "loss:2.264795 [ 3200/ 3881]\n",
            "Done. Time:15.504859171000021\n",
            "Start validation.\n",
            "Done. Time:1.8451182499999845\n",
            "Validation performance: \n",
            " Avg loss:2.293417\n",
            "\n",
            "Start evaluation.\n",
            "Done. Time:1.217325326999969\n",
            "Test performance: \n",
            " Accuracy:15.0%\n",
            "--------------------------------------------------------------------------------\n",
            "Epoch 4\n",
            "Start training.\n",
            "loss:2.259541 [    0/ 3881]\n",
            "loss:2.253984 [ 3200/ 3881]\n",
            "Done. Time:15.129337601999964\n",
            "Start validation.\n",
            "Done. Time:1.0751684249999585\n",
            "Validation performance: \n",
            " Avg loss:2.290659\n",
            "\n",
            "Start evaluation.\n",
            "Done. Time:0.8827444579999906\n",
            "Test performance: \n",
            " Accuracy:13.0%\n",
            "--------------------------------------------------------------------------------\n",
            "Epoch 5\n",
            "Start training.\n",
            "loss:2.227557 [    0/ 3881]\n",
            "loss:2.246509 [ 3200/ 3881]\n",
            "Done. Time:16.272602056999972\n",
            "Start validation.\n",
            "Done. Time:1.03117152599998\n",
            "Validation performance: \n",
            " Avg loss:2.287755\n",
            "\n",
            "Start evaluation.\n",
            "Done. Time:0.8968342680000205\n",
            "Test performance: \n",
            " Accuracy:12.5%\n",
            "--------------------------------------------------------------------------------\n",
            "Epoch 6\n",
            "Start training.\n",
            "loss:2.195320 [    0/ 3881]\n",
            "loss:2.241645 [ 3200/ 3881]\n",
            "Done. Time:15.46759891299996\n",
            "Start validation.\n",
            "Done. Time:1.0483790590000126\n",
            "Validation performance: \n",
            " Avg loss:2.282916\n",
            "\n",
            "Start evaluation.\n",
            "Done. Time:1.2207170990000122\n",
            "Test performance: \n",
            " Accuracy:10.5%\n",
            "--------------------------------------------------------------------------------\n",
            "Epoch 7\n",
            "Start training.\n",
            "loss:2.163296 [    0/ 3881]\n",
            "loss:2.243549 [ 3200/ 3881]\n",
            "Done. Time:18.490041568000038\n",
            "Start validation.\n",
            "Done. Time:1.1177916249999953\n",
            "Validation performance: \n",
            " Avg loss:2.275561\n",
            "\n",
            "Start evaluation.\n",
            "Done. Time:0.9272374110000783\n",
            "Test performance: \n",
            " Accuracy:11.5%\n",
            "--------------------------------------------------------------------------------\n",
            "Epoch 8\n",
            "Start training.\n",
            "loss:2.132258 [    0/ 3881]\n",
            "loss:2.254439 [ 3200/ 3881]\n",
            "Done. Time:15.601830529999916\n",
            "Start validation.\n",
            "Done. Time:1.0306579340000326\n",
            "Validation performance: \n",
            " Avg loss:2.267315\n",
            "\n",
            "Start evaluation.\n",
            "Done. Time:0.9307326910000029\n",
            "Test performance: \n",
            " Accuracy:11.0%\n",
            "--------------------------------------------------------------------------------\n",
            "Epoch 9\n",
            "Start training.\n",
            "loss:2.103733 [    0/ 3881]\n",
            "loss:2.266922 [ 3200/ 3881]\n",
            "Done. Time:15.470110188000035\n",
            "Start validation.\n",
            "Done. Time:1.0421801649999907\n",
            "Validation performance: \n",
            " Avg loss:2.256852\n",
            "\n",
            "Start evaluation.\n",
            "Done. Time:1.0354478990000189\n",
            "Test performance: \n",
            " Accuracy:11.0%\n",
            "--------------------------------------------------------------------------------\n",
            "Epoch 10\n",
            "Start training.\n",
            "loss:2.078655 [    0/ 3881]\n",
            "loss:2.278803 [ 3200/ 3881]\n",
            "Done. Time:22.57564999600004\n",
            "Start validation.\n",
            "Done. Time:1.1715261269999928\n",
            "Validation performance: \n",
            " Avg loss:2.245935\n",
            "\n",
            "Start evaluation.\n",
            "Done. Time:0.9451968230000602\n",
            "Test performance: \n",
            " Accuracy:15.0%\n",
            "Minimum validation loss:2.245934554508754 at 10 epoch.\n",
            "Maximum accuracy:15.0 at 1 epoch.\n"
          ]
        }
      ]
    }
  ]
}