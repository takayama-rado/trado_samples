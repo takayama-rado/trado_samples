{
  "nbformat": 4,
  "nbformat_minor": 0,
  "metadata": {
    "colab": {
      "provenance": [],
      "authorship_tag": "ABX9TyMa9Wxbl71WAtr5HCjRutSk",
      "include_colab_link": true
    },
    "kernelspec": {
      "name": "python3",
      "display_name": "Python 3"
    },
    "language_info": {
      "name": "python"
    }
  },
  "cells": [
    {
      "cell_type": "markdown",
      "metadata": {
        "id": "view-in-github",
        "colab_type": "text"
      },
      "source": [
        "<a href=\"https://colab.research.google.com/github/takayama-rado/trado_samples/blob/main/colab_files/exp_track_interp_numpy_1.ipynb\" target=\"_parent\"><img src=\"https://colab.research.google.com/assets/colab-badge.svg\" alt=\"Open In Colab\"/></a>"
      ]
    },
    {
      "cell_type": "markdown",
      "source": [
        "# 1. Load library"
      ],
      "metadata": {
        "id": "BHnUIhUXP43f"
      }
    },
    {
      "cell_type": "code",
      "execution_count": 1,
      "metadata": {
        "id": "Rw6H6i-VPyUq"
      },
      "outputs": [],
      "source": [
        "# Standard modules.\n",
        "import gc\n",
        "import sys\n",
        "import time\n",
        "from functools import partial\n",
        "\n",
        "# CV/ML.\n",
        "import numpy as np"
      ]
    },
    {
      "cell_type": "code",
      "source": [
        "print(f\"Python:{sys.version}\")\n",
        "print(f\"Numpy:{np.__version__}\")"
      ],
      "metadata": {
        "colab": {
          "base_uri": "https://localhost:8080/"
        },
        "id": "25w2GCugiLjn",
        "outputId": "905aeb69-20b8-45f5-d478-6944835dc205"
      },
      "execution_count": 2,
      "outputs": [
        {
          "output_type": "stream",
          "name": "stdout",
          "text": [
            "Python:3.10.12 (main, Jun 11 2023, 05:26:28) [GCC 11.4.0]\n",
            "Numpy:1.23.5\n"
          ]
        }
      ]
    },
    {
      "cell_type": "markdown",
      "source": [
        "# 2. Load data"
      ],
      "metadata": {
        "id": "Z3WhLIJgQA92"
      }
    },
    {
      "cell_type": "code",
      "source": [
        "!wget https://github.com/takayama-rado/trado_samples/raw/main/test_data/finger_far0_non_static.npy"
      ],
      "metadata": {
        "colab": {
          "base_uri": "https://localhost:8080/"
        },
        "id": "ZhR2RZ2iQIU3",
        "outputId": "e83c8bd1-19c9-45b5-b5e7-a4803f7f31c0"
      },
      "execution_count": 3,
      "outputs": [
        {
          "output_type": "stream",
          "name": "stdout",
          "text": [
            "--2023-10-30 02:58:43--  https://github.com/takayama-rado/trado_samples/raw/main/test_data/finger_far0_non_static.npy\n",
            "Resolving github.com (github.com)... 20.27.177.113\n",
            "Connecting to github.com (github.com)|20.27.177.113|:443... connected.\n",
            "HTTP request sent, awaiting response... 302 Found\n",
            "Location: https://raw.githubusercontent.com/takayama-rado/trado_samples/main/test_data/finger_far0_non_static.npy [following]\n",
            "--2023-10-30 02:58:44--  https://raw.githubusercontent.com/takayama-rado/trado_samples/main/test_data/finger_far0_non_static.npy\n",
            "Resolving raw.githubusercontent.com (raw.githubusercontent.com)... 185.199.108.133, 185.199.109.133, 185.199.110.133, ...\n",
            "Connecting to raw.githubusercontent.com (raw.githubusercontent.com)|185.199.108.133|:443... connected.\n",
            "HTTP request sent, awaiting response... 200 OK\n",
            "Length: 2300608 (2.2M) [application/octet-stream]\n",
            "Saving to: ‘finger_far0_non_static.npy’\n",
            "\n",
            "finger_far0_non_sta 100%[===================>]   2.19M  10.3MB/s    in 0.2s    \n",
            "\n",
            "2023-10-30 02:58:45 (10.3 MB/s) - ‘finger_far0_non_static.npy’ saved [2300608/2300608]\n",
            "\n"
          ]
        }
      ]
    },
    {
      "cell_type": "code",
      "source": [
        "!wget https://github.com/takayama-rado/trado_samples/raw/main/test_data/finger_far0_non_static_interp.npy"
      ],
      "metadata": {
        "colab": {
          "base_uri": "https://localhost:8080/"
        },
        "id": "ACeNf3LdQJ1A",
        "outputId": "4faaf5cc-bd8c-4f8e-c8f1-6a0c3d6568dc"
      },
      "execution_count": 4,
      "outputs": [
        {
          "output_type": "stream",
          "name": "stdout",
          "text": [
            "--2023-10-30 02:58:45--  https://github.com/takayama-rado/trado_samples/raw/main/test_data/finger_far0_non_static_interp.npy\n",
            "Resolving github.com (github.com)... 20.27.177.113\n",
            "Connecting to github.com (github.com)|20.27.177.113|:443... connected.\n",
            "HTTP request sent, awaiting response... 302 Found\n",
            "Location: https://raw.githubusercontent.com/takayama-rado/trado_samples/main/test_data/finger_far0_non_static_interp.npy [following]\n",
            "--2023-10-30 02:58:45--  https://raw.githubusercontent.com/takayama-rado/trado_samples/main/test_data/finger_far0_non_static_interp.npy\n",
            "Resolving raw.githubusercontent.com (raw.githubusercontent.com)... 185.199.108.133, 185.199.109.133, 185.199.110.133, ...\n",
            "Connecting to raw.githubusercontent.com (raw.githubusercontent.com)|185.199.108.133|:443... connected.\n",
            "HTTP request sent, awaiting response... 200 OK\n",
            "Length: 2300608 (2.2M) [application/octet-stream]\n",
            "Saving to: ‘finger_far0_non_static_interp.npy’\n",
            "\n",
            "finger_far0_non_sta 100%[===================>]   2.19M  9.57MB/s    in 0.2s    \n",
            "\n",
            "2023-10-30 02:58:47 (9.57 MB/s) - ‘finger_far0_non_static_interp.npy’ saved [2300608/2300608]\n",
            "\n"
          ]
        }
      ]
    },
    {
      "cell_type": "code",
      "source": [
        "!ls"
      ],
      "metadata": {
        "colab": {
          "base_uri": "https://localhost:8080/"
        },
        "id": "pP1ua9QzQMA_",
        "outputId": "1d68f83a-7876-4f07-fe60-bcbe097b0296"
      },
      "execution_count": 5,
      "outputs": [
        {
          "output_type": "stream",
          "name": "stdout",
          "text": [
            "finger_far0_non_static_interp.npy  finger_far0_non_static.npy  sample_data\n"
          ]
        }
      ]
    },
    {
      "cell_type": "code",
      "source": [
        "# Load data.\n",
        "trackdata = np.load(\"finger_far0_non_static.npy\")\n",
        "reftrack = np.load(\"finger_far0_non_static_interp.npy\")\n",
        "\n",
        "# Remove person axis.\n",
        "trackdata = trackdata[0]\n",
        "reftrack = reftrack[0]"
      ],
      "metadata": {
        "id": "POaca2sOWmXf"
      },
      "execution_count": 6,
      "outputs": []
    },
    {
      "cell_type": "markdown",
      "source": [
        "# 3. Evaluation settings"
      ],
      "metadata": {
        "id": "_PI9P6nkiWOX"
      }
    },
    {
      "cell_type": "code",
      "source": [
        "def get_perf_str(val):\n",
        "    token_si = [\"\", \"m\", \"µ\", \"n\", \"p\"]\n",
        "    exp_si = [1, 1e3, 1e6, 1e9, 1e12]\n",
        "    perf_str = f\"{val:3g}s\"\n",
        "    si = \"\"\n",
        "    sval = val\n",
        "    for token, exp in zip(token_si, exp_si):\n",
        "        if val * exp > 1.0:\n",
        "            si = token\n",
        "            sval = val * exp\n",
        "            break\n",
        "    perf_str = f\"{sval:3g}{si}s\"\n",
        "    return perf_str"
      ],
      "metadata": {
        "id": "5kIjVjAPWTXA"
      },
      "execution_count": 7,
      "outputs": []
    },
    {
      "cell_type": "code",
      "source": [
        "def print_perf_time(intervals, top_k=None):\n",
        "    if top_k is not None:\n",
        "        intervals = np.sort(intervals)[:top_k]\n",
        "    min = intervals.min()\n",
        "    max = intervals.max()\n",
        "    mean = intervals.mean()\n",
        "    std = intervals.std()\n",
        "\n",
        "    smin = get_perf_str(min)\n",
        "    smax = get_perf_str(max)\n",
        "    mean = get_perf_str(mean)\n",
        "    std = get_perf_str(std)\n",
        "    if top_k:\n",
        "        print(f\"Top {top_k} summary: Max {smax}, Min {smin}, Mean +/- Std {mean} +/- {std}\")\n",
        "    else:\n",
        "        print(f\"Overall summary: Max {smax}, Min {smin}, Mean +/- Std {mean} +/- {std}\")"
      ],
      "metadata": {
        "id": "v4_trxvcWVLw"
      },
      "execution_count": 8,
      "outputs": []
    },
    {
      "cell_type": "code",
      "source": [
        "class PerfMeasure():\n",
        "    def __init__(self,\n",
        "                 trials=100,\n",
        "                 top_k=10):\n",
        "        self.trials = trials\n",
        "        self.top_k = top_k\n",
        "\n",
        "    def __call__(self, func):\n",
        "        gc.collect()\n",
        "        gc.disable()\n",
        "        intervals = []\n",
        "        for _ in range(self.trials):\n",
        "            start = time.perf_counter()\n",
        "            func()\n",
        "            end = time.perf_counter()\n",
        "            intervals.append(end - start)\n",
        "        intervals = np.array(intervals)\n",
        "        print_perf_time(intervals)\n",
        "        if self.top_k:\n",
        "            print_perf_time(intervals, self.top_k)\n",
        "        gc.enable()\n",
        "        gc.collect()"
      ],
      "metadata": {
        "id": "zHBgjDMEiYfX"
      },
      "execution_count": 9,
      "outputs": []
    },
    {
      "cell_type": "code",
      "source": [
        "TRIALS = 100\n",
        "TOPK = 10\n",
        "pmeasure = PerfMeasure(TRIALS, TOPK)"
      ],
      "metadata": {
        "id": "c-CdWuiGibG3"
      },
      "execution_count": 10,
      "outputs": []
    },
    {
      "cell_type": "markdown",
      "source": [
        "# 4. Implement interpolation based on matrix operations"
      ],
      "metadata": {
        "id": "Gk2J-jwUQRvg"
      }
    },
    {
      "cell_type": "code",
      "source": [
        "def matrix_interp(track):\n",
        "    orig_shape = track.shape\n",
        "    tlength = orig_shape[0]\n",
        "    mask = track[:, 0, -1] != 0\n",
        "    valid = mask.sum()\n",
        "    if valid == tlength:\n",
        "        return track\n",
        "\n",
        "    xs = np.where(mask != 0)[0]\n",
        "    ys = track.reshape([tlength, -1])[xs, :]\n",
        "    x = np.arange(tlength)\n",
        "\n",
        "    # ========================================================================\n",
        "    # Interpolation.\n",
        "    # ========================================================================\n",
        "    xs = xs.astype(ys.dtype)\n",
        "    x = x.astype(ys.dtype)\n",
        "    # Pad control points for extrapolation.\n",
        "    xs = np.concatenate([[np.finfo(xs.dtype).min], xs, [np.finfo(xs.dtype).max]], axis=0)\n",
        "    ys = np.concatenate([ys[:1], ys, ys[-1:]], axis=0)\n",
        "\n",
        "    # Compute slopes, pad at the edges to flatten.\n",
        "    sloops = (ys[1:] - ys[:-1]) / np.expand_dims((xs[1:] - xs[:-1]), axis=-1)\n",
        "    sloops = np.pad(sloops[:-1], [(1, 1), (0, 0)])\n",
        "\n",
        "    # Solve for intercepts.\n",
        "    intercepts = ys - sloops * np.expand_dims(xs, axis=-1)\n",
        "\n",
        "    # Search for the line parameters at each input data point.\n",
        "    # Create a grid of the inputs and piece breakpoints for thresholding.\n",
        "    # Rely on argmax stopping on the first true when there are duplicates,\n",
        "    # which gives us an index into the parameter vectors.\n",
        "    idx = np.argmax(np.expand_dims(xs, axis=-2) > np.expand_dims(x, axis=-1), axis=-1)\n",
        "    sloop = sloops[idx]\n",
        "    intercept = intercepts[idx]\n",
        "\n",
        "    # Apply the linear mapping at each input data point.\n",
        "    y = sloop * np.expand_dims(x, axis=-1) + intercept\n",
        "    y = y.astype(ys.dtype)\n",
        "    y = y.reshape(orig_shape)\n",
        "    return y\n",
        "\n",
        "\n",
        "def partsbased_interp(trackdata):\n",
        "    pose = trackdata[:, :33]\n",
        "    lhand = trackdata[:, 33:33+21]\n",
        "    rhand = trackdata[:, 33+21:33+21+21]\n",
        "    face = trackdata[:, 33+21+21:]\n",
        "\n",
        "    pose = matrix_interp(pose)\n",
        "    lhand = matrix_interp(lhand)\n",
        "    rhand = matrix_interp(rhand)\n",
        "    face = matrix_interp(face)\n",
        "    return np.concatenate([pose, lhand, rhand, face], axis=1)"
      ],
      "metadata": {
        "id": "TeDWlC-5QRI3"
      },
      "execution_count": 11,
      "outputs": []
    },
    {
      "cell_type": "code",
      "source": [
        "newtrack = partsbased_interp(trackdata)\n",
        "diff = (reftrack - newtrack).sum()\n",
        "print(f\"Sum of error:{diff}\")"
      ],
      "metadata": {
        "colab": {
          "base_uri": "https://localhost:8080/"
        },
        "id": "2WJ6ZNpNif1_",
        "outputId": "50657e75-81e2-4139-963d-f91013de6be4"
      },
      "execution_count": 12,
      "outputs": [
        {
          "output_type": "stream",
          "name": "stdout",
          "text": [
            "Sum of error:-6.935119145623503e-12\n"
          ]
        }
      ]
    },
    {
      "cell_type": "code",
      "source": [
        "target_fn = partial(partsbased_interp, trackdata=trackdata)\n",
        "pmeasure(target_fn)"
      ],
      "metadata": {
        "colab": {
          "base_uri": "https://localhost:8080/"
        },
        "id": "fOjI9hhmikjh",
        "outputId": "26a58a33-ff9f-4b4e-ed4a-b1bf3c1d9af5"
      },
      "execution_count": 13,
      "outputs": [
        {
          "output_type": "stream",
          "name": "stdout",
          "text": [
            "Overall summary: Max 2.83882ms, Min 625.075µs, Mean +/- Std 856.256µs +/- 386.886µs\n",
            "Top 10 summary: Max 636.292µs, Min 625.075µs, Mean +/- Std 632.565µs +/- 3.05882µs\n"
          ]
        }
      ]
    }
  ]
}