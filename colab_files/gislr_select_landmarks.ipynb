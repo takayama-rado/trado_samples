{
  "nbformat": 4,
  "nbformat_minor": 0,
  "metadata": {
    "colab": {
      "provenance": [],
      "authorship_tag": "ABX9TyMR++y6CdCIuTi3IIAA3z7a",
      "include_colab_link": true
    },
    "kernelspec": {
      "name": "python3",
      "display_name": "Python 3"
    },
    "language_info": {
      "name": "python"
    }
  },
  "cells": [
    {
      "cell_type": "markdown",
      "metadata": {
        "id": "view-in-github",
        "colab_type": "text"
      },
      "source": [
        "<a href=\"https://colab.research.google.com/github/takayama-rado/trado_samples/blob/main/colab_files/gislr_select_landmarks.ipynb\" target=\"_parent\"><img src=\"https://colab.research.google.com/assets/colab-badge.svg\" alt=\"Open In Colab\"/></a>"
      ]
    },
    {
      "cell_type": "markdown",
      "source": [
        "# 1. Download dataset and modules"
      ],
      "metadata": {
        "id": "XkScZO0raUAL"
      }
    },
    {
      "cell_type": "code",
      "execution_count": null,
      "metadata": {
        "colab": {
          "base_uri": "https://localhost:8080/"
        },
        "id": "uECpPdb4aKuG",
        "outputId": "da1b3789-844e-4f73-ee6b-ee88c5d5fd37"
      },
      "outputs": [
        {
          "output_type": "stream",
          "name": "stdout",
          "text": [
            "Mounted at /content/drive\n"
          ]
        }
      ],
      "source": [
        "from google.colab import drive\n",
        "\n",
        "drive.mount(\"/content/drive\")"
      ]
    },
    {
      "cell_type": "code",
      "source": [
        "# Copy to local.\n",
        "!cp drive/MyDrive/Datasets/gislr_dataset_top10.zip gislr_top10.zip"
      ],
      "metadata": {
        "id": "JFOTT69LaXqp"
      },
      "execution_count": null,
      "outputs": []
    },
    {
      "cell_type": "code",
      "source": [
        "!unzip -o gislr_top10.zip"
      ],
      "metadata": {
        "colab": {
          "base_uri": "https://localhost:8080/"
        },
        "id": "XndApjqIaZlB",
        "outputId": "9ed84dc7-dd88-4602-eaf3-3d9545b3266f"
      },
      "execution_count": null,
      "outputs": [
        {
          "output_type": "stream",
          "name": "stdout",
          "text": [
            "Archive:  gislr_top10.zip\n",
            "   creating: dataset_top10/\n",
            "  inflating: dataset_top10/16069.hdf5  \n",
            "  inflating: dataset_top10/18796.hdf5  \n",
            "  inflating: dataset_top10/2044.hdf5  \n",
            "  inflating: dataset_top10/22343.hdf5  \n",
            "  inflating: dataset_top10/25571.hdf5  \n",
            "  inflating: dataset_top10/26734.hdf5  \n",
            "  inflating: dataset_top10/27610.hdf5  \n",
            "  inflating: dataset_top10/28656.hdf5  \n",
            "  inflating: dataset_top10/29302.hdf5  \n",
            "  inflating: dataset_top10/30680.hdf5  \n",
            "  inflating: dataset_top10/32319.hdf5  \n",
            "  inflating: dataset_top10/34503.hdf5  \n",
            "  inflating: dataset_top10/36257.hdf5  \n",
            "  inflating: dataset_top10/37055.hdf5  \n",
            "  inflating: dataset_top10/37779.hdf5  \n",
            "  inflating: dataset_top10/4718.hdf5  \n",
            "  inflating: dataset_top10/49445.hdf5  \n",
            "  inflating: dataset_top10/53618.hdf5  \n",
            "  inflating: dataset_top10/55372.hdf5  \n",
            "  inflating: dataset_top10/61333.hdf5  \n",
            "  inflating: dataset_top10/62590.hdf5  \n",
            "  inflating: dataset_top10/LICENSE.txt  \n",
            "  inflating: dataset_top10/sign_to_prediction_index_map.json  \n"
          ]
        }
      ]
    },
    {
      "cell_type": "code",
      "source": [
        "!ls dataset_top10"
      ],
      "metadata": {
        "colab": {
          "base_uri": "https://localhost:8080/"
        },
        "id": "ie35prlzaa7R",
        "outputId": "bc18dfb2-3bc1-4858-905a-a6f4c51c4ea1"
      },
      "execution_count": null,
      "outputs": [
        {
          "output_type": "stream",
          "name": "stdout",
          "text": [
            "16069.hdf5  25571.hdf5\t29302.hdf5  36257.hdf5\t49445.hdf5  62590.hdf5\n",
            "18796.hdf5  26734.hdf5\t30680.hdf5  37055.hdf5\t53618.hdf5  LICENSE.txt\n",
            "2044.hdf5   27610.hdf5\t32319.hdf5  37779.hdf5\t55372.hdf5  sign_to_prediction_index_map.json\n",
            "22343.hdf5  28656.hdf5\t34503.hdf5  4718.hdf5\t61333.hdf5\n"
          ]
        }
      ]
    },
    {
      "cell_type": "code",
      "source": [
        "!cat dataset_top10/sign_to_prediction_index_map.json"
      ],
      "metadata": {
        "colab": {
          "base_uri": "https://localhost:8080/"
        },
        "id": "wUoBQguiacEx",
        "outputId": "2881c291-63a1-424d-89ec-f913f95d9e8f"
      },
      "execution_count": null,
      "outputs": [
        {
          "output_type": "stream",
          "name": "stdout",
          "text": [
            "{\n",
            "    \"listen\": 0,\n",
            "    \"look\": 1,\n",
            "    \"shhh\": 2,\n",
            "    \"donkey\": 3,\n",
            "    \"mouse\": 4,\n",
            "    \"duck\": 5,\n",
            "    \"uncle\": 6,\n",
            "    \"hear\": 7,\n",
            "    \"pretend\": 8,\n",
            "    \"cow\": 9\n",
            "}"
          ]
        }
      ]
    },
    {
      "cell_type": "code",
      "source": [
        "!cat dataset_top10/LICENSE.txt"
      ],
      "metadata": {
        "colab": {
          "base_uri": "https://localhost:8080/"
        },
        "id": "KKBcYZKdadFi",
        "outputId": "3bc34a0d-f894-4d2d-d64b-bba29dd048c4"
      },
      "execution_count": null,
      "outputs": [
        {
          "output_type": "stream",
          "name": "stdout",
          "text": [
            "The dataset provided by Natsuki Takayama (Takayama Research and Development Office) is licensed under CC-BY 4.0.\r\n",
            "Author: Copyright 2024 Natsuki Takayama\r\n",
            "Title: GISLR Top 10 dataset\r\n",
            "Original licenser: Deaf Professional Arts Network and the Georgia Institute of Technology\r\n",
            "Modification\r\n",
            "- Extract 10 most frequent words.\r\n",
            "- Packaged into HDF5 format.\r\n"
          ]
        }
      ]
    },
    {
      "cell_type": "code",
      "source": [
        "import h5py\n",
        "with h5py.File(\"dataset_top10/16069.hdf5\", \"r\") as fread:\n",
        "    keys = list(fread.keys())\n",
        "    print(keys)\n",
        "    group = fread[keys[0]]\n",
        "    print(group.keys())\n",
        "    feature = group[\"feature\"][:]\n",
        "    token = group[\"token\"][:]\n",
        "    print(feature.shape)\n",
        "    print(token)"
      ],
      "metadata": {
        "colab": {
          "base_uri": "https://localhost:8080/"
        },
        "id": "ZIQIFbUsad_R",
        "outputId": "779b2951-13e6-496d-dbba-f48369911931"
      },
      "execution_count": null,
      "outputs": [
        {
          "output_type": "stream",
          "name": "stdout",
          "text": [
            "['1109479272', '11121526', '1120349077', '1125456612', '1159046211', '1169128497', '1186032553', '1223803476', '1259708636', '1281972067', '129232566', '1334702305', '1340979012', '1352964057', '1370052047', '1383455381', '1431148933', '1435203624', '1437919781', '1458770030', '1462881097', '1469867050', '1474050058', '147607644', '1513539919', '1520635928', '1524297234', '153676122', '1537751003', '1542212461', '1551759770', '158232956', '1585855916', '1632709119', '1638742455', '1696757219', '177479476', '1779635114', '1791684792', '1801566440', '1831167282', '1867385690', '1880570146', '1901587887', '1910121429', '1919659282', '192873038', '1935012113', '1949620203', '195098847', '1983552660', '1989475963', '1998715062', '2007709802', '2036010239', '2036360025', '2046296211', '2082116372', '2098813002', '2109640010', '2121879330', '2141852087', '2148832702', '2152013823', '2166805079', '2176613834', '2184232774', '2213965523', '2249630763', '2256677805', '2263287955', '2263683020', '2264826605', '2270117351', '2281372282', '2285328250', '2322449232', '2326092712', '2336131857', '2346410171', '2405684784', '2467219838', '2473091535', '2488751095', '2515673021', '252176572', '2555449229', '2601816518', '2624310025', '2672738462', '2679264929', '2708514724', '2708544445', '2721276879', '2723773273', '2728839865', '2740241949', '2758304792', '2772051790', '2779816680', '2804441762', '2811346655', '2811646800', '2820103955', '2839681895', '2900998385', '2976200180', '2994456336', '3057994128', '3095010437', '3104317075', '3109672704', '3137179145', '3153285641', '3173321541', '3181666887', '3201889607', '3208820205', '3248401349', '3280527321', '3283246198', '3300057240', '3355963469', '3378306304', '3383637897', '3395075403', '3399503065', '3417877266', '3433092803', '347484677', '348956807', '3490841593', '3509324997', '3527069516', '3537611572', '3543711249', '3550826234', '3574700791', '3577812263', '3608551465', '3609537739', '3622960580', '3666781780', '3701422761', '3721927307', '3751410902', '3756613238', '3769544385', '3783554953', '3794712078', '380369091', '3813230821', '3817572483', '3843929707', '3869664504', '3892179393', '3923913515', '3981562204', '4078929101', '4101587978', '4150900444', '4191136837', '4200829752', '4209136328', '420958416', '422113773', '42222766', '4233346443', '4233985575', '4236057556', '4252161228', '425542996', '4276854486', '4294775577', '431609031', '439844759', '446236576', '470582324', '472128010', '492897929', '537402693', '5501547', '561170018', '593416697', '631898947', '649410423', '654529993', '678960043', '699907539', '707716966', '713615518', '778875120', '792981518', '796465415', '798649922', '856068671', '923153024', '957739544', '970593849', '976754415']\n",
            "<KeysViewHDF5 ['feature', 'token']>\n",
            "(3, 23, 543)\n",
            "[1]\n"
          ]
        }
      ]
    },
    {
      "cell_type": "code",
      "source": [
        "!wget https://github.com/takayama-rado/trado_samples/archive/refs/tags/v0.1.zip -O master.zip"
      ],
      "metadata": {
        "colab": {
          "base_uri": "https://localhost:8080/"
        },
        "id": "gIe8BVAoafEy",
        "outputId": "d34e57b3-0286-47b2-eacc-f42104fb7f6d"
      },
      "execution_count": null,
      "outputs": [
        {
          "output_type": "stream",
          "name": "stdout",
          "text": [
            "--2024-02-14 01:42:08--  https://github.com/takayama-rado/trado_samples/archive/master.zip\n",
            "Resolving github.com (github.com)... 140.82.114.4\n",
            "Connecting to github.com (github.com)|140.82.114.4|:443... connected.\n",
            "HTTP request sent, awaiting response... 302 Found\n",
            "Location: https://codeload.github.com/takayama-rado/trado_samples/zip/main [following]\n",
            "--2024-02-14 01:42:08--  https://codeload.github.com/takayama-rado/trado_samples/zip/main\n",
            "Resolving codeload.github.com (codeload.github.com)... 140.82.113.10\n",
            "Connecting to codeload.github.com (codeload.github.com)|140.82.113.10|:443... connected.\n",
            "HTTP request sent, awaiting response... 200 OK\n",
            "Length: unspecified [application/zip]\n",
            "Saving to: ‘master.zip’\n",
            "\n",
            "master.zip              [         <=>        ]  74.02M  20.0MB/s    in 3.7s    \n",
            "\n",
            "2024-02-14 01:42:12 (20.0 MB/s) - ‘master.zip’ saved [77614476]\n",
            "\n"
          ]
        }
      ]
    },
    {
      "cell_type": "code",
      "source": [
        "!unzip -o master.zip -d master"
      ],
      "metadata": {
        "colab": {
          "base_uri": "https://localhost:8080/"
        },
        "id": "v673mqrBagMZ",
        "outputId": "e25583fb-ef57-4c82-abd5-18d9680c1be0"
      },
      "execution_count": null,
      "outputs": [
        {
          "output_type": "stream",
          "name": "stdout",
          "text": [
            "Archive:  master.zip\n",
            "7e22b943e25c71297485361f0572c70517d4af91\n",
            "   creating: master/trado_samples-main/\n",
            "  inflating: master/trado_samples-main/.gitignore  \n",
            "  inflating: master/trado_samples-main/LICENSE  \n",
            "  inflating: master/trado_samples-main/README.md  \n",
            "   creating: master/trado_samples-main/colab_files/\n",
            " extracting: master/trado_samples-main/colab_files/.gitkeep  \n",
            "  inflating: master/trado_samples-main/colab_files/exp_affine_np_einsum.ipynb  \n",
            "  inflating: master/trado_samples-main/colab_files/exp_jax_static.ipynb  \n",
            "  inflating: master/trado_samples-main/colab_files/exp_mpholistic_0.ipynb  \n",
            "  inflating: master/trado_samples-main/colab_files/exp_mpothers_0.ipynb  \n",
            "  inflating: master/trado_samples-main/colab_files/exp_track_affine_jax.ipynb  \n",
            "  inflating: master/trado_samples-main/colab_files/exp_track_affine_numpy.ipynb  \n",
            "  inflating: master/trado_samples-main/colab_files/exp_track_affine_tensorflow.ipynb  \n",
            "  inflating: master/trado_samples-main/colab_files/exp_track_affine_torch.ipynb  \n",
            "  inflating: master/trado_samples-main/colab_files/exp_track_interp_jax.ipynb  \n",
            "  inflating: master/trado_samples-main/colab_files/exp_track_interp_numpy_0.ipynb  \n",
            "  inflating: master/trado_samples-main/colab_files/exp_track_interp_numpy_1.ipynb  \n",
            "  inflating: master/trado_samples-main/colab_files/exp_track_interp_tensorflow.ipynb  \n",
            "  inflating: master/trado_samples-main/colab_files/exp_track_interp_torch.ipynb  \n",
            "  inflating: master/trado_samples-main/colab_files/gislr_access_dataset.ipynb  \n",
            "  inflating: master/trado_samples-main/colab_files/gislr_normalize_landmarks.ipynb  \n",
            "  inflating: master/trado_samples-main/colab_files/gislr_rnn_islr_model.ipynb  \n",
            "  inflating: master/trado_samples-main/colab_files/gislr_rnn_islr_model_1.ipynb  \n",
            "  inflating: master/trado_samples-main/colab_files/gislr_rnn_islr_model_2.ipynb  \n",
            "  inflating: master/trado_samples-main/colab_files/gislr_rnn_islr_model_3.ipynb  \n",
            "  inflating: master/trado_samples-main/colab_files/gislr_select_landmarks.ipynb  \n",
            "  inflating: master/trado_samples-main/colab_files/gislr_simple_islr_model.ipynb  \n",
            "   creating: master/trado_samples-main/src/\n",
            "   creating: master/trado_samples-main/src/modules_gislr/\n",
            " extracting: master/trado_samples-main/src/modules_gislr/__init__.py  \n",
            "  inflating: master/trado_samples-main/src/modules_gislr/dataset.py  \n",
            "  inflating: master/trado_samples-main/src/modules_gislr/defines.py  \n",
            "  inflating: master/trado_samples-main/src/modules_gislr/draw_functions.py  \n",
            "  inflating: master/trado_samples-main/src/modules_gislr/layers.py  \n",
            "  inflating: master/trado_samples-main/src/modules_gislr/train_functions.py  \n",
            "  inflating: master/trado_samples-main/src/modules_gislr/transforms.py  \n",
            "   creating: master/trado_samples-main/test_data/\n",
            "  inflating: master/trado_samples-main/test_data/finger_far0.mp4  \n",
            "  inflating: master/trado_samples-main/test_data/finger_far0_non_static.npy  \n",
            "  inflating: master/trado_samples-main/test_data/finger_far0_non_static_affine.npy  \n",
            "  inflating: master/trado_samples-main/test_data/finger_far0_non_static_interp.npy  \n",
            "  inflating: master/trado_samples-main/test_data/finger_middle0.mp4  \n",
            "  inflating: master/trado_samples-main/test_data/finger_near0.mp4  \n",
            "  inflating: master/trado_samples-main/test_data/hand_only.mp4  \n"
          ]
        }
      ]
    },
    {
      "cell_type": "code",
      "source": [
        "!mv master/trado_samples-0.1/src/modules_gislr ."
      ],
      "metadata": {
        "id": "HC6aIrRYahm6"
      },
      "execution_count": null,
      "outputs": []
    },
    {
      "cell_type": "code",
      "source": [
        "!rm -rf master master.zip gislr_top10.zip"
      ],
      "metadata": {
        "id": "NdzieVRfaikK"
      },
      "execution_count": null,
      "outputs": []
    },
    {
      "cell_type": "code",
      "source": [
        "!ls"
      ],
      "metadata": {
        "colab": {
          "base_uri": "https://localhost:8080/"
        },
        "id": "BxYNwkaaajyq",
        "outputId": "700af387-d3fd-49e4-a5d6-852d3cac0e44"
      },
      "execution_count": null,
      "outputs": [
        {
          "output_type": "stream",
          "name": "stdout",
          "text": [
            "dataset_top10  drive  modules_gislr  sample_data\n"
          ]
        }
      ]
    },
    {
      "cell_type": "markdown",
      "source": [
        "# 2. Load library"
      ],
      "metadata": {
        "id": "KNq_MsqNa4SJ"
      }
    },
    {
      "cell_type": "code",
      "source": [
        "import json\n",
        "import math\n",
        "import sys\n",
        "import time\n",
        "from functools import partial\n",
        "from pathlib import Path\n",
        "from typing import (\n",
        "    Any,\n",
        "    Dict\n",
        ")\n",
        "\n",
        "# Third party's modules\n",
        "import numpy as np\n",
        "\n",
        "import torch\n",
        "from torch import nn\n",
        "from torch.nn import functional as F\n",
        "from torch.utils.data import (\n",
        "    DataLoader)\n",
        "\n",
        "from torchvision.transforms import Compose\n",
        "\n",
        "# Local modules\n",
        "sys.path.append(\"modules_gislr\")\n",
        "from modules_gislr.dataset import (\n",
        "    HDF5Dataset,\n",
        "    merge_padded_batch)\n",
        "from modules_gislr.layers import (\n",
        "    SimpleISLR\n",
        ")\n",
        "from modules_gislr.transforms import (\n",
        "    ReplaceNan,\n",
        "    ToTensor\n",
        ")\n",
        "from modules_gislr.train_functions import (\n",
        "    test_loop,\n",
        "    train_loop,\n",
        "    val_loop\n",
        ")"
      ],
      "metadata": {
        "id": "J3hRhm3ea52q"
      },
      "execution_count": null,
      "outputs": []
    },
    {
      "cell_type": "markdown",
      "source": [
        "# 3. Implement preprocess"
      ],
      "metadata": {
        "id": "mdqi1wnobsCa"
      }
    },
    {
      "cell_type": "code",
      "source": [
        "class SelectLandmarksAndFeature():\n",
        "    \"\"\" Select joint and feature.\n",
        "    \"\"\"\n",
        "    def __init__(self, landmarks, features=[\"x\", \"y\", \"z\"]):\n",
        "        self.landmarks = landmarks\n",
        "        _features = []\n",
        "        if \"x\" in features:\n",
        "            _features.append(0)\n",
        "        if \"y\" in features:\n",
        "            _features.append(1)\n",
        "        if \"z\" in features:\n",
        "            _features.append(2)\n",
        "        self.features = np.array(_features, dtype=np.int32)\n",
        "        assert self.features.shape[0] > 0, f\"{self.features}\"\n",
        "\n",
        "    def __call__(self,\n",
        "                 data: Dict[str, Any]) -> Dict[str, Any]:\n",
        "        feature = data[\"feature\"]\n",
        "        # `[C, T, J]`\n",
        "        feature = feature[self.features]\n",
        "        feature = feature[:, :, self.landmarks]\n",
        "        data[\"feature\"] = feature\n",
        "        return data"
      ],
      "metadata": {
        "id": "TGnH-uJ-bu85"
      },
      "execution_count": null,
      "outputs": []
    },
    {
      "cell_type": "code",
      "source": [
        "# Define using landmarks.\n",
        "USE_LIP = [0, 13, 14, 17, 37, 39, 40, 61, 78, 80,\n",
        "           81, 82, 84, 87, 88, 91, 95, 146, 178, 181,\n",
        "           185, 191, 267, 269, 270, 291, 308, 310, 311, 312,\n",
        "           314, 317, 318, 321, 324, 375, 402, 405, 409, 415]\n",
        "USE_NOSE = [1, 2, 98, 327]\n",
        "USE_REYE = [33, 7, 163, 144, 145, 153, 154, 155, 133,\n",
        "            246, 161, 160, 159, 158, 157, 173]\n",
        "USE_LEYE = [263, 249, 390, 373, 374, 380, 381, 382, 362,\n",
        "            466, 388, 387, 386, 385, 384, 398]\n",
        "USE_FACE = np.sort(np.unique(USE_LIP + USE_NOSE + USE_REYE + USE_LEYE))\n",
        "\n",
        "USE_LHAND = np.arange(468, 468+21)\n",
        "# Use shoulder, arms, and hands.\n",
        "USE_POSE = np.array([11, 12, 13, 14, 15, 16, 17, 18, 19, 20, 21, 22]) + 468 + 21\n",
        "\n",
        "USE_RHAND = np.arange(468+21+33, 468+21+33+21)\n",
        "\n",
        "\n",
        "def get_fullbody_landmarks():\n",
        "    use_landmarks = np.concatenate([USE_FACE, USE_LHAND, USE_POSE, USE_RHAND])\n",
        "    use_landmarks_filtered = np.arange(len(use_landmarks))\n",
        "    return use_landmarks_filtered, use_landmarks"
      ],
      "metadata": {
        "id": "XPwFGNMycbX6"
      },
      "execution_count": null,
      "outputs": []
    },
    {
      "cell_type": "code",
      "source": [
        "# Access check.\n",
        "dataset_dir = Path(\"dataset_top10\")\n",
        "files = list(dataset_dir.iterdir())\n",
        "dictionary = [fin for fin in files if \".json\" in fin.name][0]\n",
        "hdf5_files = [fin for fin in files if \".hdf5\" in fin.name]\n",
        "\n",
        "print(dictionary)\n",
        "print(hdf5_files)"
      ],
      "metadata": {
        "colab": {
          "base_uri": "https://localhost:8080/"
        },
        "id": "clqCJLCIb_fR",
        "outputId": "5a1f387e-ad05-4eed-a104-37b3f1b6d1f3"
      },
      "execution_count": null,
      "outputs": [
        {
          "output_type": "stream",
          "name": "stdout",
          "text": [
            "dataset_top10/sign_to_prediction_index_map.json\n",
            "[PosixPath('dataset_top10/55372.hdf5'), PosixPath('dataset_top10/27610.hdf5'), PosixPath('dataset_top10/37779.hdf5'), PosixPath('dataset_top10/2044.hdf5'), PosixPath('dataset_top10/36257.hdf5'), PosixPath('dataset_top10/53618.hdf5'), PosixPath('dataset_top10/32319.hdf5'), PosixPath('dataset_top10/37055.hdf5'), PosixPath('dataset_top10/4718.hdf5'), PosixPath('dataset_top10/25571.hdf5'), PosixPath('dataset_top10/18796.hdf5'), PosixPath('dataset_top10/29302.hdf5'), PosixPath('dataset_top10/34503.hdf5'), PosixPath('dataset_top10/28656.hdf5'), PosixPath('dataset_top10/26734.hdf5'), PosixPath('dataset_top10/16069.hdf5'), PosixPath('dataset_top10/30680.hdf5'), PosixPath('dataset_top10/49445.hdf5'), PosixPath('dataset_top10/22343.hdf5'), PosixPath('dataset_top10/62590.hdf5'), PosixPath('dataset_top10/61333.hdf5')]\n"
          ]
        }
      ]
    },
    {
      "cell_type": "code",
      "source": [
        "# Load dictionary.\n",
        "with open(dictionary, \"r\") as fread:\n",
        "    key2token = json.load(fread)\n",
        "\n",
        "VOCAB = len(key2token)"
      ],
      "metadata": {
        "id": "jX_DFm8bfKw5"
      },
      "execution_count": null,
      "outputs": []
    },
    {
      "cell_type": "code",
      "source": [
        "pre_transforms = Compose([ReplaceNan()])\n",
        "transforms = Compose([ToTensor()])\n",
        "\n",
        "batch_size = 2\n",
        "feature_shape = (3, -1, 543)\n",
        "token_shape = (1,)\n",
        "merge_fn = partial(merge_padded_batch,\n",
        "                   feature_shape=feature_shape,\n",
        "                   token_shape=token_shape,\n",
        "                   feature_padding_val=0.0,\n",
        "                   token_padding_val=0)\n",
        "\n",
        "dataset = HDF5Dataset(hdf5_files, pre_transforms=pre_transforms, transforms=transforms)\n",
        "\n",
        "dataloader = DataLoader(dataset, batch_size=batch_size, collate_fn=merge_fn)\n",
        "try:\n",
        "    data = next(iter(dataloader))\n",
        "    feature = data[\"feature\"]\n",
        "\n",
        "    print(feature.shape)\n",
        "except Exception as inst:\n",
        "    print(inst)"
      ],
      "metadata": {
        "colab": {
          "base_uri": "https://localhost:8080/"
        },
        "id": "sRTyTZxTcGqD",
        "outputId": "e30b865b-ae89-4a3b-b480-ee684994a095"
      },
      "execution_count": null,
      "outputs": [
        {
          "output_type": "stream",
          "name": "stdout",
          "text": [
            "torch.Size([2, 3, 25, 543])\n"
          ]
        }
      ]
    },
    {
      "cell_type": "code",
      "source": [
        "_, use_landmarks = get_fullbody_landmarks()\n",
        "use_features = [\"x\", \"y\"]\n",
        "pre_transforms = Compose([SelectLandmarksAndFeature(landmarks=use_landmarks, features=use_features),\n",
        "                          ReplaceNan()])\n",
        "transforms = Compose([ToTensor()])\n",
        "\n",
        "batch_size = 2\n",
        "feature_shape = (len(use_features), -1, len(use_landmarks))\n",
        "token_shape = (1,)\n",
        "merge_fn = partial(merge_padded_batch,\n",
        "                   feature_shape=feature_shape,\n",
        "                   token_shape=token_shape,\n",
        "                   feature_padding_val=0.0,\n",
        "                   token_padding_val=0)\n",
        "\n",
        "dataset = HDF5Dataset(hdf5_files, pre_transforms=pre_transforms, transforms=transforms)\n",
        "\n",
        "dataloader = DataLoader(dataset, batch_size=batch_size, collate_fn=merge_fn)\n",
        "try:\n",
        "    data = next(iter(dataloader))\n",
        "    feature = data[\"feature\"]\n",
        "\n",
        "    print(feature.shape)\n",
        "except Exception as inst:\n",
        "    print(inst)"
      ],
      "metadata": {
        "colab": {
          "base_uri": "https://localhost:8080/"
        },
        "id": "4D4hJnbgcKKa",
        "outputId": "938e1916-f8b9-4069-b936-5910f383fc0b"
      },
      "execution_count": null,
      "outputs": [
        {
          "output_type": "stream",
          "name": "stdout",
          "text": [
            "torch.Size([2, 2, 25, 130])\n"
          ]
        }
      ]
    },
    {
      "cell_type": "markdown",
      "source": [
        "# 4. Train and evaluation"
      ],
      "metadata": {
        "id": "5sQcbovid-j6"
      }
    },
    {
      "cell_type": "code",
      "source": [
        "# Define model.\n",
        "# in_channels: J * C (130*2=260)\n",
        "#   J: use_landmarks (130)\n",
        "#   C: use_channels (2)\n",
        "# out_channels: 10\n",
        "in_channels = len(use_landmarks) * len(use_features)\n",
        "out_channels = VOCAB\n",
        "\n",
        "model = SimpleISLR(in_channels, out_channels)\n",
        "print(model)\n",
        "\n",
        "# Sanity check.\n",
        "logit = model(feature)\n",
        "print(logit.shape)"
      ],
      "metadata": {
        "colab": {
          "base_uri": "https://localhost:8080/"
        },
        "id": "dVc3_b_iezjZ",
        "outputId": "f9004642-08b8-4069-dccc-bd8e5b0c9ce3"
      },
      "execution_count": null,
      "outputs": [
        {
          "output_type": "stream",
          "name": "stdout",
          "text": [
            "SimpleISLR(\n",
            "  (linear): Linear(in_features=260, out_features=64, bias=True)\n",
            "  (activation): ReLU()\n",
            "  (head): GPoolRecognitionHead(\n",
            "    (head): Linear(in_features=64, out_features=10, bias=True)\n",
            "  )\n",
            ")\n",
            "torch.Size([2, 10])\n"
          ]
        }
      ]
    },
    {
      "cell_type": "code",
      "source": [
        "# Build dataloaders.\n",
        "batch_size = 32\n",
        "load_into_ram = True\n",
        "test_pid = 16069\n",
        "num_workers = 1\n",
        "\n",
        "train_hdf5files = [fin for fin in hdf5_files if str(test_pid) not in fin.name]\n",
        "val_hdf5files = [fin for fin in hdf5_files if str(test_pid) in fin.name]\n",
        "test_hdf5files = [fin for fin in hdf5_files if str(test_pid) in fin.name]\n",
        "\n",
        "train_dataset = HDF5Dataset(train_hdf5files, pre_transforms=pre_transforms,\n",
        "    transforms=transforms, load_into_ram=load_into_ram)\n",
        "val_dataset = HDF5Dataset(val_hdf5files, pre_transforms=pre_transforms,\n",
        "    transforms=transforms, load_into_ram=load_into_ram)\n",
        "test_dataset = HDF5Dataset(test_hdf5files, pre_transforms=pre_transforms,\n",
        "    transforms=transforms, load_into_ram=load_into_ram)\n",
        "\n",
        "train_dataloader = DataLoader(train_dataset, batch_size=batch_size, collate_fn=merge_fn, num_workers=num_workers)\n",
        "val_dataloader = DataLoader(val_dataset, batch_size=batch_size, collate_fn=merge_fn, num_workers=num_workers)\n",
        "test_dataloader = DataLoader(test_dataset, batch_size=1, collate_fn=merge_fn, num_workers=num_workers)"
      ],
      "metadata": {
        "id": "0mngDh9keAqp"
      },
      "execution_count": null,
      "outputs": []
    },
    {
      "cell_type": "code",
      "source": [
        "loss_fn = nn.CrossEntropyLoss(reduction=\"mean\")\n",
        "optimizer = torch.optim.Adam(model.parameters(), lr=1e-3)"
      ],
      "metadata": {
        "id": "A7aLTX5YeCzC"
      },
      "execution_count": null,
      "outputs": []
    },
    {
      "cell_type": "code",
      "source": [
        "# Train, validation, and evaluation.\n",
        "epochs = 10\n",
        "eval_every_n_epochs = 1\n",
        "device = \"cuda\" if torch.cuda.is_available() else \"cpu\"\n",
        "print(f\"Using {device} for computation.\")\n",
        "model.to(device)\n",
        "\n",
        "val_losses = []\n",
        "test_accs = []\n",
        "print(\"Start training.\")\n",
        "for epoch in range(epochs):\n",
        "    print(\"-\" * 80)\n",
        "    print(f\"Epoch {epoch+1}\")\n",
        "\n",
        "    train_loop(train_dataloader, model, loss_fn, optimizer, device)\n",
        "    val_loss = val_loop(val_dataloader, model, loss_fn, device)\n",
        "    val_losses.append(val_loss)\n",
        "\n",
        "    if (epoch+1) % eval_every_n_epochs == 0:\n",
        "        acc = test_loop(test_dataloader, model, device)\n",
        "        test_accs.append(acc)\n",
        "val_losses = np.array(val_losses)\n",
        "test_accs = np.array(test_accs)\n",
        "print(f\"Minimum validation loss:{val_losses.min()} at {np.argmin(val_losses)+1} epoch.\")\n",
        "print(f\"Maximum accuracy:{test_accs.max()} at {np.argmax(test_accs)*eval_every_n_epochs+1} epoch.\")"
      ],
      "metadata": {
        "colab": {
          "base_uri": "https://localhost:8080/"
        },
        "id": "_CwJtNlweDly",
        "outputId": "35b697bf-c6bc-433a-c76a-fb2fb384f964"
      },
      "execution_count": null,
      "outputs": [
        {
          "output_type": "stream",
          "name": "stdout",
          "text": [
            "Using cpu for computation.\n",
            "Start training.\n",
            "--------------------------------------------------------------------------------\n",
            "Epoch 1\n",
            "Start training.\n",
            "loss:2.311709 [    0/ 3881]\n",
            "loss:2.288719 [ 3200/ 3881]\n",
            "Done. Time:3.199476921000013\n",
            "Training performance: \n",
            " Avg loss:2.280469\n",
            "\n",
            "Start validation.\n",
            "Done. Time:0.2605978610000079\n",
            "Validation performance: \n",
            " Avg loss:2.272067\n",
            "\n",
            "Start evaluation.\n",
            "Done. Time:0.8001216680000027\n",
            "Test performance: \n",
            " Accuracy:12.5%\n",
            "--------------------------------------------------------------------------------\n",
            "Epoch 2\n",
            "Start training.\n",
            "loss:2.280726 [    0/ 3881]\n",
            "loss:2.268223 [ 3200/ 3881]\n",
            "Done. Time:3.0326103080000166\n",
            "Training performance: \n",
            " Avg loss:2.225740\n",
            "\n",
            "Start validation.\n",
            "Done. Time:0.3784951569999748\n",
            "Validation performance: \n",
            " Avg loss:2.233505\n",
            "\n",
            "Start evaluation.\n",
            "Done. Time:1.089853115000011\n",
            "Test performance: \n",
            " Accuracy:18.5%\n",
            "--------------------------------------------------------------------------------\n",
            "Epoch 3\n",
            "Start training.\n",
            "loss:2.207135 [    0/ 3881]\n",
            "loss:2.242829 [ 3200/ 3881]\n",
            "Done. Time:3.9805359089999968\n",
            "Training performance: \n",
            " Avg loss:2.172240\n",
            "\n",
            "Start validation.\n",
            "Done. Time:0.24879906800001095\n",
            "Validation performance: \n",
            " Avg loss:2.204496\n",
            "\n",
            "Start evaluation.\n",
            "Done. Time:0.7984142880000036\n",
            "Test performance: \n",
            " Accuracy:20.5%\n",
            "--------------------------------------------------------------------------------\n",
            "Epoch 4\n",
            "Start training.\n",
            "loss:2.150890 [    0/ 3881]\n",
            "loss:2.220992 [ 3200/ 3881]\n",
            "Done. Time:2.9835803729999952\n",
            "Training performance: \n",
            " Avg loss:2.127363\n",
            "\n",
            "Start validation.\n",
            "Done. Time:0.266476928000003\n",
            "Validation performance: \n",
            " Avg loss:2.180231\n",
            "\n",
            "Start evaluation.\n",
            "Done. Time:0.8070211730000096\n",
            "Test performance: \n",
            " Accuracy:24.0%\n",
            "--------------------------------------------------------------------------------\n",
            "Epoch 5\n",
            "Start training.\n",
            "loss:2.090109 [    0/ 3881]\n",
            "loss:2.199675 [ 3200/ 3881]\n",
            "Done. Time:3.039466879999992\n",
            "Training performance: \n",
            " Avg loss:2.089453\n",
            "\n",
            "Start validation.\n",
            "Done. Time:0.28838941099999715\n",
            "Validation performance: \n",
            " Avg loss:2.159431\n",
            "\n",
            "Start evaluation.\n",
            "Done. Time:1.1325586850000207\n",
            "Test performance: \n",
            " Accuracy:24.5%\n",
            "--------------------------------------------------------------------------------\n",
            "Epoch 6\n",
            "Start training.\n",
            "loss:2.041521 [    0/ 3881]\n",
            "loss:2.180196 [ 3200/ 3881]\n",
            "Done. Time:3.9500434369999766\n",
            "Training performance: \n",
            " Avg loss:2.058722\n",
            "\n",
            "Start validation.\n",
            "Done. Time:0.26335012500001653\n",
            "Validation performance: \n",
            " Avg loss:2.140755\n",
            "\n",
            "Start evaluation.\n",
            "Done. Time:0.8076025940000022\n",
            "Test performance: \n",
            " Accuracy:24.5%\n",
            "--------------------------------------------------------------------------------\n",
            "Epoch 7\n",
            "Start training.\n",
            "loss:2.000507 [    0/ 3881]\n",
            "loss:2.162268 [ 3200/ 3881]\n",
            "Done. Time:2.999933581999983\n",
            "Training performance: \n",
            " Avg loss:2.032977\n",
            "\n",
            "Start validation.\n",
            "Done. Time:0.2695328530000154\n",
            "Validation performance: \n",
            " Avg loss:2.124086\n",
            "\n",
            "Start evaluation.\n",
            "Done. Time:1.0395932259999938\n",
            "Test performance: \n",
            " Accuracy:26.5%\n",
            "--------------------------------------------------------------------------------\n",
            "Epoch 8\n",
            "Start training.\n",
            "loss:1.965226 [    0/ 3881]\n",
            "loss:2.144712 [ 3200/ 3881]\n",
            "Done. Time:3.956756098999989\n",
            "Training performance: \n",
            " Avg loss:2.010665\n",
            "\n",
            "Start validation.\n",
            "Done. Time:0.4248627279999937\n",
            "Validation performance: \n",
            " Avg loss:2.108583\n",
            "\n",
            "Start evaluation.\n",
            "Done. Time:1.159485544000006\n",
            "Test performance: \n",
            " Accuracy:28.0%\n",
            "--------------------------------------------------------------------------------\n",
            "Epoch 9\n",
            "Start training.\n",
            "loss:1.934296 [    0/ 3881]\n",
            "loss:2.127859 [ 3200/ 3881]\n",
            "Done. Time:3.442366478000025\n",
            "Training performance: \n",
            " Avg loss:1.991439\n",
            "\n",
            "Start validation.\n",
            "Done. Time:0.2790588649999961\n",
            "Validation performance: \n",
            " Avg loss:2.095197\n",
            "\n",
            "Start evaluation.\n",
            "Done. Time:0.8535396310000181\n",
            "Test performance: \n",
            " Accuracy:28.0%\n",
            "--------------------------------------------------------------------------------\n",
            "Epoch 10\n",
            "Start training.\n",
            "loss:1.909484 [    0/ 3881]\n",
            "loss:2.111662 [ 3200/ 3881]\n",
            "Done. Time:3.100658828999997\n",
            "Training performance: \n",
            " Avg loss:1.974411\n",
            "\n",
            "Start validation.\n",
            "Done. Time:0.26095897300001525\n",
            "Validation performance: \n",
            " Avg loss:2.083028\n",
            "\n",
            "Start evaluation.\n",
            "Done. Time:0.8736996449999879\n",
            "Test performance: \n",
            " Accuracy:29.0%\n",
            "Minimum validation loss:2.083028112139021 at 10 epoch.\n",
            "Maximum accuracy:28.999999999999996 at 10 epoch.\n"
          ]
        }
      ]
    }
  ]
}