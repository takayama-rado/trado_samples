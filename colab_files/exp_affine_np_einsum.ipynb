{
  "nbformat": 4,
  "nbformat_minor": 0,
  "metadata": {
    "colab": {
      "provenance": [],
      "authorship_tag": "ABX9TyNEcZQqkXcWodQrtEaap/qC",
      "include_colab_link": true
    },
    "kernelspec": {
      "name": "python3",
      "display_name": "Python 3"
    },
    "language_info": {
      "name": "python"
    }
  },
  "cells": [
    {
      "cell_type": "markdown",
      "metadata": {
        "id": "view-in-github",
        "colab_type": "text"
      },
      "source": [
        "<a href=\"https://colab.research.google.com/github/takayama-rado/trado_samples/blob/main/colab_files/exp_affine_np_einsum.ipynb\" target=\"_parent\"><img src=\"https://colab.research.google.com/assets/colab-badge.svg\" alt=\"Open In Colab\"/></a>"
      ]
    },
    {
      "cell_type": "code",
      "execution_count": 1,
      "metadata": {
        "id": "rLQpr1ZcnYUp"
      },
      "outputs": [],
      "source": [
        "import numpy as np\n",
        "import time"
      ]
    },
    {
      "cell_type": "code",
      "source": [
        "inputs = np.random.rand(1000, 1000, 3)\n",
        "mat = np.random.rand(3, 3)\n",
        "print(inputs.shape)\n",
        "print(mat.shape)"
      ],
      "metadata": {
        "colab": {
          "base_uri": "https://localhost:8080/"
        },
        "id": "K2F_VsCEnaNU",
        "outputId": "e16f2c70-26b5-46d7-e2a4-b5f7100b222e"
      },
      "execution_count": 2,
      "outputs": [
        {
          "output_type": "stream",
          "name": "stdout",
          "text": [
            "(1000, 1000, 3)\n",
            "(3, 3)\n"
          ]
        }
      ]
    },
    {
      "cell_type": "code",
      "source": [
        "def simple_affine(inputs, mat):\n",
        "    newinputs = []\n",
        "    shape = inputs.shape\n",
        "    for i in range(shape[0]):\n",
        "        row = []\n",
        "        for j in range(shape[1]):\n",
        "            temp = inputs[i, j]\n",
        "            temp = np.matmul(mat, temp)\n",
        "            row.append(temp)\n",
        "        newinputs.append(row)\n",
        "    newinputs = np.array(newinputs)\n",
        "    return newinputs"
      ],
      "metadata": {
        "id": "WTDyE0QOupnc"
      },
      "execution_count": 3,
      "outputs": []
    },
    {
      "cell_type": "code",
      "source": [
        "# Apply affine.\n",
        "trial = 10\n",
        "start = time.perf_counter()\n",
        "for _ in range(trial):\n",
        "    newinputs1 = simple_affine(inputs, mat)\n",
        "interval = time.perf_counter() - start\n",
        "print(newinputs1.shape)\n",
        "print(f\"Time1:{interval / trial}\")"
      ],
      "metadata": {
        "colab": {
          "base_uri": "https://localhost:8080/"
        },
        "id": "MZyo5wBbnnuz",
        "outputId": "942f5969-e7d2-4d5b-e359-93d057a8f2d3"
      },
      "execution_count": 4,
      "outputs": [
        {
          "output_type": "stream",
          "name": "stdout",
          "text": [
            "(1000, 1000, 3)\n",
            "Time1:2.950885662000002\n"
          ]
        }
      ]
    },
    {
      "cell_type": "code",
      "source": [
        "start = time.perf_counter()\n",
        "for _ in range(trial):\n",
        "    newinputs2 = np.einsum(\"ij,nmj->nmi\", mat, inputs)\n",
        "interval = time.perf_counter() - start\n",
        "print(f\"Time2:{interval / trial}\")\n",
        "\n",
        "diff = (newinputs1 - newinputs2).sum()\n",
        "print(f\"Diff:{diff}\")"
      ],
      "metadata": {
        "colab": {
          "base_uri": "https://localhost:8080/"
        },
        "id": "PkNYVKNjbdsq",
        "outputId": "37416387-b997-4259-81ad-5973e1626bb3"
      },
      "execution_count": 5,
      "outputs": [
        {
          "output_type": "stream",
          "name": "stdout",
          "text": [
            "Time2:0.03242949780000117\n",
            "Diff:3.8381624267724845e-14\n"
          ]
        }
      ]
    },
    {
      "cell_type": "code",
      "source": [
        "start = time.perf_counter()\n",
        "for _ in range(trial):\n",
        "    newinputs2 = np.einsum(\"abj,ij\", inputs, mat)\n",
        "interval = time.perf_counter() - start\n",
        "print(f\"Time3:{interval / trial}\")\n",
        "\n",
        "diff = (newinputs1 - newinputs2).sum()\n",
        "print(f\"Diff:{diff}\")"
      ],
      "metadata": {
        "colab": {
          "base_uri": "https://localhost:8080/"
        },
        "id": "gZ6j2y1PoNx0",
        "outputId": "ad242912-d629-47a4-bf03-3c22adf47edb"
      },
      "execution_count": 6,
      "outputs": [
        {
          "output_type": "stream",
          "name": "stdout",
          "text": [
            "Time3:0.03194018350000079\n",
            "Diff:3.8381624267724845e-14\n"
          ]
        }
      ]
    },
    {
      "cell_type": "code",
      "source": [
        "start = time.perf_counter()\n",
        "for _ in range(trial):\n",
        "    newinputs2 = np.einsum(\"...j,ij\", inputs, mat)\n",
        "interval = time.perf_counter() - start\n",
        "print(f\"Time4:{interval / trial}\")\n",
        "\n",
        "diff = (newinputs1 - newinputs2).sum()\n",
        "print(f\"Diff:{diff}\")"
      ],
      "metadata": {
        "colab": {
          "base_uri": "https://localhost:8080/"
        },
        "id": "0aZ0S9nia7Li",
        "outputId": "aac72ea3-ac40-438e-bce6-f01b9d792857"
      },
      "execution_count": 7,
      "outputs": [
        {
          "output_type": "stream",
          "name": "stdout",
          "text": [
            "Time4:0.032064083199998095\n",
            "Diff:3.8381624267724845e-14\n"
          ]
        }
      ]
    }
  ]
}