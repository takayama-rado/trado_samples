{
  "nbformat": 4,
  "nbformat_minor": 0,
  "metadata": {
    "colab": {
      "provenance": [],
      "authorship_tag": "ABX9TyPV9PCYo0TsdNA2CDFkcpJu",
      "include_colab_link": true
    },
    "kernelspec": {
      "name": "python3",
      "display_name": "Python 3"
    },
    "language_info": {
      "name": "python"
    }
  },
  "cells": [
    {
      "cell_type": "markdown",
      "metadata": {
        "id": "view-in-github",
        "colab_type": "text"
      },
      "source": [
        "<a href=\"https://colab.research.google.com/github/takayama-rado/trado_samples/blob/main/colab_files/exp_affine_np_einsum.ipynb\" target=\"_parent\"><img src=\"https://colab.research.google.com/assets/colab-badge.svg\" alt=\"Open In Colab\"/></a>"
      ]
    },
    {
      "cell_type": "code",
      "execution_count": 1,
      "metadata": {
        "id": "rLQpr1ZcnYUp"
      },
      "outputs": [],
      "source": [
        "import numpy as np\n",
        "import time"
      ]
    },
    {
      "cell_type": "code",
      "source": [
        "inputs = np.random.rand(1000, 1000, 3)\n",
        "mat = np.random.rand(3, 3)\n",
        "print(inputs.shape)\n",
        "print(mat.shape)"
      ],
      "metadata": {
        "colab": {
          "base_uri": "https://localhost:8080/"
        },
        "id": "K2F_VsCEnaNU",
        "outputId": "ccfd24a0-ae1c-472a-f075-83db0358e2de"
      },
      "execution_count": 2,
      "outputs": [
        {
          "output_type": "stream",
          "name": "stdout",
          "text": [
            "(1000, 1000, 3)\n",
            "(3, 3)\n"
          ]
        }
      ]
    },
    {
      "cell_type": "code",
      "source": [
        "def simple_affine(inputs, mat):\n",
        "    newinputs = []\n",
        "    shape = inputs.shape\n",
        "    for i in range(shape[0]):\n",
        "        row = []\n",
        "        for j in range(shape[1]):\n",
        "            temp = inputs[i, j]\n",
        "            temp = np.matmul(mat, temp)\n",
        "            row.append(temp)\n",
        "        newinputs.append(row)\n",
        "    newinputs = np.array(newinputs)\n",
        "    return newinputs"
      ],
      "metadata": {
        "id": "WTDyE0QOupnc"
      },
      "execution_count": 3,
      "outputs": []
    },
    {
      "cell_type": "code",
      "source": [
        "# Apply affine.\n",
        "trial = 10\n",
        "start = time.perf_counter()\n",
        "for _ in range(trial):\n",
        "    newinputs1 = simple_affine(inputs, mat)\n",
        "interval = time.perf_counter() - start\n",
        "print(newinputs1.shape)\n",
        "print(f\"Time1:{interval / trial}\")"
      ],
      "metadata": {
        "colab": {
          "base_uri": "https://localhost:8080/"
        },
        "id": "MZyo5wBbnnuz",
        "outputId": "f52b8d20-c6e2-4c61-dff2-ea968ba10653"
      },
      "execution_count": 4,
      "outputs": [
        {
          "output_type": "stream",
          "name": "stdout",
          "text": [
            "(1000, 1000, 3)\n",
            "Time1:2.967733277299999\n"
          ]
        }
      ]
    },
    {
      "cell_type": "code",
      "source": [
        "start = time.perf_counter()\n",
        "for _ in range(trial):\n",
        "    newinputs2 = np.einsum(\"ij,nmj->nmi\", mat, inputs)\n",
        "interval = time.perf_counter() - start\n",
        "print(f\"Time2:{interval / trial}\")\n",
        "\n",
        "diff = (newinputs1 - newinputs2).sum()\n",
        "print(f\"Diff:{diff}\")"
      ],
      "metadata": {
        "colab": {
          "base_uri": "https://localhost:8080/"
        },
        "id": "PkNYVKNjbdsq",
        "outputId": "746e953e-cc53-4fb5-9797-0a6d8a08f78f"
      },
      "execution_count": 5,
      "outputs": [
        {
          "output_type": "stream",
          "name": "stdout",
          "text": [
            "Time2:0.03701798059999959\n",
            "Diff:-6.526723606015139e-14\n"
          ]
        }
      ]
    },
    {
      "cell_type": "code",
      "source": [
        "start = time.perf_counter()\n",
        "for _ in range(trial):\n",
        "    newinputs2 = np.einsum(\"abj,ij\", inputs, mat)\n",
        "interval = time.perf_counter() - start\n",
        "print(f\"Time3:{interval / trial}\")\n",
        "\n",
        "diff = (newinputs1 - newinputs2).sum()\n",
        "print(f\"Diff:{diff}\")"
      ],
      "metadata": {
        "colab": {
          "base_uri": "https://localhost:8080/"
        },
        "id": "gZ6j2y1PoNx0",
        "outputId": "c995d5d6-d9af-4753-a856-5da0bbf059b7"
      },
      "execution_count": 6,
      "outputs": [
        {
          "output_type": "stream",
          "name": "stdout",
          "text": [
            "Time3:0.03361054859999939\n",
            "Diff:-6.526723606015139e-14\n"
          ]
        }
      ]
    },
    {
      "cell_type": "code",
      "source": [
        "start = time.perf_counter()\n",
        "for _ in range(trial):\n",
        "    newinputs2 = np.einsum(\"...j,ij->...i\", inputs, mat)\n",
        "interval = time.perf_counter() - start\n",
        "print(f\"Time4:{interval / trial}\")\n",
        "\n",
        "diff = (newinputs1 - newinputs2).sum()\n",
        "print(f\"Diff:{diff}\")"
      ],
      "metadata": {
        "colab": {
          "base_uri": "https://localhost:8080/"
        },
        "id": "0aZ0S9nia7Li",
        "outputId": "a15e3663-014a-426b-d130-b896b37bced2"
      },
      "execution_count": 7,
      "outputs": [
        {
          "output_type": "stream",
          "name": "stdout",
          "text": [
            "Time4:0.03709876750000092\n",
            "Diff:-6.526723606015139e-14\n"
          ]
        }
      ]
    }
  ]
}