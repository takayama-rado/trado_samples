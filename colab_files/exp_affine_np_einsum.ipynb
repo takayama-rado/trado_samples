{
  "nbformat": 4,
  "nbformat_minor": 0,
  "metadata": {
    "colab": {
      "provenance": [],
      "authorship_tag": "ABX9TyOQn6+PDI9EYEZO2JDSvmJh",
      "include_colab_link": true
    },
    "kernelspec": {
      "name": "python3",
      "display_name": "Python 3"
    },
    "language_info": {
      "name": "python"
    }
  },
  "cells": [
    {
      "cell_type": "markdown",
      "metadata": {
        "id": "view-in-github",
        "colab_type": "text"
      },
      "source": [
        "<a href=\"https://colab.research.google.com/github/takayama-rado/trado_samples/blob/main/colab_files/exp_affine_np_einsum.ipynb\" target=\"_parent\"><img src=\"https://colab.research.google.com/assets/colab-badge.svg\" alt=\"Open In Colab\"/></a>"
      ]
    },
    {
      "cell_type": "code",
      "execution_count": 1,
      "metadata": {
        "id": "rLQpr1ZcnYUp"
      },
      "outputs": [],
      "source": [
        "import numpy as np\n",
        "import time"
      ]
    },
    {
      "cell_type": "code",
      "source": [
        "inputs = np.random.rand(1000, 1000, 3)\n",
        "mat = np.random.rand(3, 3)\n",
        "print(inputs.shape)\n",
        "print(mat.shape)"
      ],
      "metadata": {
        "colab": {
          "base_uri": "https://localhost:8080/"
        },
        "id": "K2F_VsCEnaNU",
        "outputId": "83784c7a-d775-43d3-8010-cfe3ec0c8d0b"
      },
      "execution_count": 2,
      "outputs": [
        {
          "output_type": "stream",
          "name": "stdout",
          "text": [
            "(1000, 1000, 3)\n",
            "(3, 3)\n"
          ]
        }
      ]
    },
    {
      "cell_type": "code",
      "source": [
        "# Apply affine.\n",
        "newinputs1 = []\n",
        "shape = inputs.shape\n",
        "start = time.perf_counter()\n",
        "for i in range(shape[0]):\n",
        "    row = []\n",
        "    for j in range(shape[1]):\n",
        "        temp = inputs[i, j]\n",
        "        temp = np.matmul(mat, temp)\n",
        "        row.append(temp)\n",
        "    newinputs1.append(row)\n",
        "newinputs1 = np.array(newinputs1)\n",
        "interval = time.perf_counter() - start\n",
        "print(newinputs1.shape)\n",
        "print(f\"Time1:{interval}\")"
      ],
      "metadata": {
        "colab": {
          "base_uri": "https://localhost:8080/"
        },
        "id": "MZyo5wBbnnuz",
        "outputId": "801be04c-96be-498d-8fb4-982bb403367d"
      },
      "execution_count": 3,
      "outputs": [
        {
          "output_type": "stream",
          "name": "stdout",
          "text": [
            "(1000, 1000, 3)\n",
            "Time1:4.6350575379999555\n"
          ]
        }
      ]
    },
    {
      "cell_type": "code",
      "source": [
        "start = time.perf_counter()\n",
        "newinputs2 = np.einsum(\"ij,nmj->nmi\", mat, inputs)\n",
        "interval = time.perf_counter() - start\n",
        "print(f\"Time2:{interval}\")\n",
        "\n",
        "diff = (newinputs1 - newinputs2).sum()\n",
        "print(f\"Diff:{diff}\")"
      ],
      "metadata": {
        "colab": {
          "base_uri": "https://localhost:8080/"
        },
        "id": "PkNYVKNjbdsq",
        "outputId": "0f7e5f01-2128-4027-c3e6-f2373ca64826"
      },
      "execution_count": 4,
      "outputs": [
        {
          "output_type": "stream",
          "name": "stdout",
          "text": [
            "Time2:0.09381940799994481\n",
            "Diff:1.5955856427773973e-13\n"
          ]
        }
      ]
    },
    {
      "cell_type": "code",
      "source": [
        "start = time.perf_counter()\n",
        "newinputs2 = np.einsum(\"abj,ij\", inputs, mat)\n",
        "interval = time.perf_counter() - start\n",
        "print(f\"Time3:{interval}\")\n",
        "\n",
        "diff = (newinputs1 - newinputs2).sum()\n",
        "print(f\"Diff:{diff}\")"
      ],
      "metadata": {
        "colab": {
          "base_uri": "https://localhost:8080/"
        },
        "id": "gZ6j2y1PoNx0",
        "outputId": "2d6be4fc-f767-4974-c5dc-fbd121f4fc09"
      },
      "execution_count": 5,
      "outputs": [
        {
          "output_type": "stream",
          "name": "stdout",
          "text": [
            "Time3:0.3065470959998038\n",
            "Diff:1.5955856427773973e-13\n"
          ]
        }
      ]
    },
    {
      "cell_type": "code",
      "source": [
        "start = time.perf_counter()\n",
        "newinputs2 = np.einsum(\"...j,ij\", inputs, mat)\n",
        "interval = time.perf_counter() - start\n",
        "print(f\"Time4:{interval}\")\n",
        "\n",
        "diff = (newinputs1 - newinputs2).sum()\n",
        "print(f\"Diff:{diff}\")"
      ],
      "metadata": {
        "colab": {
          "base_uri": "https://localhost:8080/"
        },
        "id": "0aZ0S9nia7Li",
        "outputId": "ca87b52d-bd10-4f26-a7cd-107b7ed95522"
      },
      "execution_count": 6,
      "outputs": [
        {
          "output_type": "stream",
          "name": "stdout",
          "text": [
            "Time4:0.08913846500013278\n",
            "Diff:1.5955856427773973e-13\n"
          ]
        }
      ]
    }
  ]
}