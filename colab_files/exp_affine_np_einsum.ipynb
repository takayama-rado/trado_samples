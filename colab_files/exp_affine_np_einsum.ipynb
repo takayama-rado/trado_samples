{
  "nbformat": 4,
  "nbformat_minor": 0,
  "metadata": {
    "colab": {
      "provenance": [],
      "authorship_tag": "ABX9TyOdrlYXWQ8PkShZjm2B7hGw",
      "include_colab_link": true
    },
    "kernelspec": {
      "name": "python3",
      "display_name": "Python 3"
    },
    "language_info": {
      "name": "python"
    }
  },
  "cells": [
    {
      "cell_type": "markdown",
      "metadata": {
        "id": "view-in-github",
        "colab_type": "text"
      },
      "source": [
        "<a href=\"https://colab.research.google.com/github/takayama-rado/trado_samples/blob/main/colab_files/exp_affine_np_einsum.ipynb\" target=\"_parent\"><img src=\"https://colab.research.google.com/assets/colab-badge.svg\" alt=\"Open In Colab\"/></a>"
      ]
    },
    {
      "cell_type": "code",
      "execution_count": 1,
      "metadata": {
        "id": "rLQpr1ZcnYUp"
      },
      "outputs": [],
      "source": [
        "import numpy as np\n",
        "import time"
      ]
    },
    {
      "cell_type": "code",
      "source": [
        "inputs = np.random.rand(1000, 1000, 3)\n",
        "mat = np.random.rand(3, 3)\n",
        "print(inputs.shape)\n",
        "print(mat.shape)"
      ],
      "metadata": {
        "colab": {
          "base_uri": "https://localhost:8080/"
        },
        "id": "K2F_VsCEnaNU",
        "outputId": "6d4d2abe-5909-4b8f-8aa8-928820427ffa"
      },
      "execution_count": 2,
      "outputs": [
        {
          "output_type": "stream",
          "name": "stdout",
          "text": [
            "(1000, 1000, 3)\n",
            "(3, 3)\n"
          ]
        }
      ]
    },
    {
      "cell_type": "code",
      "source": [
        "# Apply affine.\n",
        "newinputs1 = []\n",
        "shape = inputs.shape\n",
        "start = time.perf_counter()\n",
        "for i in range(shape[0]):\n",
        "  row = []\n",
        "  for j in range(shape[1]):\n",
        "    temp = inputs[i, j]\n",
        "    temp = np.matmul(mat, temp)\n",
        "    row.append(temp)\n",
        "  newinputs1.append(row)\n",
        "newinputs1 = np.array(newinputs1)\n",
        "interval = time.perf_counter() - start\n",
        "print(newinputs1.shape)\n",
        "print(f\"Time1:{interval}\")"
      ],
      "metadata": {
        "colab": {
          "base_uri": "https://localhost:8080/"
        },
        "id": "MZyo5wBbnnuz",
        "outputId": "91fd7c79-bad4-4b1c-8343-f5cf30ce87e6"
      },
      "execution_count": 3,
      "outputs": [
        {
          "output_type": "stream",
          "name": "stdout",
          "text": [
            "(1000, 1000, 3)\n",
            "Time1:2.799740294000003\n"
          ]
        }
      ]
    },
    {
      "cell_type": "code",
      "source": [
        "start = time.perf_counter()\n",
        "newinputs2 = np.einsum(\"ij,nmj->nmi\", mat, inputs)\n",
        "interval = time.perf_counter() - start\n",
        "print(f\"Time2:{interval}\")"
      ],
      "metadata": {
        "colab": {
          "base_uri": "https://localhost:8080/"
        },
        "id": "PkNYVKNjbdsq",
        "outputId": "2f27056f-f481-4f37-c214-d6073aeec0c0"
      },
      "execution_count": 4,
      "outputs": [
        {
          "output_type": "stream",
          "name": "stdout",
          "text": [
            "Time2:0.052035278999994716\n"
          ]
        }
      ]
    },
    {
      "cell_type": "code",
      "source": [
        "diff = (newinputs1 - newinputs2).sum()\n",
        "print(f\"Diff:{diff}\")"
      ],
      "metadata": {
        "colab": {
          "base_uri": "https://localhost:8080/"
        },
        "id": "Q6v3r1LAbfo5",
        "outputId": "6a2000de-fed5-450a-8d5b-a9845f93c3fc"
      },
      "execution_count": 5,
      "outputs": [
        {
          "output_type": "stream",
          "name": "stdout",
          "text": [
            "Diff:1.957019615805855e-13\n"
          ]
        }
      ]
    },
    {
      "cell_type": "code",
      "source": [
        "start = time.perf_counter()\n",
        "newinputs2 = np.einsum(\"abj,ij\", inputs, mat)\n",
        "interval = time.perf_counter() - start\n",
        "print(f\"Time2:{interval}\")"
      ],
      "metadata": {
        "colab": {
          "base_uri": "https://localhost:8080/"
        },
        "id": "gZ6j2y1PoNx0",
        "outputId": "34efd7ae-9c92-46e7-c4c2-b827a5f8cb14"
      },
      "execution_count": 6,
      "outputs": [
        {
          "output_type": "stream",
          "name": "stdout",
          "text": [
            "Time2:0.060943398000006255\n"
          ]
        }
      ]
    },
    {
      "cell_type": "code",
      "source": [
        "diff = (newinputs1 - newinputs2).sum()\n",
        "print(f\"Diff:{diff}\")"
      ],
      "metadata": {
        "colab": {
          "base_uri": "https://localhost:8080/"
        },
        "id": "aMvmo9eGo0JD",
        "outputId": "a55cf7fd-5e9e-4798-ed05-3c1f34a89bef"
      },
      "execution_count": 7,
      "outputs": [
        {
          "output_type": "stream",
          "name": "stdout",
          "text": [
            "Diff:1.957019615805855e-13\n"
          ]
        }
      ]
    },
    {
      "cell_type": "code",
      "source": [
        "start = time.perf_counter()\n",
        "newinputs2 = np.einsum(\"...j,ij\", inputs, mat)\n",
        "interval = time.perf_counter() - start\n",
        "print(f\"Time2:{interval}\")"
      ],
      "metadata": {
        "colab": {
          "base_uri": "https://localhost:8080/"
        },
        "id": "0aZ0S9nia7Li",
        "outputId": "19f750d0-bde7-41d1-d5ae-7bc3ad9ac5dc"
      },
      "execution_count": 8,
      "outputs": [
        {
          "output_type": "stream",
          "name": "stdout",
          "text": [
            "Time2:0.07013583400001266\n"
          ]
        }
      ]
    },
    {
      "cell_type": "code",
      "source": [
        "diff = (newinputs1 - newinputs2).sum()\n",
        "print(f\"Diff:{diff}\")"
      ],
      "metadata": {
        "colab": {
          "base_uri": "https://localhost:8080/"
        },
        "id": "W2nia7FvbJ9C",
        "outputId": "1e7d26cc-8b69-4fee-cd96-a4d1381a1fb5"
      },
      "execution_count": 9,
      "outputs": [
        {
          "output_type": "stream",
          "name": "stdout",
          "text": [
            "Diff:1.957019615805855e-13\n"
          ]
        }
      ]
    }
  ]
}