{
  "nbformat": 4,
  "nbformat_minor": 0,
  "metadata": {
    "colab": {
      "provenance": [],
      "authorship_tag": "ABX9TyO9SqhCvVxv+PhMqHydPJAc",
      "include_colab_link": true
    },
    "kernelspec": {
      "name": "python3",
      "display_name": "Python 3"
    },
    "language_info": {
      "name": "python"
    }
  },
  "cells": [
    {
      "cell_type": "markdown",
      "metadata": {
        "id": "view-in-github",
        "colab_type": "text"
      },
      "source": [
        "<a href=\"https://colab.research.google.com/github/takayama-rado/trado_samples/blob/main/colab_files/exp_track_affine_tensorflow.ipynb\" target=\"_parent\"><img src=\"https://colab.research.google.com/assets/colab-badge.svg\" alt=\"Open In Colab\"/></a>"
      ]
    },
    {
      "cell_type": "markdown",
      "source": [
        "# 1. Load library"
      ],
      "metadata": {
        "id": "gw4ClQyEVjcj"
      }
    },
    {
      "cell_type": "code",
      "execution_count": 1,
      "metadata": {
        "id": "zjv2p9WoUzPx"
      },
      "outputs": [],
      "source": [
        "# Standard modules.\n",
        "import sys\n",
        "import time\n",
        "from pathlib import Path\n",
        "\n",
        "# CV/ML.\n",
        "import numpy as np\n",
        "\n",
        "import tensorflow as tf"
      ]
    },
    {
      "cell_type": "code",
      "source": [
        "print(f\"Python:{sys.version}\")\n",
        "print(f\"Numpy:{np.__version__}\")\n",
        "print(f\"Tensorflow:{tf.__version__}\")"
      ],
      "metadata": {
        "colab": {
          "base_uri": "https://localhost:8080/"
        },
        "id": "TZa7NHSygCxU",
        "outputId": "320f868b-4004-4e61-ad02-3887fe71f9d5"
      },
      "execution_count": 2,
      "outputs": [
        {
          "output_type": "stream",
          "name": "stdout",
          "text": [
            "Python:3.10.12 (main, Jun 11 2023, 05:26:28) [GCC 11.4.0]\n",
            "Numpy:1.23.5\n",
            "Tensorflow:2.13.0\n"
          ]
        }
      ]
    },
    {
      "cell_type": "markdown",
      "source": [
        "# 2. Load data"
      ],
      "metadata": {
        "id": "dEOndI61XaTk"
      }
    },
    {
      "cell_type": "code",
      "source": [
        "!wget https://github.com/takayama-rado/trado_samples/raw/main/test_data/finger_far0_non_static.npy"
      ],
      "metadata": {
        "colab": {
          "base_uri": "https://localhost:8080/"
        },
        "id": "UJvFpGmlXZmS",
        "outputId": "a88d19f3-72b0-4500-8f76-e307cc101a48"
      },
      "execution_count": 3,
      "outputs": [
        {
          "output_type": "stream",
          "name": "stdout",
          "text": [
            "--2023-10-17 02:41:31--  https://github.com/takayama-rado/trado_samples/raw/main/test_data/finger_far0_non_static.npy\n",
            "Resolving github.com (github.com)... 140.82.113.3\n",
            "Connecting to github.com (github.com)|140.82.113.3|:443... connected.\n",
            "HTTP request sent, awaiting response... 302 Found\n",
            "Location: https://raw.githubusercontent.com/takayama-rado/trado_samples/main/test_data/finger_far0_non_static.npy [following]\n",
            "--2023-10-17 02:41:31--  https://raw.githubusercontent.com/takayama-rado/trado_samples/main/test_data/finger_far0_non_static.npy\n",
            "Resolving raw.githubusercontent.com (raw.githubusercontent.com)... 185.199.108.133, 185.199.109.133, 185.199.110.133, ...\n",
            "Connecting to raw.githubusercontent.com (raw.githubusercontent.com)|185.199.108.133|:443... connected.\n",
            "HTTP request sent, awaiting response... 200 OK\n",
            "Length: 2300608 (2.2M) [application/octet-stream]\n",
            "Saving to: ‘finger_far0_non_static.npy’\n",
            "\n",
            "finger_far0_non_sta 100%[===================>]   2.19M  --.-KB/s    in 0.08s   \n",
            "\n",
            "2023-10-17 02:41:31 (27.7 MB/s) - ‘finger_far0_non_static.npy’ saved [2300608/2300608]\n",
            "\n"
          ]
        }
      ]
    },
    {
      "cell_type": "code",
      "source": [
        "!wget https://github.com/takayama-rado/trado_samples/raw/main/test_data/finger_far0_non_static_affine.npy"
      ],
      "metadata": {
        "colab": {
          "base_uri": "https://localhost:8080/"
        },
        "id": "UAz7BS-qXdXb",
        "outputId": "21b86b1a-127b-4549-d85d-5d34fd9b8792"
      },
      "execution_count": 4,
      "outputs": [
        {
          "output_type": "stream",
          "name": "stdout",
          "text": [
            "--2023-10-17 02:41:31--  https://github.com/takayama-rado/trado_samples/raw/main/test_data/finger_far0_non_static_affine.npy\n",
            "Resolving github.com (github.com)... 140.82.113.3\n",
            "Connecting to github.com (github.com)|140.82.113.3|:443... connected.\n",
            "HTTP request sent, awaiting response... 302 Found\n",
            "Location: https://raw.githubusercontent.com/takayama-rado/trado_samples/main/test_data/finger_far0_non_static_affine.npy [following]\n",
            "--2023-10-17 02:41:32--  https://raw.githubusercontent.com/takayama-rado/trado_samples/main/test_data/finger_far0_non_static_affine.npy\n",
            "Resolving raw.githubusercontent.com (raw.githubusercontent.com)... 185.199.111.133, 185.199.108.133, 185.199.109.133, ...\n",
            "Connecting to raw.githubusercontent.com (raw.githubusercontent.com)|185.199.111.133|:443... connected.\n",
            "HTTP request sent, awaiting response... 200 OK\n",
            "Length: 2300608 (2.2M) [application/octet-stream]\n",
            "Saving to: ‘finger_far0_non_static_affine.npy’\n",
            "\n",
            "finger_far0_non_sta 100%[===================>]   2.19M  --.-KB/s    in 0.09s   \n",
            "\n",
            "2023-10-17 02:41:32 (25.0 MB/s) - ‘finger_far0_non_static_affine.npy’ saved [2300608/2300608]\n",
            "\n"
          ]
        }
      ]
    },
    {
      "cell_type": "code",
      "source": [
        "!ls"
      ],
      "metadata": {
        "colab": {
          "base_uri": "https://localhost:8080/"
        },
        "id": "fq-mcRtYXffq",
        "outputId": "b21fa41b-39a8-4c70-ec50-e9ba19d8d438"
      },
      "execution_count": 5,
      "outputs": [
        {
          "output_type": "stream",
          "name": "stdout",
          "text": [
            "finger_far0_non_static_affine.npy  finger_far0_non_static.npy  sample_data\n"
          ]
        }
      ]
    },
    {
      "cell_type": "markdown",
      "source": [
        "# 3. Implement affine transformation"
      ],
      "metadata": {
        "id": "1Id1NjehXvyb"
      }
    },
    {
      "cell_type": "markdown",
      "source": [
        "## 3.1 Based on define-by-run (eager execution)."
      ],
      "metadata": {
        "id": "CjERevLiYE7i"
      }
    },
    {
      "cell_type": "code",
      "source": [
        "def get_affine_matrix_2d_tf_eager(center,\n",
        "                                  trans,\n",
        "                                  scale,\n",
        "                                  rot,\n",
        "                                  skew,\n",
        "                                  dtype=tf.float32):\n",
        "    center_m = tf.identity([[1.0, 0.0, -center[0]],\n",
        "                            [0.0, 1.0, -center[1]],\n",
        "                            [0.0, 0.0, 1.0]])\n",
        "    scale_m = tf.identity([[scale[0], 0.0, 0.0],\n",
        "                           [0.0, scale[1], 0.0],\n",
        "                           [0.0, 0.0, 1.0]])\n",
        "    _cos = tf.math.cos(rot)\n",
        "    _sin = tf.math.sin(rot)\n",
        "    rot_m = tf.identity([[_cos, -_sin, 0.0],\n",
        "                         [_sin, _cos, 0],\n",
        "                         [0.0, 0.0, 1.0]])\n",
        "    _tan = tf.math.tan(skew)\n",
        "    skew_m = tf.identity([[1.0, _tan[0], 0.0],\n",
        "                          [_tan[1], 1.0, 0.0],\n",
        "                          [0.0, 0.0, 1.0]])\n",
        "    move = center + trans\n",
        "    trans_m = tf.identity([[1.0, 0.0, move[0]],\n",
        "                           [0.0, 1.0, move[1]],\n",
        "                           [0.0, 0.0, 1.0]])\n",
        "    # Cast to required dtype.\n",
        "    center_m = tf.cast(center_m, dtype=dtype)\n",
        "    scale_m = tf.cast(scale_m, dtype=dtype)\n",
        "    rot_m = tf.cast(rot_m, dtype=dtype)\n",
        "    skew_m = tf.cast(skew_m, dtype=dtype)\n",
        "    trans_m = tf.cast(trans_m, dtype=dtype)\n",
        "    # Make affine matrix.\n",
        "    mat = tf.eye(3, 3, dtype=dtype)\n",
        "    mat = tf.linalg.matmul(center_m, mat)\n",
        "    mat = tf.linalg.matmul(scale_m, mat)\n",
        "    mat = tf.linalg.matmul(rot_m, mat)\n",
        "    mat = tf.linalg.matmul(skew_m, mat)\n",
        "    mat = tf.linalg.matmul(trans_m, mat)\n",
        "    return tf.cast(mat, dtype=dtype)"
      ],
      "metadata": {
        "id": "SNG1axgTXz9i"
      },
      "execution_count": 6,
      "outputs": []
    },
    {
      "cell_type": "code",
      "source": [
        "def apply_affine_tf_eager(inputs, mat):\n",
        "    xy = tf.gather(inputs, [0, 1], axis=-1)\n",
        "    # Can not determine shape.\n",
        "    # shape = xy.shape\n",
        "    # ones = tf.ones([xy.shape[0], xy.shape[1], 1], dtype=self.dtype)\n",
        "    ones = tf.ones_like(xy[:, :, :1])\n",
        "    xy = tf.concat([xy, ones], axis=-1)\n",
        "    xy = tf.einsum(\"...j,ij\", xy, mat)\n",
        "    # Remove homogeneous coordinate.\n",
        "    xy = xy[:, :, :-1]\n",
        "\n",
        "    # Transpose for scatter.\n",
        "    # `[T, J, C] -> [C, T, J]`\n",
        "    inputs = tf.transpose(inputs, [2, 0, 1])\n",
        "    xy = tf.transpose(xy, [2, 0, 1])\n",
        "    indices = tf.constant([0, 1], dtype=tf.int32)[..., None]\n",
        "    inputs = tf.tensor_scatter_nd_update(inputs, indices, xy)\n",
        "    # `[C, T, J] -> [T, J, C]`\n",
        "    inputs = tf.transpose(inputs, [1, 2, 0])\n",
        "    return inputs"
      ],
      "metadata": {
        "id": "iFt95lFDX6G0"
      },
      "execution_count": 7,
      "outputs": []
    },
    {
      "cell_type": "code",
      "source": [
        "# Load data.\n",
        "trackfile = Path(\"./finger_far0_non_static.npy\")\n",
        "reffile = Path(\"./finger_far0_non_static_affine.npy\")\n",
        "trackdata = np.load(trackfile)\n",
        "refdata = np.load(reffile)\n",
        "print(trackdata.shape)\n",
        "\n",
        "# Remove person axis.\n",
        "trackdata = trackdata[0]\n",
        "refdata = refdata[0]"
      ],
      "metadata": {
        "colab": {
          "base_uri": "https://localhost:8080/"
        },
        "id": "vTroYQRYYNwS",
        "outputId": "a60d566d-849d-42af-8932-d1f79a75c93b"
      },
      "execution_count": 8,
      "outputs": [
        {
          "output_type": "stream",
          "name": "stdout",
          "text": [
            "(1, 130, 553, 4)\n"
          ]
        }
      ]
    },
    {
      "cell_type": "code",
      "source": [
        "# Get affine matrix.\n",
        "center = np.array([638.0, 389.0])\n",
        "trans = np.array([100.0, 0.0])\n",
        "scale = np.array([2.0, 0.5])\n",
        "rot = float(np.radians(15.0))\n",
        "skew = np.radians([15.0, 15.0])\n",
        "dtype = tf.float32\n",
        "print(\"Parameters\")\n",
        "print(\"Center:\", center)\n",
        "print(\"Trans:\", trans)\n",
        "print(\"Scale:\", scale)\n",
        "print(\"Rot:\", rot)\n",
        "print(\"Skew:\", skew)"
      ],
      "metadata": {
        "colab": {
          "base_uri": "https://localhost:8080/"
        },
        "id": "atuaNQs6YSWi",
        "outputId": "f28c7925-cde1-4276-ef75-85691f83b080"
      },
      "execution_count": 9,
      "outputs": [
        {
          "output_type": "stream",
          "name": "stdout",
          "text": [
            "Parameters\n",
            "Center: [638. 389.]\n",
            "Trans: [100.   0.]\n",
            "Scale: [2.  0.5]\n",
            "Rot: 0.2617993877991494\n",
            "Skew: [0.26179939 0.26179939]\n"
          ]
        }
      ]
    },
    {
      "cell_type": "code",
      "source": [
        "testtrack = trackdata.copy().astype(np.float32)\n",
        "trial = 10\n",
        "\n",
        "# The 1st call may be slow because of the computation graph construction.\n",
        "start = time.perf_counter()\n",
        "mat = get_affine_matrix_2d_tf_eager(center, trans, scale, rot, skew, dtype=dtype)\n",
        "newtrack = apply_affine_tf_eager(testtrack, mat)\n",
        "interval = time.perf_counter() - start\n",
        "print(f\"Time of first call:{interval}\")\n",
        "\n",
        "# Evaluate difference.\n",
        "diff = (np.round(newtrack.numpy()) - np.round(refdata)).sum()\n",
        "\n",
        "testtrack = trackdata.copy().astype(np.float32)\n",
        "\n",
        "start = time.perf_counter()\n",
        "for _ in range(trial):\n",
        "    mat = get_affine_matrix_2d_tf_eager(center, trans, scale, rot, skew, dtype=dtype)\n",
        "    newtrack = apply_affine_tf_eager(testtrack, mat)\n",
        "interval = time.perf_counter() - start\n",
        "print(f\"Average time:{interval / trial}\")\n",
        "\n",
        "print(f\"Sum of error:{diff}\")"
      ],
      "metadata": {
        "colab": {
          "base_uri": "https://localhost:8080/"
        },
        "id": "Ss79hdPcg6xa",
        "outputId": "1f0f475e-7163-4517-e200-1b877f7dea9a"
      },
      "execution_count": 10,
      "outputs": [
        {
          "output_type": "stream",
          "name": "stdout",
          "text": [
            "Time of first call:0.33390725200001725\n",
            "Average time:0.04138189829999987\n",
            "Sum of error:0.0\n"
          ]
        }
      ]
    },
    {
      "cell_type": "code",
      "source": [
        "testtrack = trackdata.copy().astype(np.float32)\n",
        "trial = 10\n",
        "\n",
        "# The 1st call may be slow because of the computation graph construction.\n",
        "start = time.perf_counter()\n",
        "mat = get_affine_matrix_2d_tf_eager(center, trans, scale, rot, skew, dtype=dtype)\n",
        "newtrack = apply_affine_tf_eager(testtrack[:-1], mat)\n",
        "interval = time.perf_counter() - start\n",
        "print(f\"Time of first call:{interval}\")\n",
        "\n",
        "testtrack = trackdata.copy().astype(np.float32)\n",
        "\n",
        "start = time.perf_counter()\n",
        "for _ in range(trial):\n",
        "    mat = get_affine_matrix_2d_tf_eager(center, trans, scale, rot, skew, dtype=dtype)\n",
        "    newtrack = apply_affine_tf_eager(testtrack[:-1], mat)\n",
        "interval = time.perf_counter() - start\n",
        "print(f\"Average time:{interval / trial}\")"
      ],
      "metadata": {
        "colab": {
          "base_uri": "https://localhost:8080/"
        },
        "id": "GZ6qmDi3hchT",
        "outputId": "6c8c5b85-69a3-47db-cbf6-626e10bcb04a"
      },
      "execution_count": 11,
      "outputs": [
        {
          "output_type": "stream",
          "name": "stdout",
          "text": [
            "Time of first call:0.03481286999999611\n",
            "Average time:0.030859349700000392\n"
          ]
        }
      ]
    },
    {
      "cell_type": "markdown",
      "source": [
        "# 3.2 Based on define-and-run (graph execution)"
      ],
      "metadata": {
        "id": "IAG2TmwkcE4s"
      }
    },
    {
      "cell_type": "code",
      "source": [
        "@tf.function\n",
        "def get_affine_matrix_2d_tf(center,\n",
        "                            trans,\n",
        "                            scale,\n",
        "                            rot,\n",
        "                            skew,\n",
        "                            dtype=tf.float32):\n",
        "    center_m = tf.identity([[1.0, 0.0, -center[0]],\n",
        "                            [0.0, 1.0, -center[1]],\n",
        "                            [0.0, 0.0, 1.0]])\n",
        "    scale_m = tf.identity([[scale[0], 0.0, 0.0],\n",
        "                           [0.0, scale[1], 0.0],\n",
        "                           [0.0, 0.0, 1.0]])\n",
        "    _cos = tf.math.cos(rot)\n",
        "    _sin = tf.math.sin(rot)\n",
        "    rot_m = tf.identity([[_cos, -_sin, 0.0],\n",
        "                         [_sin, _cos, 0],\n",
        "                         [0.0, 0.0, 1.0]])\n",
        "    _tan = tf.math.tan(skew)\n",
        "    skew_m = tf.identity([[1.0, _tan[0], 0.0],\n",
        "                          [_tan[1], 1.0, 0.0],\n",
        "                          [0.0, 0.0, 1.0]])\n",
        "    move = center + trans\n",
        "    trans_m = tf.identity([[1.0, 0.0, move[0]],\n",
        "                           [0.0, 1.0, move[1]],\n",
        "                           [0.0, 0.0, 1.0]])\n",
        "    # Cast to required dtype.\n",
        "    center_m = tf.cast(center_m, dtype=dtype)\n",
        "    scale_m = tf.cast(scale_m, dtype=dtype)\n",
        "    rot_m = tf.cast(rot_m, dtype=dtype)\n",
        "    skew_m = tf.cast(skew_m, dtype=dtype)\n",
        "    trans_m = tf.cast(trans_m, dtype=dtype)\n",
        "    # Make affine matrix.\n",
        "    mat = tf.eye(3, 3, dtype=dtype)\n",
        "    mat = tf.linalg.matmul(center_m, mat)\n",
        "    mat = tf.linalg.matmul(scale_m, mat)\n",
        "    mat = tf.linalg.matmul(rot_m, mat)\n",
        "    mat = tf.linalg.matmul(skew_m, mat)\n",
        "    mat = tf.linalg.matmul(trans_m, mat)\n",
        "    return tf.cast(mat, dtype=dtype)"
      ],
      "metadata": {
        "id": "jDikjBcJcMpD"
      },
      "execution_count": 12,
      "outputs": []
    },
    {
      "cell_type": "code",
      "source": [
        "@tf.function(input_signature=(\n",
        "    tf.TensorSpec(shape=[None, None, 4], dtype=tf.float32),\n",
        "    tf.TensorSpec(shape=[3, 3], dtype=tf.float32),))\n",
        "def apply_affine_tf(inputs, mat):\n",
        "    xy = tf.gather(inputs, [0, 1], axis=-1)\n",
        "    # Can not determine shape.\n",
        "    # shape = xy.shape\n",
        "    # ones = tf.ones([xy.shape[0], xy.shape[1], 1], dtype=self.dtype)\n",
        "    ones = tf.ones_like(xy[:, :, :1])\n",
        "    xy = tf.concat([xy, ones], axis=-1)\n",
        "    xy = tf.einsum(\"...j,ij\", xy, mat)\n",
        "    # Remove homogeneous coordinate.\n",
        "    xy = xy[:, :, :-1]\n",
        "\n",
        "    # Transpose for scatter.\n",
        "    # `[T, J, C] -> [C, T, J]`\n",
        "    inputs = tf.transpose(inputs, [2, 0, 1])\n",
        "    xy = tf.transpose(xy, [2, 0, 1])\n",
        "    indices = tf.constant([0, 1], dtype=tf.int32)[..., None]\n",
        "    inputs = tf.tensor_scatter_nd_update(inputs, indices, xy)\n",
        "    # `[C, T, J] -> [T, J, C]`\n",
        "    inputs = tf.transpose(inputs, [1, 2, 0])\n",
        "    return inputs"
      ],
      "metadata": {
        "id": "BTg-AOWqcWxb"
      },
      "execution_count": 13,
      "outputs": []
    },
    {
      "cell_type": "code",
      "source": [
        "testtrack = trackdata.copy().astype(np.float32)\n",
        "dtype = tf.float32\n",
        "trial = 10\n",
        "\n",
        "# The 1st call may be slow because of the computation graph construction.\n",
        "start = time.perf_counter()\n",
        "mat = get_affine_matrix_2d_tf(center, trans, scale, rot, skew, dtype=dtype)\n",
        "newtrack = apply_affine_tf(testtrack, mat)\n",
        "interval = time.perf_counter() - start\n",
        "print(f\"Time of first call:{interval}\")\n",
        "\n",
        "# Evaluate difference.\n",
        "diff = (np.round(newtrack.numpy()) - np.round(refdata)).sum()\n",
        "\n",
        "testtrack = trackdata.copy().astype(np.float32)\n",
        "\n",
        "start = time.perf_counter()\n",
        "for _ in range(trial):\n",
        "    mat = get_affine_matrix_2d_tf(center, trans, scale, rot, skew, dtype=dtype)\n",
        "    newtrack = apply_affine_tf(testtrack, mat)\n",
        "interval = time.perf_counter() - start\n",
        "print(f\"Average time:{interval / trial}\")\n",
        "\n",
        "print(f\"Sum of error:{diff}\")"
      ],
      "metadata": {
        "colab": {
          "base_uri": "https://localhost:8080/"
        },
        "id": "lnj7E8-Bf1Dj",
        "outputId": "46610ca6-b42b-4b0d-a17e-001511389239"
      },
      "execution_count": 14,
      "outputs": [
        {
          "output_type": "stream",
          "name": "stdout",
          "text": [
            "Time of first call:1.6754202719999967\n",
            "Average time:0.030969702300001244\n",
            "Sum of error:0.0\n"
          ]
        }
      ]
    },
    {
      "cell_type": "code",
      "source": [
        "testtrack = trackdata.copy().astype(np.float32)\n",
        "trial = 10\n",
        "\n",
        "# The 1st call may be slow because of the computation graph construction.\n",
        "start = time.perf_counter()\n",
        "mat = get_affine_matrix_2d_tf(center, trans, scale, rot, skew, dtype=dtype)\n",
        "newtrack = apply_affine_tf_eager(testtrack[:-1], mat)\n",
        "interval = time.perf_counter() - start\n",
        "print(f\"Time of first call:{interval}\")\n",
        "\n",
        "testtrack = trackdata.copy().astype(np.float32)\n",
        "\n",
        "start = time.perf_counter()\n",
        "for _ in range(trial):\n",
        "    mat = get_affine_matrix_2d_tf(center, trans, scale, rot, skew, dtype=dtype)\n",
        "    newtrack = apply_affine_tf(testtrack[:-1], mat)\n",
        "interval = time.perf_counter() - start\n",
        "print(f\"Average time:{interval / trial}\")"
      ],
      "metadata": {
        "colab": {
          "base_uri": "https://localhost:8080/"
        },
        "id": "9ygb-iAdhssS",
        "outputId": "6ed443a3-fb2f-4f42-fd11-f513b53ddd6d"
      },
      "execution_count": 15,
      "outputs": [
        {
          "output_type": "stream",
          "name": "stdout",
          "text": [
            "Time of first call:0.05241142500000251\n",
            "Average time:0.025285513899999047\n"
          ]
        }
      ]
    },
    {
      "cell_type": "markdown",
      "source": [
        "# 4. Application to randomized transformation"
      ],
      "metadata": {
        "id": "ESTPQ2neh3Fa"
      }
    },
    {
      "cell_type": "markdown",
      "source": [
        "## 4.1. Implementation2: Call JIT function from a python process."
      ],
      "metadata": {
        "id": "Q3lUd3MFVxlK"
      }
    },
    {
      "cell_type": "code",
      "source": [
        "class RandomAffineTransform2D_TF():\n",
        "    def __init__(self,\n",
        "                 center_joints,\n",
        "                 apply_ratio,\n",
        "                 trans_range,\n",
        "                 scale_range,\n",
        "                 rot_range,\n",
        "                 skew_range,\n",
        "                 random_seed=None,\n",
        "                 dtype=tf.float32):\n",
        "\n",
        "        self.center_joints = center_joints\n",
        "        if isinstance(self.center_joints, int):\n",
        "            self.center_joints = [self.center_joints]\n",
        "\n",
        "        self.apply_ratio = apply_ratio\n",
        "        self.trans_range = trans_range\n",
        "        self.scale_range = scale_range\n",
        "        self.rot_range = np.radians(rot_range).tolist()\n",
        "        self.skew_range = np.radians(skew_range).tolist()\n",
        "        self.dtype = dtype\n",
        "        if random_seed is not None:\n",
        "            self.rng = tf.random.Generator.from_seed(random_seed)\n",
        "        else:\n",
        "            self.rng = tf.random.get_global_generator()\n",
        "\n",
        "    def __call__(self, inputs):\n",
        "        if self.rng.uniform((), minval=0.0, maxval=1.0) >= self.apply_ratio:\n",
        "            return inputs\n",
        "\n",
        "        temp = tf.gather(inputs, self.center_joints, axis=1)\n",
        "        shape = temp.shape\n",
        "        temp = tf.reshape(temp, [-1, len(self.center_joints), shape[-1]])\n",
        "        mask = tf.where(tf.reduce_sum(temp, axis=(1, 2)) != 0, 1.0, 0.0)\n",
        "        mask = tf.cast(mask, dtype=self.dtype)\n",
        "\n",
        "        temp = temp * mask[:, None, None]\n",
        "        mask_sum = tf.reduce_sum(mask)\n",
        "        # `[T, J, C] -> [J, C] -> [C]`\n",
        "        center = tf.reduce_sum(temp, axis=0) / mask_sum\n",
        "        center = tf.reduce_mean(center, axis=0)\n",
        "        # Use only x and y.\n",
        "        center = center[:2]\n",
        "\n",
        "        trans = self.rng.uniform((2,), minval=self.trans_range[0], maxval=self.trans_range[1])\n",
        "        scale = self.rng.uniform((2,), self.scale_range[0], self.scale_range[1])\n",
        "        rot = self.rng.uniform((), self.rot_range[0], self.rot_range[1])\n",
        "        skew = self.rng.uniform((2,), self.skew_range[0], self.skew_range[1])\n",
        "\n",
        "        mat = get_affine_matrix_2d_tf(center, trans, scale, rot, skew, dtype=self.dtype)\n",
        "\n",
        "        # Apply transformation.\n",
        "        inputs = apply_affine_tf(inputs, mat)\n",
        "        return inputs"
      ],
      "metadata": {
        "id": "d5xNtZfKWAcZ"
      },
      "execution_count": 16,
      "outputs": []
    },
    {
      "cell_type": "code",
      "source": [
        "aug_fn = RandomAffineTransform2D_TF(\n",
        "    center_joints=[11, 12],\n",
        "    apply_ratio=1.0,\n",
        "    trans_range=[-100.0, 100.0],\n",
        "    scale_range=[0.5, 2.0],\n",
        "    rot_range=[-30.0, 30.0],\n",
        "    skew_range=[-30.0, 30.0],\n",
        "    dtype=dtype)"
      ],
      "metadata": {
        "id": "_skxOG0zWG5R"
      },
      "execution_count": 17,
      "outputs": []
    },
    {
      "cell_type": "code",
      "source": [
        "trial = 10\n",
        "augtracks = []\n",
        "\n",
        "# The 1st call may be slow because of the computation graph construction.\n",
        "start = time.perf_counter()\n",
        "temp = aug_fn(trackdata.copy().astype(np.float32))\n",
        "interval = time.perf_counter() - start\n",
        "print(f\"Time of first call:{interval}\")\n",
        "\n",
        "start = time.perf_counter()\n",
        "for _ in range(trial):\n",
        "  augtracks.append(aug_fn(trackdata.copy().astype(np.float32)))\n",
        "interval = time.perf_counter() - start\n",
        "print(f\"Average time:{interval / trial}\")"
      ],
      "metadata": {
        "colab": {
          "base_uri": "https://localhost:8080/"
        },
        "id": "X026ipGKWNWA",
        "outputId": "73b4bf74-8cf3-47e5-f59d-51cbf5ecbb0b"
      },
      "execution_count": 18,
      "outputs": [
        {
          "output_type": "stream",
          "name": "stdout",
          "text": [
            "Time of first call:0.38601433599998813\n",
            "Average time:0.03773833449999984\n"
          ]
        }
      ]
    },
    {
      "cell_type": "code",
      "source": [
        "trial = 10\n",
        "augtracks = []\n",
        "\n",
        "# The 1st call may be slow because of the computation graph construction.\n",
        "start = time.perf_counter()\n",
        "temp = aug_fn(trackdata.copy().astype(np.float32)[:-1])\n",
        "interval = time.perf_counter() - start\n",
        "print(f\"Time of first call:{interval}\")\n",
        "\n",
        "start = time.perf_counter()\n",
        "for _ in range(trial):\n",
        "  augtracks.append(aug_fn(trackdata.copy().astype(np.float32))[:-1])\n",
        "interval = time.perf_counter() - start\n",
        "print(f\"Average time:{interval / trial}\")"
      ],
      "metadata": {
        "colab": {
          "base_uri": "https://localhost:8080/"
        },
        "id": "WRstjpbEWQbi",
        "outputId": "8c7d866a-077b-4c34-cbac-9c86bc531df3"
      },
      "execution_count": 19,
      "outputs": [
        {
          "output_type": "stream",
          "name": "stdout",
          "text": [
            "Time of first call:0.040777968999975656\n",
            "Average time:0.04661312759999987\n"
          ]
        }
      ]
    },
    {
      "cell_type": "markdown",
      "source": [
        "## 4.2. Implementation2: Apply JIT compile to whole affine process."
      ],
      "metadata": {
        "id": "6HWMBFl5VW27"
      }
    },
    {
      "cell_type": "code",
      "source": [
        "class RandomAffineTransform2D_TF_JIT():\n",
        "    def __init__(self,\n",
        "                 center_joints,\n",
        "                 apply_ratio,\n",
        "                 trans_range,\n",
        "                 scale_range,\n",
        "                 rot_range,\n",
        "                 skew_range,\n",
        "                 random_seed=None,\n",
        "                 dtype=tf.float32):\n",
        "\n",
        "        self.center_joints = center_joints\n",
        "        if isinstance(self.center_joints, int):\n",
        "            self.center_joints = [self.center_joints]\n",
        "\n",
        "        self.apply_ratio = apply_ratio\n",
        "        self.trans_range = trans_range\n",
        "        self.scale_range = scale_range\n",
        "        self.rot_range = np.radians(rot_range).tolist()\n",
        "        self.skew_range = np.radians(skew_range).tolist()\n",
        "        self.dtype = dtype\n",
        "        if random_seed is not None:\n",
        "            self.rng = tf.random.Generator.from_seed(random_seed)\n",
        "        else:\n",
        "            self.rng = tf.random.get_global_generator()\n",
        "\n",
        "    @tf.function(input_signature=(tf.TensorSpec(shape=[None, None, 4], dtype=tf.float32),))\n",
        "    def __call__(self, inputs):\n",
        "        if self.rng.uniform((), minval=0.0, maxval=1.0) >= self.apply_ratio:\n",
        "            retval = inputs\n",
        "        else:\n",
        "            temp = tf.gather(inputs, self.center_joints, axis=1)\n",
        "            shape = temp.shape\n",
        "            temp = tf.reshape(temp, [-1, len(self.center_joints), shape[-1]])\n",
        "            mask = tf.where(tf.reduce_sum(temp, axis=(1, 2)) != 0, 1.0, 0.0)\n",
        "            mask = tf.cast(mask, dtype=self.dtype)\n",
        "\n",
        "            temp = temp * mask[:, None, None]\n",
        "            mask_sum = tf.reduce_sum(mask)\n",
        "            # `[T, J, C] -> [J, C] -> [C]`\n",
        "            center = tf.reduce_sum(temp, axis=0) / mask_sum\n",
        "            center = tf.reduce_mean(center, axis=0)\n",
        "            # Use only x and y.\n",
        "            center = center[:2]\n",
        "\n",
        "            trans = self.rng.uniform((2,), minval=self.trans_range[0], maxval=self.trans_range[1])\n",
        "            scale = self.rng.uniform((2,), self.scale_range[0], self.scale_range[1])\n",
        "            rot = self.rng.uniform((), self.rot_range[0], self.rot_range[1])\n",
        "            skew = self.rng.uniform((2,), self.skew_range[0], self.skew_range[1])\n",
        "\n",
        "            mat = get_affine_matrix_2d_tf(center, trans, scale, rot, skew, dtype=self.dtype)\n",
        "\n",
        "            # Apply transformation.\n",
        "            inputs = apply_affine_tf(inputs, mat)\n",
        "            retval = inputs\n",
        "        return retval"
      ],
      "metadata": {
        "id": "MitRweYqh7Qs"
      },
      "execution_count": 20,
      "outputs": []
    },
    {
      "cell_type": "code",
      "source": [
        "aug_fn = RandomAffineTransform2D_TF_JIT(\n",
        "    center_joints=[11, 12],\n",
        "    apply_ratio=1.0,\n",
        "    trans_range=[-100.0, 100.0],\n",
        "    scale_range=[0.5, 2.0],\n",
        "    rot_range=[-30.0, 30.0],\n",
        "    skew_range=[-30.0, 30.0],\n",
        "    dtype=dtype)"
      ],
      "metadata": {
        "id": "mT9ryhF9iQ4b"
      },
      "execution_count": 21,
      "outputs": []
    },
    {
      "cell_type": "code",
      "source": [
        "trial = 10\n",
        "augtracks = []\n",
        "\n",
        "# The 1st call may be slow because of the computation graph construction.\n",
        "start = time.perf_counter()\n",
        "temp = aug_fn(trackdata.copy().astype(np.float32))\n",
        "interval = time.perf_counter() - start\n",
        "print(f\"Time of first call:{interval}\")\n",
        "\n",
        "start = time.perf_counter()\n",
        "for _ in range(trial):\n",
        "  augtracks.append(aug_fn(trackdata.copy().astype(np.float32)))\n",
        "interval = time.perf_counter() - start\n",
        "print(f\"Average time:{interval / trial}\")"
      ],
      "metadata": {
        "colab": {
          "base_uri": "https://localhost:8080/"
        },
        "id": "HdxguBNyiVxj",
        "outputId": "d8329395-5cf5-42ef-f444-be6fcdd4cb7d"
      },
      "execution_count": 22,
      "outputs": [
        {
          "output_type": "stream",
          "name": "stdout",
          "text": [
            "Time of first call:0.8682217840000135\n",
            "Average time:0.027948200599999494\n"
          ]
        }
      ]
    },
    {
      "cell_type": "code",
      "source": [
        "trial = 10\n",
        "augtracks = []\n",
        "\n",
        "# The 1st call may be slow because of the computation graph construction.\n",
        "start = time.perf_counter()\n",
        "temp = aug_fn(trackdata.copy().astype(np.float32)[:-1])\n",
        "interval = time.perf_counter() - start\n",
        "print(f\"Time of first call:{interval}\")\n",
        "\n",
        "start = time.perf_counter()\n",
        "for _ in range(trial):\n",
        "  augtracks.append(aug_fn(trackdata.copy().astype(np.float32))[:-1])\n",
        "interval = time.perf_counter() - start\n",
        "print(f\"Average time:{interval / trial}\")"
      ],
      "metadata": {
        "colab": {
          "base_uri": "https://localhost:8080/"
        },
        "id": "Wyt7qNzUlCk8",
        "outputId": "87159682-8938-4809-eddb-15c4d289a9f9"
      },
      "execution_count": 23,
      "outputs": [
        {
          "output_type": "stream",
          "name": "stdout",
          "text": [
            "Time of first call:0.018088719000019182\n",
            "Average time:0.021224944200000095\n"
          ]
        }
      ]
    }
  ]
}