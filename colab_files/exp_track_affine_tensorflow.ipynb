{
  "nbformat": 4,
  "nbformat_minor": 0,
  "metadata": {
    "colab": {
      "provenance": [],
      "authorship_tag": "ABX9TyP88DIaFtxekzIVxD/9T7oo",
      "include_colab_link": true
    },
    "kernelspec": {
      "name": "python3",
      "display_name": "Python 3"
    },
    "language_info": {
      "name": "python"
    }
  },
  "cells": [
    {
      "cell_type": "markdown",
      "metadata": {
        "id": "view-in-github",
        "colab_type": "text"
      },
      "source": [
        "<a href=\"https://colab.research.google.com/github/takayama-rado/trado_samples/blob/main/colab_files/exp_track_affine_tensorflow.ipynb\" target=\"_parent\"><img src=\"https://colab.research.google.com/assets/colab-badge.svg\" alt=\"Open In Colab\"/></a>"
      ]
    },
    {
      "cell_type": "markdown",
      "source": [
        "# 1. Load library"
      ],
      "metadata": {
        "id": "gw4ClQyEVjcj"
      }
    },
    {
      "cell_type": "code",
      "execution_count": 1,
      "metadata": {
        "id": "zjv2p9WoUzPx"
      },
      "outputs": [],
      "source": [
        "# Standard modules.\n",
        "import gc\n",
        "import sys\n",
        "import time\n",
        "from functools import partial\n",
        "\n",
        "# CV/ML.\n",
        "import numpy as np\n",
        "\n",
        "import tensorflow as tf"
      ]
    },
    {
      "cell_type": "code",
      "source": [
        "print(f\"Python:{sys.version}\")\n",
        "print(f\"Numpy:{np.__version__}\")\n",
        "print(f\"Tensorflow:{tf.__version__}\")"
      ],
      "metadata": {
        "colab": {
          "base_uri": "https://localhost:8080/"
        },
        "id": "TZa7NHSygCxU",
        "outputId": "91d23f51-2046-488e-dee3-88dc22541dd7"
      },
      "execution_count": 2,
      "outputs": [
        {
          "output_type": "stream",
          "name": "stdout",
          "text": [
            "Python:3.10.12 (main, Jun 11 2023, 05:26:28) [GCC 11.4.0]\n",
            "Numpy:1.23.5\n",
            "Tensorflow:2.14.0\n"
          ]
        }
      ]
    },
    {
      "cell_type": "markdown",
      "source": [
        "# 2. Load data"
      ],
      "metadata": {
        "id": "dEOndI61XaTk"
      }
    },
    {
      "cell_type": "code",
      "source": [
        "!wget https://github.com/takayama-rado/trado_samples/raw/main/test_data/finger_far0_non_static.npy"
      ],
      "metadata": {
        "colab": {
          "base_uri": "https://localhost:8080/"
        },
        "id": "UJvFpGmlXZmS",
        "outputId": "4f2bff99-0087-4f0e-9504-c8c61ca43233"
      },
      "execution_count": 3,
      "outputs": [
        {
          "output_type": "stream",
          "name": "stdout",
          "text": [
            "--2023-10-30 06:44:44--  https://github.com/takayama-rado/trado_samples/raw/main/test_data/finger_far0_non_static.npy\n",
            "Resolving github.com (github.com)... 140.82.112.3\n",
            "Connecting to github.com (github.com)|140.82.112.3|:443... connected.\n",
            "HTTP request sent, awaiting response... 302 Found\n",
            "Location: https://raw.githubusercontent.com/takayama-rado/trado_samples/main/test_data/finger_far0_non_static.npy [following]\n",
            "--2023-10-30 06:44:44--  https://raw.githubusercontent.com/takayama-rado/trado_samples/main/test_data/finger_far0_non_static.npy\n",
            "Resolving raw.githubusercontent.com (raw.githubusercontent.com)... 185.199.108.133, 185.199.109.133, 185.199.110.133, ...\n",
            "Connecting to raw.githubusercontent.com (raw.githubusercontent.com)|185.199.108.133|:443... connected.\n",
            "HTTP request sent, awaiting response... 200 OK\n",
            "Length: 2300608 (2.2M) [application/octet-stream]\n",
            "Saving to: ‘finger_far0_non_static.npy’\n",
            "\n",
            "finger_far0_non_sta 100%[===================>]   2.19M  --.-KB/s    in 0.08s   \n",
            "\n",
            "2023-10-30 06:44:45 (28.0 MB/s) - ‘finger_far0_non_static.npy’ saved [2300608/2300608]\n",
            "\n"
          ]
        }
      ]
    },
    {
      "cell_type": "code",
      "source": [
        "!wget https://github.com/takayama-rado/trado_samples/raw/main/test_data/finger_far0_non_static_affine.npy"
      ],
      "metadata": {
        "colab": {
          "base_uri": "https://localhost:8080/"
        },
        "id": "UAz7BS-qXdXb",
        "outputId": "bcb2d667-5cd1-4b79-e1f5-83a305901e31"
      },
      "execution_count": 4,
      "outputs": [
        {
          "output_type": "stream",
          "name": "stdout",
          "text": [
            "--2023-10-30 06:44:45--  https://github.com/takayama-rado/trado_samples/raw/main/test_data/finger_far0_non_static_affine.npy\n",
            "Resolving github.com (github.com)... 140.82.113.4\n",
            "Connecting to github.com (github.com)|140.82.113.4|:443... connected.\n",
            "HTTP request sent, awaiting response... 302 Found\n",
            "Location: https://raw.githubusercontent.com/takayama-rado/trado_samples/main/test_data/finger_far0_non_static_affine.npy [following]\n",
            "--2023-10-30 06:44:45--  https://raw.githubusercontent.com/takayama-rado/trado_samples/main/test_data/finger_far0_non_static_affine.npy\n",
            "Resolving raw.githubusercontent.com (raw.githubusercontent.com)... 185.199.108.133, 185.199.109.133, 185.199.110.133, ...\n",
            "Connecting to raw.githubusercontent.com (raw.githubusercontent.com)|185.199.108.133|:443... connected.\n",
            "HTTP request sent, awaiting response... 200 OK\n",
            "Length: 2300608 (2.2M) [application/octet-stream]\n",
            "Saving to: ‘finger_far0_non_static_affine.npy’\n",
            "\n",
            "finger_far0_non_sta 100%[===================>]   2.19M  --.-KB/s    in 0.09s   \n",
            "\n",
            "2023-10-30 06:44:45 (24.9 MB/s) - ‘finger_far0_non_static_affine.npy’ saved [2300608/2300608]\n",
            "\n"
          ]
        }
      ]
    },
    {
      "cell_type": "code",
      "source": [
        "!ls"
      ],
      "metadata": {
        "colab": {
          "base_uri": "https://localhost:8080/"
        },
        "id": "fq-mcRtYXffq",
        "outputId": "aaf49607-7d5f-47b7-b58e-a503bc51a23d"
      },
      "execution_count": 5,
      "outputs": [
        {
          "output_type": "stream",
          "name": "stdout",
          "text": [
            "finger_far0_non_static_affine.npy  finger_far0_non_static.npy  sample_data\n"
          ]
        }
      ]
    },
    {
      "cell_type": "markdown",
      "source": [
        "# 3. Evaluation settings"
      ],
      "metadata": {
        "id": "cayqmHhpYyX8"
      }
    },
    {
      "cell_type": "code",
      "source": [
        "def get_perf_str(val):\n",
        "    token_si = [\"\", \"m\", \"µ\", \"n\", \"p\"]\n",
        "    exp_si = [1, 1e3, 1e6, 1e9, 1e12]\n",
        "    perf_str = f\"{val:3g}s\"\n",
        "    si = \"\"\n",
        "    sval = val\n",
        "    for token, exp in zip(token_si, exp_si):\n",
        "        if val * exp > 1.0:\n",
        "            si = token\n",
        "            sval = val * exp\n",
        "            break\n",
        "    perf_str = f\"{sval:3g}{si}s\"\n",
        "    return perf_str"
      ],
      "metadata": {
        "id": "tajY_bvbY0bU"
      },
      "execution_count": 6,
      "outputs": []
    },
    {
      "cell_type": "code",
      "source": [
        "def print_perf_time(intervals, top_k=None):\n",
        "    if top_k is not None:\n",
        "        intervals = np.sort(intervals)[:top_k]\n",
        "    min = intervals.min()\n",
        "    max = intervals.max()\n",
        "    mean = intervals.mean()\n",
        "    std = intervals.std()\n",
        "\n",
        "    smin = get_perf_str(min)\n",
        "    smax = get_perf_str(max)\n",
        "    mean = get_perf_str(mean)\n",
        "    std = get_perf_str(std)\n",
        "    if top_k:\n",
        "        print(f\"Top {top_k} summary: Max {smax}, Min {smin}, Mean +/- Std {mean} +/- {std}\")\n",
        "    else:\n",
        "        print(f\"Overall summary: Max {smax}, Min {smin}, Mean +/- Std {mean} +/- {std}\")"
      ],
      "metadata": {
        "id": "prCl6NbhY3Fk"
      },
      "execution_count": 7,
      "outputs": []
    },
    {
      "cell_type": "code",
      "source": [
        "class PerfMeasure():\n",
        "    def __init__(self,\n",
        "                 trials=100,\n",
        "                 top_k=10):\n",
        "        self.trials = trials\n",
        "        self.top_k = top_k\n",
        "\n",
        "    def __call__(self, func):\n",
        "        gc.collect()\n",
        "        gc.disable()\n",
        "        intervals = []\n",
        "        for _ in range(self.trials):\n",
        "            start = time.perf_counter()\n",
        "            func()\n",
        "            end = time.perf_counter()\n",
        "            intervals.append(end - start)\n",
        "        intervals = np.array(intervals)\n",
        "        print_perf_time(intervals)\n",
        "        if self.top_k:\n",
        "            print_perf_time(intervals, self.top_k)\n",
        "        gc.enable()\n",
        "        gc.collect()"
      ],
      "metadata": {
        "id": "AqmRPW67Y4ck"
      },
      "execution_count": 8,
      "outputs": []
    },
    {
      "cell_type": "code",
      "source": [
        "TRIALS = 100\n",
        "TOPK = 10\n",
        "pmeasure = PerfMeasure(TRIALS, TOPK)"
      ],
      "metadata": {
        "id": "m3WbGpxGY5ob"
      },
      "execution_count": 9,
      "outputs": []
    },
    {
      "cell_type": "markdown",
      "source": [
        "# 4. Implement affine transformation"
      ],
      "metadata": {
        "id": "1Id1NjehXvyb"
      }
    },
    {
      "cell_type": "markdown",
      "source": [
        "## 4.1 Based on define-by-run (eager execution)."
      ],
      "metadata": {
        "id": "CjERevLiYE7i"
      }
    },
    {
      "cell_type": "code",
      "source": [
        "def get_affine_matrix_2d_tf_eager(center,\n",
        "                                  trans,\n",
        "                                  scale,\n",
        "                                  rot,\n",
        "                                  skew,\n",
        "                                  dtype=tf.float32):\n",
        "    center_m = tf.identity([[1.0, 0.0, -center[0]],\n",
        "                            [0.0, 1.0, -center[1]],\n",
        "                            [0.0, 0.0, 1.0]])\n",
        "    scale_m = tf.identity([[scale[0], 0.0, 0.0],\n",
        "                           [0.0, scale[1], 0.0],\n",
        "                           [0.0, 0.0, 1.0]])\n",
        "    _cos = tf.math.cos(rot)\n",
        "    _sin = tf.math.sin(rot)\n",
        "    rot_m = tf.identity([[_cos, -_sin, 0.0],\n",
        "                         [_sin, _cos, 0],\n",
        "                         [0.0, 0.0, 1.0]])\n",
        "    _tan = tf.math.tan(skew)\n",
        "    skew_m = tf.identity([[1.0, _tan[0], 0.0],\n",
        "                          [_tan[1], 1.0, 0.0],\n",
        "                          [0.0, 0.0, 1.0]])\n",
        "    move = center + trans\n",
        "    trans_m = tf.identity([[1.0, 0.0, move[0]],\n",
        "                           [0.0, 1.0, move[1]],\n",
        "                           [0.0, 0.0, 1.0]])\n",
        "    # Cast to required dtype.\n",
        "    center_m = tf.cast(center_m, dtype=dtype)\n",
        "    scale_m = tf.cast(scale_m, dtype=dtype)\n",
        "    rot_m = tf.cast(rot_m, dtype=dtype)\n",
        "    skew_m = tf.cast(skew_m, dtype=dtype)\n",
        "    trans_m = tf.cast(trans_m, dtype=dtype)\n",
        "    # Make affine matrix.\n",
        "    mat = tf.eye(3, 3, dtype=dtype)\n",
        "    mat = tf.linalg.matmul(center_m, mat)\n",
        "    mat = tf.linalg.matmul(scale_m, mat)\n",
        "    mat = tf.linalg.matmul(rot_m, mat)\n",
        "    mat = tf.linalg.matmul(skew_m, mat)\n",
        "    mat = tf.linalg.matmul(trans_m, mat)\n",
        "    return tf.cast(mat, dtype=dtype)"
      ],
      "metadata": {
        "id": "SNG1axgTXz9i"
      },
      "execution_count": 10,
      "outputs": []
    },
    {
      "cell_type": "code",
      "source": [
        "def apply_affine_tf_eager(inputs, mat):\n",
        "    xy = tf.gather(inputs, [0, 1], axis=-1)\n",
        "    # Can not determine shape.\n",
        "    # shape = xy.shape\n",
        "    # ones = tf.ones([shape[0], shape[1], 1], dtype=xy.dtype)\n",
        "    ones = tf.ones_like(xy[:, :, :1])\n",
        "    xy = tf.concat([xy, ones], axis=-1)\n",
        "    xy = tf.einsum(\"...j,ij\", xy, mat)\n",
        "    # Remove homogeneous coordinate.\n",
        "    xy = xy[:, :, :-1]\n",
        "\n",
        "    # Transpose for scatter.\n",
        "    # `[T, J, C] -> [C, T, J]`\n",
        "    inputs = tf.transpose(inputs, [2, 0, 1])\n",
        "    xy = tf.transpose(xy, [2, 0, 1])\n",
        "    indices = tf.constant([0, 1], dtype=tf.int32)[..., None]\n",
        "    inputs = tf.tensor_scatter_nd_update(inputs, indices, xy)\n",
        "    # `[C, T, J] -> [T, J, C]`\n",
        "    inputs = tf.transpose(inputs, [1, 2, 0])\n",
        "    return inputs"
      ],
      "metadata": {
        "id": "iFt95lFDX6G0"
      },
      "execution_count": 11,
      "outputs": []
    },
    {
      "cell_type": "code",
      "source": [
        "# Load data.\n",
        "trackfile = \"./finger_far0_non_static.npy\"\n",
        "reffile = \"./finger_far0_non_static_affine.npy\"\n",
        "trackdata = np.load(trackfile).astype(np.float32)\n",
        "refdata = np.load(reffile).astype(np.float32)\n",
        "print(trackdata.shape)\n",
        "\n",
        "# Remove person axis.\n",
        "trackdata = trackdata[0]\n",
        "refdata = refdata[0]"
      ],
      "metadata": {
        "colab": {
          "base_uri": "https://localhost:8080/"
        },
        "id": "vTroYQRYYNwS",
        "outputId": "9fc17bdb-9787-4f21-d048-93c1e51bf620"
      },
      "execution_count": 12,
      "outputs": [
        {
          "output_type": "stream",
          "name": "stdout",
          "text": [
            "(1, 130, 553, 4)\n"
          ]
        }
      ]
    },
    {
      "cell_type": "code",
      "source": [
        "# Get affine matrix.\n",
        "center = np.array([638.0, 389.0])\n",
        "trans = np.array([100.0, 0.0])\n",
        "scale = np.array([2.0, 0.5])\n",
        "rot = float(np.radians(15.0))\n",
        "skew = np.radians([15.0, 15.0])\n",
        "dtype = tf.float32\n",
        "print(\"Parameters\")\n",
        "print(\"Center:\", center)\n",
        "print(\"Trans:\", trans)\n",
        "print(\"Scale:\", scale)\n",
        "print(\"Rot:\", rot)\n",
        "print(\"Skew:\", skew)"
      ],
      "metadata": {
        "colab": {
          "base_uri": "https://localhost:8080/"
        },
        "id": "atuaNQs6YSWi",
        "outputId": "cbb5f570-2122-4aae-b416-e600f3936ae3"
      },
      "execution_count": 13,
      "outputs": [
        {
          "output_type": "stream",
          "name": "stdout",
          "text": [
            "Parameters\n",
            "Center: [638. 389.]\n",
            "Trans: [100.   0.]\n",
            "Scale: [2.  0.5]\n",
            "Rot: 0.2617993877991494\n",
            "Skew: [0.26179939 0.26179939]\n"
          ]
        }
      ]
    },
    {
      "cell_type": "code",
      "source": [
        "def perf_wrap_func(trackdata, center, trans, scale, rot, skew, dtype):\n",
        "    mat = get_affine_matrix_2d_tf_eager(center, trans, scale, rot, skew, dtype=dtype)\n",
        "    newtrack = apply_affine_tf_eager(trackdata, mat)"
      ],
      "metadata": {
        "id": "5wcXyrBRZc58"
      },
      "execution_count": 14,
      "outputs": []
    },
    {
      "cell_type": "code",
      "source": [
        "testtrack = trackdata.copy().astype(np.float32)\n",
        "\n",
        "# The 1st call may be slow because of the computation graph construction.\n",
        "print(f\"Time of first call.\")\n",
        "start = time.perf_counter()\n",
        "mat = get_affine_matrix_2d_tf_eager(center, trans, scale, rot, skew, dtype=dtype)\n",
        "newtrack = apply_affine_tf_eager(testtrack, mat)\n",
        "interval = time.perf_counter() - start\n",
        "print_perf_time(np.array([interval]))\n",
        "\n",
        "# Evaluate difference.\n",
        "diff = (np.round(newtrack.numpy()) - np.round(refdata)).sum()\n",
        "print(f\"Sum of error:{diff}\")\n",
        "\n",
        "testtrack = trackdata.copy().astype(np.float32)\n",
        "\n",
        "print(\"Time after second call.\")\n",
        "testtrack = trackdata.copy()\n",
        "target_fn = partial(perf_wrap_func,\n",
        "                    trackdata=testtrack,\n",
        "                    center=center, trans=trans, scale=scale, rot=rot, skew=skew,\n",
        "                    dtype=dtype)\n",
        "pmeasure(target_fn)"
      ],
      "metadata": {
        "colab": {
          "base_uri": "https://localhost:8080/"
        },
        "id": "Ss79hdPcg6xa",
        "outputId": "764a9a15-5f31-4800-8435-2970d23febf5"
      },
      "execution_count": 15,
      "outputs": [
        {
          "output_type": "stream",
          "name": "stdout",
          "text": [
            "Time of first call.\n",
            "Overall summary: Max 204.563ms, Min 204.563ms, Mean +/- Std 204.563ms +/-   0s\n",
            "Sum of error:0.0\n",
            "Time after second call.\n",
            "Overall summary: Max 43.2781ms, Min 18.1728ms, Mean +/- Std 20.6453ms +/- 3.22142ms\n",
            "Top 10 summary: Max 18.8043ms, Min 18.1728ms, Mean +/- Std 18.5944ms +/- 168.285µs\n"
          ]
        }
      ]
    },
    {
      "cell_type": "code",
      "source": [
        "testtrack = trackdata.copy().astype(np.float32)\n",
        "\n",
        "# The 1st call may be slow because of the computation graph construction.\n",
        "print(f\"Time of first call.\")\n",
        "start = time.perf_counter()\n",
        "mat = get_affine_matrix_2d_tf_eager(center, trans, scale, rot, skew, dtype=dtype)\n",
        "newtrack = apply_affine_tf_eager(testtrack[:-1], mat)\n",
        "interval = time.perf_counter() - start\n",
        "print_perf_time(np.array([interval]))\n",
        "\n",
        "testtrack = trackdata.copy().astype(np.float32)\n",
        "\n",
        "print(\"Time after second call.\")\n",
        "testtrack = trackdata.copy()\n",
        "target_fn = partial(perf_wrap_func,\n",
        "                    trackdata=testtrack[:-1],\n",
        "                    center=center, trans=trans, scale=scale, rot=rot, skew=skew,\n",
        "                    dtype=dtype)\n",
        "pmeasure(target_fn)"
      ],
      "metadata": {
        "colab": {
          "base_uri": "https://localhost:8080/"
        },
        "id": "GZ6qmDi3hchT",
        "outputId": "cb45eb0d-aa1c-40ce-ec13-c7cd40609b88"
      },
      "execution_count": 16,
      "outputs": [
        {
          "output_type": "stream",
          "name": "stdout",
          "text": [
            "Time of first call.\n",
            "Overall summary: Max 26.7066ms, Min 26.7066ms, Mean +/- Std 26.7066ms +/-   0s\n",
            "Time after second call.\n",
            "Overall summary: Max 86.6408ms, Min 22.0264ms, Mean +/- Std 40.6909ms +/- 13.1015ms\n",
            "Top 10 summary: Max 28.081ms, Min 22.0264ms, Mean +/- Std 25.3254ms +/- 2.30584ms\n"
          ]
        }
      ]
    },
    {
      "cell_type": "markdown",
      "source": [
        "# 4.2 Based on define-and-run (graph execution)"
      ],
      "metadata": {
        "id": "IAG2TmwkcE4s"
      }
    },
    {
      "cell_type": "code",
      "source": [
        "@tf.function\n",
        "def get_affine_matrix_2d_tf(center,\n",
        "                            trans,\n",
        "                            scale,\n",
        "                            rot,\n",
        "                            skew,\n",
        "                            dtype=tf.float32):\n",
        "    center_m = tf.identity([[1.0, 0.0, -center[0]],\n",
        "                            [0.0, 1.0, -center[1]],\n",
        "                            [0.0, 0.0, 1.0]])\n",
        "    scale_m = tf.identity([[scale[0], 0.0, 0.0],\n",
        "                           [0.0, scale[1], 0.0],\n",
        "                           [0.0, 0.0, 1.0]])\n",
        "    _cos = tf.math.cos(rot)\n",
        "    _sin = tf.math.sin(rot)\n",
        "    rot_m = tf.identity([[_cos, -_sin, 0.0],\n",
        "                         [_sin, _cos, 0],\n",
        "                         [0.0, 0.0, 1.0]])\n",
        "    _tan = tf.math.tan(skew)\n",
        "    skew_m = tf.identity([[1.0, _tan[0], 0.0],\n",
        "                          [_tan[1], 1.0, 0.0],\n",
        "                          [0.0, 0.0, 1.0]])\n",
        "    move = center + trans\n",
        "    trans_m = tf.identity([[1.0, 0.0, move[0]],\n",
        "                           [0.0, 1.0, move[1]],\n",
        "                           [0.0, 0.0, 1.0]])\n",
        "    # Cast to required dtype.\n",
        "    center_m = tf.cast(center_m, dtype=dtype)\n",
        "    scale_m = tf.cast(scale_m, dtype=dtype)\n",
        "    rot_m = tf.cast(rot_m, dtype=dtype)\n",
        "    skew_m = tf.cast(skew_m, dtype=dtype)\n",
        "    trans_m = tf.cast(trans_m, dtype=dtype)\n",
        "    # Make affine matrix.\n",
        "    mat = tf.eye(3, 3, dtype=dtype)\n",
        "    mat = tf.linalg.matmul(center_m, mat)\n",
        "    mat = tf.linalg.matmul(scale_m, mat)\n",
        "    mat = tf.linalg.matmul(rot_m, mat)\n",
        "    mat = tf.linalg.matmul(skew_m, mat)\n",
        "    mat = tf.linalg.matmul(trans_m, mat)\n",
        "    return tf.cast(mat, dtype=dtype)"
      ],
      "metadata": {
        "id": "jDikjBcJcMpD"
      },
      "execution_count": 17,
      "outputs": []
    },
    {
      "cell_type": "code",
      "source": [
        "@tf.function(input_signature=(\n",
        "    tf.TensorSpec(shape=[None, None, 4], dtype=tf.float32),\n",
        "    tf.TensorSpec(shape=[3, 3], dtype=tf.float32),))\n",
        "def apply_affine_tf(inputs, mat):\n",
        "    xy = tf.gather(inputs, [0, 1], axis=-1)\n",
        "    # Can not determine shape.\n",
        "    # shape = xy.shape\n",
        "    # ones = tf.ones([shape[0], shape[1], 1], dtype=xy.dtype)\n",
        "    ones = tf.ones_like(xy[:, :, :1])\n",
        "    xy = tf.concat([xy, ones], axis=-1)\n",
        "    xy = tf.einsum(\"...j,ij\", xy, mat)\n",
        "    # Remove homogeneous coordinate.\n",
        "    xy = xy[:, :, :-1]\n",
        "\n",
        "    # Transpose for scatter.\n",
        "    # `[T, J, C] -> [C, T, J]`\n",
        "    inputs = tf.transpose(inputs, [2, 0, 1])\n",
        "    xy = tf.transpose(xy, [2, 0, 1])\n",
        "    indices = tf.constant([0, 1], dtype=tf.int32)[..., None]\n",
        "    inputs = tf.tensor_scatter_nd_update(inputs, indices, xy)\n",
        "    # `[C, T, J] -> [T, J, C]`\n",
        "    inputs = tf.transpose(inputs, [1, 2, 0])\n",
        "    return inputs"
      ],
      "metadata": {
        "id": "BTg-AOWqcWxb"
      },
      "execution_count": 18,
      "outputs": []
    },
    {
      "cell_type": "code",
      "source": [
        "def perf_wrap_func(trackdata, center, trans, scale, rot, skew, dtype):\n",
        "    mat = get_affine_matrix_2d_tf(center, trans, scale, rot, skew, dtype=dtype)\n",
        "    newtrack = apply_affine_tf(trackdata, mat)"
      ],
      "metadata": {
        "id": "tpbhkakZa4CE"
      },
      "execution_count": 19,
      "outputs": []
    },
    {
      "cell_type": "code",
      "source": [
        "testtrack = trackdata.copy().astype(np.float32)\n",
        "\n",
        "# The 1st call may be slow because of the computation graph construction.\n",
        "print(f\"Time of first call.\")\n",
        "start = time.perf_counter()\n",
        "mat = get_affine_matrix_2d_tf(center, trans, scale, rot, skew, dtype=dtype)\n",
        "newtrack = apply_affine_tf(testtrack, mat)\n",
        "interval = time.perf_counter() - start\n",
        "print_perf_time(np.array([interval]))\n",
        "\n",
        "# Evaluate difference.\n",
        "diff = (np.round(newtrack.numpy()) - np.round(refdata)).sum()\n",
        "print(f\"Sum of error:{diff}\")\n",
        "\n",
        "testtrack = trackdata.copy().astype(np.float32)\n",
        "\n",
        "print(\"Time after second call.\")\n",
        "testtrack = trackdata.copy()\n",
        "target_fn = partial(perf_wrap_func,\n",
        "                    trackdata=testtrack,\n",
        "                    center=center, trans=trans, scale=scale, rot=rot, skew=skew,\n",
        "                    dtype=dtype)\n",
        "pmeasure(target_fn)"
      ],
      "metadata": {
        "colab": {
          "base_uri": "https://localhost:8080/"
        },
        "id": "lnj7E8-Bf1Dj",
        "outputId": "389d7c31-84ac-4cba-d632-f1d9caf73421"
      },
      "execution_count": 20,
      "outputs": [
        {
          "output_type": "stream",
          "name": "stdout",
          "text": [
            "Time of first call.\n",
            "Overall summary: Max 895.778ms, Min 895.778ms, Mean +/- Std 895.778ms +/-   0s\n",
            "Sum of error:0.0\n",
            "Time after second call.\n",
            "Overall summary: Max 73.0112ms, Min 16.8224ms, Mean +/- Std 29.15ms +/- 7.81842ms\n",
            "Top 10 summary: Max 22.767ms, Min 16.8224ms, Mean +/- Std 20.7323ms +/- 1.64511ms\n"
          ]
        }
      ]
    },
    {
      "cell_type": "code",
      "source": [
        "testtrack = trackdata.copy().astype(np.float32)\n",
        "\n",
        "# The 1st call may be slow because of the computation graph construction.\n",
        "print(f\"Time of first call.\")\n",
        "start = time.perf_counter()\n",
        "mat = get_affine_matrix_2d_tf(center, trans, scale, rot, skew, dtype=dtype)\n",
        "newtrack = apply_affine_tf_eager(testtrack[:-1], mat)\n",
        "interval = time.perf_counter() - start\n",
        "print_perf_time(np.array([interval]))\n",
        "\n",
        "testtrack = trackdata.copy().astype(np.float32)\n",
        "\n",
        "print(\"Time after second call.\")\n",
        "testtrack = trackdata.copy()\n",
        "target_fn = partial(perf_wrap_func,\n",
        "                    trackdata=testtrack[:-1],\n",
        "                    center=center, trans=trans, scale=scale, rot=rot, skew=skew,\n",
        "                    dtype=dtype)\n",
        "pmeasure(target_fn)"
      ],
      "metadata": {
        "colab": {
          "base_uri": "https://localhost:8080/"
        },
        "id": "9ygb-iAdhssS",
        "outputId": "012bceeb-6f07-4547-c01a-ce6336f1314f"
      },
      "execution_count": 21,
      "outputs": [
        {
          "output_type": "stream",
          "name": "stdout",
          "text": [
            "Time of first call.\n",
            "Overall summary: Max 82.4818ms, Min 82.4818ms, Mean +/- Std 82.4818ms +/-   0s\n",
            "Time after second call.\n",
            "Overall summary: Max 69.1991ms, Min 17.3533ms, Mean +/- Std 30.7778ms +/- 8.9923ms\n",
            "Top 10 summary: Max 22.3045ms, Min 17.3533ms, Mean +/- Std 19.5941ms +/- 1.71975ms\n"
          ]
        }
      ]
    },
    {
      "cell_type": "markdown",
      "source": [
        "# 5. Application to randomized transformation"
      ],
      "metadata": {
        "id": "ESTPQ2neh3Fa"
      }
    },
    {
      "cell_type": "markdown",
      "source": [
        "## 5.1. Implementation2: Call JIT function from a python process."
      ],
      "metadata": {
        "id": "Q3lUd3MFVxlK"
      }
    },
    {
      "cell_type": "code",
      "source": [
        "class RandomAffineTransform2D_TF():\n",
        "    def __init__(self,\n",
        "                 center_joints,\n",
        "                 apply_ratio,\n",
        "                 trans_range,\n",
        "                 scale_range,\n",
        "                 rot_range,\n",
        "                 skew_range,\n",
        "                 random_seed=None,\n",
        "                 dtype=tf.float32):\n",
        "\n",
        "        self.center_joints = center_joints\n",
        "        if isinstance(self.center_joints, int):\n",
        "            self.center_joints = [self.center_joints]\n",
        "\n",
        "        self.apply_ratio = apply_ratio\n",
        "        self.trans_range = trans_range\n",
        "        self.scale_range = scale_range\n",
        "        self.rot_range = np.radians(rot_range).tolist()\n",
        "        self.skew_range = np.radians(skew_range).tolist()\n",
        "        self.dtype = dtype\n",
        "        if random_seed is not None:\n",
        "            self.rng = tf.random.Generator.from_seed(random_seed)\n",
        "        else:\n",
        "            self.rng = tf.random.get_global_generator()\n",
        "\n",
        "    def __call__(self, inputs):\n",
        "        if self.rng.uniform((), minval=0.0, maxval=1.0) >= self.apply_ratio:\n",
        "            return inputs\n",
        "\n",
        "        temp = tf.gather(inputs, self.center_joints, axis=1)\n",
        "        shape = temp.shape\n",
        "        temp = tf.reshape(temp, [-1, len(self.center_joints), shape[-1]])\n",
        "        mask = tf.where(tf.reduce_sum(temp, axis=(1, 2)) != 0, 1.0, 0.0)\n",
        "        mask = tf.cast(mask, dtype=self.dtype)\n",
        "\n",
        "        temp = temp * mask[:, None, None]\n",
        "        mask_sum = tf.reduce_sum(mask)\n",
        "        # `[T, J, C] -> [J, C] -> [C]`\n",
        "        center = tf.reduce_sum(temp, axis=0) / mask_sum\n",
        "        center = tf.reduce_mean(center, axis=0)\n",
        "        # Use only x and y.\n",
        "        center = center[:2]\n",
        "\n",
        "        trans = self.rng.uniform((2,), minval=self.trans_range[0], maxval=self.trans_range[1])\n",
        "        scale = self.rng.uniform((2,), self.scale_range[0], self.scale_range[1])\n",
        "        rot = self.rng.uniform((), self.rot_range[0], self.rot_range[1])\n",
        "        skew = self.rng.uniform((2,), self.skew_range[0], self.skew_range[1])\n",
        "\n",
        "        mat = get_affine_matrix_2d_tf(center, trans, scale, rot, skew, dtype=self.dtype)\n",
        "\n",
        "        # Apply transformation.\n",
        "        inputs = apply_affine_tf(inputs, mat)\n",
        "        return inputs"
      ],
      "metadata": {
        "id": "d5xNtZfKWAcZ"
      },
      "execution_count": 22,
      "outputs": []
    },
    {
      "cell_type": "code",
      "source": [
        "aug_fn = RandomAffineTransform2D_TF(\n",
        "    center_joints=[11, 12],\n",
        "    apply_ratio=1.0,\n",
        "    trans_range=[-100.0, 100.0],\n",
        "    scale_range=[0.5, 2.0],\n",
        "    rot_range=[-30.0, 30.0],\n",
        "    skew_range=[-30.0, 30.0],\n",
        "    dtype=dtype)"
      ],
      "metadata": {
        "id": "_skxOG0zWG5R"
      },
      "execution_count": 23,
      "outputs": []
    },
    {
      "cell_type": "code",
      "source": [
        "testtrack = trackdata.copy().astype(np.float32)\n",
        "\n",
        "# The 1st call may be slow because of the computation graph construction.\n",
        "print(f\"Time of first call.\")\n",
        "start = time.perf_counter()\n",
        "temp = aug_fn(testtrack)\n",
        "interval = time.perf_counter() - start\n",
        "print_perf_time(np.array([interval]))\n",
        "\n",
        "testtrack = trackdata.copy().astype(np.float32)\n",
        "print(\"Time after second call.\")\n",
        "target_fn = partial(aug_fn, inputs=testtrack)\n",
        "pmeasure(target_fn)"
      ],
      "metadata": {
        "colab": {
          "base_uri": "https://localhost:8080/"
        },
        "id": "X026ipGKWNWA",
        "outputId": "df660240-8cef-405a-d435-5f7be95f816b"
      },
      "execution_count": 24,
      "outputs": [
        {
          "output_type": "stream",
          "name": "stdout",
          "text": [
            "Time of first call.\n",
            "Overall summary: Max 532.927ms, Min 532.927ms, Mean +/- Std 532.927ms +/-   0s\n",
            "Time after second call.\n",
            "Overall summary: Max 131.862ms, Min 30.534ms, Mean +/- Std 54.5549ms +/- 20.7024ms\n",
            "Top 10 summary: Max 39.0679ms, Min 30.534ms, Mean +/- Std 36.5016ms +/- 2.63933ms\n"
          ]
        }
      ]
    },
    {
      "cell_type": "code",
      "source": [
        "testtrack = trackdata.copy().astype(np.float32)\n",
        "\n",
        "# The 1st call may be slow because of the computation graph construction.\n",
        "print(f\"Time of first call.\")\n",
        "start = time.perf_counter()\n",
        "temp = aug_fn(trackdata.copy().astype(np.float32)[:-1])\n",
        "interval = time.perf_counter() - start\n",
        "print_perf_time(np.array([interval]))\n",
        "\n",
        "testtrack = trackdata.copy().astype(np.float32)\n",
        "print(\"Time after second call.\")\n",
        "target_fn = partial(aug_fn, inputs=testtrack[:-1])\n",
        "pmeasure(target_fn)"
      ],
      "metadata": {
        "colab": {
          "base_uri": "https://localhost:8080/"
        },
        "id": "WRstjpbEWQbi",
        "outputId": "922245c7-95bb-4ef3-e3d7-fc93980ddce4"
      },
      "execution_count": 25,
      "outputs": [
        {
          "output_type": "stream",
          "name": "stdout",
          "text": [
            "Time of first call.\n",
            "Overall summary: Max 66.6588ms, Min 66.6588ms, Mean +/- Std 66.6588ms +/-   0s\n",
            "Time after second call.\n",
            "Overall summary: Max 126.075ms, Min 22.4291ms, Mean +/- Std 32.7429ms +/- 18.0349ms\n",
            "Top 10 summary: Max 22.9823ms, Min 22.4291ms, Mean +/- Std 22.7506ms +/- 172.265µs\n"
          ]
        }
      ]
    },
    {
      "cell_type": "markdown",
      "source": [
        "## 5.2. Implementation2: Apply JIT compile to whole affine process."
      ],
      "metadata": {
        "id": "6HWMBFl5VW27"
      }
    },
    {
      "cell_type": "code",
      "source": [
        "class RandomAffineTransform2D_TF_JIT():\n",
        "    def __init__(self,\n",
        "                 center_joints,\n",
        "                 apply_ratio,\n",
        "                 trans_range,\n",
        "                 scale_range,\n",
        "                 rot_range,\n",
        "                 skew_range,\n",
        "                 random_seed=None,\n",
        "                 dtype=tf.float32):\n",
        "\n",
        "        self.center_joints = center_joints\n",
        "        if isinstance(self.center_joints, int):\n",
        "            self.center_joints = [self.center_joints]\n",
        "\n",
        "        self.apply_ratio = apply_ratio\n",
        "        self.trans_range = trans_range\n",
        "        self.scale_range = scale_range\n",
        "        self.rot_range = np.radians(rot_range).tolist()\n",
        "        self.skew_range = np.radians(skew_range).tolist()\n",
        "        self.dtype = dtype\n",
        "        if random_seed is not None:\n",
        "            self.rng = tf.random.Generator.from_seed(random_seed)\n",
        "        else:\n",
        "            self.rng = tf.random.get_global_generator()\n",
        "\n",
        "    @tf.function(input_signature=(tf.TensorSpec(shape=[None, None, 4], dtype=tf.float32),))\n",
        "    def __call__(self, inputs):\n",
        "        if self.rng.uniform((), minval=0.0, maxval=1.0) >= self.apply_ratio:\n",
        "            retval = inputs\n",
        "        else:\n",
        "            temp = tf.gather(inputs, self.center_joints, axis=1)\n",
        "            shape = temp.shape\n",
        "            temp = tf.reshape(temp, [-1, len(self.center_joints), shape[-1]])\n",
        "            mask = tf.where(tf.reduce_sum(temp, axis=(1, 2)) != 0, 1.0, 0.0)\n",
        "            mask = tf.cast(mask, dtype=self.dtype)\n",
        "\n",
        "            temp = temp * mask[:, None, None]\n",
        "            mask_sum = tf.reduce_sum(mask)\n",
        "            # `[T, J, C] -> [J, C] -> [C]`\n",
        "            center = tf.reduce_sum(temp, axis=0) / mask_sum\n",
        "            center = tf.reduce_mean(center, axis=0)\n",
        "            # Use only x and y.\n",
        "            center = center[:2]\n",
        "\n",
        "            trans = self.rng.uniform((2,), minval=self.trans_range[0], maxval=self.trans_range[1])\n",
        "            scale = self.rng.uniform((2,), self.scale_range[0], self.scale_range[1])\n",
        "            rot = self.rng.uniform((), self.rot_range[0], self.rot_range[1])\n",
        "            skew = self.rng.uniform((2,), self.skew_range[0], self.skew_range[1])\n",
        "\n",
        "            mat = get_affine_matrix_2d_tf(center, trans, scale, rot, skew, dtype=self.dtype)\n",
        "\n",
        "            # Apply transformation.\n",
        "            inputs = apply_affine_tf(inputs, mat)\n",
        "            retval = inputs\n",
        "        return retval"
      ],
      "metadata": {
        "id": "MitRweYqh7Qs"
      },
      "execution_count": 26,
      "outputs": []
    },
    {
      "cell_type": "code",
      "source": [
        "aug_fn = RandomAffineTransform2D_TF_JIT(\n",
        "    center_joints=[11, 12],\n",
        "    apply_ratio=1.0,\n",
        "    trans_range=[-100.0, 100.0],\n",
        "    scale_range=[0.5, 2.0],\n",
        "    rot_range=[-30.0, 30.0],\n",
        "    skew_range=[-30.0, 30.0],\n",
        "    dtype=dtype)"
      ],
      "metadata": {
        "id": "mT9ryhF9iQ4b"
      },
      "execution_count": 27,
      "outputs": []
    },
    {
      "cell_type": "code",
      "source": [
        "testtrack = trackdata.copy().astype(np.float32)\n",
        "\n",
        "# The 1st call may be slow because of the computation graph construction.\n",
        "print(f\"Time of first call.\")\n",
        "start = time.perf_counter()\n",
        "temp = aug_fn(testtrack)\n",
        "interval = time.perf_counter() - start\n",
        "print_perf_time(np.array([interval]))\n",
        "\n",
        "testtrack = trackdata.copy().astype(np.float32)\n",
        "print(\"Time after second call.\")\n",
        "target_fn = partial(aug_fn, inputs=testtrack)\n",
        "pmeasure(target_fn)"
      ],
      "metadata": {
        "colab": {
          "base_uri": "https://localhost:8080/"
        },
        "id": "_aPMu8yQcVil",
        "outputId": "11c148be-80ab-4bc7-b44a-349c82d20c32"
      },
      "execution_count": 28,
      "outputs": [
        {
          "output_type": "stream",
          "name": "stdout",
          "text": [
            "Time of first call.\n",
            "Overall summary: Max 409.075ms, Min 409.075ms, Mean +/- Std 409.075ms +/-   0s\n",
            "Time after second call.\n",
            "Overall summary: Max 28.6829ms, Min 17.5935ms, Mean +/- Std 24.8284ms +/- 1.49898ms\n",
            "Top 10 summary: Max 24.0776ms, Min 17.5935ms, Mean +/- Std 22.1906ms +/- 2.34517ms\n"
          ]
        }
      ]
    },
    {
      "cell_type": "code",
      "source": [
        "testtrack = trackdata.copy().astype(np.float32)\n",
        "\n",
        "# The 1st call may be slow because of the computation graph construction.\n",
        "print(f\"Time of first call.\")\n",
        "start = time.perf_counter()\n",
        "temp = aug_fn(testtrack[:-1])\n",
        "interval = time.perf_counter() - start\n",
        "print_perf_time(np.array([interval]))\n",
        "\n",
        "testtrack = trackdata.copy().astype(np.float32)\n",
        "print(\"Time after second call.\")\n",
        "target_fn = partial(aug_fn, inputs=testtrack[:-1])\n",
        "pmeasure(target_fn)"
      ],
      "metadata": {
        "colab": {
          "base_uri": "https://localhost:8080/"
        },
        "id": "Wyt7qNzUlCk8",
        "outputId": "ff9d497d-2835-411c-f43e-6f2ac8b9d6de"
      },
      "execution_count": 29,
      "outputs": [
        {
          "output_type": "stream",
          "name": "stdout",
          "text": [
            "Time of first call.\n",
            "Overall summary: Max 16.2957ms, Min 16.2957ms, Mean +/- Std 16.2957ms +/-   0s\n",
            "Time after second call.\n",
            "Overall summary: Max 20.75ms, Min 13.231ms, Mean +/- Std 14.4953ms +/- 1.39201ms\n",
            "Top 10 summary: Max 13.628ms, Min 13.231ms, Mean +/- Std 13.4536ms +/- 126.572µs\n"
          ]
        }
      ]
    }
  ]
}