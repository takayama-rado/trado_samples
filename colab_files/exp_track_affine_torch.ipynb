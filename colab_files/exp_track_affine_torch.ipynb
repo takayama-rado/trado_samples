{
  "nbformat": 4,
  "nbformat_minor": 0,
  "metadata": {
    "colab": {
      "provenance": [],
      "authorship_tag": "ABX9TyO0BFyf6haffNhnEUXzfk8b",
      "include_colab_link": true
    },
    "kernelspec": {
      "name": "python3",
      "display_name": "Python 3"
    },
    "language_info": {
      "name": "python"
    }
  },
  "cells": [
    {
      "cell_type": "markdown",
      "metadata": {
        "id": "view-in-github",
        "colab_type": "text"
      },
      "source": [
        "<a href=\"https://colab.research.google.com/github/takayama-rado/trado_samples/blob/main/colab_files/exp_track_affine_torch.ipynb\" target=\"_parent\"><img src=\"https://colab.research.google.com/assets/colab-badge.svg\" alt=\"Open In Colab\"/></a>"
      ]
    },
    {
      "cell_type": "markdown",
      "source": [
        "# 1. Load library"
      ],
      "metadata": {
        "id": "Am8q-mPIs7gV"
      }
    },
    {
      "cell_type": "code",
      "execution_count": 1,
      "metadata": {
        "id": "OIDqM3hEs2XU"
      },
      "outputs": [],
      "source": [
        "# Standard modules.\n",
        "import sys\n",
        "import time\n",
        "\n",
        "# CV/ML.\n",
        "import numpy as np\n",
        "\n",
        "import torch\n",
        "import torch.nn as nn"
      ]
    },
    {
      "cell_type": "code",
      "source": [
        "print(f\"Python:{sys.version}\")\n",
        "print(f\"Numpy:{np.__version__}\")\n",
        "print(f\"Torch:{torch.__version__}\")"
      ],
      "metadata": {
        "colab": {
          "base_uri": "https://localhost:8080/"
        },
        "id": "RGshqJ3FgLlr",
        "outputId": "3be4f515-eb1e-4995-b75b-cfa37a4c8513"
      },
      "execution_count": 2,
      "outputs": [
        {
          "output_type": "stream",
          "name": "stdout",
          "text": [
            "Python:3.10.12 (main, Jun 11 2023, 05:26:28) [GCC 11.4.0]\n",
            "Numpy:1.23.5\n",
            "Torch:2.1.0+cu118\n"
          ]
        }
      ]
    },
    {
      "cell_type": "markdown",
      "source": [
        "# 2. Load data"
      ],
      "metadata": {
        "id": "46iI_U9YwUde"
      }
    },
    {
      "cell_type": "code",
      "source": [
        "!wget https://github.com/takayama-rado/trado_samples/raw/main/test_data/finger_far0_non_static.npy"
      ],
      "metadata": {
        "colab": {
          "base_uri": "https://localhost:8080/"
        },
        "id": "Crl3zNYpwWnU",
        "outputId": "f0a08197-c7a9-496e-ea2a-d2139dd08d9d"
      },
      "execution_count": 3,
      "outputs": [
        {
          "output_type": "stream",
          "name": "stdout",
          "text": [
            "--2023-10-28 08:38:49--  https://github.com/takayama-rado/trado_samples/raw/main/test_data/finger_far0_non_static.npy\n",
            "Resolving github.com (github.com)... 20.29.134.23\n",
            "Connecting to github.com (github.com)|20.29.134.23|:443... connected.\n",
            "HTTP request sent, awaiting response... 302 Found\n",
            "Location: https://raw.githubusercontent.com/takayama-rado/trado_samples/main/test_data/finger_far0_non_static.npy [following]\n",
            "--2023-10-28 08:38:49--  https://raw.githubusercontent.com/takayama-rado/trado_samples/main/test_data/finger_far0_non_static.npy\n",
            "Resolving raw.githubusercontent.com (raw.githubusercontent.com)... 185.199.108.133, 185.199.109.133, 185.199.110.133, ...\n",
            "Connecting to raw.githubusercontent.com (raw.githubusercontent.com)|185.199.108.133|:443... connected.\n",
            "HTTP request sent, awaiting response... 200 OK\n",
            "Length: 2300608 (2.2M) [application/octet-stream]\n",
            "Saving to: ‘finger_far0_non_static.npy’\n",
            "\n",
            "finger_far0_non_sta 100%[===================>]   2.19M  --.-KB/s    in 0.07s   \n",
            "\n",
            "2023-10-28 08:38:49 (31.9 MB/s) - ‘finger_far0_non_static.npy’ saved [2300608/2300608]\n",
            "\n"
          ]
        }
      ]
    },
    {
      "cell_type": "code",
      "source": [
        "!wget https://github.com/takayama-rado/trado_samples/raw/main/test_data/finger_far0_non_static_affine.npy"
      ],
      "metadata": {
        "colab": {
          "base_uri": "https://localhost:8080/"
        },
        "id": "M6N763VfwX9d",
        "outputId": "813a9d08-3a7e-4ff8-a6cf-716f02a0a20f"
      },
      "execution_count": 4,
      "outputs": [
        {
          "output_type": "stream",
          "name": "stdout",
          "text": [
            "--2023-10-28 08:38:49--  https://github.com/takayama-rado/trado_samples/raw/main/test_data/finger_far0_non_static_affine.npy\n",
            "Resolving github.com (github.com)... 192.30.255.113\n",
            "Connecting to github.com (github.com)|192.30.255.113|:443... connected.\n",
            "HTTP request sent, awaiting response... 302 Found\n",
            "Location: https://raw.githubusercontent.com/takayama-rado/trado_samples/main/test_data/finger_far0_non_static_affine.npy [following]\n",
            "--2023-10-28 08:38:50--  https://raw.githubusercontent.com/takayama-rado/trado_samples/main/test_data/finger_far0_non_static_affine.npy\n",
            "Resolving raw.githubusercontent.com (raw.githubusercontent.com)... 185.199.108.133, 185.199.109.133, 185.199.110.133, ...\n",
            "Connecting to raw.githubusercontent.com (raw.githubusercontent.com)|185.199.108.133|:443... connected.\n",
            "HTTP request sent, awaiting response... 200 OK\n",
            "Length: 2300608 (2.2M) [application/octet-stream]\n",
            "Saving to: ‘finger_far0_non_static_affine.npy’\n",
            "\n",
            "finger_far0_non_sta 100%[===================>]   2.19M  --.-KB/s    in 0.05s   \n",
            "\n",
            "2023-10-28 08:38:50 (42.7 MB/s) - ‘finger_far0_non_static_affine.npy’ saved [2300608/2300608]\n",
            "\n"
          ]
        }
      ]
    },
    {
      "cell_type": "code",
      "source": [
        "!ls"
      ],
      "metadata": {
        "colab": {
          "base_uri": "https://localhost:8080/"
        },
        "id": "spzE6k37wZlk",
        "outputId": "7c31e8dc-105e-4841-b23c-881e1c6c41bd"
      },
      "execution_count": 5,
      "outputs": [
        {
          "output_type": "stream",
          "name": "stdout",
          "text": [
            "finger_far0_non_static_affine.npy  finger_far0_non_static.npy  sample_data\n"
          ]
        }
      ]
    },
    {
      "cell_type": "markdown",
      "source": [
        "# 3. Implement affine transformation"
      ],
      "metadata": {
        "id": "E0bsjEqswbx8"
      }
    },
    {
      "cell_type": "markdown",
      "source": [
        "## 3.1 Based on define-by-run"
      ],
      "metadata": {
        "id": "7fr6W4vhwf4s"
      }
    },
    {
      "cell_type": "code",
      "source": [
        "def get_affine_matrix_2d_torch(center,\n",
        "                               trans,\n",
        "                               scale,\n",
        "                               rot,\n",
        "                               skew,\n",
        "                               dtype = torch.float32):\n",
        "    center_m = torch.tensor([[1.0, 0.0, float(-center[0])],\n",
        "                             [0.0, 1.0, float(-center[1])],\n",
        "                             [0.0, 0.0, 1.0]], dtype=dtype)\n",
        "    scale_m = torch.tensor([[float(scale[0]), 0.0, 0.0],\n",
        "                            [0.0, float(scale[1]), 0.0],\n",
        "                            [0.0, 0.0, 1.0]], dtype=dtype)\n",
        "    _cos = torch.cos(rot)\n",
        "    _sin = torch.sin(rot)\n",
        "    rot_m = torch.tensor([[float(_cos), float(-_sin), 0.0],\n",
        "                          [float(_sin), float(_cos), 0.0],\n",
        "                          [0.0, 0.0, 1.0]], dtype=dtype)\n",
        "    _tan = torch.tan(skew)\n",
        "    skew_m = torch.tensor([[1.0, float(_tan[0]), 0.0],\n",
        "                           [float(_tan[1]), 1.0, 0.0],\n",
        "                           [0.0, 0.0, 1.0]], dtype=dtype)\n",
        "    move = center + trans\n",
        "    trans_m = torch.tensor([[1.0, 0.0, float(move[0])],\n",
        "                            [0.0, 1.0, float(move[1])],\n",
        "                            [0.0, 0.0, 1.0]], dtype=dtype)\n",
        "    # Make affine matrix.\n",
        "    mat = torch.eye(3, 3, dtype=dtype)\n",
        "    mat = torch.matmul(center_m, mat)\n",
        "    mat = torch.matmul(scale_m, mat)\n",
        "    mat = torch.matmul(rot_m, mat)\n",
        "    mat = torch.matmul(skew_m, mat)\n",
        "    mat = torch.matmul(trans_m, mat)\n",
        "    return mat.to(dtype)"
      ],
      "metadata": {
        "id": "um2L_Etkwjv7"
      },
      "execution_count": 6,
      "outputs": []
    },
    {
      "cell_type": "code",
      "source": [
        "def apply_affine_torch(inputs, mat):\n",
        "    xy = inputs[:, :, :2]\n",
        "    xy = torch.cat([xy, torch.ones([xy.shape[0], xy.shape[1], 1])], dim=-1)\n",
        "    xy = torch.einsum(\"...j,ij\", xy, mat)\n",
        "    inputs[:, :, :2] = xy[:, :, :-1]\n",
        "    return inputs"
      ],
      "metadata": {
        "id": "iZQNcQLYwoHc"
      },
      "execution_count": 7,
      "outputs": []
    },
    {
      "cell_type": "code",
      "source": [
        "def get_perf_str(val):\n",
        "    token_si = [\"\", \"m\", \"µ\", \"n\", \"p\"]\n",
        "    exp_si = [1, 1e3, 1e6, 1e9, 1e12]\n",
        "    perf_str = f\"{val:3g}s\"\n",
        "    si = \"\"\n",
        "    sval = val\n",
        "    for token, exp in zip(token_si, exp_si):\n",
        "        if val * exp > 1.0:\n",
        "            si = token\n",
        "            sval = val * exp\n",
        "            break\n",
        "    perf_str = f\"{sval:3g}{si}s\"\n",
        "    return perf_str"
      ],
      "metadata": {
        "id": "rqilUtKQGNx4"
      },
      "execution_count": 8,
      "outputs": []
    },
    {
      "cell_type": "code",
      "source": [
        "def print_perf_time(intervals, top_k=None):\n",
        "    if top_k is not None:\n",
        "        intervals = np.sort(intervals)[:top_k]\n",
        "    min = intervals.min()\n",
        "    max = intervals.max()\n",
        "    mean = intervals.mean()\n",
        "    std = intervals.std()\n",
        "\n",
        "    smin = get_perf_str(min)\n",
        "    smax = get_perf_str(max)\n",
        "    mean = get_perf_str(mean)\n",
        "    std = get_perf_str(std)\n",
        "    print(f\"Summary: Max {smax}, Min {smin}, Mean +/- Std {mean} +/- {std}\")"
      ],
      "metadata": {
        "id": "qeXgc90KGPqA"
      },
      "execution_count": 9,
      "outputs": []
    },
    {
      "cell_type": "code",
      "source": [
        "TRIALS = 100\n",
        "TOPK = 10"
      ],
      "metadata": {
        "id": "ASC_SvGwJwnR"
      },
      "execution_count": 10,
      "outputs": []
    },
    {
      "cell_type": "code",
      "source": [
        "# Load data.\n",
        "trackfile = \"./finger_far0_non_static.npy\"\n",
        "reffile = \"./finger_far0_non_static_affine.npy\"\n",
        "trackdata = np.load(trackfile)\n",
        "refdata = np.load(reffile)\n",
        "print(trackdata.shape)\n",
        "\n",
        "# Remove person axis.\n",
        "trackdata = trackdata[0]\n",
        "refdata = refdata[0]"
      ],
      "metadata": {
        "colab": {
          "base_uri": "https://localhost:8080/"
        },
        "id": "s0M7mcIUwt6E",
        "outputId": "0004da1a-e82e-4d96-cf37-b48d4578dda6"
      },
      "execution_count": 11,
      "outputs": [
        {
          "output_type": "stream",
          "name": "stdout",
          "text": [
            "(1, 130, 553, 4)\n"
          ]
        }
      ]
    },
    {
      "cell_type": "code",
      "source": [
        " # Get affine matrix.\n",
        "center = torch.tensor([638.0, 389.0])\n",
        "trans = torch.tensor([100.0, 0.0])\n",
        "scale = torch.tensor([2.0, 0.5])\n",
        "rot = torch.tensor(np.radians(15.0))\n",
        "skew = torch.tensor(np.radians([15.0, 15.0]))\n",
        "dtype = torch.float32\n",
        "print(\"Parameters\")\n",
        "print(\"Center:\", center)\n",
        "print(\"Trans:\", trans)\n",
        "print(\"Scale:\", scale)\n",
        "print(\"Rot:\", rot)\n",
        "print(\"Skew:\", skew)"
      ],
      "metadata": {
        "colab": {
          "base_uri": "https://localhost:8080/"
        },
        "id": "VXe1Gj3Bwveb",
        "outputId": "b926f1d8-081b-4af0-ea92-78fe26ecdc1d"
      },
      "execution_count": 12,
      "outputs": [
        {
          "output_type": "stream",
          "name": "stdout",
          "text": [
            "Parameters\n",
            "Center: tensor([638., 389.])\n",
            "Trans: tensor([100.,   0.])\n",
            "Scale: tensor([2.0000, 0.5000])\n",
            "Rot: tensor(0.2618, dtype=torch.float64)\n",
            "Skew: tensor([0.2618, 0.2618], dtype=torch.float64)\n"
          ]
        }
      ]
    },
    {
      "cell_type": "code",
      "source": [
        "testtrack = torch.tensor(trackdata.copy().astype(np.float32))\n",
        "\n",
        "# The 1st call may be slow because of the computation graph construction.\n",
        "start = time.perf_counter()\n",
        "mat = get_affine_matrix_2d_torch(center, trans, scale, rot, skew, dtype=dtype)\n",
        "newtrack = apply_affine_torch(testtrack, mat)\n",
        "interval = time.perf_counter() - start\n",
        "print(\"Time of first call\")\n",
        "print_perf_time(np.array(interval))\n",
        "\n",
        "# Evaluate difference.\n",
        "diff = (np.round(newtrack.detach().cpu().numpy()) - np.round(refdata)).sum()\n",
        "\n",
        "testtrack = torch.tensor(trackdata.copy().astype(np.float32))\n",
        "\n",
        "intervals = []\n",
        "for _ in range(TRIALS):\n",
        "    start = time.perf_counter()\n",
        "    mat = get_affine_matrix_2d_torch(center, trans, scale, rot, skew, dtype=dtype)\n",
        "    newtrack = apply_affine_torch(testtrack, mat)\n",
        "    end = time.perf_counter()\n",
        "    intervals.append(end - start)\n",
        "intervals = np.array(intervals)\n",
        "print(\"Time after second call\")\n",
        "print_perf_time(intervals, TOPK)\n",
        "\n",
        "print(f\"Sum of error:{diff}\")"
      ],
      "metadata": {
        "colab": {
          "base_uri": "https://localhost:8080/"
        },
        "id": "d5QQDbZaw-9z",
        "outputId": "5b7f4dcd-7582-47d0-a240-b5251f2b1238"
      },
      "execution_count": 13,
      "outputs": [
        {
          "output_type": "stream",
          "name": "stdout",
          "text": [
            "Time of first call\n",
            "Summary: Max 117.289ms, Min 117.289ms, Mean +/- Std 117.289ms +/-   0s\n",
            "Time after second call\n",
            "Summary: Max 2.67086ms, Min 2.25075ms, Mean +/- Std 2.53925ms +/- 140.011µs\n",
            "Sum of error:0.0\n"
          ]
        }
      ]
    },
    {
      "cell_type": "code",
      "source": [
        "testtrack = torch.tensor(trackdata.copy().astype(np.float32))\n",
        "\n",
        "# The 1st call may be slow because of the computation graph construction.\n",
        "start = time.perf_counter()\n",
        "mat = get_affine_matrix_2d_torch(center, trans, scale, rot, skew, dtype=dtype)\n",
        "newtrack = apply_affine_torch(testtrack[:-1], mat)\n",
        "interval = time.perf_counter() - start\n",
        "print(\"Time of first call\")\n",
        "print_perf_time(np.array(interval))\n",
        "\n",
        "testtrack = torch.tensor(trackdata.copy().astype(np.float32))\n",
        "\n",
        "intervals = []\n",
        "for _ in range(TRIALS):\n",
        "    start = time.perf_counter()\n",
        "    mat = get_affine_matrix_2d_torch(center, trans, scale, rot, skew, dtype=dtype)\n",
        "    newtrack = apply_affine_torch(testtrack[:-1], mat)\n",
        "    end = time.perf_counter()\n",
        "    intervals.append(end - start)\n",
        "intervals = np.array(intervals)\n",
        "print(\"Time after second call\")\n",
        "print_perf_time(intervals, TOPK)"
      ],
      "metadata": {
        "colab": {
          "base_uri": "https://localhost:8080/"
        },
        "id": "ivPCoHDVxLoT",
        "outputId": "11b98cef-4fd7-4561-dbfc-8e68dc910f30"
      },
      "execution_count": 14,
      "outputs": [
        {
          "output_type": "stream",
          "name": "stdout",
          "text": [
            "Time of first call\n",
            "Summary: Max 23.3252ms, Min 23.3252ms, Mean +/- Std 23.3252ms +/-   0s\n",
            "Time after second call\n",
            "Summary: Max 2.80755ms, Min 2.69608ms, Mean +/- Std 2.75717ms +/- 29.3817µs\n"
          ]
        }
      ]
    },
    {
      "cell_type": "markdown",
      "source": [
        "## 3.2 Based on define-and-run"
      ],
      "metadata": {
        "id": "v9eFIlx0xS96"
      }
    },
    {
      "cell_type": "code",
      "source": [
        "@torch.jit.script\n",
        "def get_affine_matrix_2d_torch_jit(center: torch.Tensor,\n",
        "                                   trans: torch.Tensor,\n",
        "                                   scale: torch.Tensor,\n",
        "                                   rot: torch.Tensor,\n",
        "                                   skew: torch.Tensor,\n",
        "                                   dtype: torch.dtype = torch.float32):\n",
        "    center_m = torch.tensor([[1.0, 0.0, float(-center[0])],\n",
        "                             [0.0, 1.0, float(-center[1])],\n",
        "                             [0.0, 0.0, 1.0]], dtype=dtype)\n",
        "    scale_m = torch.tensor([[float(scale[0]), 0.0, 0.0],\n",
        "                            [0.0, float(scale[1]), 0.0],\n",
        "                            [0.0, 0.0, 1.0]], dtype=dtype)\n",
        "    _cos = torch.cos(rot)\n",
        "    _sin = torch.sin(rot)\n",
        "    rot_m = torch.tensor([[float(_cos), float(-_sin), 0.0],\n",
        "                          [float(_sin), float(_cos), 0.0],\n",
        "                          [0.0, 0.0, 1.0]], dtype=dtype)\n",
        "    _tan = torch.tan(skew)\n",
        "    skew_m = torch.tensor([[1.0, float(_tan[0]), 0.0],\n",
        "                           [float(_tan[1]), 1.0, 0.0],\n",
        "                           [0.0, 0.0, 1.0]], dtype=dtype)\n",
        "    move = center + trans\n",
        "    trans_m = torch.tensor([[1.0, 0.0, float(move[0])],\n",
        "                            [0.0, 1.0, float(move[1])],\n",
        "                            [0.0, 0.0, 1.0]], dtype=dtype)\n",
        "    # Make affine matrix.\n",
        "    mat = torch.eye(3, 3, dtype=dtype)\n",
        "    mat = torch.matmul(center_m, mat)\n",
        "    mat = torch.matmul(scale_m, mat)\n",
        "    mat = torch.matmul(rot_m, mat)\n",
        "    mat = torch.matmul(skew_m, mat)\n",
        "    mat = torch.matmul(trans_m, mat)\n",
        "    return mat.to(dtype)"
      ],
      "metadata": {
        "id": "tNozKdkkxWDE"
      },
      "execution_count": 15,
      "outputs": []
    },
    {
      "cell_type": "code",
      "source": [
        "@torch.jit.script\n",
        "def apply_affine_torch_jit(inputs, mat):\n",
        "    xy = inputs[:, :, :2]\n",
        "    xy = torch.cat([xy, torch.ones([xy.shape[0], xy.shape[1], 1])], dim=-1)\n",
        "    xy = torch.einsum(\"...j,ij\", xy, mat)\n",
        "    inputs[:, :, :2] = xy[:, :, :-1]\n",
        "    return inputs"
      ],
      "metadata": {
        "id": "oLbub6jnxf6M"
      },
      "execution_count": 16,
      "outputs": []
    },
    {
      "cell_type": "code",
      "source": [
        "testtrack = torch.tensor(trackdata.copy().astype(np.float32))\n",
        "\n",
        "# The 1st call may be slow because of the computation graph construction.\n",
        "start = time.perf_counter()\n",
        "mat = get_affine_matrix_2d_torch_jit(center, trans, scale, rot, skew, dtype=dtype)\n",
        "newtrack = apply_affine_torch_jit(testtrack, mat)\n",
        "interval = time.perf_counter() - start\n",
        "print(\"Time of first call\")\n",
        "print_perf_time(np.array(interval))\n",
        "\n",
        "# Evaluate difference.\n",
        "diff = (np.round(newtrack.detach().cpu().numpy()) - np.round(refdata)).sum()\n",
        "\n",
        "testtrack = torch.tensor(trackdata.copy().astype(np.float32))\n",
        "\n",
        "intervals = []\n",
        "for _ in range(TRIALS):\n",
        "    start = time.perf_counter()\n",
        "    mat = get_affine_matrix_2d_torch_jit(center, trans, scale, rot, skew, dtype=dtype)\n",
        "    newtrack = apply_affine_torch_jit(testtrack, mat)\n",
        "    end = time.perf_counter()\n",
        "    intervals.append(end - start)\n",
        "intervals = np.array(intervals)\n",
        "print(\"Time after second call\")\n",
        "print_perf_time(intervals, TOPK)\n",
        "\n",
        "print(f\"Sum of error:{diff}\")"
      ],
      "metadata": {
        "colab": {
          "base_uri": "https://localhost:8080/"
        },
        "id": "kXjS76HpyJ0L",
        "outputId": "b32b0b03-d77d-430c-9c2e-d9789405c077"
      },
      "execution_count": 17,
      "outputs": [
        {
          "output_type": "stream",
          "name": "stdout",
          "text": [
            "Time of first call\n",
            "Summary: Max 244.887ms, Min 244.887ms, Mean +/- Std 244.887ms +/-   0s\n",
            "Time after second call\n",
            "Summary: Max 2.74402ms, Min 2.58267ms, Mean +/- Std 2.66269ms +/- 51.9464µs\n",
            "Sum of error:0.0\n"
          ]
        }
      ]
    },
    {
      "cell_type": "code",
      "source": [
        "testtrack = torch.tensor(trackdata.copy().astype(np.float32))\n",
        "\n",
        "# The 1st call may be slow because of the computation graph construction.\n",
        "start = time.perf_counter()\n",
        "mat = get_affine_matrix_2d_torch_jit(center, trans, scale, rot, skew, dtype=dtype)\n",
        "newtrack = apply_affine_torch_jit(testtrack[:-1], mat)\n",
        "interval = time.perf_counter() - start\n",
        "print(\"Time of first call\")\n",
        "print_perf_time(np.array(interval))\n",
        "\n",
        "testtrack = torch.tensor(trackdata.copy().astype(np.float32))\n",
        "\n",
        "intervals = []\n",
        "for _ in range(TRIALS):\n",
        "    start = time.perf_counter()\n",
        "    mat = get_affine_matrix_2d_torch_jit(center, trans, scale, rot, skew, dtype=dtype)\n",
        "    newtrack = apply_affine_torch_jit(testtrack[:-1], mat)\n",
        "    end = time.perf_counter()\n",
        "    intervals.append(end - start)\n",
        "intervals = np.array(intervals)\n",
        "print(\"Time after second call\")\n",
        "print_perf_time(intervals, TOPK)"
      ],
      "metadata": {
        "colab": {
          "base_uri": "https://localhost:8080/"
        },
        "id": "p0HhgJ6kySUs",
        "outputId": "fc9ff042-2eb2-4691-ed1b-14d20aa47be1"
      },
      "execution_count": 18,
      "outputs": [
        {
          "output_type": "stream",
          "name": "stdout",
          "text": [
            "Time of first call\n",
            "Summary: Max 3.45068ms, Min 3.45068ms, Mean +/- Std 3.45068ms +/-   0s\n",
            "Time after second call\n",
            "Summary: Max 2.61029ms, Min 2.49749ms, Mean +/- Std 2.56817ms +/- 36.3041µs\n"
          ]
        }
      ]
    },
    {
      "cell_type": "markdown",
      "source": [
        "# 4. Application to randomized transformation"
      ],
      "metadata": {
        "id": "r0GXUVA68bzF"
      }
    },
    {
      "cell_type": "markdown",
      "source": [
        "## 4.1 Implementation1: Call JIT function from a python process"
      ],
      "metadata": {
        "id": "QrG9zPjw8gXG"
      }
    },
    {
      "cell_type": "code",
      "source": [
        "class RandomAffineTransform2D_Torch():\n",
        "    def __init__(self,\n",
        "                 center_joints,\n",
        "                 apply_ratio,\n",
        "                 trans_range,\n",
        "                 scale_range,\n",
        "                 rot_range,\n",
        "                 skew_range,\n",
        "                 random_seed=None,\n",
        "                 device=\"cpu\",\n",
        "                 dtype=torch.float32):\n",
        "\n",
        "        self.center_joints = center_joints\n",
        "        if isinstance(self.center_joints, int):\n",
        "            self.center_joints = [self.center_joints]\n",
        "\n",
        "        self.apply_ratio = apply_ratio\n",
        "        self.trans_range = trans_range\n",
        "        self.scale_range = scale_range\n",
        "        self.rot_range = np.radians(rot_range).tolist()\n",
        "        self.skew_range = np.radians(skew_range).tolist()\n",
        "        self.dtype = dtype\n",
        "        self.rng = torch.Generator(device=device)\n",
        "        if random_seed is not None:\n",
        "            self.rng.manual_seed(random_seed)\n",
        "\n",
        "    def __call__(self, inputs):\n",
        "        if torch.rand(1, generator=self.rng) >= self.apply_ratio:\n",
        "            return inputs\n",
        "\n",
        "        temp = inputs[:, self.center_joints, :]\n",
        "        temp = temp.reshape([inputs.shape[0], -1, inputs.shape[-1]])\n",
        "        mask = temp.sum(dim=(1, 2)) != 0\n",
        "        # Use x and y only.\n",
        "        center = temp[mask].mean(dim=0).mean(dim=0)[:2]\n",
        "\n",
        "        # Random value in [0, 1].\n",
        "        trans = torch.rand(2, generator=self.rng)\n",
        "        scale = torch.rand(2, generator=self.rng)\n",
        "        rot = torch.rand(1, generator=self.rng)\n",
        "        skew = torch.rand(2, generator=self.rng)\n",
        "        # Scale to target range.\n",
        "        trans = (self.trans_range[1] - self.trans_range[0]) * trans + self.trans_range[0]\n",
        "        scale = (self.scale_range[1] - self.scale_range[0]) * scale + self.scale_range[0]\n",
        "        rot = (self.rot_range[1] - self.rot_range[0]) * rot + self.rot_range[0]\n",
        "        skew = (self.skew_range[1] - self.skew_range[0]) * skew + self.skew_range[0]\n",
        "\n",
        "        # Calculate matrix.\n",
        "        mat = get_affine_matrix_2d_torch_jit(center, trans, scale, rot, skew,\n",
        "            dtype=self.dtype)\n",
        "\n",
        "        # Apply transform.\n",
        "        inputs = apply_affine_torch_jit(inputs, mat)\n",
        "        return inputs"
      ],
      "metadata": {
        "id": "ENTNzFkO8bZE"
      },
      "execution_count": 19,
      "outputs": []
    },
    {
      "cell_type": "code",
      "source": [
        "aug_fn = RandomAffineTransform2D_Torch(\n",
        "    center_joints=[11, 12],\n",
        "    apply_ratio=1.0,\n",
        "    trans_range=[-100.0, 100.0],\n",
        "    scale_range=[0.5, 2.0],\n",
        "    rot_range=[-30.0, 30.0],\n",
        "    skew_range=[-30.0, 30.0],\n",
        "    dtype=dtype)"
      ],
      "metadata": {
        "id": "OU1sn-4g9Dv8"
      },
      "execution_count": 20,
      "outputs": []
    },
    {
      "cell_type": "code",
      "source": [
        "augtracks = []\n",
        "\n",
        "# The 1st call may be slow because of the computation graph construction.\n",
        "start = time.perf_counter()\n",
        "temp = aug_fn(torch.tensor(trackdata.copy().astype(np.float32)))\n",
        "interval = time.perf_counter() - start\n",
        "print(\"Time of first call\")\n",
        "print_perf_time(np.array(interval))\n",
        "\n",
        "intervals = []\n",
        "for _ in range(TRIALS):\n",
        "    start = time.perf_counter()\n",
        "    augtracks.append(aug_fn(torch.tensor(trackdata.copy().astype(np.float32))))\n",
        "    end = time.perf_counter()\n",
        "    intervals.append(end - start)\n",
        "intervals = np.array(intervals)\n",
        "print(\"Time after second call\")\n",
        "print_perf_time(intervals, TOPK)"
      ],
      "metadata": {
        "colab": {
          "base_uri": "https://localhost:8080/"
        },
        "id": "3pzIoq2k9KD1",
        "outputId": "08a88bef-d357-43d1-86c2-0834af5544f7"
      },
      "execution_count": 21,
      "outputs": [
        {
          "output_type": "stream",
          "name": "stdout",
          "text": [
            "Time of first call\n",
            "Summary: Max 51.1747ms, Min 51.1747ms, Mean +/- Std 51.1747ms +/-   0s\n",
            "Time after second call\n",
            "Summary: Max 4.80058ms, Min 4.2865ms, Mean +/- Std 4.48785ms +/- 189.306µs\n"
          ]
        }
      ]
    },
    {
      "cell_type": "code",
      "source": [
        "augtracks = []\n",
        "\n",
        "# The 1st call may be slow because of the computation graph construction.\n",
        "start = time.perf_counter()\n",
        "temp = aug_fn(torch.tensor(trackdata.copy().astype(np.float32)[:-1]))\n",
        "interval = time.perf_counter() - start\n",
        "print(\"Time of first call\")\n",
        "print_perf_time(np.array(interval))\n",
        "\n",
        "intervals = []\n",
        "for _ in range(TRIALS):\n",
        "    start = time.perf_counter()\n",
        "    augtracks.append(aug_fn(torch.tensor(trackdata.copy().astype(np.float32))[:-1]))\n",
        "    end = time.perf_counter()\n",
        "    intervals.append(end - start)\n",
        "intervals = np.array(intervals)\n",
        "print(\"Time after second call\")\n",
        "print_perf_time(intervals, TOPK)"
      ],
      "metadata": {
        "colab": {
          "base_uri": "https://localhost:8080/"
        },
        "id": "1JecWyRS9dDr",
        "outputId": "80f7d8af-5bef-420a-b369-bc59c146434f"
      },
      "execution_count": 22,
      "outputs": [
        {
          "output_type": "stream",
          "name": "stdout",
          "text": [
            "Time of first call\n",
            "Summary: Max 5.91589ms, Min 5.91589ms, Mean +/- Std 5.91589ms +/-   0s\n",
            "Time after second call\n",
            "Summary: Max 4.17646ms, Min 4.00562ms, Mean +/- Std 4.12132ms +/- 52.0244µs\n"
          ]
        }
      ]
    },
    {
      "cell_type": "markdown",
      "source": [
        "## 4.2 Implementation2: Apply JIT to whole affine process (JIT compile nn.Module)."
      ],
      "metadata": {
        "id": "PDOuPsRJ9lt1"
      }
    },
    {
      "cell_type": "code",
      "source": [
        "class RandomAffineTransform2D_TorchModule(nn.Module):\n",
        "    def __init__(self,\n",
        "                 center_joints,\n",
        "                 apply_ratio,\n",
        "                 trans_range,\n",
        "                 scale_range,\n",
        "                 rot_range,\n",
        "                 skew_range,\n",
        "                 random_seed=None,\n",
        "                 device=\"cpu\",\n",
        "                 dtype=torch.float32):\n",
        "        super().__init__()\n",
        "\n",
        "        self.center_joints = center_joints\n",
        "        if isinstance(self.center_joints, int):\n",
        "            self.center_joints = [self.center_joints]\n",
        "\n",
        "        self.apply_ratio = apply_ratio\n",
        "        self.trans_range = trans_range\n",
        "        self.scale_range = scale_range\n",
        "        self.rot_range = np.radians(rot_range).tolist()\n",
        "        self.skew_range = np.radians(skew_range).tolist()\n",
        "        self.dtype = dtype\n",
        "        # self.rng = torch.Generator(device=device)\n",
        "        # if random_seed is not None:\n",
        "        #     self.rng.manual_seed(random_seed)\n",
        "        self.rng = None\n",
        "\n",
        "    def forward(self, inputs):\n",
        "        if torch.rand(1, generator=self.rng) >= self.apply_ratio:\n",
        "            return inputs\n",
        "\n",
        "        temp = inputs[:, self.center_joints, :]\n",
        "        temp = temp.reshape([inputs.shape[0], -1, inputs.shape[-1]])\n",
        "        mask = temp.sum(dim=(1, 2)) != 0\n",
        "        # Use x and y only.\n",
        "        center = temp[mask].mean(dim=0).mean(dim=0)[:2]\n",
        "\n",
        "        # Random value in [0, 1].\n",
        "        trans = torch.rand(2, generator=self.rng)\n",
        "        scale = torch.rand(2, generator=self.rng)\n",
        "        rot = torch.rand(1, generator=self.rng)\n",
        "        skew = torch.rand(2, generator=self.rng)\n",
        "        # Scale to target range.\n",
        "        trans = (self.trans_range[1] - self.trans_range[0]) * trans + self.trans_range[0]\n",
        "        scale = (self.scale_range[1] - self.scale_range[0]) * scale + self.scale_range[0]\n",
        "        rot = (self.rot_range[1] - self.rot_range[0]) * rot + self.rot_range[0]\n",
        "        skew = (self.skew_range[1] - self.skew_range[0]) * skew + self.skew_range[0]\n",
        "\n",
        "        # Calculate matrix.\n",
        "        mat = get_affine_matrix_2d_torch_jit(center, trans, scale, rot, skew,\n",
        "            dtype=self.dtype)\n",
        "\n",
        "        # Apply transform.\n",
        "        inputs = apply_affine_torch_jit(inputs, mat)\n",
        "        return inputs"
      ],
      "metadata": {
        "id": "bZYoY1w19q5t"
      },
      "execution_count": 23,
      "outputs": []
    },
    {
      "cell_type": "code",
      "source": [
        "aug_fn = RandomAffineTransform2D_TorchModule(\n",
        "    center_joints=[11, 12],\n",
        "    apply_ratio=1.0,\n",
        "    trans_range=[-100.0, 100.0],\n",
        "    scale_range=[0.5, 2.0],\n",
        "    rot_range=[-30.0, 30.0],\n",
        "    skew_range=[-30.0, 30.0],\n",
        "    dtype=dtype)\n",
        "aug_fn = torch.jit.script(aug_fn)"
      ],
      "metadata": {
        "id": "Fc_uEl6M94Rk"
      },
      "execution_count": 24,
      "outputs": []
    },
    {
      "cell_type": "code",
      "source": [
        "augtracks = []\n",
        "\n",
        "# The 1st call may be slow because of the computation graph construction.\n",
        "start = time.perf_counter()\n",
        "temp = aug_fn(torch.tensor(trackdata.copy().astype(np.float32)))\n",
        "interval = time.perf_counter() - start\n",
        "print(\"Time of first call\")\n",
        "print_perf_time(np.array(interval))\n",
        "\n",
        "intervals = []\n",
        "for _ in range(TRIALS):\n",
        "    start = time.perf_counter()\n",
        "    augtracks.append(aug_fn(torch.tensor(trackdata.copy().astype(np.float32))))\n",
        "    end = time.perf_counter()\n",
        "    intervals.append(end - start)\n",
        "intervals = np.array(intervals)\n",
        "print(\"Time after second call\")\n",
        "print_perf_time(intervals, TOPK)"
      ],
      "metadata": {
        "colab": {
          "base_uri": "https://localhost:8080/"
        },
        "id": "9pR-_9eT9__M",
        "outputId": "c3c5a6c2-af89-466d-d7dd-5705eedd9908"
      },
      "execution_count": 25,
      "outputs": [
        {
          "output_type": "stream",
          "name": "stdout",
          "text": [
            "Time of first call\n",
            "Summary: Max 40.84ms, Min 40.84ms, Mean +/- Std 40.84ms +/-   0s\n",
            "Time after second call\n",
            "Summary: Max 3.02665ms, Min 2.61142ms, Mean +/- Std 2.85113ms +/- 126.827µs\n"
          ]
        }
      ]
    },
    {
      "cell_type": "code",
      "source": [
        "augtracks = []\n",
        "\n",
        "# The 1st call may be slow because of the computation graph construction.\n",
        "start = time.perf_counter()\n",
        "temp = aug_fn(torch.tensor(trackdata.copy().astype(np.float32)[:-1]))\n",
        "interval = time.perf_counter() - start\n",
        "print(\"Time of first call\")\n",
        "print_perf_time(np.array(interval))\n",
        "\n",
        "intervals = []\n",
        "for _ in range(TRIALS):\n",
        "    start = time.perf_counter()\n",
        "    augtracks.append(aug_fn(torch.tensor(trackdata.copy().astype(np.float32))[:-1]))\n",
        "    end = time.perf_counter()\n",
        "    intervals.append(end - start)\n",
        "intervals = np.array(intervals)\n",
        "print(\"Time after second call\")\n",
        "print_perf_time(intervals, TOPK)"
      ],
      "metadata": {
        "colab": {
          "base_uri": "https://localhost:8080/"
        },
        "id": "N22vjWhU-D7O",
        "outputId": "40fc7765-653d-4353-c539-e5514cca6613"
      },
      "execution_count": 26,
      "outputs": [
        {
          "output_type": "stream",
          "name": "stdout",
          "text": [
            "Time of first call\n",
            "Summary: Max 11.5391ms, Min 11.5391ms, Mean +/- Std 11.5391ms +/-   0s\n",
            "Time after second call\n",
            "Summary: Max 2.71104ms, Min 2.48304ms, Mean +/- Std 2.61997ms +/- 76.097µs\n"
          ]
        }
      ]
    }
  ]
}