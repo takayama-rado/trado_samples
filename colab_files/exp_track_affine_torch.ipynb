{
  "nbformat": 4,
  "nbformat_minor": 0,
  "metadata": {
    "colab": {
      "provenance": [],
      "authorship_tag": "ABX9TyNtC1O8kxKWrRfclOEPBt+w",
      "include_colab_link": true
    },
    "kernelspec": {
      "name": "python3",
      "display_name": "Python 3"
    },
    "language_info": {
      "name": "python"
    }
  },
  "cells": [
    {
      "cell_type": "markdown",
      "metadata": {
        "id": "view-in-github",
        "colab_type": "text"
      },
      "source": [
        "<a href=\"https://colab.research.google.com/github/takayama-rado/trado_samples/blob/main/colab_files/exp_track_affine_torch.ipynb\" target=\"_parent\"><img src=\"https://colab.research.google.com/assets/colab-badge.svg\" alt=\"Open In Colab\"/></a>"
      ]
    },
    {
      "cell_type": "markdown",
      "source": [
        "# 1. Load library"
      ],
      "metadata": {
        "id": "Am8q-mPIs7gV"
      }
    },
    {
      "cell_type": "code",
      "execution_count": 1,
      "metadata": {
        "id": "OIDqM3hEs2XU"
      },
      "outputs": [],
      "source": [
        "# Standard modules.\n",
        "import sys\n",
        "import time\n",
        "\n",
        "# CV/ML.\n",
        "import numpy as np\n",
        "\n",
        "import torch\n",
        "import torch.nn as nn"
      ]
    },
    {
      "cell_type": "code",
      "source": [
        "print(f\"Python:{sys.version}\")\n",
        "print(f\"Numpy:{np.__version__}\")\n",
        "print(f\"Torch:{torch.__version__}\")"
      ],
      "metadata": {
        "colab": {
          "base_uri": "https://localhost:8080/"
        },
        "id": "RGshqJ3FgLlr",
        "outputId": "3659c0ac-ad24-4019-f093-f82f839b59b1"
      },
      "execution_count": 2,
      "outputs": [
        {
          "output_type": "stream",
          "name": "stdout",
          "text": [
            "Python:3.10.12 (main, Jun 11 2023, 05:26:28) [GCC 11.4.0]\n",
            "Numpy:1.23.5\n",
            "Torch:2.0.1+cu118\n"
          ]
        }
      ]
    },
    {
      "cell_type": "markdown",
      "source": [
        "# 2. Load data"
      ],
      "metadata": {
        "id": "46iI_U9YwUde"
      }
    },
    {
      "cell_type": "code",
      "source": [
        "!wget https://github.com/takayama-rado/trado_samples/raw/main/test_data/finger_far0_non_static.npy"
      ],
      "metadata": {
        "colab": {
          "base_uri": "https://localhost:8080/"
        },
        "id": "Crl3zNYpwWnU",
        "outputId": "a727e052-b095-4f1d-e2b4-97ba529ce393"
      },
      "execution_count": 3,
      "outputs": [
        {
          "output_type": "stream",
          "name": "stdout",
          "text": [
            "--2023-10-19 08:49:37--  https://github.com/takayama-rado/trado_samples/raw/main/test_data/finger_far0_non_static.npy\n",
            "Resolving github.com (github.com)... 192.30.255.112\n",
            "Connecting to github.com (github.com)|192.30.255.112|:443... connected.\n",
            "HTTP request sent, awaiting response... 302 Found\n",
            "Location: https://raw.githubusercontent.com/takayama-rado/trado_samples/main/test_data/finger_far0_non_static.npy [following]\n",
            "--2023-10-19 08:49:37--  https://raw.githubusercontent.com/takayama-rado/trado_samples/main/test_data/finger_far0_non_static.npy\n",
            "Resolving raw.githubusercontent.com (raw.githubusercontent.com)... 185.199.108.133, 185.199.111.133, 185.199.110.133, ...\n",
            "Connecting to raw.githubusercontent.com (raw.githubusercontent.com)|185.199.108.133|:443... connected.\n",
            "HTTP request sent, awaiting response... 200 OK\n",
            "Length: 2300608 (2.2M) [application/octet-stream]\n",
            "Saving to: ‘finger_far0_non_static.npy’\n",
            "\n",
            "finger_far0_non_sta 100%[===================>]   2.19M  --.-KB/s    in 0.05s   \n",
            "\n",
            "2023-10-19 08:49:37 (47.2 MB/s) - ‘finger_far0_non_static.npy’ saved [2300608/2300608]\n",
            "\n"
          ]
        }
      ]
    },
    {
      "cell_type": "code",
      "source": [
        "!wget https://github.com/takayama-rado/trado_samples/raw/main/test_data/finger_far0_non_static_affine.npy"
      ],
      "metadata": {
        "colab": {
          "base_uri": "https://localhost:8080/"
        },
        "id": "M6N763VfwX9d",
        "outputId": "4cf13047-4258-4726-a90c-ba8535f52e6d"
      },
      "execution_count": 4,
      "outputs": [
        {
          "output_type": "stream",
          "name": "stdout",
          "text": [
            "--2023-10-19 08:49:37--  https://github.com/takayama-rado/trado_samples/raw/main/test_data/finger_far0_non_static_affine.npy\n",
            "Resolving github.com (github.com)... 192.30.255.112\n",
            "Connecting to github.com (github.com)|192.30.255.112|:443... connected.\n",
            "HTTP request sent, awaiting response... 302 Found\n",
            "Location: https://raw.githubusercontent.com/takayama-rado/trado_samples/main/test_data/finger_far0_non_static_affine.npy [following]\n",
            "--2023-10-19 08:49:38--  https://raw.githubusercontent.com/takayama-rado/trado_samples/main/test_data/finger_far0_non_static_affine.npy\n",
            "Resolving raw.githubusercontent.com (raw.githubusercontent.com)... 185.199.108.133, 185.199.109.133, 185.199.110.133, ...\n",
            "Connecting to raw.githubusercontent.com (raw.githubusercontent.com)|185.199.108.133|:443... connected.\n",
            "HTTP request sent, awaiting response... 200 OK\n",
            "Length: 2300608 (2.2M) [application/octet-stream]\n",
            "Saving to: ‘finger_far0_non_static_affine.npy’\n",
            "\n",
            "finger_far0_non_sta 100%[===================>]   2.19M  --.-KB/s    in 0.05s   \n",
            "\n",
            "2023-10-19 08:49:38 (47.0 MB/s) - ‘finger_far0_non_static_affine.npy’ saved [2300608/2300608]\n",
            "\n"
          ]
        }
      ]
    },
    {
      "cell_type": "code",
      "source": [
        "!ls"
      ],
      "metadata": {
        "colab": {
          "base_uri": "https://localhost:8080/"
        },
        "id": "spzE6k37wZlk",
        "outputId": "15a2f543-dad0-4c25-cff3-cd569e4c915b"
      },
      "execution_count": 5,
      "outputs": [
        {
          "output_type": "stream",
          "name": "stdout",
          "text": [
            "finger_far0_non_static_affine.npy  finger_far0_non_static.npy  sample_data\n"
          ]
        }
      ]
    },
    {
      "cell_type": "markdown",
      "source": [
        "# 3. Implement affine transformation"
      ],
      "metadata": {
        "id": "E0bsjEqswbx8"
      }
    },
    {
      "cell_type": "markdown",
      "source": [
        "## 3.1 Based on define-by-run"
      ],
      "metadata": {
        "id": "7fr6W4vhwf4s"
      }
    },
    {
      "cell_type": "code",
      "source": [
        "def get_affine_matrix_2d_torch(center,\n",
        "                               trans,\n",
        "                               scale,\n",
        "                               rot,\n",
        "                               skew,\n",
        "                               dtype = torch.float32):\n",
        "    center_m = torch.tensor([[1.0, 0.0, float(-center[0])],\n",
        "                             [0.0, 1.0, float(-center[1])],\n",
        "                             [0.0, 0.0, 1.0]], dtype=dtype)\n",
        "    scale_m = torch.tensor([[float(scale[0]), 0.0, 0.0],\n",
        "                            [0.0, float(scale[1]), 0.0],\n",
        "                            [0.0, 0.0, 1.0]], dtype=dtype)\n",
        "    _cos = torch.cos(rot)\n",
        "    _sin = torch.sin(rot)\n",
        "    rot_m = torch.tensor([[float(_cos), float(-_sin), 0.0],\n",
        "                          [float(_sin), float(_cos), 0.0],\n",
        "                          [0.0, 0.0, 1.0]], dtype=dtype)\n",
        "    _tan = torch.tan(skew)\n",
        "    skew_m = torch.tensor([[1.0, float(_tan[0]), 0.0],\n",
        "                           [float(_tan[1]), 1.0, 0.0],\n",
        "                           [0.0, 0.0, 1.0]], dtype=dtype)\n",
        "    move = center + trans\n",
        "    trans_m = torch.tensor([[1.0, 0.0, float(move[0])],\n",
        "                            [0.0, 1.0, float(move[1])],\n",
        "                            [0.0, 0.0, 1.0]], dtype=dtype)\n",
        "    # Make affine matrix.\n",
        "    mat = torch.eye(3, 3, dtype=dtype)\n",
        "    mat = torch.matmul(center_m, mat)\n",
        "    mat = torch.matmul(scale_m, mat)\n",
        "    mat = torch.matmul(rot_m, mat)\n",
        "    mat = torch.matmul(skew_m, mat)\n",
        "    mat = torch.matmul(trans_m, mat)\n",
        "    return mat.to(dtype)"
      ],
      "metadata": {
        "id": "um2L_Etkwjv7"
      },
      "execution_count": 6,
      "outputs": []
    },
    {
      "cell_type": "code",
      "source": [
        "def apply_affine_torch(inputs, mat):\n",
        "    xy = inputs[:, :, :2]\n",
        "    xy = torch.cat([xy, torch.ones([xy.shape[0], xy.shape[1], 1])], dim=-1)\n",
        "    xy = torch.einsum(\"...j,ij\", xy, mat)\n",
        "    inputs[:, :, :2] = xy[:, :, :-1]\n",
        "    return inputs"
      ],
      "metadata": {
        "id": "iZQNcQLYwoHc"
      },
      "execution_count": 7,
      "outputs": []
    },
    {
      "cell_type": "code",
      "source": [
        "# Load data.\n",
        "trackfile = \"./finger_far0_non_static.npy\"\n",
        "reffile = \"./finger_far0_non_static_affine.npy\"\n",
        "trackdata = np.load(trackfile)\n",
        "refdata = np.load(reffile)\n",
        "print(trackdata.shape)\n",
        "\n",
        "# Remove person axis.\n",
        "trackdata = trackdata[0]\n",
        "refdata = refdata[0]"
      ],
      "metadata": {
        "colab": {
          "base_uri": "https://localhost:8080/"
        },
        "id": "s0M7mcIUwt6E",
        "outputId": "95b4db54-f83f-4e76-c806-bc7b630306b4"
      },
      "execution_count": 8,
      "outputs": [
        {
          "output_type": "stream",
          "name": "stdout",
          "text": [
            "(1, 130, 553, 4)\n"
          ]
        }
      ]
    },
    {
      "cell_type": "code",
      "source": [
        " # Get affine matrix.\n",
        "center = torch.tensor([638.0, 389.0])\n",
        "trans = torch.tensor([100.0, 0.0])\n",
        "scale = torch.tensor([2.0, 0.5])\n",
        "rot = torch.tensor(np.radians(15.0))\n",
        "skew = torch.tensor(np.radians([15.0, 15.0]))\n",
        "dtype = torch.float32\n",
        "print(\"Parameters\")\n",
        "print(\"Center:\", center)\n",
        "print(\"Trans:\", trans)\n",
        "print(\"Scale:\", scale)\n",
        "print(\"Rot:\", rot)\n",
        "print(\"Skew:\", skew)"
      ],
      "metadata": {
        "colab": {
          "base_uri": "https://localhost:8080/"
        },
        "id": "VXe1Gj3Bwveb",
        "outputId": "a9f0d82a-a9be-4a4f-c70a-b1343e85e39e"
      },
      "execution_count": 9,
      "outputs": [
        {
          "output_type": "stream",
          "name": "stdout",
          "text": [
            "Parameters\n",
            "Center: tensor([638., 389.])\n",
            "Trans: tensor([100.,   0.])\n",
            "Scale: tensor([2.0000, 0.5000])\n",
            "Rot: tensor(0.2618, dtype=torch.float64)\n",
            "Skew: tensor([0.2618, 0.2618], dtype=torch.float64)\n"
          ]
        }
      ]
    },
    {
      "cell_type": "code",
      "source": [
        "testtrack = torch.tensor(trackdata.copy().astype(np.float32))\n",
        "trial = 10\n",
        "\n",
        "# The 1st call may be slow because of the computation graph construction.\n",
        "start = time.perf_counter()\n",
        "mat = get_affine_matrix_2d_torch(center, trans, scale, rot, skew, dtype=dtype)\n",
        "newtrack = apply_affine_torch(testtrack, mat)\n",
        "interval = time.perf_counter() - start\n",
        "print(f\"Time of first call:{interval}\")\n",
        "\n",
        "# Evaluate difference.\n",
        "diff = (np.round(newtrack.detach().cpu().numpy()) - np.round(refdata)).sum()\n",
        "\n",
        "testtrack = torch.tensor(trackdata.copy().astype(np.float32))\n",
        "\n",
        "start = time.perf_counter()\n",
        "for _ in range(trial):\n",
        "    mat = get_affine_matrix_2d_torch(center, trans, scale, rot, skew, dtype=dtype)\n",
        "    newtrack = apply_affine_torch(testtrack, mat)\n",
        "interval = time.perf_counter() - start\n",
        "print(f\"Average time:{interval / trial}\")\n",
        "\n",
        "print(f\"Sum of error:{diff}\")"
      ],
      "metadata": {
        "colab": {
          "base_uri": "https://localhost:8080/"
        },
        "id": "d5QQDbZaw-9z",
        "outputId": "30ac5272-5184-4fe8-c728-209232bd67f1"
      },
      "execution_count": 10,
      "outputs": [
        {
          "output_type": "stream",
          "name": "stdout",
          "text": [
            "Time of first call:0.09676136199999519\n",
            "Average time:0.0052726300000003334\n",
            "Sum of error:0.0\n"
          ]
        }
      ]
    },
    {
      "cell_type": "code",
      "source": [
        "testtrack = torch.tensor(trackdata.copy().astype(np.float32))\n",
        "trial = 10\n",
        "\n",
        "# The 1st call may be slow because of the computation graph construction.\n",
        "start = time.perf_counter()\n",
        "mat = get_affine_matrix_2d_torch(center, trans, scale, rot, skew, dtype=dtype)\n",
        "newtrack = apply_affine_torch(testtrack[:-1], mat)\n",
        "interval = time.perf_counter() - start\n",
        "print(f\"Time of first call:{interval}\")\n",
        "\n",
        "testtrack = torch.tensor(trackdata.copy().astype(np.float32))\n",
        "\n",
        "start = time.perf_counter()\n",
        "for _ in range(trial):\n",
        "    mat = get_affine_matrix_2d_torch(center, trans, scale, rot, skew, dtype=dtype)\n",
        "    newtrack = apply_affine_torch(testtrack[:-1], mat)\n",
        "interval = time.perf_counter() - start\n",
        "print(f\"Average time:{interval / trial}\")"
      ],
      "metadata": {
        "colab": {
          "base_uri": "https://localhost:8080/"
        },
        "id": "ivPCoHDVxLoT",
        "outputId": "e729b898-d690-4827-ea61-d596b80d75f8"
      },
      "execution_count": 11,
      "outputs": [
        {
          "output_type": "stream",
          "name": "stdout",
          "text": [
            "Time of first call:0.0032522400000019047\n",
            "Average time:0.005012408600000384\n"
          ]
        }
      ]
    },
    {
      "cell_type": "markdown",
      "source": [
        "## 3.2 Based on define-and-run"
      ],
      "metadata": {
        "id": "v9eFIlx0xS96"
      }
    },
    {
      "cell_type": "code",
      "source": [
        "@torch.jit.script\n",
        "def get_affine_matrix_2d_torch_jit(center: torch.Tensor,\n",
        "                                   trans: torch.Tensor,\n",
        "                                   scale: torch.Tensor,\n",
        "                                   rot: torch.Tensor,\n",
        "                                   skew: torch.Tensor,\n",
        "                                   dtype: torch.dtype = torch.float32):\n",
        "    center_m = torch.tensor([[1.0, 0.0, float(-center[0])],\n",
        "                             [0.0, 1.0, float(-center[1])],\n",
        "                             [0.0, 0.0, 1.0]], dtype=dtype)\n",
        "    scale_m = torch.tensor([[float(scale[0]), 0.0, 0.0],\n",
        "                            [0.0, float(scale[1]), 0.0],\n",
        "                            [0.0, 0.0, 1.0]], dtype=dtype)\n",
        "    _cos = torch.cos(rot)\n",
        "    _sin = torch.sin(rot)\n",
        "    rot_m = torch.tensor([[float(_cos), float(-_sin), 0.0],\n",
        "                          [float(_sin), float(_cos), 0.0],\n",
        "                          [0.0, 0.0, 1.0]], dtype=dtype)\n",
        "    _tan = torch.tan(skew)\n",
        "    skew_m = torch.tensor([[1.0, float(_tan[0]), 0.0],\n",
        "                           [float(_tan[1]), 1.0, 0.0],\n",
        "                           [0.0, 0.0, 1.0]], dtype=dtype)\n",
        "    move = center + trans\n",
        "    trans_m = torch.tensor([[1.0, 0.0, float(move[0])],\n",
        "                            [0.0, 1.0, float(move[1])],\n",
        "                            [0.0, 0.0, 1.0]], dtype=dtype)\n",
        "    # Make affine matrix.\n",
        "    mat = torch.eye(3, 3, dtype=dtype)\n",
        "    mat = torch.matmul(center_m, mat)\n",
        "    mat = torch.matmul(scale_m, mat)\n",
        "    mat = torch.matmul(rot_m, mat)\n",
        "    mat = torch.matmul(skew_m, mat)\n",
        "    mat = torch.matmul(trans_m, mat)\n",
        "    return mat.to(dtype)"
      ],
      "metadata": {
        "id": "tNozKdkkxWDE"
      },
      "execution_count": 12,
      "outputs": []
    },
    {
      "cell_type": "code",
      "source": [
        "@torch.jit.script\n",
        "def apply_affine_torch_jit(inputs, mat):\n",
        "    xy = inputs[:, :, :2]\n",
        "    xy = torch.cat([xy, torch.ones([xy.shape[0], xy.shape[1], 1])], dim=-1)\n",
        "    xy = torch.einsum(\"...j,ij\", xy, mat)\n",
        "    inputs[:, :, :2] = xy[:, :, :-1]\n",
        "    return inputs"
      ],
      "metadata": {
        "id": "oLbub6jnxf6M"
      },
      "execution_count": 13,
      "outputs": []
    },
    {
      "cell_type": "code",
      "source": [
        "testtrack = torch.tensor(trackdata.copy().astype(np.float32))\n",
        "trial = 10\n",
        "\n",
        "# The 1st call may be slow because of the computation graph construction.\n",
        "start = time.perf_counter()\n",
        "mat = get_affine_matrix_2d_torch_jit(center, trans, scale, rot, skew, dtype=dtype)\n",
        "newtrack = apply_affine_torch_jit(testtrack, mat)\n",
        "interval = time.perf_counter() - start\n",
        "print(f\"Time of first call:{interval}\")\n",
        "\n",
        "# Evaluate difference.\n",
        "diff = (np.round(newtrack.detach().cpu().numpy()) - np.round(refdata)).sum()\n",
        "\n",
        "testtrack = torch.tensor(trackdata.copy().astype(np.float32))\n",
        "\n",
        "start = time.perf_counter()\n",
        "for _ in range(trial):\n",
        "    mat = get_affine_matrix_2d_torch_jit(center, trans, scale, rot, skew, dtype=dtype)\n",
        "    newtrack = apply_affine_torch_jit(testtrack, mat)\n",
        "interval = time.perf_counter() - start\n",
        "print(f\"Average time:{interval / trial}\")\n",
        "\n",
        "print(f\"Sum of error:{diff}\")"
      ],
      "metadata": {
        "colab": {
          "base_uri": "https://localhost:8080/"
        },
        "id": "kXjS76HpyJ0L",
        "outputId": "f719d117-e302-4265-c7cc-e68e74816f09"
      },
      "execution_count": 14,
      "outputs": [
        {
          "output_type": "stream",
          "name": "stdout",
          "text": [
            "Time of first call:0.1794208829999988\n",
            "Average time:0.05957748810000041\n",
            "Sum of error:0.0\n"
          ]
        }
      ]
    },
    {
      "cell_type": "code",
      "source": [
        "testtrack = torch.tensor(trackdata.copy().astype(np.float32))\n",
        "trial = 10\n",
        "\n",
        "# The 1st call may be slow because of the computation graph construction.\n",
        "start = time.perf_counter()\n",
        "mat = get_affine_matrix_2d_torch_jit(center, trans, scale, rot, skew, dtype=dtype)\n",
        "newtrack = apply_affine_torch(testtrack[:-1], mat)\n",
        "interval = time.perf_counter() - start\n",
        "print(f\"Time of first call:{interval}\")\n",
        "\n",
        "testtrack = torch.tensor(trackdata.copy().astype(np.float32))\n",
        "\n",
        "start = time.perf_counter()\n",
        "for _ in range(trial):\n",
        "    mat = get_affine_matrix_2d_torch_jit(center, trans, scale, rot, skew, dtype=dtype)\n",
        "    newtrack = apply_affine_torch(testtrack[:-1], mat)\n",
        "interval = time.perf_counter() - start\n",
        "print(f\"Average time:{interval / trial}\")"
      ],
      "metadata": {
        "colab": {
          "base_uri": "https://localhost:8080/"
        },
        "id": "p0HhgJ6kySUs",
        "outputId": "fd989538-b83c-4098-978d-98fbba0b2d6a"
      },
      "execution_count": 15,
      "outputs": [
        {
          "output_type": "stream",
          "name": "stdout",
          "text": [
            "Time of first call:0.004983727999999132\n",
            "Average time:0.002901415899999904\n"
          ]
        }
      ]
    },
    {
      "cell_type": "markdown",
      "source": [
        "# 4. Application to randomized transformation"
      ],
      "metadata": {
        "id": "r0GXUVA68bzF"
      }
    },
    {
      "cell_type": "markdown",
      "source": [
        "## 4.1 Implementation1: Call JIT function from a python process"
      ],
      "metadata": {
        "id": "QrG9zPjw8gXG"
      }
    },
    {
      "cell_type": "code",
      "source": [
        "class RandomAffineTransform2D_Torch():\n",
        "    def __init__(self,\n",
        "                 center_joints,\n",
        "                 apply_ratio,\n",
        "                 trans_range,\n",
        "                 scale_range,\n",
        "                 rot_range,\n",
        "                 skew_range,\n",
        "                 random_seed=None,\n",
        "                 device=\"cpu\",\n",
        "                 dtype=torch.float32):\n",
        "\n",
        "        self.center_joints = center_joints\n",
        "        if isinstance(self.center_joints, int):\n",
        "            self.center_joints = [self.center_joints]\n",
        "\n",
        "        self.apply_ratio = apply_ratio\n",
        "        self.trans_range = trans_range\n",
        "        self.scale_range = scale_range\n",
        "        self.rot_range = np.radians(rot_range).tolist()\n",
        "        self.skew_range = np.radians(skew_range).tolist()\n",
        "        self.dtype = dtype\n",
        "        self.rng = torch.Generator(device=device)\n",
        "        if random_seed is not None:\n",
        "            self.rng.manual_seed(random_seed)\n",
        "\n",
        "    def __call__(self, inputs):\n",
        "        if torch.rand(1, generator=self.rng) >= self.apply_ratio:\n",
        "            return inputs\n",
        "\n",
        "        temp = inputs[:, self.center_joints, :]\n",
        "        temp = temp.reshape([inputs.shape[0], -1, inputs.shape[-1]])\n",
        "        mask = temp.sum(dim=(1, 2)) != 0\n",
        "        # Use x and y only.\n",
        "        center = temp[mask].mean(dim=0).mean(dim=0)[:2]\n",
        "\n",
        "        # Random value in [0, 1].\n",
        "        trans = torch.rand(2, generator=self.rng)\n",
        "        scale = torch.rand(2, generator=self.rng)\n",
        "        rot = torch.rand(1, generator=self.rng)\n",
        "        skew = torch.rand(2, generator=self.rng)\n",
        "        # Scale to target range.\n",
        "        trans = (self.trans_range[1] - self.trans_range[0]) * trans + self.trans_range[0]\n",
        "        scale = (self.scale_range[1] - self.scale_range[0]) * scale + self.scale_range[0]\n",
        "        rot = (self.rot_range[1] - self.rot_range[0]) * rot + self.rot_range[0]\n",
        "        skew = (self.skew_range[1] - self.skew_range[0]) * skew + self.skew_range[0]\n",
        "\n",
        "        # Calculate matrix.\n",
        "        mat = get_affine_matrix_2d_torch_jit(center, trans, scale, rot, skew,\n",
        "            dtype=self.dtype)\n",
        "\n",
        "        # Apply transform.\n",
        "        inputs = apply_affine_torch_jit(inputs, mat)\n",
        "        return inputs"
      ],
      "metadata": {
        "id": "ENTNzFkO8bZE"
      },
      "execution_count": 16,
      "outputs": []
    },
    {
      "cell_type": "code",
      "source": [
        "aug_fn = RandomAffineTransform2D_Torch(\n",
        "    center_joints=[11, 12],\n",
        "    apply_ratio=1.0,\n",
        "    trans_range=[-100.0, 100.0],\n",
        "    scale_range=[0.5, 2.0],\n",
        "    rot_range=[-30.0, 30.0],\n",
        "    skew_range=[-30.0, 30.0],\n",
        "    dtype=dtype)"
      ],
      "metadata": {
        "id": "OU1sn-4g9Dv8"
      },
      "execution_count": 17,
      "outputs": []
    },
    {
      "cell_type": "code",
      "source": [
        "trial = 10\n",
        "augtracks = []\n",
        "\n",
        "# The 1st call may be slow because of the computation graph construction.\n",
        "start = time.perf_counter()\n",
        "temp = aug_fn(torch.tensor(trackdata.copy().astype(np.float32)))\n",
        "interval = time.perf_counter() - start\n",
        "print(f\"Time of first call:{interval}\")\n",
        "\n",
        "start = time.perf_counter()\n",
        "for _ in range(trial):\n",
        "  augtracks.append(aug_fn(torch.tensor(trackdata.copy().astype(np.float32))))\n",
        "interval = time.perf_counter() - start\n",
        "print(f\"Average time:{interval / trial}\")"
      ],
      "metadata": {
        "colab": {
          "base_uri": "https://localhost:8080/"
        },
        "id": "3pzIoq2k9KD1",
        "outputId": "f5ee8e2c-9060-4afd-e451-c65f7b509b78"
      },
      "execution_count": 18,
      "outputs": [
        {
          "output_type": "stream",
          "name": "stdout",
          "text": [
            "Time of first call:0.03813191899999424\n",
            "Average time:0.013965903100000076\n"
          ]
        }
      ]
    },
    {
      "cell_type": "code",
      "source": [
        "trial = 10\n",
        "augtracks = []\n",
        "\n",
        "# The 1st call may be slow because of the computation graph construction.\n",
        "start = time.perf_counter()\n",
        "temp = aug_fn(torch.tensor(trackdata.copy().astype(np.float32)[:-1]))\n",
        "interval = time.perf_counter() - start\n",
        "print(f\"Time of first call:{interval}\")\n",
        "\n",
        "start = time.perf_counter()\n",
        "for _ in range(trial):\n",
        "  augtracks.append(aug_fn(torch.tensor(trackdata.copy().astype(np.float32))[:-1]))\n",
        "interval = time.perf_counter() - start\n",
        "print(f\"Average time:{interval / trial}\")"
      ],
      "metadata": {
        "colab": {
          "base_uri": "https://localhost:8080/"
        },
        "id": "1JecWyRS9dDr",
        "outputId": "b0abc859-56da-47c7-fa3b-ce4de5071f6e"
      },
      "execution_count": 19,
      "outputs": [
        {
          "output_type": "stream",
          "name": "stdout",
          "text": [
            "Time of first call:0.00837194400000385\n",
            "Average time:0.005278510500000522\n"
          ]
        }
      ]
    },
    {
      "cell_type": "markdown",
      "source": [
        "## 4.2 Implementation2: Apply JIT to whole affine process (JIT compile nn.Module)."
      ],
      "metadata": {
        "id": "PDOuPsRJ9lt1"
      }
    },
    {
      "cell_type": "code",
      "source": [
        "class RandomAffineTransform2D_TorchModule(nn.Module):\n",
        "    def __init__(self,\n",
        "                 center_joints,\n",
        "                 apply_ratio,\n",
        "                 trans_range,\n",
        "                 scale_range,\n",
        "                 rot_range,\n",
        "                 skew_range,\n",
        "                 random_seed=None,\n",
        "                 device=\"cpu\",\n",
        "                 dtype=torch.float32):\n",
        "        super().__init__()\n",
        "\n",
        "        self.center_joints = center_joints\n",
        "        if isinstance(self.center_joints, int):\n",
        "            self.center_joints = [self.center_joints]\n",
        "\n",
        "        self.apply_ratio = apply_ratio\n",
        "        self.trans_range = trans_range\n",
        "        self.scale_range = scale_range\n",
        "        self.rot_range = np.radians(rot_range).tolist()\n",
        "        self.skew_range = np.radians(skew_range).tolist()\n",
        "        self.dtype = dtype\n",
        "        # self.rng = torch.Generator(device=device)\n",
        "        # if random_seed is not None:\n",
        "        #     self.rng.manual_seed(random_seed)\n",
        "        self.rng = None\n",
        "\n",
        "    def forward(self, inputs):\n",
        "        if torch.rand(1, generator=self.rng) >= self.apply_ratio:\n",
        "            return inputs\n",
        "\n",
        "        temp = inputs[:, self.center_joints, :]\n",
        "        temp = temp.reshape([inputs.shape[0], -1, inputs.shape[-1]])\n",
        "        mask = temp.sum(dim=(1, 2)) != 0\n",
        "        # Use x and y only.\n",
        "        center = temp[mask].mean(dim=0).mean(dim=0)[:2]\n",
        "\n",
        "        # Random value in [0, 1].\n",
        "        trans = torch.rand(2, generator=self.rng)\n",
        "        scale = torch.rand(2, generator=self.rng)\n",
        "        rot = torch.rand(1, generator=self.rng)\n",
        "        skew = torch.rand(2, generator=self.rng)\n",
        "        # Scale to target range.\n",
        "        trans = (self.trans_range[1] - self.trans_range[0]) * trans + self.trans_range[0]\n",
        "        scale = (self.scale_range[1] - self.scale_range[0]) * scale + self.scale_range[0]\n",
        "        rot = (self.rot_range[1] - self.rot_range[0]) * rot + self.rot_range[0]\n",
        "        skew = (self.skew_range[1] - self.skew_range[0]) * skew + self.skew_range[0]\n",
        "\n",
        "        # Calculate matrix.\n",
        "        mat = get_affine_matrix_2d_torch_jit(center, trans, scale, rot, skew,\n",
        "            dtype=self.dtype)\n",
        "\n",
        "        # Apply transform.\n",
        "        inputs = apply_affine_torch_jit(inputs, mat)\n",
        "        return inputs"
      ],
      "metadata": {
        "id": "bZYoY1w19q5t"
      },
      "execution_count": 20,
      "outputs": []
    },
    {
      "cell_type": "code",
      "source": [
        "aug_fn = RandomAffineTransform2D_TorchModule(\n",
        "    center_joints=[11, 12],\n",
        "    apply_ratio=1.0,\n",
        "    trans_range=[-100.0, 100.0],\n",
        "    scale_range=[0.5, 2.0],\n",
        "    rot_range=[-30.0, 30.0],\n",
        "    skew_range=[-30.0, 30.0],\n",
        "    dtype=dtype)\n",
        "aug_fn = torch.jit.script(aug_fn)"
      ],
      "metadata": {
        "id": "Fc_uEl6M94Rk"
      },
      "execution_count": 21,
      "outputs": []
    },
    {
      "cell_type": "code",
      "source": [
        "trial = 10\n",
        "augtracks = []\n",
        "\n",
        "# The 1st call may be slow because of the computation graph construction.\n",
        "start = time.perf_counter()\n",
        "temp = aug_fn(torch.tensor(trackdata.copy().astype(np.float32)))\n",
        "interval = time.perf_counter() - start\n",
        "print(f\"Time of first call:{interval}\")\n",
        "\n",
        "start = time.perf_counter()\n",
        "for _ in range(trial):\n",
        "  augtracks.append(aug_fn(torch.tensor(trackdata.copy().astype(np.float32))))\n",
        "interval = time.perf_counter() - start\n",
        "print(f\"Average time:{interval / trial}\")"
      ],
      "metadata": {
        "colab": {
          "base_uri": "https://localhost:8080/"
        },
        "id": "9pR-_9eT9__M",
        "outputId": "31501c0c-b1e6-4dc8-a00c-7743345ffbab"
      },
      "execution_count": 22,
      "outputs": [
        {
          "output_type": "stream",
          "name": "stdout",
          "text": [
            "Time of first call:0.04629312499999827\n",
            "Average time:0.055703601599999784\n"
          ]
        }
      ]
    },
    {
      "cell_type": "code",
      "source": [
        "trial = 10\n",
        "augtracks = []\n",
        "\n",
        "# The 1st call may be slow because of the computation graph construction.\n",
        "start = time.perf_counter()\n",
        "temp = aug_fn(torch.tensor(trackdata.copy().astype(np.float32)[:-1]))\n",
        "interval = time.perf_counter() - start\n",
        "print(f\"Time of first call:{interval}\")\n",
        "\n",
        "start = time.perf_counter()\n",
        "for _ in range(trial):\n",
        "  augtracks.append(aug_fn(torch.tensor(trackdata.copy().astype(np.float32))[:-1]))\n",
        "interval = time.perf_counter() - start\n",
        "print(f\"Average time:{interval / trial}\")"
      ],
      "metadata": {
        "colab": {
          "base_uri": "https://localhost:8080/"
        },
        "id": "N22vjWhU-D7O",
        "outputId": "5bd1973a-ec0c-47df-d82b-981a1f74a505"
      },
      "execution_count": 23,
      "outputs": [
        {
          "output_type": "stream",
          "name": "stdout",
          "text": [
            "Time of first call:0.005692700000004436\n",
            "Average time:0.022842740299999775\n"
          ]
        }
      ]
    }
  ]
}