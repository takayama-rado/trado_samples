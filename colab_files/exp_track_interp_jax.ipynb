{
  "nbformat": 4,
  "nbformat_minor": 0,
  "metadata": {
    "colab": {
      "provenance": [],
      "authorship_tag": "ABX9TyOtzuS8IXexMiDpDXS97iuI",
      "include_colab_link": true
    },
    "kernelspec": {
      "name": "python3",
      "display_name": "Python 3"
    },
    "language_info": {
      "name": "python"
    }
  },
  "cells": [
    {
      "cell_type": "markdown",
      "metadata": {
        "id": "view-in-github",
        "colab_type": "text"
      },
      "source": [
        "<a href=\"https://colab.research.google.com/github/takayama-rado/trado_samples/blob/main/colab_files/exp_track_interp_jax.ipynb\" target=\"_parent\"><img src=\"https://colab.research.google.com/assets/colab-badge.svg\" alt=\"Open In Colab\"/></a>"
      ]
    },
    {
      "cell_type": "markdown",
      "source": [
        "# 1. Load library"
      ],
      "metadata": {
        "id": "QpE0kA8Qtrq6"
      }
    },
    {
      "cell_type": "code",
      "execution_count": null,
      "metadata": {
        "id": "kBfLPnSYtotB"
      },
      "outputs": [],
      "source": [
        "# Standard modules.\n",
        "import gc\n",
        "import sys\n",
        "import time\n",
        "from functools import partial\n",
        "\n",
        "# CV/ML.\n",
        "import numpy as np\n",
        "\n",
        "import jax\n",
        "import jax.numpy as jnp\n",
        "from jax import jit\n",
        "\n",
        "# Enable float64.\n",
        "jax.config.update(\"jax_enable_x64\", True)"
      ]
    },
    {
      "cell_type": "code",
      "source": [
        "print(f\"Python:{sys.version}\")\n",
        "print(f\"Numpy:{np.__version__}\")\n",
        "print(f\"JAX:{jax.__version__}\")"
      ],
      "metadata": {
        "colab": {
          "base_uri": "https://localhost:8080/"
        },
        "id": "O0eXmw2PyMOv",
        "outputId": "7de2cd1a-c307-41af-8589-9e8db28ffb83"
      },
      "execution_count": null,
      "outputs": [
        {
          "output_type": "stream",
          "name": "stdout",
          "text": [
            "Python:3.10.12 (main, Jun 11 2023, 05:26:28) [GCC 11.4.0]\n",
            "Numpy:1.23.5\n",
            "JAX:0.4.16\n"
          ]
        }
      ]
    },
    {
      "cell_type": "markdown",
      "source": [
        "# 2. Load data"
      ],
      "metadata": {
        "id": "nxs3pCqTt3bK"
      }
    },
    {
      "cell_type": "code",
      "source": [
        "!wget https://github.com/takayama-rado/trado_samples/raw/main/test_data/finger_far0_non_static.npy"
      ],
      "metadata": {
        "colab": {
          "base_uri": "https://localhost:8080/"
        },
        "id": "ZEEn3__Ut5KK",
        "outputId": "5693bbab-4421-47b7-c571-b1dd9f49e8ab"
      },
      "execution_count": null,
      "outputs": [
        {
          "output_type": "stream",
          "name": "stdout",
          "text": [
            "--2023-10-29 11:46:09--  https://github.com/takayama-rado/trado_samples/raw/main/test_data/finger_far0_non_static.npy\n",
            "Resolving github.com (github.com)... 140.82.112.3\n",
            "Connecting to github.com (github.com)|140.82.112.3|:443... connected.\n",
            "HTTP request sent, awaiting response... 302 Found\n",
            "Location: https://raw.githubusercontent.com/takayama-rado/trado_samples/main/test_data/finger_far0_non_static.npy [following]\n",
            "--2023-10-29 11:46:09--  https://raw.githubusercontent.com/takayama-rado/trado_samples/main/test_data/finger_far0_non_static.npy\n",
            "Resolving raw.githubusercontent.com (raw.githubusercontent.com)... 185.199.108.133, 185.199.109.133, 185.199.110.133, ...\n",
            "Connecting to raw.githubusercontent.com (raw.githubusercontent.com)|185.199.108.133|:443... connected.\n",
            "HTTP request sent, awaiting response... 200 OK\n",
            "Length: 2300608 (2.2M) [application/octet-stream]\n",
            "Saving to: ‘finger_far0_non_static.npy’\n",
            "\n",
            "finger_far0_non_sta 100%[===================>]   2.19M  --.-KB/s    in 0.07s   \n",
            "\n",
            "2023-10-29 11:46:09 (31.0 MB/s) - ‘finger_far0_non_static.npy’ saved [2300608/2300608]\n",
            "\n"
          ]
        }
      ]
    },
    {
      "cell_type": "code",
      "source": [
        "!wget https://github.com/takayama-rado/trado_samples/raw/main/test_data/finger_far0_non_static_interp.npy"
      ],
      "metadata": {
        "colab": {
          "base_uri": "https://localhost:8080/"
        },
        "id": "4ES5xRRpt6RR",
        "outputId": "8559385a-7ec9-4ec4-e37b-fdc703cf1e3a"
      },
      "execution_count": null,
      "outputs": [
        {
          "output_type": "stream",
          "name": "stdout",
          "text": [
            "--2023-10-29 11:46:09--  https://github.com/takayama-rado/trado_samples/raw/main/test_data/finger_far0_non_static_interp.npy\n",
            "Resolving github.com (github.com)... 140.82.112.3\n",
            "Connecting to github.com (github.com)|140.82.112.3|:443... connected.\n",
            "HTTP request sent, awaiting response... 302 Found\n",
            "Location: https://raw.githubusercontent.com/takayama-rado/trado_samples/main/test_data/finger_far0_non_static_interp.npy [following]\n",
            "--2023-10-29 11:46:09--  https://raw.githubusercontent.com/takayama-rado/trado_samples/main/test_data/finger_far0_non_static_interp.npy\n",
            "Resolving raw.githubusercontent.com (raw.githubusercontent.com)... 185.199.108.133, 185.199.109.133, 185.199.110.133, ...\n",
            "Connecting to raw.githubusercontent.com (raw.githubusercontent.com)|185.199.108.133|:443... connected.\n",
            "HTTP request sent, awaiting response... 200 OK\n",
            "Length: 2300608 (2.2M) [application/octet-stream]\n",
            "Saving to: ‘finger_far0_non_static_interp.npy’\n",
            "\n",
            "finger_far0_non_sta 100%[===================>]   2.19M  --.-KB/s    in 0.07s   \n",
            "\n",
            "2023-10-29 11:46:09 (31.5 MB/s) - ‘finger_far0_non_static_interp.npy’ saved [2300608/2300608]\n",
            "\n"
          ]
        }
      ]
    },
    {
      "cell_type": "code",
      "source": [
        "!ls"
      ],
      "metadata": {
        "colab": {
          "base_uri": "https://localhost:8080/"
        },
        "id": "LUBmc_-6t8Wh",
        "outputId": "a4fed661-3d34-44f2-902d-674aaf9f7c2a"
      },
      "execution_count": null,
      "outputs": [
        {
          "output_type": "stream",
          "name": "stdout",
          "text": [
            "finger_far0_non_static_interp.npy  finger_far0_non_static.npy  sample_data\n"
          ]
        }
      ]
    },
    {
      "cell_type": "markdown",
      "source": [
        "# 3. Evaluation settings"
      ],
      "metadata": {
        "id": "DXOny1qOyQv_"
      }
    },
    {
      "cell_type": "code",
      "source": [
        "def get_perf_str(val):\n",
        "    token_si = [\"\", \"m\", \"µ\", \"n\", \"p\"]\n",
        "    exp_si = [1, 1e3, 1e6, 1e9, 1e12]\n",
        "    perf_str = f\"{val:3g}s\"\n",
        "    si = \"\"\n",
        "    sval = val\n",
        "    for token, exp in zip(token_si, exp_si):\n",
        "        if val * exp > 1.0:\n",
        "            si = token\n",
        "            sval = val * exp\n",
        "            break\n",
        "    perf_str = f\"{sval:3g}{si}s\"\n",
        "    return perf_str"
      ],
      "metadata": {
        "id": "NpDLFmNbySo_"
      },
      "execution_count": null,
      "outputs": []
    },
    {
      "cell_type": "code",
      "source": [
        "def print_perf_time(intervals, top_k=None):\n",
        "    if top_k is not None:\n",
        "        intervals = np.sort(intervals)[:top_k]\n",
        "    min = intervals.min()\n",
        "    max = intervals.max()\n",
        "    mean = intervals.mean()\n",
        "    std = intervals.std()\n",
        "\n",
        "    smin = get_perf_str(min)\n",
        "    smax = get_perf_str(max)\n",
        "    mean = get_perf_str(mean)\n",
        "    std = get_perf_str(std)\n",
        "    if top_k:\n",
        "        print(f\"Top {top_k} summary: Max {smax}, Min {smin}, Mean +/- Std {mean} +/- {std}\")\n",
        "    else:\n",
        "        print(f\"Overall summary: Max {smax}, Min {smin}, Mean +/- Std {mean} +/- {std}\")"
      ],
      "metadata": {
        "id": "-sDdiSioyUU3"
      },
      "execution_count": null,
      "outputs": []
    },
    {
      "cell_type": "code",
      "source": [
        "class PerfMeasure():\n",
        "    def __init__(self,\n",
        "                 trials=100,\n",
        "                 top_k=10):\n",
        "        self.trials = trials\n",
        "        self.top_k = top_k\n",
        "\n",
        "    def __call__(self, func):\n",
        "        gc.collect()\n",
        "        gc.disable()\n",
        "        intervals = []\n",
        "        for _ in range(self.trials):\n",
        "            start = time.perf_counter()\n",
        "            func()\n",
        "            end = time.perf_counter()\n",
        "            intervals.append(end - start)\n",
        "        intervals = np.array(intervals)\n",
        "        print_perf_time(intervals)\n",
        "        if self.top_k:\n",
        "            print_perf_time(intervals, self.top_k)\n",
        "        gc.enable()\n",
        "        gc.collect()"
      ],
      "metadata": {
        "id": "lLbnahyyyVmf"
      },
      "execution_count": null,
      "outputs": []
    },
    {
      "cell_type": "code",
      "source": [
        "TRIALS = 100\n",
        "TOPK = 10\n",
        "pmeasure = PerfMeasure(TRIALS, TOPK)"
      ],
      "metadata": {
        "id": "ZV5m9VFLyZE3"
      },
      "execution_count": null,
      "outputs": []
    },
    {
      "cell_type": "markdown",
      "source": [
        "# 4. JAX implementation"
      ],
      "metadata": {
        "id": "OhiZmaoIt9iB"
      }
    },
    {
      "cell_type": "markdown",
      "source": [
        "## 4.1 Implementation based on define-by-run mode"
      ],
      "metadata": {
        "id": "pxBDVev0uBtJ"
      }
    },
    {
      "cell_type": "code",
      "source": [
        "def simple_interp_jax(trackdata):\n",
        "    tlength, num_joints, _ = trackdata.shape\n",
        "    newtrack = jnp.zeros_like(trackdata)\n",
        "    for i in range(num_joints):\n",
        "        temp = trackdata[:, i, :]\n",
        "        mask = temp[:, -1] != 0\n",
        "        valid = mask.sum()\n",
        "        if valid == tlength:\n",
        "            newtrack = newtrack.at[:, i].set(temp)\n",
        "            continue\n",
        "        xs = jnp.where(mask != 0, size=valid)[0]\n",
        "        # ys = temp[xs, :] <- can't be compiled.\n",
        "        ys = jnp.take(temp, xs, axis=0)\n",
        "        newys = jnp.zeros_like(temp)\n",
        "        for j in range(temp.shape[-1]):\n",
        "            newy = jnp.interp(jnp.arange(tlength), xs, ys[:, j])\n",
        "            newys = newys.at[:, j].set(newy)\n",
        "        newtrack = newtrack.at[:, i].set(newys)\n",
        "    return newtrack\n",
        "\n",
        "\n",
        "def matrix_interp_jax(track):\n",
        "    orig_shape = track.shape\n",
        "    tlength = orig_shape[0]\n",
        "    mask = track[:, 0, -1] != 0\n",
        "    valid = mask.sum()\n",
        "    if valid == tlength:\n",
        "        return track\n",
        "\n",
        "    xs = jnp.where(mask != 0, size=valid)[0]\n",
        "    # ys = track.reshape([tlength, -1])[xs, :] <- can't be compiled\n",
        "    ys = jnp.take(track.reshape([tlength, -1]), xs, axis=0)\n",
        "    x = jnp.arange(tlength)\n",
        "\n",
        "    # ========================================================================\n",
        "    # Interpolation.\n",
        "    # ========================================================================\n",
        "    xs = xs.astype(ys.dtype)\n",
        "    x = x.astype(ys.dtype)\n",
        "    # Pad control points for extrapolation.\n",
        "    xs = jnp.concatenate([jnp.array([jnp.finfo(xs.dtype).min]), xs, jnp.array([jnp.finfo(xs.dtype).max])], axis=0)\n",
        "    ys = jnp.concatenate([ys[:1], ys, ys[-1:]], axis=0)\n",
        "\n",
        "    # Compute slopes, pad at the edges to flatten.\n",
        "    sloops = (ys[1:] - ys[:-1]) / jnp.expand_dims((xs[1:] - xs[:-1]), axis=-1)\n",
        "    sloops = jnp.pad(sloops[:-1], [(1, 1), (0, 0)])\n",
        "\n",
        "    # Solve for intercepts.\n",
        "    intercepts = ys - sloops * jnp.expand_dims(xs, axis=-1)\n",
        "\n",
        "    # Search for the line parameters at each input data point.\n",
        "    # Create a grid of the inputs and piece breakpoints for thresholding.\n",
        "    # Rely on argmax stopping on the first true when there are duplicates,\n",
        "    # which gives us an index into the parameter vectors.\n",
        "    idx = jnp.argmax(jnp.expand_dims(xs, axis=-2) > jnp.expand_dims(x, axis=-1), axis=-1)\n",
        "    sloop = sloops[idx]\n",
        "    intercept = intercepts[idx]\n",
        "\n",
        "    # Apply the linear mapping at each input data point.\n",
        "    y = sloop * jnp.expand_dims(x, axis=-1) + intercept\n",
        "    y = y.astype(ys.dtype)\n",
        "    y = y.reshape(orig_shape)\n",
        "    return y\n",
        "\n",
        "\n",
        "def partsbased_interp_jax(trackdata):\n",
        "    pose = trackdata[:, :33]\n",
        "    lhand = trackdata[:, 33:33+21]\n",
        "    rhand = trackdata[:, 33+21:33+21+21]\n",
        "    face = trackdata[:, 33+21+21:]\n",
        "\n",
        "    pose = matrix_interp_jax(pose)\n",
        "    lhand = matrix_interp_jax(lhand)\n",
        "    rhand = matrix_interp_jax(rhand)\n",
        "    face = matrix_interp_jax(face)\n",
        "    return jnp.concatenate([pose, lhand, rhand, face], axis=1)"
      ],
      "metadata": {
        "id": "LNoqj8mjuHZx"
      },
      "execution_count": null,
      "outputs": []
    },
    {
      "cell_type": "code",
      "source": [
        "trackdata = np.load(\"finger_far0_non_static.npy\")\n",
        "reftrack = np.load(\"finger_far0_non_static_interp.npy\")\n",
        "# Remove person axis.\n",
        "trackdata = trackdata[0]\n",
        "reftrack = reftrack[0]"
      ],
      "metadata": {
        "id": "GjJIUa43uUhx"
      },
      "execution_count": null,
      "outputs": []
    },
    {
      "cell_type": "code",
      "source": [
        "# JNP function-based.\n",
        "# The 1st call may be slow because of the computation graph construction.\n",
        "print(f\"Time of first call.\")\n",
        "start = time.time()\n",
        "newtrack = simple_interp_jax(trackdata)\n",
        "interval = time.time() - start\n",
        "print_perf_time(np.array([interval]))\n",
        "\n",
        "diff = (reftrack - newtrack).sum()\n",
        "print(f\"Sum of error:{diff}\")\n",
        "\n",
        "print(\"Time after second call.\")\n",
        "target_fn = partial(simple_interp_jax, trackdata=trackdata)\n",
        "pmeasure(target_fn)"
      ],
      "metadata": {
        "colab": {
          "base_uri": "https://localhost:8080/"
        },
        "id": "AOMI77qXuRfJ",
        "outputId": "12ce8f2b-444b-4708-c9bb-0166011318cc"
      },
      "execution_count": null,
      "outputs": [
        {
          "output_type": "stream",
          "name": "stdout",
          "text": [
            "Time of first call.\n"
          ]
        },
        {
          "output_type": "stream",
          "name": "stderr",
          "text": [
            "WARNING:jax._src.xla_bridge:No GPU/TPU found, falling back to CPU. (Set TF_CPP_MIN_LOG_LEVEL=0 and rerun for more info.)\n"
          ]
        },
        {
          "output_type": "stream",
          "name": "stdout",
          "text": [
            "Overall summary: Max 3.16399s, Min 3.16399s, Mean +/- Std 3.16399s +/-   0s\n",
            "Sum of error:-6.195044477408373e-13\n",
            "Time after second call.\n",
            "Overall summary: Max 3.83771s, Min 884.631ms, Mean +/- Std 1.11187s +/- 372.653ms\n",
            "Top 10 summary: Max 900.855ms, Min 884.631ms, Mean +/- Std 894.798ms +/- 5.34435ms\n"
          ]
        }
      ]
    },
    {
      "cell_type": "code",
      "source": [
        "# JNP function-based.\n",
        "# The 1st call may be slow because of the computation graph construction.\n",
        "print(f\"Time of first call.\")\n",
        "start = time.time()\n",
        "newtrack = simple_interp_jax(trackdata[:-1])\n",
        "interval = time.time() - start\n",
        "print_perf_time(np.array([interval]))\n",
        "\n",
        "diff = (reftrack[:-1] - newtrack).sum()\n",
        "print(f\"Sum of error:{diff}\")\n",
        "\n",
        "print(\"Time after second call.\")\n",
        "target_fn = partial(simple_interp_jax, trackdata=trackdata[:-1])\n",
        "pmeasure(target_fn)"
      ],
      "metadata": {
        "colab": {
          "base_uri": "https://localhost:8080/"
        },
        "id": "8jUM1S5SuZIJ",
        "outputId": "4cac1f2a-124f-4409-ea69-18f2c8247aa5"
      },
      "execution_count": null,
      "outputs": [
        {
          "output_type": "stream",
          "name": "stdout",
          "text": [
            "Time of first call.\n",
            "Overall summary: Max 1.97251s, Min 1.97251s, Mean +/- Std 1.97251s +/-   0s\n",
            "Sum of error:-6.195044477408373e-13\n",
            "Time after second call.\n",
            "Overall summary: Max 1.35904s, Min 882.56ms, Mean +/- Std 993.649ms +/- 128.017ms\n",
            "Top 10 summary: Max 906.912ms, Min 882.56ms, Mean +/- Std 900.938ms +/- 6.57869ms\n"
          ]
        }
      ]
    },
    {
      "cell_type": "code",
      "source": [
        "# Matrix-based.\n",
        "# The 1st call may be slow because of the computation graph construction.\n",
        "print(f\"Time of first call.\")\n",
        "start = time.time()\n",
        "newtrack = partsbased_interp_jax(trackdata)\n",
        "interval = time.time() - start\n",
        "print_perf_time(np.array([interval]))\n",
        "\n",
        "diff = (reftrack - newtrack).sum()\n",
        "print(f\"Sum of error:{diff}\")\n",
        "\n",
        "print(\"Time after second call.\")\n",
        "target_fn = partial(partsbased_interp_jax, trackdata=trackdata)\n",
        "pmeasure(target_fn)"
      ],
      "metadata": {
        "colab": {
          "base_uri": "https://localhost:8080/"
        },
        "id": "6PpR9mr2uizR",
        "outputId": "54fd7c64-b666-43c9-c6eb-637077ff5cce"
      },
      "execution_count": null,
      "outputs": [
        {
          "output_type": "stream",
          "name": "stdout",
          "text": [
            "Time of first call.\n",
            "Overall summary: Max 660.329ms, Min 660.329ms, Mean +/- Std 660.329ms +/-   0s\n",
            "Sum of error:-6.935119145623503e-12\n",
            "Time after second call.\n",
            "Overall summary: Max 18.4818ms, Min 9.62976ms, Mean +/- Std 11.2587ms +/- 1.82495ms\n",
            "Top 10 summary: Max 9.92951ms, Min 9.62976ms, Mean +/- Std 9.77754ms +/- 98.2471µs\n"
          ]
        }
      ]
    },
    {
      "cell_type": "code",
      "source": [
        "# Matrix-based.\n",
        "# The 1st call may be slow because of the computation graph construction.\n",
        "print(f\"Time of first call.\")\n",
        "start = time.time()\n",
        "newtrack = partsbased_interp_jax(trackdata[:-1])\n",
        "interval = time.time() - start\n",
        "print_perf_time(np.array([interval]))\n",
        "\n",
        "diff = (reftrack[:-1] - newtrack).sum()\n",
        "print(f\"Sum of error:{diff}\")\n",
        "\n",
        "print(\"Time after second call.\")\n",
        "target_fn = partial(partsbased_interp_jax, trackdata=trackdata[:-1])\n",
        "pmeasure(target_fn)"
      ],
      "metadata": {
        "colab": {
          "base_uri": "https://localhost:8080/"
        },
        "id": "c0DuCb-purHZ",
        "outputId": "213f4442-1ac9-4a7d-a66d-ae248c469348"
      },
      "execution_count": null,
      "outputs": [
        {
          "output_type": "stream",
          "name": "stdout",
          "text": [
            "Time of first call.\n",
            "Overall summary: Max 596.675ms, Min 596.675ms, Mean +/- Std 596.675ms +/-   0s\n",
            "Sum of error:-6.935119145623503e-12\n",
            "Time after second call.\n",
            "Overall summary: Max 15.9955ms, Min 9.28973ms, Mean +/- Std 10.7838ms +/- 1.23746ms\n",
            "Top 10 summary: Max 9.70015ms, Min 9.28973ms, Mean +/- Std 9.60985ms +/- 124.862µs\n"
          ]
        }
      ]
    },
    {
      "cell_type": "markdown",
      "source": [
        "## 4.2 Implementation based on define-and-run (JIT compile)"
      ],
      "metadata": {
        "id": "dIBGDNgSuwZp"
      }
    },
    {
      "cell_type": "code",
      "source": [
        "from typing import Generic, TypeVar\n",
        "from functools import partial"
      ],
      "metadata": {
        "id": "UZulBsQju09C"
      },
      "execution_count": null,
      "outputs": []
    },
    {
      "cell_type": "code",
      "source": [
        "T = TypeVar('T')      # Declare type variable\n",
        "\n",
        "# Workaround to avoid unhashable error.\n",
        "# https://github.com/google/jax/issues/4572\n",
        "class HashableArrayWrapper(Generic[T]):\n",
        "    def __init__(self, val: T):\n",
        "        self.val = val\n",
        "\n",
        "    def __getattribute__(self, prop):\n",
        "        if prop == 'val' or prop == \"__hash__\" or prop == \"__eq__\":\n",
        "            return super(HashableArrayWrapper, self).__getattribute__(prop)\n",
        "        return getattr(self.val, prop)\n",
        "\n",
        "    def __getitem__(self, key):\n",
        "        return self.val[key]\n",
        "\n",
        "    def __setitem__(self, key, val):\n",
        "        self.val[key] = val\n",
        "\n",
        "    def __hash__(self):\n",
        "        return hash(self.val.tobytes())\n",
        "\n",
        "    def __eq__(self, other):\n",
        "        if isinstance(other, HashableArrayWrapper):\n",
        "            return self.__hash__() == other.__hash__()\n",
        "\n",
        "        f = getattr(self.val, \"__eq__\")\n",
        "        return f(self, other)"
      ],
      "metadata": {
        "id": "KePi_9SNu6Fi"
      },
      "execution_count": null,
      "outputs": []
    },
    {
      "cell_type": "code",
      "source": [
        "@partial(jit, static_argnums=(0,))\n",
        "def simple_interp_jax_jit(trackdata):\n",
        "    tlength, num_joints, _ = trackdata.shape\n",
        "    newtrack = jnp.zeros_like(trackdata)\n",
        "    for i in range(num_joints):\n",
        "        temp = trackdata[:, i, :]\n",
        "        mask = temp[:, -1] != 0\n",
        "        valid = mask.sum()\n",
        "        if valid == tlength:\n",
        "            newtrack = newtrack.at[:, i].set(temp)\n",
        "            continue\n",
        "        xs = jnp.where(mask != 0, size=valid)[0]\n",
        "        # ys = temp[xs, :] <- can't be compiled.\n",
        "        ys = jnp.take(temp, xs, axis=0)\n",
        "        newys = jnp.zeros_like(temp)\n",
        "        for j in range(temp.shape[-1]):\n",
        "            newy = jnp.interp(jnp.arange(tlength), xs, ys[:, j])\n",
        "            newys = newys.at[:, j].set(newy)\n",
        "        newtrack = newtrack.at[:, i].set(newys)\n",
        "    return newtrack\n",
        "\n",
        "\n",
        "def matrix_interp_jax_jit(track):\n",
        "    orig_shape = track.shape\n",
        "    tlength = orig_shape[0]\n",
        "    mask = track[:, 0, -1] != 0\n",
        "    valid = mask.sum()\n",
        "    if valid == tlength:\n",
        "        return track\n",
        "\n",
        "    xs = jnp.where(mask != 0, size=valid)[0]\n",
        "    # ys = track.reshape([tlength, -1])[xs, :] <- can't be compiled\n",
        "    ys = jnp.take(track.reshape([tlength, -1]), xs, axis=0)\n",
        "    x = jnp.arange(tlength)\n",
        "\n",
        "    # ========================================================================\n",
        "    # Interpolation.\n",
        "    # ========================================================================\n",
        "    xs = xs.astype(ys.dtype)\n",
        "    x = x.astype(ys.dtype)\n",
        "    # Pad control points for extrapolation.\n",
        "    xs = jnp.concatenate([jnp.array([jnp.finfo(xs.dtype).min]), xs, jnp.array([jnp.finfo(xs.dtype).max])], axis=0)\n",
        "    ys = jnp.concatenate([ys[:1], ys, ys[-1:]], axis=0)\n",
        "\n",
        "    # Compute slopes, pad at the edges to flatten.\n",
        "    sloops = (ys[1:] - ys[:-1]) / jnp.expand_dims((xs[1:] - xs[:-1]), axis=-1)\n",
        "    sloops = jnp.pad(sloops[:-1], [(1, 1), (0, 0)])\n",
        "\n",
        "    # Solve for intercepts.\n",
        "    intercepts = ys - sloops * jnp.expand_dims(xs, axis=-1)\n",
        "\n",
        "    # Search for the line parameters at each input data point.\n",
        "    # Create a grid of the inputs and piece breakpoints for thresholding.\n",
        "    # Rely on argmax stopping on the first true when there are duplicates,\n",
        "    # which gives us an index into the parameter vectors.\n",
        "    idx = jnp.argmax(jnp.expand_dims(xs, axis=-2) > jnp.expand_dims(x, axis=-1), axis=-1)\n",
        "    sloop = sloops[idx]\n",
        "    intercept = intercepts[idx]\n",
        "\n",
        "    # Apply the linear mapping at each input data point.\n",
        "    y = sloop * jnp.expand_dims(x, axis=-1) + intercept\n",
        "    y = y.astype(ys.dtype)\n",
        "    y = y.reshape(orig_shape)\n",
        "    return y\n",
        "\n",
        "\n",
        "@partial(jit, static_argnums=(0,))\n",
        "def partsbased_interp_jax_jit(trackdata):\n",
        "    pose = trackdata[:, :33]\n",
        "    lhand = trackdata[:, 33:33+21]\n",
        "    rhand = trackdata[:, 33+21:33+21+21]\n",
        "    face = trackdata[:, 33+21+21:]\n",
        "\n",
        "    pose = matrix_interp_jax_jit(pose)\n",
        "    lhand = matrix_interp_jax_jit(lhand)\n",
        "    rhand = matrix_interp_jax_jit(rhand)\n",
        "    face = matrix_interp_jax_jit(face)\n",
        "    return jnp.concatenate([pose, lhand, rhand, face], axis=1)"
      ],
      "metadata": {
        "id": "Dn3ztqrGu7pS"
      },
      "execution_count": null,
      "outputs": []
    },
    {
      "cell_type": "code",
      "source": [
        "# JNP function-based.\n",
        "# The 1st call may be slow because of the computation graph construction.\n",
        "print(f\"Time of first call.\")\n",
        "start = time.time()\n",
        "newtrack = simple_interp_jax_jit(HashableArrayWrapper(trackdata))\n",
        "interval = time.time() - start\n",
        "print_perf_time(np.array([interval]))\n",
        "\n",
        "diff = (reftrack - newtrack).sum()\n",
        "print(f\"Sum of error:{diff}\")\n",
        "\n",
        "print(\"Time after second call.\")\n",
        "target_fn = partial(simple_interp_jax_jit, trackdata=HashableArrayWrapper(trackdata))\n",
        "pmeasure(target_fn)"
      ],
      "metadata": {
        "colab": {
          "base_uri": "https://localhost:8080/"
        },
        "id": "BQuphL5gvnjx",
        "outputId": "0b643660-8920-48c4-dcbe-a49da975ba45"
      },
      "execution_count": null,
      "outputs": [
        {
          "output_type": "stream",
          "name": "stdout",
          "text": [
            "Time of first call.\n",
            "Overall summary: Max 31.0618s, Min 31.0618s, Mean +/- Std 31.0618s +/-   0s\n",
            "Sum of error:-6.195044477408373e-13\n",
            "Time after second call.\n",
            "Overall summary: Max 27.1741s, Min 2.90357ms, Mean +/- Std 274.897ms +/- 2.70347s\n",
            "Top 10 summary: Max 2.98753ms, Min 2.90357ms, Mean +/- Std 2.94133ms +/- 32.6188µs\n"
          ]
        }
      ]
    },
    {
      "cell_type": "code",
      "source": [
        "# JNP function-based.\n",
        "# The 1st call may be slow because of the computation graph construction.\n",
        "print(f\"Time of first call.\")\n",
        "start = time.time()\n",
        "newtrack = simple_interp_jax_jit(HashableArrayWrapper(trackdata[:-1]))\n",
        "interval = time.time() - start\n",
        "print_perf_time(np.array([interval]))\n",
        "\n",
        "diff = (reftrack[:-1] - newtrack).sum()\n",
        "print(f\"Sum of error:{diff}\")\n",
        "\n",
        "print(\"Time after second call.\")\n",
        "target_fn = partial(simple_interp_jax_jit, trackdata=HashableArrayWrapper(trackdata[:-1]))\n",
        "pmeasure(target_fn)"
      ],
      "metadata": {
        "colab": {
          "base_uri": "https://localhost:8080/"
        },
        "id": "Y1DWZ7-uvejJ",
        "outputId": "04907c7c-b8fc-4fbc-89da-0aa0f3f8162e"
      },
      "execution_count": null,
      "outputs": [
        {
          "output_type": "stream",
          "name": "stdout",
          "text": [
            "Time of first call.\n",
            "Overall summary: Max 26.039s, Min 26.039s, Mean +/- Std 26.039s +/-   0s\n",
            "Sum of error:-6.195044477408373e-13\n",
            "Time after second call.\n",
            "Overall summary: Max 25.4215s, Min 2.93153ms, Mean +/- Std 257.416ms +/- 2.52909s\n",
            "Top 10 summary: Max 3.00317ms, Min 2.93153ms, Mean +/- Std 2.97888ms +/- 21.8667µs\n"
          ]
        }
      ]
    },
    {
      "cell_type": "code",
      "source": [
        "# Matrix-based.\n",
        "# The 1st call may be slow because of the computation graph construction.\n",
        "print(f\"Time of first call.\")\n",
        "start = time.time()\n",
        "newtrack = partsbased_interp_jax_jit(HashableArrayWrapper(trackdata))\n",
        "interval = time.time() - start\n",
        "print_perf_time(np.array([interval]))\n",
        "\n",
        "diff = (reftrack - newtrack).sum()\n",
        "print(f\"Sum of error:{diff}\")\n",
        "\n",
        "print(\"Time after second call.\")\n",
        "target_fn = partial(partsbased_interp_jax_jit, trackdata=HashableArrayWrapper(trackdata))\n",
        "pmeasure(target_fn)"
      ],
      "metadata": {
        "colab": {
          "base_uri": "https://localhost:8080/"
        },
        "id": "5v4L65ALvrVx",
        "outputId": "af0486ad-ca54-47f1-fb72-1753e1dd104b"
      },
      "execution_count": null,
      "outputs": [
        {
          "output_type": "stream",
          "name": "stdout",
          "text": [
            "Time of first call.\n",
            "Overall summary: Max 361.726ms, Min 361.726ms, Mean +/- Std 361.726ms +/-   0s\n",
            "Sum of error:-2.2037927038809357e-13\n",
            "Time after second call.\n",
            "Overall summary: Max 349.023ms, Min 2.00301ms, Mean +/- Std 5.59448ms +/- 34.5168ms\n",
            "Top 10 summary: Max 2.03389ms, Min 2.00301ms, Mean +/- Std 2.0225ms +/- 9.97664µs\n"
          ]
        }
      ]
    },
    {
      "cell_type": "code",
      "source": [
        "# Matrix-based.\n",
        "# The 1st call may be slow because of the computation graph construction.\n",
        "print(f\"Time of first call.\")\n",
        "start = time.time()\n",
        "newtrack = partsbased_interp_jax_jit(HashableArrayWrapper(trackdata[:-1]))\n",
        "interval = time.time() - start\n",
        "print_perf_time(np.array([interval]))\n",
        "\n",
        "diff = (reftrack[:-1] - newtrack).sum()\n",
        "print(f\"Sum of error:{diff}\")\n",
        "\n",
        "print(\"Time after second call.\")\n",
        "target_fn = partial(partsbased_interp_jax_jit, trackdata=HashableArrayWrapper(trackdata[:-1]))\n",
        "pmeasure(target_fn)"
      ],
      "metadata": {
        "colab": {
          "base_uri": "https://localhost:8080/"
        },
        "id": "uNUY_7KCvuqJ",
        "outputId": "4b8c3c50-5aef-450b-b722-d6f647d795fa"
      },
      "execution_count": null,
      "outputs": [
        {
          "output_type": "stream",
          "name": "stdout",
          "text": [
            "Time of first call.\n",
            "Overall summary: Max 345.807ms, Min 345.807ms, Mean +/- Std 345.807ms +/-   0s\n",
            "Sum of error:-2.2037927038809357e-13\n",
            "Time after second call.\n",
            "Overall summary: Max 333.857ms, Min 2.06338ms, Mean +/- Std 5.57588ms +/- 32.9948ms\n",
            "Top 10 summary: Max 2.12235ms, Min 2.06338ms, Mean +/- Std 2.10369ms +/- 18.2378µs\n"
          ]
        }
      ]
    }
  ]
}