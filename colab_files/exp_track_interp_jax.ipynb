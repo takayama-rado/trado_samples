{
  "nbformat": 4,
  "nbformat_minor": 0,
  "metadata": {
    "colab": {
      "provenance": [],
      "authorship_tag": "ABX9TyN/yPzk8rhiVrKcuA2Iqni5",
      "include_colab_link": true
    },
    "kernelspec": {
      "name": "python3",
      "display_name": "Python 3"
    },
    "language_info": {
      "name": "python"
    }
  },
  "cells": [
    {
      "cell_type": "markdown",
      "metadata": {
        "id": "view-in-github",
        "colab_type": "text"
      },
      "source": [
        "<a href=\"https://colab.research.google.com/github/takayama-rado/trado_samples/blob/main/colab_files/exp_track_interp_jax.ipynb\" target=\"_parent\"><img src=\"https://colab.research.google.com/assets/colab-badge.svg\" alt=\"Open In Colab\"/></a>"
      ]
    },
    {
      "cell_type": "markdown",
      "source": [
        "# 1. Load library"
      ],
      "metadata": {
        "id": "QpE0kA8Qtrq6"
      }
    },
    {
      "cell_type": "code",
      "execution_count": 1,
      "metadata": {
        "id": "kBfLPnSYtotB"
      },
      "outputs": [],
      "source": [
        "# Standard modules.\n",
        "import time\n",
        "\n",
        "# CV/ML.\n",
        "import numpy as np\n",
        "\n",
        "import jax\n",
        "import jax.numpy as jnp\n",
        "from jax import jit\n",
        "\n",
        "# Enable float64.\n",
        "jax.config.update(\"jax_enable_x64\", True)"
      ]
    },
    {
      "cell_type": "markdown",
      "source": [
        "# 2. Load data"
      ],
      "metadata": {
        "id": "nxs3pCqTt3bK"
      }
    },
    {
      "cell_type": "code",
      "source": [
        "!wget https://github.com/takayama-rado/trado_samples/raw/main/test_data/finger_far0_non_static.npy"
      ],
      "metadata": {
        "colab": {
          "base_uri": "https://localhost:8080/"
        },
        "id": "ZEEn3__Ut5KK",
        "outputId": "e1316f06-2692-436d-8c8a-cd91f6f6a993"
      },
      "execution_count": 2,
      "outputs": [
        {
          "output_type": "stream",
          "name": "stdout",
          "text": [
            "--2023-09-29 10:17:59--  https://github.com/takayama-rado/trado_samples/raw/main/test_data/finger_far0_non_static.npy\n",
            "Resolving github.com (github.com)... 140.82.112.4\n",
            "Connecting to github.com (github.com)|140.82.112.4|:443... connected.\n",
            "HTTP request sent, awaiting response... 302 Found\n",
            "Location: https://raw.githubusercontent.com/takayama-rado/trado_samples/main/test_data/finger_far0_non_static.npy [following]\n",
            "--2023-09-29 10:17:59--  https://raw.githubusercontent.com/takayama-rado/trado_samples/main/test_data/finger_far0_non_static.npy\n",
            "Resolving raw.githubusercontent.com (raw.githubusercontent.com)... 185.199.108.133, 185.199.109.133, 185.199.110.133, ...\n",
            "Connecting to raw.githubusercontent.com (raw.githubusercontent.com)|185.199.108.133|:443... connected.\n",
            "HTTP request sent, awaiting response... 200 OK\n",
            "Length: 2300608 (2.2M) [application/octet-stream]\n",
            "Saving to: ‘finger_far0_non_static.npy’\n",
            "\n",
            "finger_far0_non_sta 100%[===================>]   2.19M  --.-KB/s    in 0.05s   \n",
            "\n",
            "2023-09-29 10:17:59 (47.7 MB/s) - ‘finger_far0_non_static.npy’ saved [2300608/2300608]\n",
            "\n"
          ]
        }
      ]
    },
    {
      "cell_type": "code",
      "source": [
        "!wget https://github.com/takayama-rado/trado_samples/raw/main/test_data/finger_far0_non_static_interp.npy"
      ],
      "metadata": {
        "colab": {
          "base_uri": "https://localhost:8080/"
        },
        "id": "4ES5xRRpt6RR",
        "outputId": "75f12358-dc9b-4b90-914f-8cbf71033a5a"
      },
      "execution_count": 3,
      "outputs": [
        {
          "output_type": "stream",
          "name": "stdout",
          "text": [
            "--2023-09-29 10:17:59--  https://github.com/takayama-rado/trado_samples/raw/main/test_data/finger_far0_non_static_interp.npy\n",
            "Resolving github.com (github.com)... 140.82.113.4\n",
            "Connecting to github.com (github.com)|140.82.113.4|:443... connected.\n",
            "HTTP request sent, awaiting response... 302 Found\n",
            "Location: https://raw.githubusercontent.com/takayama-rado/trado_samples/main/test_data/finger_far0_non_static_interp.npy [following]\n",
            "--2023-09-29 10:18:00--  https://raw.githubusercontent.com/takayama-rado/trado_samples/main/test_data/finger_far0_non_static_interp.npy\n",
            "Resolving raw.githubusercontent.com (raw.githubusercontent.com)... 185.199.110.133, 185.199.109.133, 185.199.111.133, ...\n",
            "Connecting to raw.githubusercontent.com (raw.githubusercontent.com)|185.199.110.133|:443... connected.\n",
            "HTTP request sent, awaiting response... 200 OK\n",
            "Length: 2300608 (2.2M) [application/octet-stream]\n",
            "Saving to: ‘finger_far0_non_static_interp.npy’\n",
            "\n",
            "finger_far0_non_sta 100%[===================>]   2.19M  --.-KB/s    in 0.05s   \n",
            "\n",
            "2023-09-29 10:18:01 (45.2 MB/s) - ‘finger_far0_non_static_interp.npy’ saved [2300608/2300608]\n",
            "\n"
          ]
        }
      ]
    },
    {
      "cell_type": "code",
      "source": [
        "!ls"
      ],
      "metadata": {
        "colab": {
          "base_uri": "https://localhost:8080/"
        },
        "id": "LUBmc_-6t8Wh",
        "outputId": "64aad440-cc1b-4cb6-cf5e-1d3ab56e6d17"
      },
      "execution_count": 4,
      "outputs": [
        {
          "output_type": "stream",
          "name": "stdout",
          "text": [
            "finger_far0_non_static_interp.npy  finger_far0_non_static.npy  sample_data\n"
          ]
        }
      ]
    },
    {
      "cell_type": "markdown",
      "source": [
        "# 3. JAX implementation"
      ],
      "metadata": {
        "id": "OhiZmaoIt9iB"
      }
    },
    {
      "cell_type": "markdown",
      "source": [
        "## 3.1 Implementation based on define-by-run mode"
      ],
      "metadata": {
        "id": "pxBDVev0uBtJ"
      }
    },
    {
      "cell_type": "code",
      "source": [
        "def simple_interp_jax(trackdata):\n",
        "    tlength, num_joints, _ = trackdata.shape\n",
        "    newtrack = jnp.zeros_like(trackdata)\n",
        "    for i in range(num_joints):\n",
        "        temp = trackdata[:, i, :]\n",
        "        mask = temp[:, -1] != 0\n",
        "        valid = mask.sum()\n",
        "        if valid == tlength:\n",
        "            newtrack = newtrack.at[:, i].set(temp)\n",
        "            continue\n",
        "        # xs = jnp.where(mask != 0)[0] <- can't be compiled.\n",
        "        xs = jnp.nonzero(mask, size=valid)[0]\n",
        "        # ys = temp[xs, :] <- can't be compiled.\n",
        "        ys = jnp.take(temp, xs, axis=0)\n",
        "        newys = jnp.zeros_like(temp)\n",
        "        for j in range(temp.shape[-1]):\n",
        "            newy = jnp.interp(jnp.arange(tlength), xs, ys[:, j])\n",
        "            newys = newys.at[:, j].set(newy)\n",
        "        newtrack = newtrack.at[:, i].set(newys)\n",
        "    return newtrack\n",
        "\n",
        "\n",
        "def matrix_interp_jax(track):\n",
        "    orig_shape = track.shape\n",
        "    tlength = orig_shape[0]\n",
        "    mask = track[:, 0, -1] != 0\n",
        "    valid = mask.sum()\n",
        "    if valid == tlength:\n",
        "        return track\n",
        "\n",
        "    # xs = jnp.where(mask != 0)[0] <- can't be compiled.\n",
        "    xs = jnp.nonzero(mask, size=valid)[0]\n",
        "    # ys = track.reshape([tlength, -1])[xs, :] <- can't be compiled\n",
        "    ys = jnp.take(track.reshape([tlength, -1]), xs, axis=0)\n",
        "    x = jnp.arange(tlength)\n",
        "\n",
        "    # ========================================================================\n",
        "    # Interpolation.\n",
        "    # ========================================================================\n",
        "    xs = xs.astype(ys.dtype)\n",
        "    x = x.astype(ys.dtype)\n",
        "    # xs = xs.astype(jnp.float32)\n",
        "    # x = x.astype(jnp.float32)\n",
        "    # Pad control points for extrapolation.\n",
        "    xs = jnp.concatenate([jnp.array([jnp.finfo(xs.dtype).min]), xs, jnp.array([jnp.finfo(xs.dtype).max])], axis=0)\n",
        "    ys = jnp.concatenate([ys[:1], ys, ys[-1:]], axis=0)\n",
        "\n",
        "    # Compute slopes, pad at the edges to flatten.\n",
        "    sloops = (ys[1:] - ys[:-1]) / jnp.expand_dims((xs[1:] - xs[:-1]), axis=-1)\n",
        "    sloops = jnp.pad(sloops[:-1], [(1, 1), (0, 0)])\n",
        "\n",
        "    # Solve for intercepts.\n",
        "    intercepts = ys - sloops * jnp.expand_dims(xs, axis=-1)\n",
        "\n",
        "    # Search for the line parameters at each input data point.\n",
        "    # Create a grid of the inputs and piece breakpoints for thresholding.\n",
        "    # Rely on argmax stopping on the first true when there are duplicates,\n",
        "    # which gives us an index into the parameter vectors.\n",
        "    idx = jnp.argmax(jnp.expand_dims(xs, axis=-2) > jnp.expand_dims(x, axis=-1), axis=-1)\n",
        "    sloop = sloops[idx]\n",
        "    intercept = intercepts[idx]\n",
        "\n",
        "    # Apply the linear mapping at each input data point.\n",
        "    y = sloop * jnp.expand_dims(x, axis=-1) + intercept\n",
        "    y = y.astype(ys.dtype)\n",
        "    y = y.reshape(orig_shape)\n",
        "    return y\n",
        "\n",
        "\n",
        "def partsbased_interp_jax(trackdata):\n",
        "    pose = trackdata[:, :33]\n",
        "    lhand = trackdata[:, 33:33+21]\n",
        "    rhand = trackdata[:, 33+21:33+21+21]\n",
        "    face = trackdata[:, 33+21+21:]\n",
        "\n",
        "    pose = matrix_interp_jax(pose)\n",
        "    lhand = matrix_interp_jax(lhand)\n",
        "    rhand = matrix_interp_jax(rhand)\n",
        "    face = matrix_interp_jax(face)\n",
        "    return jnp.concatenate([pose, lhand, rhand, face], axis=1)"
      ],
      "metadata": {
        "id": "LNoqj8mjuHZx"
      },
      "execution_count": 5,
      "outputs": []
    },
    {
      "cell_type": "code",
      "source": [
        "trackdata = np.load(\"finger_far0_non_static.npy\")\n",
        "reftrack = np.load(\"finger_far0_non_static_interp.npy\")\n",
        "# Remove person axis.\n",
        "trackdata = trackdata[0]\n",
        "reftrack = reftrack[0]"
      ],
      "metadata": {
        "id": "GjJIUa43uUhx"
      },
      "execution_count": 6,
      "outputs": []
    },
    {
      "cell_type": "code",
      "source": [
        "# JNP function-based.\n",
        "# The 1st call may be slow because of the computation graph construction.\n",
        "start = time.time()\n",
        "newtrack = simple_interp_jax(trackdata)\n",
        "interval = time.time() - start\n",
        "print(f\"Time of first call:{interval}\")\n",
        "\n",
        "start = time.time()\n",
        "for _ in range(10):\n",
        "  newtrack = simple_interp_jax(trackdata)\n",
        "interval = time.time() - start\n",
        "print(f\"Average time after second call:{interval / 10}\")\n",
        "\n",
        "diff = (reftrack - newtrack).sum()\n",
        "print(f\"Sum of error:{diff}\")"
      ],
      "metadata": {
        "colab": {
          "base_uri": "https://localhost:8080/"
        },
        "id": "AOMI77qXuRfJ",
        "outputId": "b090a4ec-726a-48aa-e7b7-2e769485b9a6"
      },
      "execution_count": 7,
      "outputs": [
        {
          "output_type": "stream",
          "name": "stderr",
          "text": [
            "WARNING:jax._src.xla_bridge:No GPU/TPU found, falling back to CPU. (Set TF_CPP_MIN_LOG_LEVEL=0 and rerun for more info.)\n"
          ]
        },
        {
          "output_type": "stream",
          "name": "stdout",
          "text": [
            "Time of first call:5.231683015823364\n",
            "Average time after second call:1.880511713027954\n",
            "Sum of error:-6.195044477408373e-13\n"
          ]
        }
      ]
    },
    {
      "cell_type": "code",
      "source": [
        "# JNP function-based.\n",
        "# The 1st call may be slow because of the computation graph construction.\n",
        "start = time.time()\n",
        "newtrack = simple_interp_jax(trackdata[:-1])\n",
        "interval = time.time() - start\n",
        "print(f\"Time of first call:{interval}\")\n",
        "\n",
        "start = time.time()\n",
        "for _ in range(10):\n",
        "  newtrack = simple_interp_jax(trackdata[:-1])\n",
        "interval = time.time() - start\n",
        "print(f\"Average time after second call:{interval / 10}\")\n",
        "\n",
        "diff = (reftrack[:-1] - newtrack).sum()\n",
        "print(f\"Sum of error:{diff}\")"
      ],
      "metadata": {
        "colab": {
          "base_uri": "https://localhost:8080/"
        },
        "id": "8jUM1S5SuZIJ",
        "outputId": "caa3bd04-72db-4fd2-d54e-7d332a44142b"
      },
      "execution_count": 8,
      "outputs": [
        {
          "output_type": "stream",
          "name": "stdout",
          "text": [
            "Time of first call:2.8428306579589844\n",
            "Average time after second call:1.4648744344711304\n",
            "Sum of error:-6.195044477408373e-13\n"
          ]
        }
      ]
    },
    {
      "cell_type": "code",
      "source": [
        "# Matrix-based.\n",
        "# The 1st call may be slow because of the computation graph construction.\n",
        "start = time.time()\n",
        "newtrack = partsbased_interp_jax(trackdata)\n",
        "interval = time.time() - start\n",
        "print(f\"Time of first call:{interval}\")\n",
        "\n",
        "start = time.time()\n",
        "for _ in range(10):\n",
        "  newtrack = partsbased_interp_jax(trackdata)\n",
        "interval = time.time() - start\n",
        "print(f\"Average time after second call:{interval / 10}\")\n",
        "\n",
        "diff = (reftrack - newtrack).sum()\n",
        "print(f\"Sum of error:{diff}\")"
      ],
      "metadata": {
        "colab": {
          "base_uri": "https://localhost:8080/"
        },
        "id": "6PpR9mr2uizR",
        "outputId": "1378e443-edc3-44d6-927b-2c8ac7dae994"
      },
      "execution_count": 9,
      "outputs": [
        {
          "output_type": "stream",
          "name": "stdout",
          "text": [
            "Time of first call:0.628657341003418\n",
            "Average time after second call:0.01871466636657715\n",
            "Sum of error:-6.935119145623503e-12\n"
          ]
        }
      ]
    },
    {
      "cell_type": "code",
      "source": [
        "# Matrix-based.\n",
        "# The 1st call may be slow because of the computation graph construction.\n",
        "start = time.time()\n",
        "newtrack = partsbased_interp_jax(trackdata[:-1])\n",
        "interval = time.time() - start\n",
        "print(f\"Time of first call:{interval}\")\n",
        "\n",
        "start = time.time()\n",
        "for _ in range(10):\n",
        "  newtrack = partsbased_interp_jax(trackdata[:-1])\n",
        "interval = time.time() - start\n",
        "print(f\"Average time after second call:{interval / 10}\")\n",
        "\n",
        "diff = (reftrack[:-1] - newtrack).sum()\n",
        "print(f\"Sum of error:{diff}\")"
      ],
      "metadata": {
        "colab": {
          "base_uri": "https://localhost:8080/"
        },
        "id": "c0DuCb-purHZ",
        "outputId": "424da3cc-f72f-4346-eac7-7cc2948d73af"
      },
      "execution_count": 10,
      "outputs": [
        {
          "output_type": "stream",
          "name": "stdout",
          "text": [
            "Time of first call:0.5926902294158936\n",
            "Average time after second call:0.0198394775390625\n",
            "Sum of error:-6.935119145623503e-12\n"
          ]
        }
      ]
    },
    {
      "cell_type": "markdown",
      "source": [
        "## 3.2 Implementation based on define-and-run (JIT compile)"
      ],
      "metadata": {
        "id": "dIBGDNgSuwZp"
      }
    },
    {
      "cell_type": "code",
      "source": [
        "from typing import Generic, TypeVar\n",
        "from functools import partial"
      ],
      "metadata": {
        "id": "UZulBsQju09C"
      },
      "execution_count": 11,
      "outputs": []
    },
    {
      "cell_type": "code",
      "source": [
        "T = TypeVar('T')      # Declare type variable\n",
        "\n",
        "# Workaround to avoid unhashable error.\n",
        "# https://github.com/google/jax/issues/4572\n",
        "class HashableArrayWrapper(Generic[T]):\n",
        "    def __init__(self, val: T):\n",
        "        self.val = val\n",
        "\n",
        "    def __getattribute__(self, prop):\n",
        "        if prop == 'val' or prop == \"__hash__\" or prop == \"__eq__\":\n",
        "            return super(HashableArrayWrapper, self).__getattribute__(prop)\n",
        "        return getattr(self.val, prop)\n",
        "\n",
        "    def __getitem__(self, key):\n",
        "        return self.val[key]\n",
        "\n",
        "    def __setitem__(self, key, val):\n",
        "        self.val[key] = val\n",
        "\n",
        "    def __hash__(self):\n",
        "        return hash(self.val.tobytes())\n",
        "\n",
        "    def __eq__(self, other):\n",
        "        if isinstance(other, HashableArrayWrapper):\n",
        "            return self.__hash__() == other.__hash__()\n",
        "\n",
        "        f = getattr(self.val, \"__eq__\")\n",
        "        return f(self, other)"
      ],
      "metadata": {
        "id": "KePi_9SNu6Fi"
      },
      "execution_count": 12,
      "outputs": []
    },
    {
      "cell_type": "code",
      "source": [
        "@partial(jit, static_argnums=(0,))\n",
        "def simple_interp_jax_jit(trackdata):\n",
        "    tlength, num_joints, _ = trackdata.shape\n",
        "    newtrack = jnp.zeros_like(trackdata)\n",
        "    for i in range(num_joints):\n",
        "        temp = trackdata[:, i, :]\n",
        "        mask = temp[:, -1] != 0\n",
        "        valid = mask.sum()\n",
        "        if valid == tlength:\n",
        "            newtrack = newtrack.at[:, i].set(temp)\n",
        "            continue\n",
        "        # xs = jnp.where(mask != 0)[0] <- can't be compiled.\n",
        "        xs = jnp.nonzero(mask, size=valid)[0]\n",
        "        # ys = temp[xs, :] <- can't be compiled.\n",
        "        ys = jnp.take(temp, xs, axis=0)\n",
        "        newys = jnp.zeros_like(temp)\n",
        "        for j in range(temp.shape[-1]):\n",
        "            newy = jnp.interp(jnp.arange(tlength), xs, ys[:, j])\n",
        "            newys = newys.at[:, j].set(newy)\n",
        "        newtrack = newtrack.at[:, i].set(newys)\n",
        "    return newtrack\n",
        "\n",
        "\n",
        "def matrix_interp_jax_jit(track):\n",
        "    orig_shape = track.shape\n",
        "    tlength = orig_shape[0]\n",
        "    mask = track[:, 0, -1] != 0\n",
        "    valid = mask.sum()\n",
        "    if valid == tlength:\n",
        "        return track\n",
        "\n",
        "    # xs = jnp.where(mask != 0)[0] <- can't be compiled.\n",
        "    xs = jnp.nonzero(mask, size=valid)[0]\n",
        "    # ys = track.reshape([tlength, -1])[xs, :] <- can't be compiled\n",
        "    ys = jnp.take(track.reshape([tlength, -1]), xs, axis=0)\n",
        "    x = jnp.arange(tlength)\n",
        "\n",
        "    # ========================================================================\n",
        "    # Interpolation.\n",
        "    # ========================================================================\n",
        "    xs = xs.astype(ys.dtype)\n",
        "    x = x.astype(ys.dtype)\n",
        "    # xs = xs.astype(jnp.float32)\n",
        "    # x = x.astype(jnp.float32)\n",
        "    # Pad control points for extrapolation.\n",
        "    xs = jnp.concatenate([jnp.array([jnp.finfo(xs.dtype).min]), xs, jnp.array([jnp.finfo(xs.dtype).max])], axis=0)\n",
        "    ys = jnp.concatenate([ys[:1], ys, ys[-1:]], axis=0)\n",
        "\n",
        "    # Compute slopes, pad at the edges to flatten.\n",
        "    sloops = (ys[1:] - ys[:-1]) / jnp.expand_dims((xs[1:] - xs[:-1]), axis=-1)\n",
        "    sloops = jnp.pad(sloops[:-1], [(1, 1), (0, 0)])\n",
        "\n",
        "    # Solve for intercepts.\n",
        "    intercepts = ys - sloops * jnp.expand_dims(xs, axis=-1)\n",
        "\n",
        "    # Search for the line parameters at each input data point.\n",
        "    # Create a grid of the inputs and piece breakpoints for thresholding.\n",
        "    # Rely on argmax stopping on the first true when there are duplicates,\n",
        "    # which gives us an index into the parameter vectors.\n",
        "    idx = jnp.argmax(jnp.expand_dims(xs, axis=-2) > jnp.expand_dims(x, axis=-1), axis=-1)\n",
        "    sloop = sloops[idx]\n",
        "    intercept = intercepts[idx]\n",
        "\n",
        "    # Apply the linear mapping at each input data point.\n",
        "    y = sloop * jnp.expand_dims(x, axis=-1) + intercept\n",
        "    y = y.astype(ys.dtype)\n",
        "    y = y.reshape(orig_shape)\n",
        "    return y\n",
        "\n",
        "\n",
        "@partial(jit, static_argnums=(0,))\n",
        "def partsbased_interp_jax_jit(trackdata):\n",
        "    pose = trackdata[:, :33]\n",
        "    lhand = trackdata[:, 33:33+21]\n",
        "    rhand = trackdata[:, 33+21:33+21+21]\n",
        "    face = trackdata[:, 33+21+21:]\n",
        "\n",
        "    pose = matrix_interp_jax_jit(pose)\n",
        "    lhand = matrix_interp_jax_jit(lhand)\n",
        "    rhand = matrix_interp_jax_jit(rhand)\n",
        "    face = matrix_interp_jax_jit(face)\n",
        "    return jnp.concatenate([pose, lhand, rhand, face], axis=1)"
      ],
      "metadata": {
        "id": "Dn3ztqrGu7pS"
      },
      "execution_count": 13,
      "outputs": []
    },
    {
      "cell_type": "code",
      "source": [
        "# JNP function-based.\n",
        "# The 1st call may be slow because of the computation graph construction.\n",
        "start = time.time()\n",
        "newtrack = simple_interp_jax_jit(HashableArrayWrapper(trackdata))\n",
        "interval = time.time() - start\n",
        "print(f\"Time of first call:{interval}\")\n",
        "\n",
        "start = time.time()\n",
        "for _ in range(10):\n",
        "  newtrack = simple_interp_jax_jit(HashableArrayWrapper(trackdata))\n",
        "interval = time.time() - start\n",
        "print(f\"Average time after second call:{interval / 10}\")\n",
        "\n",
        "diff = (reftrack - newtrack).sum()\n",
        "print(f\"Sum of error:{diff}\")"
      ],
      "metadata": {
        "colab": {
          "base_uri": "https://localhost:8080/"
        },
        "id": "BQuphL5gvnjx",
        "outputId": "0e49dd1c-ab12-405e-d857-b930a48aa7db"
      },
      "execution_count": 14,
      "outputs": [
        {
          "output_type": "stream",
          "name": "stdout",
          "text": [
            "Time of first call:27.684165954589844\n",
            "Average time after second call:0.006444549560546875\n",
            "Sum of error:-6.195044477408373e-13\n"
          ]
        }
      ]
    },
    {
      "cell_type": "code",
      "source": [
        "# JNP function-based.\n",
        "# The 1st call may be slow because of the computation graph construction.\n",
        "start = time.time()\n",
        "newtrack = simple_interp_jax_jit(HashableArrayWrapper(trackdata[:-1]))\n",
        "interval = time.time() - start\n",
        "print(f\"Time of first call:{interval}\")\n",
        "\n",
        "start = time.time()\n",
        "for _ in range(10):\n",
        "  newtrack = simple_interp_jax_jit(HashableArrayWrapper(trackdata[:-1]))\n",
        "interval = time.time() - start\n",
        "print(f\"Average time after second call:{interval / 10}\")\n",
        "\n",
        "diff = (reftrack[:-1] - newtrack).sum()\n",
        "print(f\"Sum of error:{diff}\")"
      ],
      "metadata": {
        "colab": {
          "base_uri": "https://localhost:8080/"
        },
        "id": "Y1DWZ7-uvejJ",
        "outputId": "82048743-98d0-4993-dd54-363f7184a235"
      },
      "execution_count": 15,
      "outputs": [
        {
          "output_type": "stream",
          "name": "stdout",
          "text": [
            "Time of first call:26.79814577102661\n",
            "Average time after second call:0.0073321819305419925\n",
            "Sum of error:-6.195044477408373e-13\n"
          ]
        }
      ]
    },
    {
      "cell_type": "code",
      "source": [
        "# Matrix-based.\n",
        "# The 1st call may be slow because of the computation graph construction.\n",
        "start = time.time()\n",
        "newtrack = partsbased_interp_jax_jit(HashableArrayWrapper(trackdata))\n",
        "interval = time.time() - start\n",
        "print(f\"Time of first call:{interval}\")\n",
        "\n",
        "start = time.time()\n",
        "for _ in range(10):\n",
        "  newtrack = partsbased_interp_jax_jit(HashableArrayWrapper(trackdata))\n",
        "interval = time.time() - start\n",
        "print(f\"Average time after second call:{interval / 10}\")\n",
        "\n",
        "diff = (reftrack - newtrack).sum()\n",
        "print(f\"Sum of error:{diff}\")"
      ],
      "metadata": {
        "colab": {
          "base_uri": "https://localhost:8080/"
        },
        "id": "5v4L65ALvrVx",
        "outputId": "f2c89aa0-eb19-4471-9672-274573fb33b8"
      },
      "execution_count": 16,
      "outputs": [
        {
          "output_type": "stream",
          "name": "stdout",
          "text": [
            "Time of first call:0.6566777229309082\n",
            "Average time after second call:0.009604620933532714\n",
            "Sum of error:-2.2037927038809357e-13\n"
          ]
        }
      ]
    },
    {
      "cell_type": "code",
      "source": [
        "# Matrix-based.\n",
        "# The 1st call may be slow because of the computation graph construction.\n",
        "start = time.time()\n",
        "newtrack = partsbased_interp_jax_jit(HashableArrayWrapper(trackdata[:-1]))\n",
        "interval = time.time() - start\n",
        "print(f\"Time of first call:{interval}\")\n",
        "\n",
        "start = time.time()\n",
        "for _ in range(10):\n",
        "  newtrack = partsbased_interp_jax_jit(HashableArrayWrapper(trackdata[:-1]))\n",
        "interval = time.time() - start\n",
        "print(f\"Average time after second call:{interval / 10}\")\n",
        "\n",
        "diff = (reftrack[:-1] - newtrack).sum()\n",
        "print(f\"Sum of error:{diff}\")"
      ],
      "metadata": {
        "colab": {
          "base_uri": "https://localhost:8080/"
        },
        "id": "uNUY_7KCvuqJ",
        "outputId": "7d03d5a1-3d9a-4912-c4cc-9045eb9854c1"
      },
      "execution_count": 17,
      "outputs": [
        {
          "output_type": "stream",
          "name": "stdout",
          "text": [
            "Time of first call:0.8227601051330566\n",
            "Average time after second call:0.01083838939666748\n",
            "Sum of error:-2.2037927038809357e-13\n"
          ]
        }
      ]
    }
  ]
}