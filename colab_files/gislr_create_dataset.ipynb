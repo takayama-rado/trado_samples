{
  "nbformat": 4,
  "nbformat_minor": 0,
  "metadata": {
    "colab": {
      "provenance": [],
      "authorship_tag": "ABX9TyNOMukvYNP/18nWx36Lzb28",
      "include_colab_link": true
    },
    "kernelspec": {
      "name": "python3",
      "display_name": "Python 3"
    },
    "language_info": {
      "name": "python"
    }
  },
  "cells": [
    {
      "cell_type": "markdown",
      "metadata": {
        "id": "view-in-github",
        "colab_type": "text"
      },
      "source": [
        "<a href=\"https://colab.research.google.com/github/takayama-rado/trado_samples/blob/main/colab_files/gislr_create_dataset.ipynb\" target=\"_parent\"><img src=\"https://colab.research.google.com/assets/colab-badge.svg\" alt=\"Open In Colab\"/></a>"
      ]
    },
    {
      "cell_type": "markdown",
      "source": [
        "# 1. Download original GISLR dataset"
      ],
      "metadata": {
        "id": "ByJgHFsBpHzO"
      }
    },
    {
      "cell_type": "code",
      "execution_count": 1,
      "metadata": {
        "colab": {
          "base_uri": "https://localhost:8080/"
        },
        "id": "IwtyenSWpC2L",
        "outputId": "f0885802-ce99-4efc-c4f2-ce5d6ce4b9e0"
      },
      "outputs": [
        {
          "output_type": "stream",
          "name": "stdout",
          "text": [
            "Mounted at /content/drive\n"
          ]
        }
      ],
      "source": [
        "from google.colab import drive\n",
        "\n",
        "drive.mount(\"/content/drive\")"
      ]
    },
    {
      "cell_type": "code",
      "source": [
        "# Copy to local.\n",
        "!cp drive/MyDrive/Datasets/gislr_dataset_orig.zip gislr_orig.zip"
      ],
      "metadata": {
        "id": "B9AZ7UbypOJV"
      },
      "execution_count": 2,
      "outputs": []
    },
    {
      "cell_type": "code",
      "source": [
        "!unzip -o gislr_orig.zip"
      ],
      "metadata": {
        "colab": {
          "base_uri": "https://localhost:8080/"
        },
        "id": "AYZ8xYGlpTfF",
        "outputId": "54bd6c33-ab39-40ce-ebf4-d5be0123d23e"
      },
      "execution_count": 3,
      "outputs": [
        {
          "output_type": "stream",
          "name": "stdout",
          "text": [
            "Archive:  gislr_orig.zip\n",
            "   creating: inputs/google_islr/\n",
            "  inflating: inputs/google_islr/sign_to_prediction_index_map.json  \n",
            "  inflating: inputs/google_islr/train.csv  \n",
            "   creating: inputs/google_islr/train_landmark_files/\n",
            "   creating: inputs/google_islr/train_landmark_files/16069/\n",
            "  inflating: inputs/google_islr/train_landmark_files/16069/100015657.parquet  \n",
            "   creating: inputs/google_islr/train_landmark_files/18796/\n",
            "  inflating: inputs/google_islr/train_landmark_files/18796/1001373962.parquet  \n",
            "   creating: inputs/google_islr/train_landmark_files/2044/\n",
            "  inflating: inputs/google_islr/train_landmark_files/2044/1001950812.parquet  \n",
            "   creating: inputs/google_islr/train_landmark_files/22343/\n",
            "  inflating: inputs/google_islr/train_landmark_files/22343/1000638205.parquet  \n",
            "   creating: inputs/google_islr/train_landmark_files/25571/\n",
            "  inflating: inputs/google_islr/train_landmark_files/25571/1000210073.parquet  \n",
            "   creating: inputs/google_islr/train_landmark_files/26734/\n",
            "  inflating: inputs/google_islr/train_landmark_files/26734/1000035562.parquet  \n",
            "   creating: inputs/google_islr/train_landmark_files/27610/\n",
            "  inflating: inputs/google_islr/train_landmark_files/27610/1000697904.parquet  \n",
            "   creating: inputs/google_islr/train_landmark_files/28656/\n",
            "  inflating: inputs/google_islr/train_landmark_files/28656/1000106739.parquet  \n",
            "   creating: inputs/google_islr/train_landmark_files/29302/\n",
            "  inflating: inputs/google_islr/train_landmark_files/29302/100039661.parquet  \n",
            "   creating: inputs/google_islr/train_landmark_files/30680/\n",
            "  inflating: inputs/google_islr/train_landmark_files/30680/1004012212.parquet  \n",
            "   creating: inputs/google_islr/train_landmark_files/32319/\n",
            "  inflating: inputs/google_islr/train_landmark_files/32319/1000278229.parquet  \n",
            "   creating: inputs/google_islr/train_landmark_files/34503/\n",
            "  inflating: inputs/google_islr/train_landmark_files/34503/100137027.parquet  \n",
            "   creating: inputs/google_islr/train_landmark_files/36257/\n",
            "  inflating: inputs/google_islr/train_landmark_files/36257/1000536928.parquet  \n",
            "   creating: inputs/google_islr/train_landmark_files/37055/\n",
            "  inflating: inputs/google_islr/train_landmark_files/37055/100035691.parquet  \n",
            "   creating: inputs/google_islr/train_landmark_files/37779/\n",
            "  inflating: inputs/google_islr/train_landmark_files/37779/1002526690.parquet  \n",
            "   creating: inputs/google_islr/train_landmark_files/4718/\n",
            "  inflating: inputs/google_islr/train_landmark_files/4718/1001385785.parquet  \n",
            "   creating: inputs/google_islr/train_landmark_files/49445/\n",
            "  inflating: inputs/google_islr/train_landmark_files/49445/1000397667.parquet  \n",
            "   creating: inputs/google_islr/train_landmark_files/53618/\n",
            "  inflating: inputs/google_islr/train_landmark_files/53618/1001363076.parquet  \n",
            "   creating: inputs/google_islr/train_landmark_files/55372/\n",
            "  inflating: inputs/google_islr/train_landmark_files/55372/1001471195.parquet  \n",
            "   creating: inputs/google_islr/train_landmark_files/61333/\n",
            "  inflating: inputs/google_islr/train_landmark_files/61333/1000909322.parquet  \n",
            "   creating: inputs/google_islr/train_landmark_files/62590/\n",
            "  inflating: inputs/google_islr/train_landmark_files/62590/1000240708.parquet  \n"
          ]
        }
      ]
    },
    {
      "cell_type": "code",
      "source": [
        "!ls inputs/google_islr"
      ],
      "metadata": {
        "colab": {
          "base_uri": "https://localhost:8080/"
        },
        "id": "XNTsRBMYsHDF",
        "outputId": "780fe8d8-ea10-4c81-85ae-33cf13a7a8be"
      },
      "execution_count": 4,
      "outputs": [
        {
          "output_type": "stream",
          "name": "stdout",
          "text": [
            "sign_to_prediction_index_map.json  train.csv  train_landmark_files\n"
          ]
        }
      ]
    },
    {
      "cell_type": "code",
      "source": [
        "!cat inputs/google_islr/sign_to_prediction_index_map.json"
      ],
      "metadata": {
        "colab": {
          "base_uri": "https://localhost:8080/"
        },
        "id": "8HKvRTmmsXR8",
        "outputId": "8daa7c23-4687-48b0-c1b0-6c88ecb52048"
      },
      "execution_count": 5,
      "outputs": [
        {
          "output_type": "stream",
          "name": "stdout",
          "text": [
            "{\"TV\": 0, \"after\": 1, \"airplane\": 2, \"all\": 3, \"alligator\": 4, \"animal\": 5, \"another\": 6, \"any\": 7, \"apple\": 8, \"arm\": 9, \"aunt\": 10, \"awake\": 11, \"backyard\": 12, \"bad\": 13, \"balloon\": 14, \"bath\": 15, \"because\": 16, \"bed\": 17, \"bedroom\": 18, \"bee\": 19, \"before\": 20, \"beside\": 21, \"better\": 22, \"bird\": 23, \"black\": 24, \"blow\": 25, \"blue\": 26, \"boat\": 27, \"book\": 28, \"boy\": 29, \"brother\": 30, \"brown\": 31, \"bug\": 32, \"bye\": 33, \"callonphone\": 34, \"can\": 35, \"car\": 36, \"carrot\": 37, \"cat\": 38, \"cereal\": 39, \"chair\": 40, \"cheek\": 41, \"child\": 42, \"chin\": 43, \"chocolate\": 44, \"clean\": 45, \"close\": 46, \"closet\": 47, \"cloud\": 48, \"clown\": 49, \"cow\": 50, \"cowboy\": 51, \"cry\": 52, \"cut\": 53, \"cute\": 54, \"dad\": 55, \"dance\": 56, \"dirty\": 57, \"dog\": 58, \"doll\": 59, \"donkey\": 60, \"down\": 61, \"drawer\": 62, \"drink\": 63, \"drop\": 64, \"dry\": 65, \"dryer\": 66, \"duck\": 67, \"ear\": 68, \"elephant\": 69, \"empty\": 70, \"every\": 71, \"eye\": 72, \"face\": 73, \"fall\": 74, \"farm\": 75, \"fast\": 76, \"feet\": 77, \"find\": 78, \"fine\": 79, \"finger\": 80, \"finish\": 81, \"fireman\": 82, \"first\": 83, \"fish\": 84, \"flag\": 85, \"flower\": 86, \"food\": 87, \"for\": 88, \"frenchfries\": 89, \"frog\": 90, \"garbage\": 91, \"gift\": 92, \"giraffe\": 93, \"girl\": 94, \"give\": 95, \"glasswindow\": 96, \"go\": 97, \"goose\": 98, \"grandma\": 99, \"grandpa\": 100, \"grass\": 101, \"green\": 102, \"gum\": 103, \"hair\": 104, \"happy\": 105, \"hat\": 106, \"hate\": 107, \"have\": 108, \"haveto\": 109, \"head\": 110, \"hear\": 111, \"helicopter\": 112, \"hello\": 113, \"hen\": 114, \"hesheit\": 115, \"hide\": 116, \"high\": 117, \"home\": 118, \"horse\": 119, \"hot\": 120, \"hungry\": 121, \"icecream\": 122, \"if\": 123, \"into\": 124, \"jacket\": 125, \"jeans\": 126, \"jump\": 127, \"kiss\": 128, \"kitty\": 129, \"lamp\": 130, \"later\": 131, \"like\": 132, \"lion\": 133, \"lips\": 134, \"listen\": 135, \"look\": 136, \"loud\": 137, \"mad\": 138, \"make\": 139, \"man\": 140, \"many\": 141, \"milk\": 142, \"minemy\": 143, \"mitten\": 144, \"mom\": 145, \"moon\": 146, \"morning\": 147, \"mouse\": 148, \"mouth\": 149, \"nap\": 150, \"napkin\": 151, \"night\": 152, \"no\": 153, \"noisy\": 154, \"nose\": 155, \"not\": 156, \"now\": 157, \"nuts\": 158, \"old\": 159, \"on\": 160, \"open\": 161, \"orange\": 162, \"outside\": 163, \"owie\": 164, \"owl\": 165, \"pajamas\": 166, \"pen\": 167, \"pencil\": 168, \"penny\": 169, \"person\": 170, \"pig\": 171, \"pizza\": 172, \"please\": 173, \"police\": 174, \"pool\": 175, \"potty\": 176, \"pretend\": 177, \"pretty\": 178, \"puppy\": 179, \"puzzle\": 180, \"quiet\": 181, \"radio\": 182, \"rain\": 183, \"read\": 184, \"red\": 185, \"refrigerator\": 186, \"ride\": 187, \"room\": 188, \"sad\": 189, \"same\": 190, \"say\": 191, \"scissors\": 192, \"see\": 193, \"shhh\": 194, \"shirt\": 195, \"shoe\": 196, \"shower\": 197, \"sick\": 198, \"sleep\": 199, \"sleepy\": 200, \"smile\": 201, \"snack\": 202, \"snow\": 203, \"stairs\": 204, \"stay\": 205, \"sticky\": 206, \"store\": 207, \"story\": 208, \"stuck\": 209, \"sun\": 210, \"table\": 211, \"talk\": 212, \"taste\": 213, \"thankyou\": 214, \"that\": 215, \"there\": 216, \"think\": 217, \"thirsty\": 218, \"tiger\": 219, \"time\": 220, \"tomorrow\": 221, \"tongue\": 222, \"tooth\": 223, \"toothbrush\": 224, \"touch\": 225, \"toy\": 226, \"tree\": 227, \"uncle\": 228, \"underwear\": 229, \"up\": 230, \"vacuum\": 231, \"wait\": 232, \"wake\": 233, \"water\": 234, \"wet\": 235, \"weus\": 236, \"where\": 237, \"white\": 238, \"who\": 239, \"why\": 240, \"will\": 241, \"wolf\": 242, \"yellow\": 243, \"yes\": 244, \"yesterday\": 245, \"yourself\": 246, \"yucky\": 247, \"zebra\": 248, \"zipper\": 249}"
          ]
        }
      ]
    },
    {
      "cell_type": "code",
      "source": [
        "!cat inputs/google_islr/train.csv | head"
      ],
      "metadata": {
        "colab": {
          "base_uri": "https://localhost:8080/"
        },
        "id": "cKlg-8g7seeN",
        "outputId": "f07c2cf6-79a3-4495-f9b9-3cf3e99803ff"
      },
      "execution_count": 6,
      "outputs": [
        {
          "output_type": "stream",
          "name": "stdout",
          "text": [
            "path,participant_id,sequence_id,sign\n",
            "train_landmark_files/26734/1000035562.parquet,26734,1000035562,blow\n",
            "train_landmark_files/28656/1000106739.parquet,28656,1000106739,wait\n",
            "train_landmark_files/16069/100015657.parquet,16069,100015657,cloud\n",
            "train_landmark_files/25571/1000210073.parquet,25571,1000210073,bird\n",
            "train_landmark_files/62590/1000240708.parquet,62590,1000240708,owie\n",
            "train_landmark_files/26734/1000241583.parquet,26734,1000241583,duck\n",
            "train_landmark_files/26734/1000255522.parquet,26734,1000255522,minemy\n",
            "train_landmark_files/32319/1000278229.parquet,32319,1000278229,lips\n",
            "train_landmark_files/37055/100035691.parquet,37055,100035691,flower\n"
          ]
        }
      ]
    },
    {
      "cell_type": "code",
      "source": [
        "!ls inputs/google_islr/train_landmark_files"
      ],
      "metadata": {
        "colab": {
          "base_uri": "https://localhost:8080/"
        },
        "id": "DNA-L3q9sLmN",
        "outputId": "c094f15e-332d-44c0-ce32-90cf281b82bd"
      },
      "execution_count": 7,
      "outputs": [
        {
          "output_type": "stream",
          "name": "stdout",
          "text": [
            "16069  2044   25571  27610  29302  32319  36257  37779\t49445  55372  62590\n",
            "18796  22343  26734  28656  30680  34503  37055  4718\t53618  61333\n"
          ]
        }
      ]
    },
    {
      "cell_type": "code",
      "source": [
        "!ls inputs/google_islr/train_landmark_files/16069"
      ],
      "metadata": {
        "colab": {
          "base_uri": "https://localhost:8080/"
        },
        "id": "eDmrmC5QsRhM",
        "outputId": "6630cf85-20f8-4512-e95c-a8e8636e2113"
      },
      "execution_count": 8,
      "outputs": [
        {
          "output_type": "stream",
          "name": "stdout",
          "text": [
            "100015657.parquet\n"
          ]
        }
      ]
    },
    {
      "cell_type": "markdown",
      "source": [
        "# 2. Convert to HDF5 dataset"
      ],
      "metadata": {
        "id": "DynmYeujsxX1"
      }
    },
    {
      "cell_type": "markdown",
      "source": [
        "## 2.1 Import modules"
      ],
      "metadata": {
        "id": "AFOFQg14tGo8"
      }
    },
    {
      "cell_type": "code",
      "source": [
        "# Standard modules.\n",
        "import os\n",
        "import json\n",
        "\n",
        "# 3rd party's modules.\n",
        "import numpy as np\n",
        "import h5py\n",
        "import pandas as pd"
      ],
      "metadata": {
        "id": "HGkOROwTtItU"
      },
      "execution_count": 9,
      "outputs": []
    },
    {
      "cell_type": "markdown",
      "source": [
        "## 2.2 Define loading function"
      ],
      "metadata": {
        "id": "SOGRNcWYs4Qt"
      }
    },
    {
      "cell_type": "code",
      "source": [
        "ROWS_PER_FRAME = 543  # Number of landmarks per frame.\n",
        "\n",
        "def load_relevant_data_subset(pq_path):\n",
        "    data_columns = ['x', 'y', 'z']\n",
        "    data = pd.read_parquet(pq_path, columns=data_columns)\n",
        "    n_frames = int(len(data) / ROWS_PER_FRAME)\n",
        "    data = data.values.reshape(n_frames, ROWS_PER_FRAME, len(data_columns))\n",
        "    return data.astype(np.float32)"
      ],
      "metadata": {
        "id": "sQkyFTH6s05s"
      },
      "execution_count": 10,
      "outputs": []
    },
    {
      "cell_type": "markdown",
      "source": [
        "## 2.3 Main process"
      ],
      "metadata": {
        "id": "DgkV-xYitk4e"
      }
    },
    {
      "cell_type": "code",
      "source": [
        "# Load data definition.\n",
        "root_dir = \"inputs/google_islr\"\n",
        "track_info = pd.read_csv(os.path.join(root_dir, \"train.csv\"))\n",
        "print(track_info)"
      ],
      "metadata": {
        "colab": {
          "base_uri": "https://localhost:8080/"
        },
        "id": "Ogpix571t9GN",
        "outputId": "75ada161-aca6-4874-c1ce-5fc5efc6afef"
      },
      "execution_count": 11,
      "outputs": [
        {
          "output_type": "stream",
          "name": "stdout",
          "text": [
            "                                                path  participant_id  \\\n",
            "0      train_landmark_files/26734/1000035562.parquet           26734   \n",
            "1      train_landmark_files/28656/1000106739.parquet           28656   \n",
            "2       train_landmark_files/16069/100015657.parquet           16069   \n",
            "3      train_landmark_files/25571/1000210073.parquet           25571   \n",
            "4      train_landmark_files/62590/1000240708.parquet           62590   \n",
            "...                                              ...             ...   \n",
            "94472   train_landmark_files/53618/999786174.parquet           53618   \n",
            "94473   train_landmark_files/26734/999799849.parquet           26734   \n",
            "94474   train_landmark_files/25571/999833418.parquet           25571   \n",
            "94475   train_landmark_files/29302/999895257.parquet           29302   \n",
            "94476   train_landmark_files/36257/999962374.parquet           36257   \n",
            "\n",
            "       sequence_id    sign  \n",
            "0       1000035562    blow  \n",
            "1       1000106739    wait  \n",
            "2        100015657   cloud  \n",
            "3       1000210073    bird  \n",
            "4       1000240708    owie  \n",
            "...            ...     ...  \n",
            "94472    999786174   white  \n",
            "94473    999799849    have  \n",
            "94474    999833418  flower  \n",
            "94475    999895257    room  \n",
            "94476    999962374   happy  \n",
            "\n",
            "[94477 rows x 4 columns]\n"
          ]
        }
      ]
    },
    {
      "cell_type": "code",
      "source": [
        "# Extract unique participant ids.\n",
        "pids = np.array(track_info[\"participant_id\"])\n",
        "upids = np.unique(pids)\n",
        "print(upids)"
      ],
      "metadata": {
        "colab": {
          "base_uri": "https://localhost:8080/"
        },
        "id": "Y9Y7HSRbuWL-",
        "outputId": "1157dfbc-7a16-4347-b621-83915fedd33b"
      },
      "execution_count": 12,
      "outputs": [
        {
          "output_type": "stream",
          "name": "stdout",
          "text": [
            "[ 2044  4718 16069 18796 22343 25571 26734 27610 28656 29302 30680 32319\n",
            " 34503 36257 37055 37779 49445 53618 55372 61333 62590]\n"
          ]
        }
      ]
    },
    {
      "cell_type": "code",
      "source": [
        "# Load sign dictionary.\n",
        "dictfile = os.path.join(root_dir, \"sign_to_prediction_index_map.json\")\n",
        "with open(dictfile, \"r\") as fread:\n",
        "    dictionary = json.load(fread)\n",
        "print(dictionary)"
      ],
      "metadata": {
        "colab": {
          "base_uri": "https://localhost:8080/"
        },
        "id": "55BxM_elufAF",
        "outputId": "a07253ac-9bd8-43a7-96dd-9ab4387f6791"
      },
      "execution_count": 13,
      "outputs": [
        {
          "output_type": "stream",
          "name": "stdout",
          "text": [
            "{'TV': 0, 'after': 1, 'airplane': 2, 'all': 3, 'alligator': 4, 'animal': 5, 'another': 6, 'any': 7, 'apple': 8, 'arm': 9, 'aunt': 10, 'awake': 11, 'backyard': 12, 'bad': 13, 'balloon': 14, 'bath': 15, 'because': 16, 'bed': 17, 'bedroom': 18, 'bee': 19, 'before': 20, 'beside': 21, 'better': 22, 'bird': 23, 'black': 24, 'blow': 25, 'blue': 26, 'boat': 27, 'book': 28, 'boy': 29, 'brother': 30, 'brown': 31, 'bug': 32, 'bye': 33, 'callonphone': 34, 'can': 35, 'car': 36, 'carrot': 37, 'cat': 38, 'cereal': 39, 'chair': 40, 'cheek': 41, 'child': 42, 'chin': 43, 'chocolate': 44, 'clean': 45, 'close': 46, 'closet': 47, 'cloud': 48, 'clown': 49, 'cow': 50, 'cowboy': 51, 'cry': 52, 'cut': 53, 'cute': 54, 'dad': 55, 'dance': 56, 'dirty': 57, 'dog': 58, 'doll': 59, 'donkey': 60, 'down': 61, 'drawer': 62, 'drink': 63, 'drop': 64, 'dry': 65, 'dryer': 66, 'duck': 67, 'ear': 68, 'elephant': 69, 'empty': 70, 'every': 71, 'eye': 72, 'face': 73, 'fall': 74, 'farm': 75, 'fast': 76, 'feet': 77, 'find': 78, 'fine': 79, 'finger': 80, 'finish': 81, 'fireman': 82, 'first': 83, 'fish': 84, 'flag': 85, 'flower': 86, 'food': 87, 'for': 88, 'frenchfries': 89, 'frog': 90, 'garbage': 91, 'gift': 92, 'giraffe': 93, 'girl': 94, 'give': 95, 'glasswindow': 96, 'go': 97, 'goose': 98, 'grandma': 99, 'grandpa': 100, 'grass': 101, 'green': 102, 'gum': 103, 'hair': 104, 'happy': 105, 'hat': 106, 'hate': 107, 'have': 108, 'haveto': 109, 'head': 110, 'hear': 111, 'helicopter': 112, 'hello': 113, 'hen': 114, 'hesheit': 115, 'hide': 116, 'high': 117, 'home': 118, 'horse': 119, 'hot': 120, 'hungry': 121, 'icecream': 122, 'if': 123, 'into': 124, 'jacket': 125, 'jeans': 126, 'jump': 127, 'kiss': 128, 'kitty': 129, 'lamp': 130, 'later': 131, 'like': 132, 'lion': 133, 'lips': 134, 'listen': 135, 'look': 136, 'loud': 137, 'mad': 138, 'make': 139, 'man': 140, 'many': 141, 'milk': 142, 'minemy': 143, 'mitten': 144, 'mom': 145, 'moon': 146, 'morning': 147, 'mouse': 148, 'mouth': 149, 'nap': 150, 'napkin': 151, 'night': 152, 'no': 153, 'noisy': 154, 'nose': 155, 'not': 156, 'now': 157, 'nuts': 158, 'old': 159, 'on': 160, 'open': 161, 'orange': 162, 'outside': 163, 'owie': 164, 'owl': 165, 'pajamas': 166, 'pen': 167, 'pencil': 168, 'penny': 169, 'person': 170, 'pig': 171, 'pizza': 172, 'please': 173, 'police': 174, 'pool': 175, 'potty': 176, 'pretend': 177, 'pretty': 178, 'puppy': 179, 'puzzle': 180, 'quiet': 181, 'radio': 182, 'rain': 183, 'read': 184, 'red': 185, 'refrigerator': 186, 'ride': 187, 'room': 188, 'sad': 189, 'same': 190, 'say': 191, 'scissors': 192, 'see': 193, 'shhh': 194, 'shirt': 195, 'shoe': 196, 'shower': 197, 'sick': 198, 'sleep': 199, 'sleepy': 200, 'smile': 201, 'snack': 202, 'snow': 203, 'stairs': 204, 'stay': 205, 'sticky': 206, 'store': 207, 'story': 208, 'stuck': 209, 'sun': 210, 'table': 211, 'talk': 212, 'taste': 213, 'thankyou': 214, 'that': 215, 'there': 216, 'think': 217, 'thirsty': 218, 'tiger': 219, 'time': 220, 'tomorrow': 221, 'tongue': 222, 'tooth': 223, 'toothbrush': 224, 'touch': 225, 'toy': 226, 'tree': 227, 'uncle': 228, 'underwear': 229, 'up': 230, 'vacuum': 231, 'wait': 232, 'wake': 233, 'water': 234, 'wet': 235, 'weus': 236, 'where': 237, 'white': 238, 'who': 239, 'why': 240, 'will': 241, 'wolf': 242, 'yellow': 243, 'yes': 244, 'yesterday': 245, 'yourself': 246, 'yucky': 247, 'zebra': 248, 'zipper': 249}\n"
          ]
        }
      ]
    },
    {
      "cell_type": "code",
      "source": [
        "# Conversion.\n",
        "convert_to_channel_first = True\n",
        "outdir = \"dataset\"\n",
        "os.makedirs(outdir, exist_ok=True)\n",
        "\n",
        "for upid in upids:\n",
        "    temp_info = track_info[track_info[\"participant_id\"] == upid]\n",
        "    outpath = os.path.join(outdir, str(upid) + \".hdf5\")\n",
        "    with h5py.File(outpath, \"w\") as fwrite:\n",
        "        for info in temp_info.itertuples(index=False):\n",
        "            path = info[0]\n",
        "            pid = info[1]\n",
        "            sid = info[2]\n",
        "            token = np.array([dictionary[info[3]]])\n",
        "            assert pid == upid, f\"{pid}:{upid}\"\n",
        "            track_path = os.path.join(root_dir, path)\n",
        "            if not os.path.exists(track_path):\n",
        "                continue\n",
        "            track = load_relevant_data_subset(track_path)\n",
        "            # `[T, J, C] -> [C, T, J]`\n",
        "            if convert_to_channel_first:\n",
        "                track = track.transpose([2, 0, 1])\n",
        "\n",
        "            # Create group.\n",
        "            grp = fwrite.create_group(str(sid))\n",
        "            grp.create_dataset(\"feature\", data=track)\n",
        "            grp.create_dataset(\"token\", data=token)"
      ],
      "metadata": {
        "id": "3KvBrT59toNF"
      },
      "execution_count": 14,
      "outputs": []
    },
    {
      "cell_type": "markdown",
      "source": [
        "# 3. Check output files"
      ],
      "metadata": {
        "id": "ilKWgTc-uwU0"
      }
    },
    {
      "cell_type": "code",
      "source": [
        "!ls dataset"
      ],
      "metadata": {
        "colab": {
          "base_uri": "https://localhost:8080/"
        },
        "id": "l5p726cku9Y8",
        "outputId": "399890e5-77b5-4bf1-aca3-e17b049649bc"
      },
      "execution_count": 15,
      "outputs": [
        {
          "output_type": "stream",
          "name": "stdout",
          "text": [
            "16069.hdf5  22343.hdf5\t27610.hdf5  30680.hdf5\t36257.hdf5  4718.hdf5\t55372.hdf5\n",
            "18796.hdf5  25571.hdf5\t28656.hdf5  32319.hdf5\t37055.hdf5  49445.hdf5\t61333.hdf5\n",
            "2044.hdf5   26734.hdf5\t29302.hdf5  34503.hdf5\t37779.hdf5  53618.hdf5\t62590.hdf5\n"
          ]
        }
      ]
    },
    {
      "cell_type": "code",
      "source": [
        "# Test loading.\n",
        "with h5py.File(\"dataset/16069.hdf5\", \"r\") as fread:\n",
        "    keys = fread.keys()\n",
        "    print(\"Groups:\", keys)\n",
        "    for key in keys:\n",
        "        data = fread[key]\n",
        "        print(\"Data in a group:\", data.keys())\n",
        "        feature = data[\"feature\"][:]\n",
        "        token = data[\"token\"][:]\n",
        "        print(feature.shape)\n",
        "        print(token)"
      ],
      "metadata": {
        "colab": {
          "base_uri": "https://localhost:8080/"
        },
        "id": "oEynpyXvvAaF",
        "outputId": "bbe53071-fe39-4420-c188-3eee31e50021"
      },
      "execution_count": 16,
      "outputs": [
        {
          "output_type": "stream",
          "name": "stdout",
          "text": [
            "Groups: <KeysViewHDF5 ['100015657']>\n",
            "Data in a group: <KeysViewHDF5 ['feature', 'token']>\n",
            "(3, 105, 543)\n",
            "[48]\n"
          ]
        }
      ]
    }
  ]
}