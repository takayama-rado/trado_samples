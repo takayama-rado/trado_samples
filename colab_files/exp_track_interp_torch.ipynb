{
  "nbformat": 4,
  "nbformat_minor": 0,
  "metadata": {
    "colab": {
      "provenance": [],
      "authorship_tag": "ABX9TyPygWvBP4RSQk+fGUwpkWY6",
      "include_colab_link": true
    },
    "kernelspec": {
      "name": "python3",
      "display_name": "Python 3"
    },
    "language_info": {
      "name": "python"
    }
  },
  "cells": [
    {
      "cell_type": "markdown",
      "metadata": {
        "id": "view-in-github",
        "colab_type": "text"
      },
      "source": [
        "<a href=\"https://colab.research.google.com/github/takayama-rado/trado_samples/blob/main/colab_files/exp_track_interp_torch.ipynb\" target=\"_parent\"><img src=\"https://colab.research.google.com/assets/colab-badge.svg\" alt=\"Open In Colab\"/></a>"
      ]
    },
    {
      "cell_type": "markdown",
      "source": [
        "# 1. Load library"
      ],
      "metadata": {
        "id": "v1TnaRCUrOg5"
      }
    },
    {
      "cell_type": "code",
      "execution_count": 1,
      "metadata": {
        "id": "0HqCstdLoBGH"
      },
      "outputs": [],
      "source": [
        "# Standard modules.\n",
        "import time\n",
        "\n",
        "# CV/ML.\n",
        "import numpy as np\n",
        "\n",
        "import torch\n",
        "import torch.nn.functional as F"
      ]
    },
    {
      "cell_type": "markdown",
      "source": [
        "# 2. Load data"
      ],
      "metadata": {
        "id": "IyrLelRcrUYh"
      }
    },
    {
      "cell_type": "code",
      "source": [
        "!wget https://github.com/takayama-rado/trado_samples/raw/main/test_data/finger_far0_non_static.npy"
      ],
      "metadata": {
        "colab": {
          "base_uri": "https://localhost:8080/"
        },
        "id": "1NoM1VcOrWA5",
        "outputId": "6268431f-da28-485c-ddad-6ad0ae0f4567"
      },
      "execution_count": 2,
      "outputs": [
        {
          "output_type": "stream",
          "name": "stdout",
          "text": [
            "--2023-09-29 10:10:50--  https://github.com/takayama-rado/trado_samples/raw/main/test_data/finger_far0_non_static.npy\n",
            "Resolving github.com (github.com)... 140.82.112.3\n",
            "Connecting to github.com (github.com)|140.82.112.3|:443... connected.\n",
            "HTTP request sent, awaiting response... 302 Found\n",
            "Location: https://raw.githubusercontent.com/takayama-rado/trado_samples/main/test_data/finger_far0_non_static.npy [following]\n",
            "--2023-09-29 10:10:51--  https://raw.githubusercontent.com/takayama-rado/trado_samples/main/test_data/finger_far0_non_static.npy\n",
            "Resolving raw.githubusercontent.com (raw.githubusercontent.com)... 185.199.108.133, 185.199.109.133, 185.199.110.133, ...\n",
            "Connecting to raw.githubusercontent.com (raw.githubusercontent.com)|185.199.108.133|:443... connected.\n",
            "HTTP request sent, awaiting response... 200 OK\n",
            "Length: 2300608 (2.2M) [application/octet-stream]\n",
            "Saving to: ‘finger_far0_non_static.npy’\n",
            "\n",
            "finger_far0_non_sta 100%[===================>]   2.19M  --.-KB/s    in 0.05s   \n",
            "\n",
            "2023-09-29 10:10:51 (42.7 MB/s) - ‘finger_far0_non_static.npy’ saved [2300608/2300608]\n",
            "\n"
          ]
        }
      ]
    },
    {
      "cell_type": "code",
      "source": [
        "!wget https://github.com/takayama-rado/trado_samples/raw/main/test_data/finger_far0_non_static_interp.npy"
      ],
      "metadata": {
        "colab": {
          "base_uri": "https://localhost:8080/"
        },
        "id": "kmuGhSaxrXn5",
        "outputId": "244b93a3-b3da-4b55-84db-3b3e542ee095"
      },
      "execution_count": 3,
      "outputs": [
        {
          "output_type": "stream",
          "name": "stdout",
          "text": [
            "--2023-09-29 10:10:51--  https://github.com/takayama-rado/trado_samples/raw/main/test_data/finger_far0_non_static_interp.npy\n",
            "Resolving github.com (github.com)... 140.82.113.4\n",
            "Connecting to github.com (github.com)|140.82.113.4|:443... connected.\n",
            "HTTP request sent, awaiting response... 302 Found\n",
            "Location: https://raw.githubusercontent.com/takayama-rado/trado_samples/main/test_data/finger_far0_non_static_interp.npy [following]\n",
            "--2023-09-29 10:10:52--  https://raw.githubusercontent.com/takayama-rado/trado_samples/main/test_data/finger_far0_non_static_interp.npy\n",
            "Resolving raw.githubusercontent.com (raw.githubusercontent.com)... 185.199.110.133, 185.199.111.133, 185.199.109.133, ...\n",
            "Connecting to raw.githubusercontent.com (raw.githubusercontent.com)|185.199.110.133|:443... connected.\n",
            "HTTP request sent, awaiting response... 200 OK\n",
            "Length: 2300608 (2.2M) [application/octet-stream]\n",
            "Saving to: ‘finger_far0_non_static_interp.npy’\n",
            "\n",
            "finger_far0_non_sta 100%[===================>]   2.19M  --.-KB/s    in 0.07s   \n",
            "\n",
            "2023-09-29 10:10:52 (32.5 MB/s) - ‘finger_far0_non_static_interp.npy’ saved [2300608/2300608]\n",
            "\n"
          ]
        }
      ]
    },
    {
      "cell_type": "code",
      "source": [
        "!ls"
      ],
      "metadata": {
        "colab": {
          "base_uri": "https://localhost:8080/"
        },
        "id": "hxSDY5hdrZox",
        "outputId": "5542d9da-d5e9-4929-8ae0-16b568c12d87"
      },
      "execution_count": 4,
      "outputs": [
        {
          "output_type": "stream",
          "name": "stdout",
          "text": [
            "finger_far0_non_static_interp.npy  finger_far0_non_static.npy  sample_data\n"
          ]
        }
      ]
    },
    {
      "cell_type": "markdown",
      "source": [
        "# 3. PyTorch implementation"
      ],
      "metadata": {
        "id": "pP5SQyAFra3o"
      }
    },
    {
      "cell_type": "markdown",
      "source": [
        "## 3.1 Implementation based on define-by-run mode"
      ],
      "metadata": {
        "id": "aEfGL9a4rdiQ"
      }
    },
    {
      "cell_type": "code",
      "source": [
        "def matrix_interp_torch(track):\n",
        "    orig_shape = track.shape\n",
        "    tlength = orig_shape[0]\n",
        "    mask = track[:, 0, -1] != 0\n",
        "    valid = mask.sum()\n",
        "    if valid == tlength:\n",
        "        return track\n",
        "\n",
        "    xs = torch.where(mask != 0)[0]\n",
        "    ys = track.reshape([tlength, -1])[xs, :]\n",
        "    x = torch.arange(tlength)\n",
        "\n",
        "    # ========================================================================\n",
        "    # Interpolation.\n",
        "    # ========================================================================\n",
        "    xs = xs.to(ys.dtype)\n",
        "    x = x.to(ys.dtype)\n",
        "    # Pad control points for extrapolation.\n",
        "    # Unexpectedly, torch.finfo(torch.float64).min returns -inf.\n",
        "    # So we use torch.finfo(torch.float32).min alternatively.\n",
        "    xs = torch.cat([torch.tensor([torch.finfo(torch.float32).min]), xs, torch.tensor([torch.finfo(torch.float32).max])], dim=0)\n",
        "    ys = torch.cat([ys[:1], ys, ys[-1:]], dim=0)\n",
        "\n",
        "    # Compute slopes, pad at the edges to flatten.\n",
        "    sloops = (ys[1:] - ys[:-1]) / torch.unsqueeze((xs[1:] - xs[:-1]), dim=-1)\n",
        "    sloops = F.pad(sloops[:-1], (0, 0, 1, 1))\n",
        "\n",
        "    # Solve for intercepts.\n",
        "    intercepts = ys - sloops * torch.unsqueeze(xs, dim=-1)\n",
        "\n",
        "    # Search for the line parameters at each input data point.\n",
        "    # Create a grid of the inputs and piece breakpoints for thresholding.\n",
        "    # Rely on argmax stopping on the first true when there are duplicates,\n",
        "    # which gives us an index into the parameter vectors.\n",
        "    mask_bk_indicator = torch.unsqueeze(xs, dim=-2) > torch.unsqueeze(x, dim=-1)\n",
        "    idx = torch.argmax(mask_bk_indicator.to(torch.int32), dim=-1)\n",
        "    sloop = sloops[idx]\n",
        "    intercept = intercepts[idx]\n",
        "\n",
        "    # Apply the linear mapping at each input data point.\n",
        "    y = sloop * torch.unsqueeze(x, dim=-1) + intercept\n",
        "    y = y.to(ys.dtype)\n",
        "    y = y.reshape(orig_shape)\n",
        "    return y\n",
        "\n",
        "\n",
        "def partsbased_interp_torch(trackdata):\n",
        "    trackdata = torch.from_numpy(trackdata)\n",
        "    pose = trackdata[:, :33]\n",
        "    lhand = trackdata[:, 33:33+21]\n",
        "    rhand = trackdata[:, 33+21:33+21+21]\n",
        "    face = trackdata[:, 33+21+21:]\n",
        "\n",
        "    pose = matrix_interp_torch(pose)\n",
        "    lhand = matrix_interp_torch(lhand)\n",
        "    rhand = matrix_interp_torch(rhand)\n",
        "    face = matrix_interp_torch(face)\n",
        "    return torch.cat([pose, lhand, rhand, face], dim=1)"
      ],
      "metadata": {
        "id": "BVnMUpoxr7Jh"
      },
      "execution_count": 5,
      "outputs": []
    },
    {
      "cell_type": "code",
      "source": [
        "trackdata = np.load(\"finger_far0_non_static.npy\")\n",
        "reftrack = np.load(\"finger_far0_non_static_interp.npy\")\n",
        "# Remove person axis.\n",
        "trackdata = trackdata[0]\n",
        "reftrack = reftrack[0]"
      ],
      "metadata": {
        "id": "s75MzPw3sIL4"
      },
      "execution_count": 6,
      "outputs": []
    },
    {
      "cell_type": "code",
      "source": [
        "# Torch.\n",
        "# The 1st call may be slow because of the computation graph construction.\n",
        "start = time.time()\n",
        "newtrack = partsbased_interp_torch(trackdata)\n",
        "interval = time.time() - start\n",
        "print(f\"Time of first call:{interval}\")\n",
        "\n",
        "start = time.time()\n",
        "for _ in range(10):\n",
        "  newtrack = partsbased_interp_torch(trackdata)\n",
        "interval = time.time() - start\n",
        "print(f\"Average time after second call:{interval / 10}\")\n",
        "\n",
        "diff = (reftrack - newtrack.detach().cpu().numpy()).sum()\n",
        "print(f\"Sum of error:{diff}\")"
      ],
      "metadata": {
        "colab": {
          "base_uri": "https://localhost:8080/"
        },
        "id": "h3NzovShsLrh",
        "outputId": "c9e8741d-97d0-4d06-b5b3-83fca552ffe0"
      },
      "execution_count": 7,
      "outputs": [
        {
          "output_type": "stream",
          "name": "stdout",
          "text": [
            "Time of first call:0.15895938873291016\n",
            "Average time after second call:0.0026750802993774415\n",
            "Sum of error:-6.935119145623503e-12\n"
          ]
        }
      ]
    },
    {
      "cell_type": "code",
      "source": [
        "# Torch.\n",
        "# The 1st call may be slow because of the computation graph construction.\n",
        "start = time.time()\n",
        "newtrack = partsbased_interp_torch(trackdata[:-1])\n",
        "interval = time.time() - start\n",
        "print(f\"Time of first call:{interval}\")\n",
        "\n",
        "start = time.time()\n",
        "for _ in range(10):\n",
        "  newtrack = partsbased_interp_torch(trackdata[:-1])\n",
        "interval = time.time() - start\n",
        "print(f\"Average time after second call:{interval / 10}\")\n",
        "\n",
        "diff = (reftrack[:-1] - newtrack.detach().cpu().numpy()).sum()\n",
        "print(f\"Sum of error:{diff}\")"
      ],
      "metadata": {
        "colab": {
          "base_uri": "https://localhost:8080/"
        },
        "id": "M9lEcO_osVWx",
        "outputId": "46b8a2b6-d925-4290-fe45-ca1bd4d91418"
      },
      "execution_count": 8,
      "outputs": [
        {
          "output_type": "stream",
          "name": "stdout",
          "text": [
            "Time of first call:0.0022478103637695312\n",
            "Average time after second call:0.0020278453826904296\n",
            "Sum of error:-6.935119145623503e-12\n"
          ]
        }
      ]
    },
    {
      "cell_type": "markdown",
      "source": [
        "## 3.2 Implementation based on define-and-run (JIT compile)"
      ],
      "metadata": {
        "id": "QeZaVpMYscc5"
      }
    },
    {
      "cell_type": "code",
      "source": [
        "@torch.jit.script\n",
        "def matrix_interp_torch_jit(track):\n",
        "    orig_shape = track.shape\n",
        "    tlength = orig_shape[0]\n",
        "    mask = track[:, 0, -1] != 0\n",
        "    valid = mask.sum()\n",
        "    if valid == tlength:\n",
        "        return track\n",
        "\n",
        "    xs = torch.where(mask != 0)[0]\n",
        "    ys = track.reshape([tlength, -1])[xs, :]\n",
        "    x = torch.arange(tlength)\n",
        "\n",
        "    # ========================================================================\n",
        "    # Interpolation.\n",
        "    # ========================================================================\n",
        "    xs = xs.to(ys.dtype)\n",
        "    x = x.to(ys.dtype)\n",
        "    # Pad control points for extrapolation.\n",
        "    # Unexpectedly, torch.finfo(torch.float64).min returns -inf.\n",
        "    # So we use torch.finfo(torch.float32).min alternatively.\n",
        "    # xs = torch.cat([torch.tensor([torch.finfo(torch.float32).min]), xs, torch.tensor([torch.finfo(torch.float32).max])], dim=0)\n",
        "    # torch.finfo is not been supported in JIT.\n",
        "    xs = torch.cat([torch.tensor([-1000]), xs, torch.tensor([1000])], dim=0)\n",
        "    ys = torch.cat([ys[:1], ys, ys[-1:]], dim=0)\n",
        "\n",
        "    # Compute slopes, pad at the edges to flatten.\n",
        "    sloops = (ys[1:] - ys[:-1]) / torch.unsqueeze((xs[1:] - xs[:-1]), dim=-1)\n",
        "    sloops = F.pad(sloops[:-1], (0, 0, 1, 1))\n",
        "\n",
        "    # Solve for intercepts.\n",
        "    intercepts = ys - sloops * torch.unsqueeze(xs, dim=-1)\n",
        "\n",
        "    # Search for the line parameters at each input data point.\n",
        "    # Create a grid of the inputs and piece breakpoints for thresholding.\n",
        "    # Rely on argmax stopping on the first true when there are duplicates,\n",
        "    # which gives us an index into the parameter vectors.\n",
        "    mask_bk_indicator = torch.unsqueeze(xs, dim=-2) > torch.unsqueeze(x, dim=-1)\n",
        "    idx = torch.argmax(mask_bk_indicator.to(torch.int32), dim=-1)\n",
        "    sloop = sloops[idx]\n",
        "    intercept = intercepts[idx]\n",
        "\n",
        "    # Apply the linear mapping at each input data point.\n",
        "    y = sloop * torch.unsqueeze(x, dim=-1) + intercept\n",
        "    y = y.to(ys.dtype)\n",
        "    y = y.reshape(orig_shape)\n",
        "    return y\n",
        "\n",
        "\n",
        "def partsbased_interp_torch_jit(trackdata):\n",
        "    trackdata = torch.from_numpy(trackdata)\n",
        "    pose = trackdata[:, :33]\n",
        "    lhand = trackdata[:, 33:33+21]\n",
        "    rhand = trackdata[:, 33+21:33+21+21]\n",
        "    face = trackdata[:, 33+21+21:]\n",
        "\n",
        "    pose = matrix_interp_torch_jit(pose)\n",
        "    lhand = matrix_interp_torch_jit(lhand)\n",
        "    rhand = matrix_interp_torch_jit(rhand)\n",
        "    face = matrix_interp_torch_jit(face)\n",
        "    return torch.cat([pose, lhand, rhand, face], dim=1)"
      ],
      "metadata": {
        "id": "k0MzSbZGshXI"
      },
      "execution_count": 9,
      "outputs": []
    },
    {
      "cell_type": "code",
      "source": [
        "# Torch.\n",
        "# The 1st call may be slow because of the computation graph construction.\n",
        "start = time.time()\n",
        "newtrack = partsbased_interp_torch_jit(trackdata)\n",
        "interval = time.time() - start\n",
        "print(f\"Time of first call:{interval}\")\n",
        "\n",
        "start = time.time()\n",
        "for _ in range(10):\n",
        "  newtrack = partsbased_interp_torch_jit(trackdata)\n",
        "interval = time.time() - start\n",
        "print(f\"Average time after second call:{interval / 10}\")\n",
        "\n",
        "diff = (reftrack - newtrack.detach().cpu().numpy()).sum()\n",
        "print(f\"Sum of error:{diff}\")"
      ],
      "metadata": {
        "colab": {
          "base_uri": "https://localhost:8080/"
        },
        "id": "7WF_KJ_3tHEx",
        "outputId": "85678be1-662a-4cda-ce46-3488a66f94cf"
      },
      "execution_count": 10,
      "outputs": [
        {
          "output_type": "stream",
          "name": "stdout",
          "text": [
            "Time of first call:0.14833760261535645\n",
            "Average time after second call:0.0033842802047729494\n",
            "Sum of error:-6.935119145623503e-12\n"
          ]
        }
      ]
    },
    {
      "cell_type": "code",
      "source": [
        "# Torch.\n",
        "# The 1st call may be slow because of the computation graph construction.\n",
        "start = time.time()\n",
        "newtrack = partsbased_interp_torch_jit(trackdata[:-1])\n",
        "interval = time.time() - start\n",
        "print(f\"Time of first call:{interval}\")\n",
        "\n",
        "start = time.time()\n",
        "for _ in range(10):\n",
        "  newtrack = partsbased_interp_torch_jit(trackdata[:-1])\n",
        "interval = time.time() - start\n",
        "print(f\"Average time after second call:{interval / 10}\")\n",
        "\n",
        "diff = (reftrack[:-1] - newtrack.detach().cpu().numpy()).sum()\n",
        "print(f\"Sum of error:{diff}\")"
      ],
      "metadata": {
        "colab": {
          "base_uri": "https://localhost:8080/"
        },
        "id": "KKkfc0VCtOWY",
        "outputId": "ad9c56d8-686f-47a9-d460-3a0f97176f52"
      },
      "execution_count": 11,
      "outputs": [
        {
          "output_type": "stream",
          "name": "stdout",
          "text": [
            "Time of first call:0.0027930736541748047\n",
            "Average time after second call:0.0016836881637573241\n",
            "Sum of error:-6.935119145623503e-12\n"
          ]
        }
      ]
    }
  ]
}