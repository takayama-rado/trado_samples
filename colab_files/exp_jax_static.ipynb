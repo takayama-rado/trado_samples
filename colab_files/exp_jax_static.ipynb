{
  "nbformat": 4,
  "nbformat_minor": 0,
  "metadata": {
    "colab": {
      "provenance": [],
      "authorship_tag": "ABX9TyNQ0WUTlHod4pc2uc7oLNXc",
      "include_colab_link": true
    },
    "kernelspec": {
      "name": "python3",
      "display_name": "Python 3"
    },
    "language_info": {
      "name": "python"
    }
  },
  "cells": [
    {
      "cell_type": "markdown",
      "metadata": {
        "id": "view-in-github",
        "colab_type": "text"
      },
      "source": [
        "<a href=\"https://colab.research.google.com/github/takayama-rado/trado_samples/blob/main/colab_files/exp_jax_static.ipynb\" target=\"_parent\"><img src=\"https://colab.research.google.com/assets/colab-badge.svg\" alt=\"Open In Colab\"/></a>"
      ]
    },
    {
      "cell_type": "markdown",
      "source": [
        "Some examples refer to JAX's documentation under the Apache Lincense 2.0.\n",
        "\n",
        "google/jax is licensed under the<br>\n",
        "Apache License 2.0<br>\n",
        "A permissive license whose main conditions require preservation of copyright and license notices. <br>\n",
        "Contributors provide an express grant of patent rights.<br>\n",
        "Licensed works, modifications, and larger works may be distributed under different terms and without source code.\n"
      ],
      "metadata": {
        "id": "36ujhGUKoXLb"
      }
    },
    {
      "cell_type": "markdown",
      "source": [
        "# 1. Load libarary"
      ],
      "metadata": {
        "id": "-frKT8g3nViU"
      }
    },
    {
      "cell_type": "code",
      "execution_count": 1,
      "metadata": {
        "id": "DlS_UizcnRHO"
      },
      "outputs": [],
      "source": [
        "# Standard modules.\n",
        "import sys\n",
        "\n",
        "# CV/ML.\n",
        "import numpy as np\n",
        "\n",
        "import jax\n",
        "import jax.numpy as jnp\n",
        "from jax import jit\n",
        "\n",
        "# Enable float64.\n",
        "jax.config.update(\"jax_enable_x64\", True)"
      ]
    },
    {
      "cell_type": "code",
      "source": [
        "print(f\"Python:{sys.version}\")\n",
        "print(f\"Numpy:{np.__version__}\")\n",
        "print(f\"JAX:{jax.__version__}\")"
      ],
      "metadata": {
        "colab": {
          "base_uri": "https://localhost:8080/"
        },
        "id": "rYYq_dYjnczL",
        "outputId": "ed03ab4d-4fec-4c64-e09f-7bd1c45f3624"
      },
      "execution_count": 2,
      "outputs": [
        {
          "output_type": "stream",
          "name": "stdout",
          "text": [
            "Python:3.10.12 (main, Jun 11 2023, 05:26:28) [GCC 11.4.0]\n",
            "Numpy:1.23.5\n",
            "JAX:0.4.16\n"
          ]
        }
      ]
    },
    {
      "cell_type": "markdown",
      "source": [
        "# 2. Examples"
      ],
      "metadata": {
        "id": "JZ1uZEZ_nlIy"
      }
    },
    {
      "cell_type": "code",
      "source": [
        "def example_fun1(length, val):\n",
        "    return jnp.ones([length,]) * val"
      ],
      "metadata": {
        "id": "YIsMfiosnmxx"
      },
      "execution_count": 3,
      "outputs": []
    },
    {
      "cell_type": "code",
      "source": [
        "print(example_fun1(10, 4))\n",
        "print(example_fun1(5, 4))"
      ],
      "metadata": {
        "colab": {
          "base_uri": "https://localhost:8080/"
        },
        "id": "7Ui3vANMpjmy",
        "outputId": "1b082b46-546a-48ed-e392-4ed32ca1ca7a"
      },
      "execution_count": 4,
      "outputs": [
        {
          "output_type": "stream",
          "name": "stderr",
          "text": [
            "WARNING:jax._src.xla_bridge:No GPU/TPU found, falling back to CPU. (Set TF_CPP_MIN_LOG_LEVEL=0 and rerun for more info.)\n"
          ]
        },
        {
          "output_type": "stream",
          "name": "stdout",
          "text": [
            "[4. 4. 4. 4. 4. 4. 4. 4. 4. 4.]\n",
            "[4. 4. 4. 4. 4.]\n"
          ]
        }
      ]
    },
    {
      "cell_type": "code",
      "source": [
        "example_jit1 = jit(example_fun1)\n",
        "# This will fail.\n",
        "try:\n",
        "    print(example_jit1(10, 4))\n",
        "except Exception as inst:\n",
        "    print(inst)"
      ],
      "metadata": {
        "colab": {
          "base_uri": "https://localhost:8080/"
        },
        "id": "5rEJ3ej6poy0",
        "outputId": "af1d6655-c30f-4e3a-e832-6eb956c20e07"
      },
      "execution_count": 5,
      "outputs": [
        {
          "output_type": "stream",
          "name": "stdout",
          "text": [
            "Shapes must be 1D sequences of concrete values of integer type, got [Traced<ShapedArray(int64[], weak_type=True)>with<DynamicJaxprTrace(level=1/0)>].\n",
            "If using `jit`, try using `static_argnums` or applying `jit` to smaller subfunctions.\n",
            "The error occurred while tracing the function example_fun1 at <ipython-input-3-afa096f8a3a6>:1 for jit. This concrete value was not available in Python because it depends on the value of the argument length.\n"
          ]
        }
      ]
    },
    {
      "cell_type": "code",
      "source": [
        "example_jit1 = jit(example_fun1, static_argnums=(0,))\n",
        "print(example_jit1(10, 4))\n",
        "print(example_jit1(5, 4))"
      ],
      "metadata": {
        "colab": {
          "base_uri": "https://localhost:8080/"
        },
        "id": "mGu-A5Wap44p",
        "outputId": "e82b7e43-c7b2-448c-d142-67f07d2abeff"
      },
      "execution_count": 6,
      "outputs": [
        {
          "output_type": "stream",
          "name": "stdout",
          "text": [
            "[4. 4. 4. 4. 4. 4. 4. 4. 4. 4.]\n",
            "[4. 4. 4. 4. 4.]\n"
          ]
        }
      ]
    },
    {
      "cell_type": "code",
      "source": [
        "def example_fun2(array, val):\n",
        "    return jnp.ones([array.shape[0],]) * val"
      ],
      "metadata": {
        "id": "xHcmthQeqMBE"
      },
      "execution_count": 7,
      "outputs": []
    },
    {
      "cell_type": "code",
      "source": [
        "arr = jnp.ones([10])\n",
        "print(example_fun2(arr, 4))\n",
        "print(example_fun2(arr[:5], 4))"
      ],
      "metadata": {
        "colab": {
          "base_uri": "https://localhost:8080/"
        },
        "id": "FeSm8ap8qTcC",
        "outputId": "fb4476c9-aefb-4053-ef1b-dca45da4a3b1"
      },
      "execution_count": 8,
      "outputs": [
        {
          "output_type": "stream",
          "name": "stdout",
          "text": [
            "[4. 4. 4. 4. 4. 4. 4. 4. 4. 4.]\n",
            "[4. 4. 4. 4. 4.]\n"
          ]
        }
      ]
    },
    {
      "cell_type": "code",
      "source": [
        "def example_fun3(array, val):\n",
        "    length = array.sum().astype(jnp.int32)\n",
        "    return jnp.ones([length,]) * val"
      ],
      "metadata": {
        "id": "-UCSGjOyqqY6"
      },
      "execution_count": 9,
      "outputs": []
    },
    {
      "cell_type": "code",
      "source": [
        "arr = jnp.ones([10])\n",
        "print(arr)\n",
        "print(example_fun3(arr, 4))\n",
        "\n",
        "arr = arr.at[5:].set(0)\n",
        "print(arr)\n",
        "print(example_fun3(arr, 4))"
      ],
      "metadata": {
        "colab": {
          "base_uri": "https://localhost:8080/"
        },
        "id": "1Q29y5gCrDEr",
        "outputId": "7acb5d58-aeec-43c8-a7cb-ee9884301853"
      },
      "execution_count": 10,
      "outputs": [
        {
          "output_type": "stream",
          "name": "stdout",
          "text": [
            "[1. 1. 1. 1. 1. 1. 1. 1. 1. 1.]\n",
            "[4. 4. 4. 4. 4. 4. 4. 4. 4. 4.]\n",
            "[1. 1. 1. 1. 1. 0. 0. 0. 0. 0.]\n",
            "[4. 4. 4. 4. 4.]\n"
          ]
        }
      ]
    },
    {
      "cell_type": "code",
      "source": [
        "arr = jnp.ones([10])\n",
        "example_jit3 = jit(example_fun3)\n",
        "# This will fail.\n",
        "try:\n",
        "    print(example_jit3(arr, 4))\n",
        "except Exception as inst:\n",
        "    print(inst)"
      ],
      "metadata": {
        "colab": {
          "base_uri": "https://localhost:8080/"
        },
        "id": "MiW2wGfbq4BC",
        "outputId": "9c753898-43ef-49e5-abe6-f92069663b3f"
      },
      "execution_count": 11,
      "outputs": [
        {
          "output_type": "stream",
          "name": "stdout",
          "text": [
            "Shapes must be 1D sequences of concrete values of integer type, got [Traced<ShapedArray(int32[])>with<DynamicJaxprTrace(level=1/0)>].\n",
            "If using `jit`, try using `static_argnums` or applying `jit` to smaller subfunctions.\n",
            "The error occurred while tracing the function example_fun3 at <ipython-input-9-00f5511bb8ac>:1 for jit. This concrete value was not available in Python because it depends on the value of the argument array.\n"
          ]
        }
      ]
    },
    {
      "cell_type": "code",
      "source": [
        "example_jit3 = jit(example_fun3, static_argnums=(0,))\n",
        "arr = jnp.ones([10])\n",
        "print(arr)\n",
        "# This will fail.\n",
        "try:\n",
        "    print(example_jit3(arr, 4))\n",
        "except Exception as inst:\n",
        "    print(inst)"
      ],
      "metadata": {
        "colab": {
          "base_uri": "https://localhost:8080/"
        },
        "id": "2Ej8sNrUsm6q",
        "outputId": "6a33b5d9-21fb-4dfb-e636-9386df304e4c"
      },
      "execution_count": 12,
      "outputs": [
        {
          "output_type": "stream",
          "name": "stdout",
          "text": [
            "[1. 1. 1. 1. 1. 1. 1. 1. 1. 1.]\n",
            "Non-hashable static arguments are not supported. An error occurred during a call to 'example_fun3' while trying to hash an object of type <class 'jaxlib.xla_extension.ArrayImpl'>, [1. 1. 1. 1. 1. 1. 1. 1. 1. 1.]. The error was:\n",
            "TypeError: unhashable type: 'ArrayImpl'\n",
            "\n"
          ]
        }
      ]
    },
    {
      "cell_type": "code",
      "source": [
        "from typing import Generic, TypeVar\n",
        "from functools import partial\n",
        "\n",
        "T = TypeVar('T')      # Declare type variable\n",
        "\n",
        "# Workaround to avoid unhashable error.\n",
        "# https://github.com/google/jax/issues/4572\n",
        "class HashableArrayWrapper(Generic[T]):\n",
        "    def __init__(self, val: T):\n",
        "        self.val = val\n",
        "\n",
        "    def __getattribute__(self, prop):\n",
        "        if prop == 'val' or prop == \"__hash__\" or prop == \"__eq__\":\n",
        "            return super(HashableArrayWrapper, self).__getattribute__(prop)\n",
        "        return getattr(self.val, prop)\n",
        "\n",
        "    def __getitem__(self, key):\n",
        "        return self.val[key]\n",
        "\n",
        "    def __setitem__(self, key, val):\n",
        "        self.val[key] = val\n",
        "\n",
        "    def __hash__(self):\n",
        "        return hash(self.val.tobytes())\n",
        "\n",
        "    def __eq__(self, other):\n",
        "        if isinstance(other, HashableArrayWrapper):\n",
        "            return self.__hash__() == other.__hash__()\n",
        "\n",
        "        f = getattr(self.val, \"__eq__\")\n",
        "        return f(self, other)"
      ],
      "metadata": {
        "id": "1ImtlpywsxuD"
      },
      "execution_count": 13,
      "outputs": []
    },
    {
      "cell_type": "code",
      "source": [
        "example_jit3 = jit(example_fun3, static_argnums=(0,))\n",
        "arr = jnp.ones([10])\n",
        "print(arr)\n",
        "# This will fail.\n",
        "try:\n",
        "    print(example_jit3(HashableArrayWrapper(arr), 4))\n",
        "except Exception as inst:\n",
        "    print(inst)"
      ],
      "metadata": {
        "colab": {
          "base_uri": "https://localhost:8080/"
        },
        "id": "vGXefzzwrZSq",
        "outputId": "c324416f-1772-4ef8-94f1-15a87437cf68"
      },
      "execution_count": 14,
      "outputs": [
        {
          "output_type": "stream",
          "name": "stdout",
          "text": [
            "[1. 1. 1. 1. 1. 1. 1. 1. 1. 1.]\n",
            "Shapes must be 1D sequences of concrete values of integer type, got [Traced<ShapedArray(int32[])>with<DynamicJaxprTrace(level=1/0)>].\n",
            "If using `jit`, try using `static_argnums` or applying `jit` to smaller subfunctions.\n",
            "The error occurred while tracing the function example_fun3 at <ipython-input-9-00f5511bb8ac>:1 for jit. This value became a tracer due to JAX operations on these lines:\n",
            "\n",
            "  operation a:f64[] = reduce_sum[axes=(0,)] b\n",
            "    from line <ipython-input-9-00f5511bb8ac>:2 (example_fun3)\n"
          ]
        }
      ]
    },
    {
      "cell_type": "code",
      "source": [
        "example_jit3 = jit(example_fun3, static_argnums=(0,))\n",
        "arr = np.ones([10])\n",
        "print(arr)\n",
        "print(example_jit3(HashableArrayWrapper(arr), 4))\n",
        "arr[5:] = 0\n",
        "print(example_jit3(HashableArrayWrapper(arr), 4))"
      ],
      "metadata": {
        "colab": {
          "base_uri": "https://localhost:8080/"
        },
        "id": "JOUojqrxwY_q",
        "outputId": "21312341-483b-4e57-9ee0-f204383e3837"
      },
      "execution_count": 15,
      "outputs": [
        {
          "output_type": "stream",
          "name": "stdout",
          "text": [
            "[1. 1. 1. 1. 1. 1. 1. 1. 1. 1.]\n",
            "[4. 4. 4. 4. 4. 4. 4. 4. 4. 4.]\n",
            "[4. 4. 4. 4. 4.]\n"
          ]
        }
      ]
    },
    {
      "cell_type": "code",
      "source": [
        "@jit\n",
        "def check(arr):\n",
        "    print(f\"x = {arr}\")\n",
        "    print(f\"x.shape = {arr.shape}\")\n",
        "    print(f\"x.sum() = {arr.sum()}\")\n",
        "    return arr.sum()\n",
        "\n",
        "print(\"Input jnp.array\")\n",
        "arr = jnp.ones([10])\n",
        "print(check(arr))\n",
        "print(\"Input jnp.array with same shape\")\n",
        "arr = jnp.ones([10])\n",
        "print(check(arr))\n",
        "print(\"Input jnp.array with different shape\")\n",
        "arr = jnp.ones([5])\n",
        "print(check(arr))\n",
        "print(\"Input np.array with different shape\")\n",
        "arr = np.ones([10])\n",
        "print(check(arr))"
      ],
      "metadata": {
        "colab": {
          "base_uri": "https://localhost:8080/"
        },
        "id": "lQZfzRYvxCaz",
        "outputId": "adaf7512-7765-4d02-b405-0bba35ac2b96"
      },
      "execution_count": 16,
      "outputs": [
        {
          "output_type": "stream",
          "name": "stdout",
          "text": [
            "Input jnp.array\n",
            "x = Traced<ShapedArray(float64[10])>with<DynamicJaxprTrace(level=1/0)>\n",
            "x.shape = (10,)\n",
            "x.sum() = Traced<ShapedArray(float64[])>with<DynamicJaxprTrace(level=1/0)>\n",
            "10.0\n",
            "Input jnp.array with same shape\n",
            "10.0\n",
            "Input jnp.array with different shape\n",
            "x = Traced<ShapedArray(float64[5])>with<DynamicJaxprTrace(level=1/0)>\n",
            "x.shape = (5,)\n",
            "x.sum() = Traced<ShapedArray(float64[])>with<DynamicJaxprTrace(level=1/0)>\n",
            "5.0\n",
            "Input np.array with different shape\n",
            "10.0\n"
          ]
        }
      ]
    }
  ]
}