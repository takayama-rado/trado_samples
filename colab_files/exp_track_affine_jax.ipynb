{
  "nbformat": 4,
  "nbformat_minor": 0,
  "metadata": {
    "colab": {
      "provenance": [],
      "authorship_tag": "ABX9TyNjX6S67A3c/HhKh4hZBXU4",
      "include_colab_link": true
    },
    "kernelspec": {
      "name": "python3",
      "display_name": "Python 3"
    },
    "language_info": {
      "name": "python"
    }
  },
  "cells": [
    {
      "cell_type": "markdown",
      "metadata": {
        "id": "view-in-github",
        "colab_type": "text"
      },
      "source": [
        "<a href=\"https://colab.research.google.com/github/takayama-rado/trado_samples/blob/main/colab_files/exp_track_affine_jax.ipynb\" target=\"_parent\"><img src=\"https://colab.research.google.com/assets/colab-badge.svg\" alt=\"Open In Colab\"/></a>"
      ]
    },
    {
      "cell_type": "markdown",
      "source": [
        "# 1. Load library"
      ],
      "metadata": {
        "id": "vzmxyTjH-Oke"
      }
    },
    {
      "cell_type": "code",
      "execution_count": null,
      "metadata": {
        "id": "kmLtZ6xq-LOX"
      },
      "outputs": [],
      "source": [
        "# Standard modules.\n",
        "import gc\n",
        "import sys\n",
        "import time\n",
        "from functools import partial\n",
        "\n",
        "# CV/ML.\n",
        "import numpy as np\n",
        "\n",
        "import jax\n",
        "import jax.numpy as jnp\n",
        "from jax import jit"
      ]
    },
    {
      "cell_type": "code",
      "source": [
        "print(f\"Python:{sys.version}\")\n",
        "print(f\"Numpy:{np.__version__}\")\n",
        "print(f\"JAX:{jax.__version__}\")"
      ],
      "metadata": {
        "colab": {
          "base_uri": "https://localhost:8080/"
        },
        "id": "aK_EVa5QgQSi",
        "outputId": "8aa7260c-46cb-4581-d1a7-5e46628846ba"
      },
      "execution_count": null,
      "outputs": [
        {
          "output_type": "stream",
          "name": "stdout",
          "text": [
            "Python:3.10.12 (main, Jun 11 2023, 05:26:28) [GCC 11.4.0]\n",
            "Numpy:1.23.5\n",
            "JAX:0.4.16\n"
          ]
        }
      ]
    },
    {
      "cell_type": "markdown",
      "source": [
        "# 2. Load data"
      ],
      "metadata": {
        "id": "PwGcCA84Crzu"
      }
    },
    {
      "cell_type": "code",
      "source": [
        "!wget https://github.com/takayama-rado/trado_samples/raw/main/test_data/finger_far0_non_static.npy"
      ],
      "metadata": {
        "colab": {
          "base_uri": "https://localhost:8080/"
        },
        "id": "U6C_RDznCtqu",
        "outputId": "ae56bf03-4098-417e-d543-39f7c32ee9e6"
      },
      "execution_count": null,
      "outputs": [
        {
          "output_type": "stream",
          "name": "stdout",
          "text": [
            "--2023-10-29 14:54:00--  https://github.com/takayama-rado/trado_samples/raw/main/test_data/finger_far0_non_static.npy\n",
            "Resolving github.com (github.com)... 140.82.114.3\n",
            "Connecting to github.com (github.com)|140.82.114.3|:443... connected.\n",
            "HTTP request sent, awaiting response... 302 Found\n",
            "Location: https://raw.githubusercontent.com/takayama-rado/trado_samples/main/test_data/finger_far0_non_static.npy [following]\n",
            "--2023-10-29 14:54:00--  https://raw.githubusercontent.com/takayama-rado/trado_samples/main/test_data/finger_far0_non_static.npy\n",
            "Resolving raw.githubusercontent.com (raw.githubusercontent.com)... 185.199.109.133, 185.199.108.133, 185.199.110.133, ...\n",
            "Connecting to raw.githubusercontent.com (raw.githubusercontent.com)|185.199.109.133|:443... connected.\n",
            "HTTP request sent, awaiting response... 200 OK\n",
            "Length: 2300608 (2.2M) [application/octet-stream]\n",
            "Saving to: ‘finger_far0_non_static.npy’\n",
            "\n",
            "finger_far0_non_sta 100%[===================>]   2.19M  --.-KB/s    in 0.09s   \n",
            "\n",
            "2023-10-29 14:54:01 (23.9 MB/s) - ‘finger_far0_non_static.npy’ saved [2300608/2300608]\n",
            "\n"
          ]
        }
      ]
    },
    {
      "cell_type": "code",
      "source": [
        "!wget https://github.com/takayama-rado/trado_samples/raw/main/test_data/finger_far0_non_static_affine.npy"
      ],
      "metadata": {
        "colab": {
          "base_uri": "https://localhost:8080/"
        },
        "id": "Givf9SjfCu_U",
        "outputId": "a3aaf5e9-f275-4ee3-c725-8064f1163518"
      },
      "execution_count": null,
      "outputs": [
        {
          "output_type": "stream",
          "name": "stdout",
          "text": [
            "--2023-10-29 14:54:01--  https://github.com/takayama-rado/trado_samples/raw/main/test_data/finger_far0_non_static_affine.npy\n",
            "Resolving github.com (github.com)... 140.82.113.3\n",
            "Connecting to github.com (github.com)|140.82.113.3|:443... connected.\n",
            "HTTP request sent, awaiting response... 302 Found\n",
            "Location: https://raw.githubusercontent.com/takayama-rado/trado_samples/main/test_data/finger_far0_non_static_affine.npy [following]\n",
            "--2023-10-29 14:54:01--  https://raw.githubusercontent.com/takayama-rado/trado_samples/main/test_data/finger_far0_non_static_affine.npy\n",
            "Resolving raw.githubusercontent.com (raw.githubusercontent.com)... 185.199.109.133, 185.199.108.133, 185.199.110.133, ...\n",
            "Connecting to raw.githubusercontent.com (raw.githubusercontent.com)|185.199.109.133|:443... connected.\n",
            "HTTP request sent, awaiting response... 200 OK\n",
            "Length: 2300608 (2.2M) [application/octet-stream]\n",
            "Saving to: ‘finger_far0_non_static_affine.npy’\n",
            "\n",
            "finger_far0_non_sta 100%[===================>]   2.19M  --.-KB/s    in 0.08s   \n",
            "\n",
            "2023-10-29 14:54:01 (27.9 MB/s) - ‘finger_far0_non_static_affine.npy’ saved [2300608/2300608]\n",
            "\n"
          ]
        }
      ]
    },
    {
      "cell_type": "code",
      "source": [
        "!ls"
      ],
      "metadata": {
        "colab": {
          "base_uri": "https://localhost:8080/"
        },
        "id": "9Qdd8kxLCwlM",
        "outputId": "d63c952b-ed0b-4786-c0b2-042f3289c5b4"
      },
      "execution_count": null,
      "outputs": [
        {
          "output_type": "stream",
          "name": "stdout",
          "text": [
            "finger_far0_non_static_affine.npy  finger_far0_non_static.npy  sample_data\n"
          ]
        }
      ]
    },
    {
      "cell_type": "markdown",
      "source": [
        "# 3. Evaluation settings"
      ],
      "metadata": {
        "id": "uPjBT5081o9U"
      }
    },
    {
      "cell_type": "code",
      "source": [
        "def get_perf_str(val):\n",
        "    token_si = [\"\", \"m\", \"µ\", \"n\", \"p\"]\n",
        "    exp_si = [1, 1e3, 1e6, 1e9, 1e12]\n",
        "    perf_str = f\"{val:3g}s\"\n",
        "    si = \"\"\n",
        "    sval = val\n",
        "    for token, exp in zip(token_si, exp_si):\n",
        "        if val * exp > 1.0:\n",
        "            si = token\n",
        "            sval = val * exp\n",
        "            break\n",
        "    perf_str = f\"{sval:3g}{si}s\"\n",
        "    return perf_str"
      ],
      "metadata": {
        "id": "aHi7dpx01sME"
      },
      "execution_count": null,
      "outputs": []
    },
    {
      "cell_type": "code",
      "source": [
        "def print_perf_time(intervals, top_k=None):\n",
        "    if top_k is not None:\n",
        "        intervals = np.sort(intervals)[:top_k]\n",
        "    min = intervals.min()\n",
        "    max = intervals.max()\n",
        "    mean = intervals.mean()\n",
        "    std = intervals.std()\n",
        "\n",
        "    smin = get_perf_str(min)\n",
        "    smax = get_perf_str(max)\n",
        "    mean = get_perf_str(mean)\n",
        "    std = get_perf_str(std)\n",
        "    if top_k:\n",
        "        print(f\"Top {top_k} summary: Max {smax}, Min {smin}, Mean +/- Std {mean} +/- {std}\")\n",
        "    else:\n",
        "        print(f\"Overall summary: Max {smax}, Min {smin}, Mean +/- Std {mean} +/- {std}\")"
      ],
      "metadata": {
        "id": "JrTGz-cd1t8L"
      },
      "execution_count": null,
      "outputs": []
    },
    {
      "cell_type": "code",
      "source": [
        "class PerfMeasure():\n",
        "    def __init__(self,\n",
        "                 trials=100,\n",
        "                 top_k=10):\n",
        "        self.trials = trials\n",
        "        self.top_k = top_k\n",
        "\n",
        "    def __call__(self, func):\n",
        "        gc.collect()\n",
        "        gc.disable()\n",
        "        intervals = []\n",
        "        for _ in range(self.trials):\n",
        "            start = time.perf_counter()\n",
        "            func()\n",
        "            end = time.perf_counter()\n",
        "            intervals.append(end - start)\n",
        "        intervals = np.array(intervals)\n",
        "        print_perf_time(intervals)\n",
        "        if self.top_k:\n",
        "            print_perf_time(intervals, self.top_k)\n",
        "        gc.enable()\n",
        "        gc.collect()"
      ],
      "metadata": {
        "id": "P4VtOBo21v1j"
      },
      "execution_count": null,
      "outputs": []
    },
    {
      "cell_type": "code",
      "source": [
        "TRIALS = 100\n",
        "TOPK = 10\n",
        "pmeasure = PerfMeasure(TRIALS, TOPK)"
      ],
      "metadata": {
        "id": "JHgJcVJX1xt1"
      },
      "execution_count": null,
      "outputs": []
    },
    {
      "cell_type": "markdown",
      "source": [
        "# 4. Implement affine transformation"
      ],
      "metadata": {
        "id": "mIi3DR0nCyat"
      }
    },
    {
      "cell_type": "markdown",
      "source": [
        "## 4.1 Based on define-by-run"
      ],
      "metadata": {
        "id": "XiYDcqB7C1Z0"
      }
    },
    {
      "cell_type": "code",
      "source": [
        "def get_affine_matrix_2d_jax(center,\n",
        "                             trans,\n",
        "                             scale,\n",
        "                             rot,\n",
        "                             skew,\n",
        "                             dtype=jnp.float32):\n",
        "    center_m = jnp.array([[1.0, 0.0, -center[0]],\n",
        "                          [0.0, 1.0, -center[1]],\n",
        "                          [0.0, 0.0, 1.0]])\n",
        "    scale_m = jnp.array([[scale[0], 0.0, 0.0],\n",
        "                         [0.0, scale[1], 0.0],\n",
        "                         [0.0, 0.0, 1.0]])\n",
        "    _cos = jnp.cos(rot)\n",
        "    _sin = jnp.sin(rot)\n",
        "    rot_m = jnp.array([[_cos, -_sin, 0.0],\n",
        "                       [_sin, _cos, 0],\n",
        "                       [0.0, 0.0, 1.0]])\n",
        "    _tan = jnp.tan(skew)\n",
        "    skew_m = jnp.array([[1.0, _tan[0], 0.0],\n",
        "                        [_tan[1], 1.0, 0.0],\n",
        "                        [0.0, 0.0, 1.0]])\n",
        "    move = jnp.array(center) + jnp.array(trans)\n",
        "    trans_m = jnp.array([[1.0, 0.0, move[0]],\n",
        "                         [0.0, 1.0, move[1]],\n",
        "                         [0.0, 0.0, 1.0]])\n",
        "    # Make affine matrix.\n",
        "    mat = jnp.identity(3, dtype=dtype)\n",
        "    mat = jnp.matmul(center_m, mat)\n",
        "    mat = jnp.matmul(scale_m, mat)\n",
        "    mat = jnp.matmul(rot_m, mat)\n",
        "    mat = jnp.matmul(skew_m, mat)\n",
        "    mat = jnp.matmul(trans_m, mat)\n",
        "    return mat.astype(dtype)"
      ],
      "metadata": {
        "id": "14FBL4_qC4pE"
      },
      "execution_count": null,
      "outputs": []
    },
    {
      "cell_type": "code",
      "source": [
        "def apply_affine_jax(inputs, mat):\n",
        "    # Apply transform.\n",
        "    xy = inputs[:, :, :2]\n",
        "    xy = jnp.concatenate([xy, np.ones([xy.shape[0], xy.shape[1], 1])], axis=-1)\n",
        "    xy = jnp.einsum(\"...j,ij\", xy, mat)\n",
        "    inputs = inputs.at[:, :, :2].set(xy[:, :, :-1])\n",
        "    return inputs"
      ],
      "metadata": {
        "id": "dKMzAV2KDAkl"
      },
      "execution_count": null,
      "outputs": []
    },
    {
      "cell_type": "code",
      "source": [
        "# Load data.\n",
        "trackfile = \"./finger_far0_non_static.npy\"\n",
        "reffile = \"./finger_far0_non_static_affine.npy\"\n",
        "trackdata = np.load(trackfile).astype(np.float32)\n",
        "refdata = np.load(reffile).astype(np.float32)\n",
        "print(trackdata.shape)\n",
        "\n",
        "# Remove person axis.\n",
        "trackdata = trackdata[0]\n",
        "refdata = refdata[0]\n",
        "\n",
        "# Convert to jnp.array\n",
        "trackdata = jnp.array(trackdata)\n",
        "refdata = jnp.array(refdata)"
      ],
      "metadata": {
        "colab": {
          "base_uri": "https://localhost:8080/"
        },
        "id": "AFlxRWtGDCs8",
        "outputId": "21e7d593-c16d-42c2-8ede-17078385cd82"
      },
      "execution_count": null,
      "outputs": [
        {
          "output_type": "stream",
          "name": "stdout",
          "text": [
            "(1, 130, 553, 4)\n"
          ]
        },
        {
          "output_type": "stream",
          "name": "stderr",
          "text": [
            "WARNING:jax._src.xla_bridge:No GPU/TPU found, falling back to CPU. (Set TF_CPP_MIN_LOG_LEVEL=0 and rerun for more info.)\n"
          ]
        }
      ]
    },
    {
      "cell_type": "code",
      "source": [
        " # Get affine matrix.\n",
        "center = jnp.array([638.0, 389.0])\n",
        "trans = jnp.array([100.0, 0.0])\n",
        "scale = jnp.array([2.0, 0.5])\n",
        "rot = float(jnp.radians(15.0))\n",
        "skew = jnp.radians(jnp.array([15.0, 15.0]))\n",
        "dtype = jnp.float32\n",
        "print(\"Parameters\")\n",
        "print(\"Center:\", center)\n",
        "print(\"Trans:\", trans)\n",
        "print(\"Scale:\", scale)\n",
        "print(\"Rot:\", rot)\n",
        "print(\"Skew:\", skew)"
      ],
      "metadata": {
        "colab": {
          "base_uri": "https://localhost:8080/"
        },
        "id": "Pz_5RkxFDSYU",
        "outputId": "13e456fa-3a6e-46ec-8a8d-648134d75cbd"
      },
      "execution_count": null,
      "outputs": [
        {
          "output_type": "stream",
          "name": "stdout",
          "text": [
            "Parameters\n",
            "Center: [638. 389.]\n",
            "Trans: [100.   0.]\n",
            "Scale: [2.  0.5]\n",
            "Rot: 0.2617993950843811\n",
            "Skew: [0.2617994 0.2617994]\n"
          ]
        }
      ]
    },
    {
      "cell_type": "code",
      "source": [
        "def perf_wrap_func(trackdata, center, trans, scale, rot, skew, dtype):\n",
        "    mat = get_affine_matrix_2d_jax(center, trans, scale, rot, skew, dtype=dtype)\n",
        "    newtrack = apply_affine_jax(trackdata, mat)"
      ],
      "metadata": {
        "id": "3oB1gCqs2Q08"
      },
      "execution_count": null,
      "outputs": []
    },
    {
      "cell_type": "code",
      "source": [
        "testtrack = trackdata.copy()\n",
        "\n",
        "# The 1st call may be slow because of the computation graph construction.\n",
        "print(f\"Time of first call.\")\n",
        "start = time.perf_counter()\n",
        "mat = get_affine_matrix_2d_jax(center, trans, scale, rot, skew, dtype=dtype)\n",
        "newtrack = apply_affine_jax(testtrack, mat)\n",
        "interval = time.perf_counter() - start\n",
        "print_perf_time(np.array([interval]))\n",
        "\n",
        "# Evaluate difference.\n",
        "diff = (jnp.round(newtrack) - jnp.round(refdata)).sum()\n",
        "print(f\"Sum of error:{diff}\")\n",
        "\n",
        "testtrack = trackdata.copy()\n",
        "\n",
        "print(\"Time after second call.\")\n",
        "target_fn = partial(perf_wrap_func,\n",
        "                    trackdata=testtrack,\n",
        "                    center=center, trans=trans, scale=scale, rot=rot, skew=skew,\n",
        "                    dtype=dtype)\n",
        "pmeasure(target_fn)"
      ],
      "metadata": {
        "colab": {
          "base_uri": "https://localhost:8080/"
        },
        "id": "ALHvm_WyDzyF",
        "outputId": "9075156e-8bc3-44a4-be35-42c2bbbbb4ee"
      },
      "execution_count": null,
      "outputs": [
        {
          "output_type": "stream",
          "name": "stdout",
          "text": [
            "Time of first call.\n",
            "Overall summary: Max 1.46884s, Min 1.46884s, Mean +/- Std 1.46884s +/-   0s\n",
            "Sum of error:0.0\n",
            "Time after second call.\n",
            "Overall summary: Max 87.0156ms, Min 26.5734ms, Mean +/- Std 40.7711ms +/- 13.631ms\n",
            "Top 10 summary: Max 29.1599ms, Min 26.5734ms, Mean +/- Std 28.3181ms +/- 820.411µs\n"
          ]
        }
      ]
    },
    {
      "cell_type": "code",
      "source": [
        "testtrack = trackdata.copy()\n",
        "\n",
        "# The 1st call may be slow because of the computation graph construction.\n",
        "print(f\"Time of first call.\")\n",
        "start = time.perf_counter()\n",
        "mat = get_affine_matrix_2d_jax(center, trans, scale, rot, skew, dtype=dtype)\n",
        "newtrack = apply_affine_jax(testtrack[:-1], mat)\n",
        "interval = time.perf_counter() - start\n",
        "print_perf_time(np.array([interval]))\n",
        "\n",
        "testtrack = trackdata.copy()\n",
        "\n",
        "print(\"Time after second call.\")\n",
        "target_fn = partial(perf_wrap_func,\n",
        "                    trackdata=testtrack[:-1],\n",
        "                    center=center, trans=trans, scale=scale, rot=rot, skew=skew,\n",
        "                    dtype=dtype)\n",
        "pmeasure(target_fn)"
      ],
      "metadata": {
        "colab": {
          "base_uri": "https://localhost:8080/"
        },
        "id": "yYCs7hGSD_jk",
        "outputId": "d34a2578-b97e-4b19-ef1c-ac1d19d5dbba"
      },
      "execution_count": null,
      "outputs": [
        {
          "output_type": "stream",
          "name": "stdout",
          "text": [
            "Time of first call.\n",
            "Overall summary: Max 312.092ms, Min 312.092ms, Mean +/- Std 312.092ms +/-   0s\n",
            "Time after second call.\n",
            "Overall summary: Max 95.1792ms, Min 16.7771ms, Mean +/- Std 23.5632ms +/- 14.0976ms\n",
            "Top 10 summary: Max 17.0601ms, Min 16.7771ms, Mean +/- Std 16.9517ms +/- 90.2716µs\n"
          ]
        }
      ]
    },
    {
      "cell_type": "markdown",
      "source": [
        "## 4.2 Based on define-and-run"
      ],
      "metadata": {
        "id": "a4LlPks5EFE0"
      }
    },
    {
      "cell_type": "code",
      "source": [
        "from typing import Generic, TypeVar\n",
        "\n",
        "T = TypeVar('T')      # Declare type variable\n",
        "\n",
        "# Workaround to avoid unhashable error.\n",
        "# https://github.com/google/jax/issues/4572\n",
        "class HashableArrayWrapper(Generic[T]):\n",
        "    def __init__(self, val: T):\n",
        "        self.val = val\n",
        "\n",
        "    def __getattribute__(self, prop):\n",
        "        if prop == 'val' or prop == \"__hash__\" or prop == \"__eq__\":\n",
        "            return super(HashableArrayWrapper, self).__getattribute__(prop)\n",
        "        return getattr(self.val, prop)\n",
        "\n",
        "    def __getitem__(self, key):\n",
        "        return self.val[key]\n",
        "\n",
        "    def __setitem__(self, key, val):\n",
        "        self.val[key] = val\n",
        "\n",
        "    def __hash__(self):\n",
        "        return hash(self.val.tobytes())\n",
        "\n",
        "    def __eq__(self, other):\n",
        "        if isinstance(other, HashableArrayWrapper):\n",
        "            return self.__hash__() == other.__hash__()\n",
        "\n",
        "        f = getattr(self.val, \"__eq__\")\n",
        "        return f(self, other)"
      ],
      "metadata": {
        "id": "32f0NfGaJJxt"
      },
      "execution_count": null,
      "outputs": []
    },
    {
      "cell_type": "code",
      "source": [
        "@jit\n",
        "def get_affine_matrix_2d_jax_jit(center,\n",
        "                                 trans,\n",
        "                                 scale,\n",
        "                                 rot,\n",
        "                                 skew):\n",
        "    center_m = jnp.array([[1.0, 0.0, -center[0]],\n",
        "                          [0.0, 1.0, -center[1]],\n",
        "                          [0.0, 0.0, 1.0]])\n",
        "    scale_m = jnp.array([[scale[0], 0.0, 0.0],\n",
        "                         [0.0, scale[1], 0.0],\n",
        "                         [0.0, 0.0, 1.0]])\n",
        "    _cos = jnp.cos(rot)\n",
        "    _sin = jnp.sin(rot)\n",
        "    rot_m = jnp.array([[_cos, -_sin, 0.0],\n",
        "                       [_sin, _cos, 0],\n",
        "                       [0.0, 0.0, 1.0]])\n",
        "    _tan = jnp.tan(skew)\n",
        "    skew_m = jnp.array([[1.0, _tan[0], 0.0],\n",
        "                        [_tan[1], 1.0, 0.0],\n",
        "                        [0.0, 0.0, 1.0]])\n",
        "    move = jnp.array(center) + jnp.array(trans)\n",
        "    trans_m = jnp.array([[1.0, 0.0, move[0]],\n",
        "                         [0.0, 1.0, move[1]],\n",
        "                         [0.0, 0.0, 1.0]])\n",
        "    # Make affine matrix.\n",
        "    mat = jnp.identity(3)\n",
        "    mat = jnp.matmul(center_m, mat)\n",
        "    mat = jnp.matmul(scale_m, mat)\n",
        "    mat = jnp.matmul(rot_m, mat)\n",
        "    mat = jnp.matmul(skew_m, mat)\n",
        "    mat = jnp.matmul(trans_m, mat)\n",
        "    return mat"
      ],
      "metadata": {
        "id": "7cDY83K-EHnl"
      },
      "execution_count": null,
      "outputs": []
    },
    {
      "cell_type": "code",
      "source": [
        "@partial(jit, static_argnums=(0,))\n",
        "def apply_affine_jax_jit(inputs, mat):\n",
        "    # Apply transform.\n",
        "    xy = inputs[:, :, :2]\n",
        "    xy = jnp.concatenate([xy, np.ones([xy.shape[0], xy.shape[1], 1])], axis=-1)\n",
        "    xy = jnp.einsum(\"...j,ij\", xy, mat)\n",
        "    inputs = inputs.at[:, :, :2].set(xy[:, :, :-1])\n",
        "    return inputs"
      ],
      "metadata": {
        "id": "NKlCqVT3ENWU"
      },
      "execution_count": null,
      "outputs": []
    },
    {
      "cell_type": "code",
      "source": [
        "def perf_wrap_func(trackdata, center, trans, scale, rot, skew):\n",
        "    mat = get_affine_matrix_2d_jax_jit(center, trans, scale, rot, skew)\n",
        "    newtrack = apply_affine_jax_jit(trackdata, mat)"
      ],
      "metadata": {
        "id": "nBARUsGR3ETL"
      },
      "execution_count": null,
      "outputs": []
    },
    {
      "cell_type": "code",
      "source": [
        "testtrack = trackdata.copy()\n",
        "\n",
        "# The 1st call may be slow because of the computation graph construction.\n",
        "print(f\"Time of first call.\")\n",
        "start = time.perf_counter()\n",
        "mat = get_affine_matrix_2d_jax_jit(center, trans, scale, rot, skew)\n",
        "newtrack = apply_affine_jax_jit(HashableArrayWrapper(testtrack), mat)\n",
        "interval = time.perf_counter() - start\n",
        "print_perf_time(np.array([interval]))\n",
        "\n",
        "# Evaluate difference.\n",
        "diff = (jnp.round(newtrack) - jnp.round(refdata)).sum()\n",
        "print(f\"Sum of error:{diff}\")\n",
        "\n",
        "testtrack = trackdata.copy()\n",
        "\n",
        "print(\"Time after second call.\")\n",
        "target_fn = partial(perf_wrap_func,\n",
        "                    trackdata=HashableArrayWrapper(testtrack),\n",
        "                    center=center, trans=trans, scale=scale, rot=rot, skew=skew)\n",
        "pmeasure(target_fn)"
      ],
      "metadata": {
        "colab": {
          "base_uri": "https://localhost:8080/"
        },
        "id": "eUF6tnhNESpN",
        "outputId": "755833ec-3f76-41fe-d5a3-df22a7c41999"
      },
      "execution_count": null,
      "outputs": [
        {
          "output_type": "stream",
          "name": "stdout",
          "text": [
            "Time of first call.\n",
            "Overall summary: Max 254.097ms, Min 254.097ms, Mean +/- Std 254.097ms +/-   0s\n",
            "Sum of error:0.0\n",
            "Time after second call.\n",
            "Overall summary: Max 5.77369ms, Min 3.18205ms, Mean +/- Std 3.50642ms +/- 522.692µs\n",
            "Top 10 summary: Max 3.24891ms, Min 3.18205ms, Mean +/- Std 3.22738ms +/- 20.4348µs\n"
          ]
        }
      ]
    },
    {
      "cell_type": "code",
      "source": [
        "testtrack = trackdata.copy()\n",
        "\n",
        "# The 1st call may be slow because of the computation graph construction.\n",
        "print(f\"Time of first call.\")\n",
        "start = time.perf_counter()\n",
        "mat = get_affine_matrix_2d_jax_jit(center, trans, scale, rot, skew)\n",
        "newtrack = apply_affine_jax_jit(HashableArrayWrapper(testtrack[:-1]), mat)\n",
        "interval = time.perf_counter() - start\n",
        "print_perf_time(np.array([interval]))\n",
        "\n",
        "# Evaluate difference.\n",
        "diff = (jnp.round(newtrack) - jnp.round(refdata[:-1])).sum()\n",
        "print(f\"Sum of error:{diff}\")\n",
        "\n",
        "testtrack = trackdata.copy()\n",
        "\n",
        "print(\"Time after second call.\")\n",
        "target_fn = partial(perf_wrap_func,\n",
        "                    trackdata=HashableArrayWrapper(testtrack[:-1]),\n",
        "                    center=center, trans=trans, scale=scale, rot=rot, skew=skew)\n",
        "pmeasure(target_fn)"
      ],
      "metadata": {
        "colab": {
          "base_uri": "https://localhost:8080/"
        },
        "id": "lxsNz1q_EVFs",
        "outputId": "eef6b4ed-23d6-47fe-a276-759189816108"
      },
      "execution_count": null,
      "outputs": [
        {
          "output_type": "stream",
          "name": "stdout",
          "text": [
            "Time of first call.\n",
            "Overall summary: Max 150.227ms, Min 150.227ms, Mean +/- Std 150.227ms +/-   0s\n",
            "Sum of error:0.0\n",
            "Time after second call.\n",
            "Overall summary: Max 5.44794ms, Min 3.16194ms, Mean +/- Std 3.48681ms +/- 479.653µs\n",
            "Top 10 summary: Max 3.19815ms, Min 3.16194ms, Mean +/- Std 3.18615ms +/- 9.74666µs\n"
          ]
        }
      ]
    },
    {
      "cell_type": "markdown",
      "source": [
        "# 5. Application to randomized transformation"
      ],
      "metadata": {
        "id": "PMWHRUhdEat9"
      }
    },
    {
      "cell_type": "markdown",
      "source": [
        "## 5.1 Implement1: Call JIT function from a python process."
      ],
      "metadata": {
        "id": "85QGX7-hEqld"
      }
    },
    {
      "cell_type": "code",
      "source": [
        "class RandomAffineTransform2D_JAX():\n",
        "    def __init__(self,\n",
        "                 center_joints,\n",
        "                 apply_ratio,\n",
        "                 trans_range,\n",
        "                 scale_range,\n",
        "                 rot_range,\n",
        "                 skew_range,\n",
        "                 random_seed=None):\n",
        "        self.center_joints = center_joints\n",
        "        self.apply_ratio = apply_ratio\n",
        "        self.trans_range = trans_range\n",
        "        self.scale_range = scale_range\n",
        "        self.rot_range = jnp.radians(jnp.array(rot_range))\n",
        "        self.skew_range = jnp.radians(jnp.array(skew_range))\n",
        "        if random_seed is not None:\n",
        "            self.rng = jax.random.PRNGKey(random_seed)\n",
        "        else:\n",
        "            self.rng = jax.random.PRNGKey(0)\n",
        "\n",
        "    def gen_uniform_and_update_key(self, low=0.0, high=1.0, shape=(1,)):\n",
        "        # Generate random value.\n",
        "        val = jax.random.uniform(self.rng, shape)\n",
        "        # Scale to target range.\n",
        "        val = (high - low) * val + low\n",
        "        # Update key.\n",
        "        self.rng = jax.random.split(self.rng, num=1)[0]\n",
        "        return val\n",
        "\n",
        "    def __call__(self, inputs):\n",
        "        if self.gen_uniform_and_update_key() >= self.apply_ratio:\n",
        "            return inputs\n",
        "\n",
        "        # Calculate center position.\n",
        "        temp = inputs[:, self.center_joints, :]\n",
        "        temp = temp.reshape([inputs.shape[0], -1, inputs.shape[-1]])\n",
        "        mask = jnp.sum(temp, axis=(1, 2)) != 0\n",
        "        # Use x and y only.\n",
        "        center = temp[mask].mean(axis=0).mean(axis=0)[:2]\n",
        "\n",
        "        trans = self.gen_uniform_and_update_key(\n",
        "            self.trans_range[0], self.trans_range[1], (2,))\n",
        "        scale = self.gen_uniform_and_update_key(\n",
        "            self.scale_range[0], self.scale_range[1], (2,))\n",
        "        rot = self.gen_uniform_and_update_key(\n",
        "            self.rot_range[0], self.rot_range[1], (1,))[0]\n",
        "        skew = self.gen_uniform_and_update_key(\n",
        "            self.skew_range[0], self.skew_range[1], (2,))\n",
        "\n",
        "        # Calculate matrix.\n",
        "        mat = get_affine_matrix_2d_jax_jit(center, trans, scale, rot, skew)\n",
        "\n",
        "        # Apply transform.\n",
        "        inputs = apply_affine_jax_jit(inputs, mat)\n",
        "        return inputs"
      ],
      "metadata": {
        "id": "nBHwhtZREv48"
      },
      "execution_count": null,
      "outputs": []
    },
    {
      "cell_type": "code",
      "source": [
        "aug_fn = RandomAffineTransform2D_JAX(\n",
        "    center_joints=[11, 12],\n",
        "    apply_ratio=1.0,\n",
        "    trans_range=[-100.0, 100.0],\n",
        "    scale_range=[0.5, 2.0],\n",
        "    rot_range=[-30.0, 30.0],\n",
        "    skew_range=[-30.0, 30.0])"
      ],
      "metadata": {
        "id": "-6nqa0dcFlcF"
      },
      "execution_count": null,
      "outputs": []
    },
    {
      "cell_type": "code",
      "source": [
        "testtrack = trackdata.copy()\n",
        "\n",
        "# The 1st call may be slow because of the computation graph construction.\n",
        "print(f\"Time of first call.\")\n",
        "start = time.perf_counter()\n",
        "temp = aug_fn(HashableArrayWrapper(testtrack))\n",
        "interval = time.perf_counter() - start\n",
        "print_perf_time(np.array([interval]))\n",
        "\n",
        "testtrack = trackdata.copy()\n",
        "print(\"Time after second call.\")\n",
        "target_fn = partial(aug_fn, inputs=HashableArrayWrapper(testtrack))\n",
        "pmeasure(target_fn)"
      ],
      "metadata": {
        "colab": {
          "base_uri": "https://localhost:8080/"
        },
        "id": "k0lWiwhdFqdd",
        "outputId": "709c2fc5-27eb-4a4e-d9e1-b4fe01457ef1"
      },
      "execution_count": null,
      "outputs": [
        {
          "output_type": "stream",
          "name": "stdout",
          "text": [
            "Time of first call.\n",
            "Overall summary: Max 996.023ms, Min 996.023ms, Mean +/- Std 996.023ms +/-   0s\n",
            "Time after second call.\n",
            "Overall summary: Max 16.6225ms, Min 9.23171ms, Mean +/- Std 10.4788ms +/- 1.33185ms\n",
            "Top 10 summary: Max 9.68396ms, Min 9.23171ms, Mean +/- Std 9.53037ms +/- 137.451µs\n"
          ]
        }
      ]
    },
    {
      "cell_type": "code",
      "source": [
        "testtrack = trackdata.copy()\n",
        "\n",
        "# The 1st call may be slow because of the computation graph construction.\n",
        "print(f\"Time of first call.\")\n",
        "start = time.perf_counter()\n",
        "temp = aug_fn(HashableArrayWrapper(testtrack[:-1]))\n",
        "interval = time.perf_counter() - start\n",
        "print_perf_time(np.array([interval]))\n",
        "\n",
        "testtrack = trackdata.copy()\n",
        "print(\"Time after second call.\")\n",
        "target_fn = partial(aug_fn, inputs=HashableArrayWrapper(testtrack[:-1]))\n",
        "pmeasure(target_fn)"
      ],
      "metadata": {
        "colab": {
          "base_uri": "https://localhost:8080/"
        },
        "id": "qrZjonzVF2x-",
        "outputId": "3ef9f6ad-0b0a-41ac-863b-6a7dabc6d68e"
      },
      "execution_count": null,
      "outputs": [
        {
          "output_type": "stream",
          "name": "stdout",
          "text": [
            "Time of first call.\n",
            "Overall summary: Max 263.907ms, Min 263.907ms, Mean +/- Std 263.907ms +/-   0s\n",
            "Time after second call.\n",
            "Overall summary: Max 15.4801ms, Min 8.98136ms, Mean +/- Std 10.2912ms +/- 1.35725ms\n",
            "Top 10 summary: Max 9.38496ms, Min 8.98136ms, Mean +/- Std 9.23324ms +/- 118.522µs\n"
          ]
        }
      ]
    },
    {
      "cell_type": "markdown",
      "source": [
        "## 5.2 Implementation2: Apply JIT to whole affine process."
      ],
      "metadata": {
        "id": "td9W3uXyGBeu"
      }
    },
    {
      "cell_type": "code",
      "source": [
        "class RandomAffineTransform2D_JAX_JIT():\n",
        "    def __init__(self,\n",
        "                 center_joints,\n",
        "                 apply_ratio,\n",
        "                 trans_range,\n",
        "                 scale_range,\n",
        "                 rot_range,\n",
        "                 skew_range,\n",
        "                 random_seed=None,\n",
        "                 dtype=np.float32):\n",
        "        self.center_joints = center_joints\n",
        "        self.apply_ratio = apply_ratio\n",
        "        self.trans_range = trans_range\n",
        "        self.scale_range = scale_range\n",
        "        self.rot_range = jnp.radians(jnp.array(rot_range))\n",
        "        self.skew_range = jnp.radians(jnp.array(skew_range))\n",
        "        self.dtype = dtype\n",
        "        if random_seed is not None:\n",
        "            self.rng = jax.random.PRNGKey(random_seed)\n",
        "        else:\n",
        "            self.rng = jax.random.PRNGKey(0)\n",
        "\n",
        "    def gen_uniform_and_update_key(self, rng, low=0.0, high=1.0, shape=(2,)):\n",
        "        # Generate random value.\n",
        "        val = jax.random.uniform(rng, shape)\n",
        "        # Scale to target range.\n",
        "        val = (high - low) * val + low\n",
        "        # Update key.\n",
        "        rng = jax.random.split(rng, num=1)[0]\n",
        "        return val, rng\n",
        "\n",
        "    def apply(self, inputs, rng):\n",
        "        # Calculate center position.\n",
        "        temp = inputs[:, self.center_joints, :]\n",
        "        temp = temp.reshape([inputs.shape[0], -1, inputs.shape[-1]])\n",
        "        mask = jnp.sum(temp, axis=(1, 2)) != 0\n",
        "        mask = mask.astype(self.dtype)\n",
        "\n",
        "        temp = temp * mask[:, None, None]\n",
        "        mask_sum = jnp.sum(mask)\n",
        "        # `[T, J, C] -> [J, C] -> [C]`\n",
        "        center = temp.sum(axis=0) / mask_sum\n",
        "        center = center.mean(axis=0)\n",
        "        # Use x and y only.\n",
        "        center = center[:2]\n",
        "\n",
        "        trans, rng = self.gen_uniform_and_update_key(rng,\n",
        "            self.trans_range[0], self.trans_range[1], (2,))\n",
        "        scale, rng = self.gen_uniform_and_update_key(rng,\n",
        "            self.scale_range[0], self.scale_range[1], (2,))\n",
        "        rot, rng = self.gen_uniform_and_update_key(rng,\n",
        "            self.rot_range[0], self.rot_range[1], (2,))\n",
        "        rot = rot[0]\n",
        "        skew, rng = self.gen_uniform_and_update_key(rng,\n",
        "            self.skew_range[0], self.skew_range[1], (2,))\n",
        "\n",
        "        # Calculate matrix.\n",
        "        mat = get_affine_matrix_2d_jax_jit(center, trans, scale, rot, skew)\n",
        "\n",
        "        # Apply transform.\n",
        "        inputs = apply_affine_jax_jit(inputs, mat)\n",
        "        return inputs, rng\n",
        "\n",
        "    @partial(jit, static_argnums=(0,))\n",
        "    def affine_proc(self, inputs, rng):\n",
        "        val, rng = self.gen_uniform_and_update_key(rng)\n",
        "        retval, rng = jax.lax.cond(\n",
        "            (val >= self.apply_ratio).astype(jnp.int32)[0],\n",
        "            lambda: (inputs, rng),\n",
        "            lambda: self.apply(inputs, rng))\n",
        "        return retval, rng\n",
        "\n",
        "    def __call__(self, inputs):\n",
        "        rng = self.rng\n",
        "        retval, rng = self.affine_proc(inputs, rng)\n",
        "        self.rng = rng\n",
        "        return retval"
      ],
      "metadata": {
        "id": "CFS-_VraGVnV"
      },
      "execution_count": null,
      "outputs": []
    },
    {
      "cell_type": "code",
      "source": [
        "aug_fn = RandomAffineTransform2D_JAX_JIT(\n",
        "    center_joints=[11, 12],\n",
        "    apply_ratio=1.0,\n",
        "    trans_range=[-100.0, 100.0],\n",
        "    scale_range=[0.5, 2.0],\n",
        "    rot_range=[-30.0, 30.0],\n",
        "    skew_range=[-30.0, 30.0],\n",
        "    dtype=dtype)"
      ],
      "metadata": {
        "id": "3zX82JeDGhnl"
      },
      "execution_count": null,
      "outputs": []
    },
    {
      "cell_type": "code",
      "source": [
        "testtrack = trackdata.copy()\n",
        "\n",
        "# The 1st call may be slow because of the computation graph construction.\n",
        "print(f\"Time of first call.\")\n",
        "start = time.perf_counter()\n",
        "temp = aug_fn(testtrack)\n",
        "interval = time.perf_counter() - start\n",
        "print_perf_time(np.array([interval]))\n",
        "\n",
        "testtrack = trackdata.copy()\n",
        "print(\"Time after second call.\")\n",
        "target_fn = partial(aug_fn, inputs=testtrack)\n",
        "pmeasure(target_fn)"
      ],
      "metadata": {
        "colab": {
          "base_uri": "https://localhost:8080/"
        },
        "id": "o_SfmiaeGn1P",
        "outputId": "a2b66432-b738-4592-ab46-fe1a6ff96b9c"
      },
      "execution_count": null,
      "outputs": [
        {
          "output_type": "stream",
          "name": "stdout",
          "text": [
            "Time of first call.\n",
            "Overall summary: Max 778.864ms, Min 778.864ms, Mean +/- Std 778.864ms +/-   0s\n",
            "Time after second call.\n",
            "Overall summary: Max 2.15783ms, Min 648.723µs, Mean +/- Std 698.451µs +/- 151.047µs\n",
            "Top 10 summary: Max 660.37µs, Min 648.723µs, Mean +/- Std 657.38µs +/- 3.16729µs\n"
          ]
        }
      ]
    },
    {
      "cell_type": "code",
      "source": [
        "testtrack = trackdata.copy()\n",
        "\n",
        "# The 1st call may be slow because of the computation graph construction.\n",
        "print(f\"Time of first call.\")\n",
        "start = time.perf_counter()\n",
        "temp = aug_fn(testtrack[:-1])\n",
        "interval = time.perf_counter() - start\n",
        "print_perf_time(np.array([interval]))\n",
        "\n",
        "testtrack = trackdata.copy()\n",
        "print(\"Time after second call.\")\n",
        "target_fn = partial(aug_fn, inputs=testtrack[:-1])\n",
        "pmeasure(target_fn)"
      ],
      "metadata": {
        "colab": {
          "base_uri": "https://localhost:8080/"
        },
        "id": "zW4xa-8mGqIG",
        "outputId": "d26e5beb-9b72-40e9-e6dc-1a9dba937bd8"
      },
      "execution_count": null,
      "outputs": [
        {
          "output_type": "stream",
          "name": "stdout",
          "text": [
            "Time of first call.\n",
            "Overall summary: Max 756.876ms, Min 756.876ms, Mean +/- Std 756.876ms +/-   0s\n",
            "Time after second call.\n",
            "Overall summary: Max 1.28353ms, Min 649.989µs, Mean +/- Std 689.519µs +/- 68.2422µs\n",
            "Top 10 summary: Max 659.273µs, Min 649.989µs, Mean +/- Std 655.509µs +/- 2.84769µs\n"
          ]
        }
      ]
    }
  ]
}