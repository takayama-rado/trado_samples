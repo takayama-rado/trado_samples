{
  "nbformat": 4,
  "nbformat_minor": 0,
  "metadata": {
    "colab": {
      "provenance": [],
      "authorship_tag": "ABX9TyM8m2a7mSC1OngHHyODH9qK",
      "include_colab_link": true
    },
    "kernelspec": {
      "name": "python3",
      "display_name": "Python 3"
    },
    "language_info": {
      "name": "python"
    }
  },
  "cells": [
    {
      "cell_type": "markdown",
      "metadata": {
        "id": "view-in-github",
        "colab_type": "text"
      },
      "source": [
        "<a href=\"https://colab.research.google.com/github/takayama-rado/trado_samples/blob/main/colab_files/exp_track_affine_jax.ipynb\" target=\"_parent\"><img src=\"https://colab.research.google.com/assets/colab-badge.svg\" alt=\"Open In Colab\"/></a>"
      ]
    },
    {
      "cell_type": "markdown",
      "source": [
        "# 1. Load library"
      ],
      "metadata": {
        "id": "vzmxyTjH-Oke"
      }
    },
    {
      "cell_type": "code",
      "execution_count": 1,
      "metadata": {
        "id": "kmLtZ6xq-LOX"
      },
      "outputs": [],
      "source": [
        "# Standard modules.\n",
        "import sys\n",
        "import time\n",
        "from functools import partial\n",
        "from pathlib import Path\n",
        "\n",
        "# CV/ML.\n",
        "import numpy as np\n",
        "\n",
        "import jax\n",
        "import jax.numpy as jnp\n",
        "from jax import jit"
      ]
    },
    {
      "cell_type": "code",
      "source": [
        "print(f\"Python:{sys.version}\")\n",
        "print(f\"Numpy:{np.__version__}\")\n",
        "print(f\"JAX:{jax.__version__}\")"
      ],
      "metadata": {
        "colab": {
          "base_uri": "https://localhost:8080/"
        },
        "id": "aK_EVa5QgQSi",
        "outputId": "6bf494ca-45c2-46fe-b76a-8820c537402d"
      },
      "execution_count": 2,
      "outputs": [
        {
          "output_type": "stream",
          "name": "stdout",
          "text": [
            "Python:3.10.12 (main, Jun 11 2023, 05:26:28) [GCC 11.4.0]\n",
            "Numpy:1.23.5\n",
            "JAX:0.4.16\n"
          ]
        }
      ]
    },
    {
      "cell_type": "markdown",
      "source": [
        "# 2. Load data"
      ],
      "metadata": {
        "id": "PwGcCA84Crzu"
      }
    },
    {
      "cell_type": "code",
      "source": [
        "!wget https://github.com/takayama-rado/trado_samples/raw/main/test_data/finger_far0_non_static.npy"
      ],
      "metadata": {
        "colab": {
          "base_uri": "https://localhost:8080/"
        },
        "id": "U6C_RDznCtqu",
        "outputId": "682fbe8c-5c36-4dd5-b9c2-be92ce92f354"
      },
      "execution_count": 3,
      "outputs": [
        {
          "output_type": "stream",
          "name": "stdout",
          "text": [
            "--2023-10-17 02:43:43--  https://github.com/takayama-rado/trado_samples/raw/main/test_data/finger_far0_non_static.npy\n",
            "Resolving github.com (github.com)... 140.82.114.3\n",
            "Connecting to github.com (github.com)|140.82.114.3|:443... connected.\n",
            "HTTP request sent, awaiting response... 302 Found\n",
            "Location: https://raw.githubusercontent.com/takayama-rado/trado_samples/main/test_data/finger_far0_non_static.npy [following]\n",
            "--2023-10-17 02:43:43--  https://raw.githubusercontent.com/takayama-rado/trado_samples/main/test_data/finger_far0_non_static.npy\n",
            "Resolving raw.githubusercontent.com (raw.githubusercontent.com)... 185.199.108.133, 185.199.109.133, 185.199.110.133, ...\n",
            "Connecting to raw.githubusercontent.com (raw.githubusercontent.com)|185.199.108.133|:443... connected.\n",
            "HTTP request sent, awaiting response... 200 OK\n",
            "Length: 2300608 (2.2M) [application/octet-stream]\n",
            "Saving to: ‘finger_far0_non_static.npy’\n",
            "\n",
            "finger_far0_non_sta 100%[===================>]   2.19M  --.-KB/s    in 0.07s   \n",
            "\n",
            "2023-10-17 02:43:43 (30.9 MB/s) - ‘finger_far0_non_static.npy’ saved [2300608/2300608]\n",
            "\n"
          ]
        }
      ]
    },
    {
      "cell_type": "code",
      "source": [
        "!wget https://github.com/takayama-rado/trado_samples/raw/main/test_data/finger_far0_non_static_affine.npy"
      ],
      "metadata": {
        "colab": {
          "base_uri": "https://localhost:8080/"
        },
        "id": "Givf9SjfCu_U",
        "outputId": "af54354e-65c2-417e-ec02-e559076b736c"
      },
      "execution_count": 4,
      "outputs": [
        {
          "output_type": "stream",
          "name": "stdout",
          "text": [
            "--2023-10-17 02:43:43--  https://github.com/takayama-rado/trado_samples/raw/main/test_data/finger_far0_non_static_affine.npy\n",
            "Resolving github.com (github.com)... 140.82.113.4\n",
            "Connecting to github.com (github.com)|140.82.113.4|:443... connected.\n",
            "HTTP request sent, awaiting response... 302 Found\n",
            "Location: https://raw.githubusercontent.com/takayama-rado/trado_samples/main/test_data/finger_far0_non_static_affine.npy [following]\n",
            "--2023-10-17 02:43:43--  https://raw.githubusercontent.com/takayama-rado/trado_samples/main/test_data/finger_far0_non_static_affine.npy\n",
            "Resolving raw.githubusercontent.com (raw.githubusercontent.com)... 185.199.108.133, 185.199.109.133, 185.199.110.133, ...\n",
            "Connecting to raw.githubusercontent.com (raw.githubusercontent.com)|185.199.108.133|:443... connected.\n",
            "HTTP request sent, awaiting response... 200 OK\n",
            "Length: 2300608 (2.2M) [application/octet-stream]\n",
            "Saving to: ‘finger_far0_non_static_affine.npy’\n",
            "\n",
            "finger_far0_non_sta 100%[===================>]   2.19M  --.-KB/s    in 0.07s   \n",
            "\n",
            "2023-10-17 02:43:44 (32.2 MB/s) - ‘finger_far0_non_static_affine.npy’ saved [2300608/2300608]\n",
            "\n"
          ]
        }
      ]
    },
    {
      "cell_type": "code",
      "source": [
        "!ls"
      ],
      "metadata": {
        "colab": {
          "base_uri": "https://localhost:8080/"
        },
        "id": "9Qdd8kxLCwlM",
        "outputId": "7ce48559-c041-4cc9-8449-6165567ceb4f"
      },
      "execution_count": 5,
      "outputs": [
        {
          "output_type": "stream",
          "name": "stdout",
          "text": [
            "finger_far0_non_static_affine.npy  finger_far0_non_static.npy  sample_data\n"
          ]
        }
      ]
    },
    {
      "cell_type": "markdown",
      "source": [
        "# 3. Implement affine transformation"
      ],
      "metadata": {
        "id": "mIi3DR0nCyat"
      }
    },
    {
      "cell_type": "markdown",
      "source": [
        "## 3.1 Based on define-by-run"
      ],
      "metadata": {
        "id": "XiYDcqB7C1Z0"
      }
    },
    {
      "cell_type": "code",
      "source": [
        "def get_affine_matrix_2d_jax(center,\n",
        "                             trans,\n",
        "                             scale,\n",
        "                             rot,\n",
        "                             skew,\n",
        "                             dtype=jnp.float32):\n",
        "    center_m = jnp.array([[1.0, 0.0, -center[0]],\n",
        "                          [0.0, 1.0, -center[1]],\n",
        "                          [0.0, 0.0, 1.0]])\n",
        "    scale_m = jnp.array([[scale[0], 0.0, 0.0],\n",
        "                         [0.0, scale[1], 0.0],\n",
        "                         [0.0, 0.0, 1.0]])\n",
        "    _cos = jnp.cos(rot)\n",
        "    _sin = jnp.sin(rot)\n",
        "    rot_m = jnp.array([[_cos, -_sin, 0.0],\n",
        "                       [_sin, _cos, 0],\n",
        "                       [0.0, 0.0, 1.0]])\n",
        "    _tan = jnp.tan(skew)\n",
        "    skew_m = jnp.array([[1.0, _tan[0], 0.0],\n",
        "                        [_tan[1], 1.0, 0.0],\n",
        "                        [0.0, 0.0, 1.0]])\n",
        "    move = jnp.array(center) + jnp.array(trans)\n",
        "    trans_m = jnp.array([[1.0, 0.0, move[0]],\n",
        "                         [0.0, 1.0, move[1]],\n",
        "                         [0.0, 0.0, 1.0]])\n",
        "    # Make affine matrix.\n",
        "    mat = jnp.identity(3, dtype=dtype)\n",
        "    mat = jnp.matmul(center_m, mat)\n",
        "    mat = jnp.matmul(scale_m, mat)\n",
        "    mat = jnp.matmul(rot_m, mat)\n",
        "    mat = jnp.matmul(skew_m, mat)\n",
        "    mat = jnp.matmul(trans_m, mat)\n",
        "    return mat.astype(dtype)"
      ],
      "metadata": {
        "id": "14FBL4_qC4pE"
      },
      "execution_count": 6,
      "outputs": []
    },
    {
      "cell_type": "code",
      "source": [
        "def apply_affine_jax(inputs, mat):\n",
        "    # Apply transform.\n",
        "    xy = inputs[:, :, :2]\n",
        "    xy = jnp.concatenate([xy, np.ones([xy.shape[0], xy.shape[1], 1])], axis=-1)\n",
        "    xy = jnp.einsum(\"...j,ij\", xy, mat)\n",
        "    inputs = inputs.at[:, :, :2].set(xy[:, :, :-1])\n",
        "    return inputs"
      ],
      "metadata": {
        "id": "dKMzAV2KDAkl"
      },
      "execution_count": 7,
      "outputs": []
    },
    {
      "cell_type": "code",
      "source": [
        "# Load data.\n",
        "trackfile = Path(\"./finger_far0_non_static.npy\")\n",
        "reffile = Path(\"./finger_far0_non_static_affine.npy\")\n",
        "trackdata = np.load(trackfile)\n",
        "refdata = np.load(reffile)\n",
        "print(trackdata.shape)\n",
        "\n",
        "# Remove person axis.\n",
        "trackdata = trackdata[0]\n",
        "refdata = refdata[0]\n",
        "\n",
        "# Convert to jnp.array\n",
        "trackdata = jnp.array(trackdata)\n",
        "refdata = jnp.array(refdata)"
      ],
      "metadata": {
        "colab": {
          "base_uri": "https://localhost:8080/"
        },
        "id": "AFlxRWtGDCs8",
        "outputId": "eac21d01-b411-4830-c43c-fe0e9563bfa9"
      },
      "execution_count": 8,
      "outputs": [
        {
          "output_type": "stream",
          "name": "stdout",
          "text": [
            "(1, 130, 553, 4)\n"
          ]
        },
        {
          "output_type": "stream",
          "name": "stderr",
          "text": [
            "WARNING:jax._src.xla_bridge:No GPU/TPU found, falling back to CPU. (Set TF_CPP_MIN_LOG_LEVEL=0 and rerun for more info.)\n"
          ]
        }
      ]
    },
    {
      "cell_type": "code",
      "source": [
        " # Get affine matrix.\n",
        "center = jnp.array([638.0, 389.0])\n",
        "trans = jnp.array([100.0, 0.0])\n",
        "scale = jnp.array([2.0, 0.5])\n",
        "rot = float(jnp.radians(15.0))\n",
        "skew = jnp.radians(jnp.array([15.0, 15.0]))\n",
        "dtype = jnp.float32\n",
        "print(\"Parameters\")\n",
        "print(\"Center:\", center)\n",
        "print(\"Trans:\", trans)\n",
        "print(\"Scale:\", scale)\n",
        "print(\"Rot:\", rot)\n",
        "print(\"Skew:\", skew)"
      ],
      "metadata": {
        "colab": {
          "base_uri": "https://localhost:8080/"
        },
        "id": "Pz_5RkxFDSYU",
        "outputId": "a61bb77a-dffa-4551-b507-e8c00c5c7828"
      },
      "execution_count": 9,
      "outputs": [
        {
          "output_type": "stream",
          "name": "stdout",
          "text": [
            "Parameters\n",
            "Center: [638. 389.]\n",
            "Trans: [100.   0.]\n",
            "Scale: [2.  0.5]\n",
            "Rot: 0.2617993950843811\n",
            "Skew: [0.2617994 0.2617994]\n"
          ]
        }
      ]
    },
    {
      "cell_type": "code",
      "source": [
        "testtrack = trackdata.copy()\n",
        "trial = 10\n",
        "\n",
        "# The 1st call may be slow because of the computation graph construction.\n",
        "start = time.perf_counter()\n",
        "mat = get_affine_matrix_2d_jax(center, trans, scale, rot, skew, dtype=dtype)\n",
        "newtrack = apply_affine_jax(testtrack, mat)\n",
        "interval = time.perf_counter() - start\n",
        "print(f\"Time of first call:{interval}\")\n",
        "\n",
        "# Evaluate difference.\n",
        "diff = (jnp.round(newtrack) - jnp.round(refdata)).sum()\n",
        "\n",
        "testtrack = trackdata.copy()\n",
        "\n",
        "start = time.perf_counter()\n",
        "for _ in range(trial):\n",
        "    mat = get_affine_matrix_2d_jax(center, trans, scale, rot, skew, dtype=dtype)\n",
        "    newtrack = apply_affine_jax(testtrack, mat)\n",
        "interval = time.perf_counter() - start\n",
        "print(f\"Average time:{interval / trial}\")\n",
        "\n",
        "print(f\"Sum of error:{diff}\")"
      ],
      "metadata": {
        "colab": {
          "base_uri": "https://localhost:8080/"
        },
        "id": "ALHvm_WyDzyF",
        "outputId": "e19acefa-43a3-4b16-938a-ccc04a93c169"
      },
      "execution_count": 10,
      "outputs": [
        {
          "output_type": "stream",
          "name": "stdout",
          "text": [
            "Time of first call:0.8782596799999993\n",
            "Average time:0.04856080149999968\n",
            "Sum of error:0.0\n"
          ]
        }
      ]
    },
    {
      "cell_type": "code",
      "source": [
        "testtrack = trackdata.copy()\n",
        "trial = 10\n",
        "\n",
        "# The 1st call may be slow because of the computation graph construction.\n",
        "start = time.perf_counter()\n",
        "mat = get_affine_matrix_2d_jax(center, trans, scale, rot, skew, dtype=dtype)\n",
        "newtrack = apply_affine_jax(testtrack[:-1], mat)\n",
        "interval = time.perf_counter() - start\n",
        "print(f\"Time of first call:{interval}\")\n",
        "\n",
        "testtrack = trackdata.copy()\n",
        "\n",
        "start = time.perf_counter()\n",
        "for _ in range(trial):\n",
        "    mat = get_affine_matrix_2d_jax(center, trans, scale, rot, skew, dtype=dtype)\n",
        "    newtrack = apply_affine_jax(testtrack[:-1], mat)\n",
        "interval = time.perf_counter() - start\n",
        "print(f\"Average time:{interval / trial}\")"
      ],
      "metadata": {
        "colab": {
          "base_uri": "https://localhost:8080/"
        },
        "id": "yYCs7hGSD_jk",
        "outputId": "a355dfbc-705e-4797-d83d-b68dd27784c7"
      },
      "execution_count": 11,
      "outputs": [
        {
          "output_type": "stream",
          "name": "stdout",
          "text": [
            "Time of first call:0.4352745529999993\n",
            "Average time:0.051776887199999774\n"
          ]
        }
      ]
    },
    {
      "cell_type": "markdown",
      "source": [
        "## 3.2 Based on define-and-run"
      ],
      "metadata": {
        "id": "a4LlPks5EFE0"
      }
    },
    {
      "cell_type": "code",
      "source": [
        "from typing import Generic, TypeVar\n",
        "\n",
        "T = TypeVar('T')      # Declare type variable\n",
        "\n",
        "# Workaround to avoid unhashable error.\n",
        "# https://github.com/google/jax/issues/4572\n",
        "class HashableArrayWrapper(Generic[T]):\n",
        "    def __init__(self, val: T):\n",
        "        self.val = val\n",
        "\n",
        "    def __getattribute__(self, prop):\n",
        "        if prop == 'val' or prop == \"__hash__\" or prop == \"__eq__\":\n",
        "            return super(HashableArrayWrapper, self).__getattribute__(prop)\n",
        "        return getattr(self.val, prop)\n",
        "\n",
        "    def __getitem__(self, key):\n",
        "        return self.val[key]\n",
        "\n",
        "    def __setitem__(self, key, val):\n",
        "        self.val[key] = val\n",
        "\n",
        "    def __hash__(self):\n",
        "        return hash(self.val.tobytes())\n",
        "\n",
        "    def __eq__(self, other):\n",
        "        if isinstance(other, HashableArrayWrapper):\n",
        "            return self.__hash__() == other.__hash__()\n",
        "\n",
        "        f = getattr(self.val, \"__eq__\")\n",
        "        return f(self, other)"
      ],
      "metadata": {
        "id": "32f0NfGaJJxt"
      },
      "execution_count": 12,
      "outputs": []
    },
    {
      "cell_type": "code",
      "source": [
        "@jit\n",
        "def get_affine_matrix_2d_jax_jit(center,\n",
        "                                 trans,\n",
        "                                 scale,\n",
        "                                 rot,\n",
        "                                 skew):\n",
        "    center_m = jnp.array([[1.0, 0.0, -center[0]],\n",
        "                          [0.0, 1.0, -center[1]],\n",
        "                          [0.0, 0.0, 1.0]])\n",
        "    scale_m = jnp.array([[scale[0], 0.0, 0.0],\n",
        "                         [0.0, scale[1], 0.0],\n",
        "                         [0.0, 0.0, 1.0]])\n",
        "    _cos = jnp.cos(rot)\n",
        "    _sin = jnp.sin(rot)\n",
        "    rot_m = jnp.array([[_cos, -_sin, 0.0],\n",
        "                       [_sin, _cos, 0],\n",
        "                       [0.0, 0.0, 1.0]])\n",
        "    _tan = jnp.tan(skew)\n",
        "    skew_m = jnp.array([[1.0, _tan[0], 0.0],\n",
        "                        [_tan[1], 1.0, 0.0],\n",
        "                        [0.0, 0.0, 1.0]])\n",
        "    move = jnp.array(center) + jnp.array(trans)\n",
        "    trans_m = jnp.array([[1.0, 0.0, move[0]],\n",
        "                         [0.0, 1.0, move[1]],\n",
        "                         [0.0, 0.0, 1.0]])\n",
        "    # Make affine matrix.\n",
        "    mat = jnp.identity(3)\n",
        "    mat = jnp.matmul(center_m, mat)\n",
        "    mat = jnp.matmul(scale_m, mat)\n",
        "    mat = jnp.matmul(rot_m, mat)\n",
        "    mat = jnp.matmul(skew_m, mat)\n",
        "    mat = jnp.matmul(trans_m, mat)\n",
        "    return mat"
      ],
      "metadata": {
        "id": "7cDY83K-EHnl"
      },
      "execution_count": 13,
      "outputs": []
    },
    {
      "cell_type": "code",
      "source": [
        "@partial(jit, static_argnums=(0,))\n",
        "def apply_affine_jax_jit(inputs, mat):\n",
        "    # Apply transform.\n",
        "    xy = inputs[:, :, :2]\n",
        "    xy = jnp.concatenate([xy, np.ones([xy.shape[0], xy.shape[1], 1])], axis=-1)\n",
        "    xy = jnp.einsum(\"...j,ij\", xy, mat)\n",
        "    inputs = inputs.at[:, :, :2].set(xy[:, :, :-1])\n",
        "    return inputs"
      ],
      "metadata": {
        "id": "NKlCqVT3ENWU"
      },
      "execution_count": 14,
      "outputs": []
    },
    {
      "cell_type": "code",
      "source": [
        "testtrack = trackdata.copy()\n",
        "trial = 10\n",
        "\n",
        "# The 1st call may be slow because of the computation graph construction.\n",
        "start = time.perf_counter()\n",
        "mat = get_affine_matrix_2d_jax_jit(center, trans, scale, rot, skew)\n",
        "newtrack = apply_affine_jax_jit(HashableArrayWrapper(testtrack), mat)\n",
        "interval = time.perf_counter() - start\n",
        "print(f\"Time of first call:{interval}\")\n",
        "\n",
        "# Evaluate difference.\n",
        "diff = (jnp.round(newtrack) - jnp.round(refdata)).sum()\n",
        "\n",
        "testtrack = trackdata.copy()\n",
        "\n",
        "start = time.perf_counter()\n",
        "for _ in range(trial):\n",
        "    mat = get_affine_matrix_2d_jax_jit(center, trans, scale, rot, skew)\n",
        "    newtrack = apply_affine_jax_jit(HashableArrayWrapper(testtrack), mat)\n",
        "interval = time.perf_counter() - start\n",
        "print(f\"Average time:{interval / trial}\")\n",
        "\n",
        "print(f\"Sum of error:{diff}\")"
      ],
      "metadata": {
        "colab": {
          "base_uri": "https://localhost:8080/"
        },
        "id": "eUF6tnhNESpN",
        "outputId": "5c7aafa3-51cd-4720-e11d-c99c30d99798"
      },
      "execution_count": 15,
      "outputs": [
        {
          "output_type": "stream",
          "name": "stdout",
          "text": [
            "Time of first call:0.5590976609999956\n",
            "Average time:0.0068611328000002915\n",
            "Sum of error:0.0\n"
          ]
        }
      ]
    },
    {
      "cell_type": "code",
      "source": [
        "testtrack = trackdata.copy()\n",
        "trial = 10\n",
        "\n",
        "# The 1st call may be slow because of the computation graph construction.\n",
        "start = time.perf_counter()\n",
        "mat = get_affine_matrix_2d_jax_jit(center, trans, scale, rot, skew)\n",
        "newtrack = apply_affine_jax_jit(HashableArrayWrapper(testtrack[:-1]), mat)\n",
        "interval = time.perf_counter() - start\n",
        "print(f\"Time of first call:{interval}\")\n",
        "\n",
        "testtrack = trackdata.copy()\n",
        "\n",
        "start = time.perf_counter()\n",
        "for _ in range(trial):\n",
        "    mat = get_affine_matrix_2d_jax_jit(center, trans, scale, rot, skew)\n",
        "    newtrack = apply_affine_jax_jit(HashableArrayWrapper(testtrack[:-1]), mat)\n",
        "interval = time.perf_counter() - start\n",
        "print(f\"Average time:{interval / trial}\")"
      ],
      "metadata": {
        "colab": {
          "base_uri": "https://localhost:8080/"
        },
        "id": "lxsNz1q_EVFs",
        "outputId": "72344ad2-d59d-4e44-d936-d064a7880671"
      },
      "execution_count": 16,
      "outputs": [
        {
          "output_type": "stream",
          "name": "stdout",
          "text": [
            "Time of first call:0.42977556299999975\n",
            "Average time:0.008777991899999903\n"
          ]
        }
      ]
    },
    {
      "cell_type": "markdown",
      "source": [
        "# 4. Application to randomized transformation"
      ],
      "metadata": {
        "id": "PMWHRUhdEat9"
      }
    },
    {
      "cell_type": "markdown",
      "source": [
        "## 4.1 Implement1: Call JIT function from a python process."
      ],
      "metadata": {
        "id": "85QGX7-hEqld"
      }
    },
    {
      "cell_type": "code",
      "source": [
        "class RandomAffineTransform2D_JAX():\n",
        "    def __init__(self,\n",
        "                 center_joints,\n",
        "                 apply_ratio,\n",
        "                 trans_range,\n",
        "                 scale_range,\n",
        "                 rot_range,\n",
        "                 skew_range,\n",
        "                 random_seed=None):\n",
        "        self.center_joints = center_joints\n",
        "        self.apply_ratio = apply_ratio\n",
        "        self.trans_range = trans_range\n",
        "        self.scale_range = scale_range\n",
        "        self.rot_range = jnp.radians(jnp.array(rot_range))\n",
        "        self.skew_range = jnp.radians(jnp.array(skew_range))\n",
        "        if random_seed is not None:\n",
        "            self.rng = jax.random.PRNGKey(random_seed)\n",
        "        else:\n",
        "            self.rng = jax.random.PRNGKey(0)\n",
        "\n",
        "    def gen_uniform_and_update_key(self, low=0.0, high=1.0, shape=(1,)):\n",
        "        # Generate random value.\n",
        "        val = jax.random.uniform(self.rng, shape)\n",
        "        # Scale to target range.\n",
        "        val = (high - low) * val + low\n",
        "        # Update key.\n",
        "        self.rng = jax.random.split(self.rng, num=1)[0]\n",
        "        return val\n",
        "\n",
        "    def __call__(self, inputs):\n",
        "        if self.gen_uniform_and_update_key() >= self.apply_ratio:\n",
        "            return inputs\n",
        "\n",
        "        # Calculate center position.\n",
        "        temp = inputs[:, self.center_joints, :]\n",
        "        temp = temp.reshape([inputs.shape[0], -1, inputs.shape[-1]])\n",
        "        mask = jnp.sum(temp, axis=(1, 2)) != 0\n",
        "        # Use x and y only.\n",
        "        center = temp[mask].mean(axis=0).mean(axis=0)[:2]\n",
        "\n",
        "        trans = self.gen_uniform_and_update_key(\n",
        "            self.trans_range[0], self.trans_range[1], (2,))\n",
        "        scale = self.gen_uniform_and_update_key(\n",
        "            self.scale_range[0], self.scale_range[1], (2,))\n",
        "        rot = self.gen_uniform_and_update_key(\n",
        "            self.rot_range[0], self.rot_range[1], (1,))[0]\n",
        "        skew = self.gen_uniform_and_update_key(\n",
        "            self.skew_range[0], self.skew_range[1], (2,))\n",
        "\n",
        "        # Calculate matrix.\n",
        "        mat = get_affine_matrix_2d_jax_jit(center, trans, scale, rot, skew)\n",
        "\n",
        "        # Apply transform.\n",
        "        inputs = apply_affine_jax_jit(inputs, mat)\n",
        "        return inputs"
      ],
      "metadata": {
        "id": "nBHwhtZREv48"
      },
      "execution_count": 17,
      "outputs": []
    },
    {
      "cell_type": "code",
      "source": [
        "aug_fn = RandomAffineTransform2D_JAX(\n",
        "    center_joints=[11, 12],\n",
        "    apply_ratio=1.0,\n",
        "    trans_range=[-100.0, 100.0],\n",
        "    scale_range=[0.5, 2.0],\n",
        "    rot_range=[-30.0, 30.0],\n",
        "    skew_range=[-30.0, 30.0])"
      ],
      "metadata": {
        "id": "-6nqa0dcFlcF"
      },
      "execution_count": 18,
      "outputs": []
    },
    {
      "cell_type": "code",
      "source": [
        "trial = 10\n",
        "augtracks = []\n",
        "\n",
        "# The 1st call may be slow because of the computation graph construction.\n",
        "start = time.perf_counter()\n",
        "temp = aug_fn(HashableArrayWrapper(trackdata.copy().astype(jnp.float32)))\n",
        "interval = time.perf_counter() - start\n",
        "print(f\"Time of first call:{interval}\")\n",
        "\n",
        "start = time.perf_counter()\n",
        "for _ in range(trial):\n",
        "  augtracks.append(aug_fn(HashableArrayWrapper(trackdata.copy().astype(jnp.float32))))\n",
        "interval = time.perf_counter() - start\n",
        "print(f\"Average time:{interval / trial}\")"
      ],
      "metadata": {
        "colab": {
          "base_uri": "https://localhost:8080/"
        },
        "id": "k0lWiwhdFqdd",
        "outputId": "0b5c936e-18c5-4917-c238-e246131e9309"
      },
      "execution_count": 19,
      "outputs": [
        {
          "output_type": "stream",
          "name": "stdout",
          "text": [
            "Time of first call:2.0656173279999948\n",
            "Average time:0.02885811359999977\n"
          ]
        }
      ]
    },
    {
      "cell_type": "code",
      "source": [
        "trial = 10\n",
        "augtracks = []\n",
        "\n",
        "# The 1st call may be slow because of the computation graph construction.\n",
        "start = time.perf_counter()\n",
        "temp = aug_fn(HashableArrayWrapper(trackdata.copy().astype(jnp.float32)[:-1]))\n",
        "interval = time.perf_counter() - start\n",
        "print(f\"Time of first call:{interval}\")\n",
        "\n",
        "start = time.perf_counter()\n",
        "for _ in range(trial):\n",
        "  augtracks.append(aug_fn(HashableArrayWrapper(trackdata.copy().astype(jnp.float32)[:-1])))\n",
        "interval = time.perf_counter() - start\n",
        "print(f\"Average time:{interval / trial}\")"
      ],
      "metadata": {
        "colab": {
          "base_uri": "https://localhost:8080/"
        },
        "id": "qrZjonzVF2x-",
        "outputId": "e027e0d8-8b59-481e-cb31-f9ded93e9ae2"
      },
      "execution_count": 20,
      "outputs": [
        {
          "output_type": "stream",
          "name": "stdout",
          "text": [
            "Time of first call:0.579926008000001\n",
            "Average time:0.04163150070000014\n"
          ]
        }
      ]
    },
    {
      "cell_type": "markdown",
      "source": [
        "## 4.2 Implementation2: Apply JIT to whole affine process."
      ],
      "metadata": {
        "id": "td9W3uXyGBeu"
      }
    },
    {
      "cell_type": "code",
      "source": [
        "class RandomAffineTransform2D_JAX_JIT():\n",
        "    def __init__(self,\n",
        "                 center_joints,\n",
        "                 apply_ratio,\n",
        "                 trans_range,\n",
        "                 scale_range,\n",
        "                 rot_range,\n",
        "                 skew_range,\n",
        "                 random_seed=None,\n",
        "                 dtype=np.float32):\n",
        "        self.center_joints = center_joints\n",
        "        self.apply_ratio = apply_ratio\n",
        "        self.trans_range = trans_range\n",
        "        self.scale_range = scale_range\n",
        "        self.rot_range = jnp.radians(jnp.array(rot_range))\n",
        "        self.skew_range = jnp.radians(jnp.array(skew_range))\n",
        "        self.dtype = dtype\n",
        "        if random_seed is not None:\n",
        "            self.rng = jax.random.PRNGKey(random_seed)\n",
        "        else:\n",
        "            self.rng = jax.random.PRNGKey(0)\n",
        "\n",
        "    def gen_uniform_and_update_key(self, rng, low=0.0, high=1.0, shape=(2,)):\n",
        "        # Generate random value.\n",
        "        val = jax.random.uniform(rng, shape)\n",
        "        # Scale to target range.\n",
        "        val = (high - low) * val + low\n",
        "        # Update key.\n",
        "        rng = jax.random.split(rng, num=1)[0]\n",
        "        return val, rng\n",
        "\n",
        "    def apply(self, inputs, rng):\n",
        "        # Calculate center position.\n",
        "        temp = inputs[:, self.center_joints, :]\n",
        "        temp = temp.reshape([inputs.shape[0], -1, inputs.shape[-1]])\n",
        "        mask = jnp.sum(temp, axis=(1, 2)) != 0\n",
        "        mask = mask.astype(self.dtype)\n",
        "\n",
        "        temp = temp * mask[:, None, None]\n",
        "        mask_sum = jnp.sum(mask)\n",
        "        # `[T, J, C] -> [J, C] -> [C]`\n",
        "        center = temp.sum(axis=0) / mask_sum\n",
        "        center = center.mean(axis=0)\n",
        "        # Use x and y only.\n",
        "        center = center[:2]\n",
        "\n",
        "        trans, rng = self.gen_uniform_and_update_key(rng,\n",
        "            self.trans_range[0], self.trans_range[1], (2,))\n",
        "        scale, rng = self.gen_uniform_and_update_key(rng,\n",
        "            self.scale_range[0], self.scale_range[1], (2,))\n",
        "        rot, rng = self.gen_uniform_and_update_key(rng,\n",
        "            self.rot_range[0], self.rot_range[1], (2,))\n",
        "        rot = rot[0]\n",
        "        skew, rng = self.gen_uniform_and_update_key(rng,\n",
        "            self.skew_range[0], self.skew_range[1], (2,))\n",
        "\n",
        "        # Calculate matrix.\n",
        "        mat = get_affine_matrix_2d_jax_jit(center, trans, scale, rot, skew)\n",
        "\n",
        "        # Apply transform.\n",
        "        inputs = apply_affine_jax_jit(inputs, mat)\n",
        "        return inputs, rng\n",
        "\n",
        "    @partial(jit, static_argnums=(0,))\n",
        "    def affine_proc(self, inputs, rng):\n",
        "        val, rng = self.gen_uniform_and_update_key(rng)\n",
        "        retval, rng = jax.lax.cond(\n",
        "            (val >= self.apply_ratio).astype(jnp.int32)[0],\n",
        "            lambda: (inputs, rng),\n",
        "            lambda: self.apply(inputs, rng))\n",
        "        return retval, rng\n",
        "\n",
        "    def __call__(self, inputs):\n",
        "        rng = self.rng\n",
        "        retval, rng = self.affine_proc(inputs, rng)\n",
        "        self.rng = rng\n",
        "        return retval"
      ],
      "metadata": {
        "id": "CFS-_VraGVnV"
      },
      "execution_count": 21,
      "outputs": []
    },
    {
      "cell_type": "code",
      "source": [
        "aug_fn = RandomAffineTransform2D_JAX_JIT(\n",
        "    center_joints=[11, 12],\n",
        "    apply_ratio=1.0,\n",
        "    trans_range=[-100.0, 100.0],\n",
        "    scale_range=[0.5, 2.0],\n",
        "    rot_range=[-30.0, 30.0],\n",
        "    skew_range=[-30.0, 30.0],\n",
        "    dtype=dtype)"
      ],
      "metadata": {
        "id": "3zX82JeDGhnl"
      },
      "execution_count": 22,
      "outputs": []
    },
    {
      "cell_type": "code",
      "source": [
        "trial = 10\n",
        "augtracks = []\n",
        "\n",
        "# The 1st call may be slow because of the computation graph construction.\n",
        "start = time.perf_counter()\n",
        "temp = aug_fn(trackdata.copy().astype(jnp.float32))\n",
        "interval = time.perf_counter() - start\n",
        "print(f\"Time of first call:{interval}\")\n",
        "\n",
        "start = time.perf_counter()\n",
        "for _ in range(trial):\n",
        "  augtracks.append(aug_fn(trackdata.copy().astype(jnp.float32)))\n",
        "interval = time.perf_counter() - start\n",
        "print(f\"Average time:{interval / trial}\")"
      ],
      "metadata": {
        "colab": {
          "base_uri": "https://localhost:8080/"
        },
        "id": "o_SfmiaeGn1P",
        "outputId": "897f6283-e221-46e8-c9ca-c4f197c4d2eb"
      },
      "execution_count": 23,
      "outputs": [
        {
          "output_type": "stream",
          "name": "stdout",
          "text": [
            "Time of first call:2.275207016000003\n",
            "Average time:0.003445001200000064\n"
          ]
        }
      ]
    },
    {
      "cell_type": "code",
      "source": [
        "trial = 10\n",
        "augtracks = []\n",
        "\n",
        "# The 1st call may be slow because of the computation graph construction.\n",
        "start = time.perf_counter()\n",
        "temp = aug_fn(trackdata.copy().astype(jnp.float32)[:-1])\n",
        "interval = time.perf_counter() - start\n",
        "print(f\"Time of first call:{interval}\")\n",
        "\n",
        "start = time.perf_counter()\n",
        "for _ in range(trial):\n",
        "  augtracks.append(aug_fn(trackdata.copy().astype(jnp.float32)[:-1]))\n",
        "interval = time.perf_counter() - start\n",
        "print(f\"Average time:{interval / trial}\")"
      ],
      "metadata": {
        "colab": {
          "base_uri": "https://localhost:8080/"
        },
        "id": "zW4xa-8mGqIG",
        "outputId": "407e3a90-4876-4dcc-dee7-56702d798053"
      },
      "execution_count": 24,
      "outputs": [
        {
          "output_type": "stream",
          "name": "stdout",
          "text": [
            "Time of first call:2.2039557909999985\n",
            "Average time:0.004038998200000065\n"
          ]
        }
      ]
    }
  ]
}