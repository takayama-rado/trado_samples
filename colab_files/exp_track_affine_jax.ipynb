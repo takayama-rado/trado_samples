{
  "nbformat": 4,
  "nbformat_minor": 0,
  "metadata": {
    "colab": {
      "provenance": [],
      "authorship_tag": "ABX9TyNyQ+J8tuH3hMJaRm8Udry3",
      "include_colab_link": true
    },
    "kernelspec": {
      "name": "python3",
      "display_name": "Python 3"
    },
    "language_info": {
      "name": "python"
    }
  },
  "cells": [
    {
      "cell_type": "markdown",
      "metadata": {
        "id": "view-in-github",
        "colab_type": "text"
      },
      "source": [
        "<a href=\"https://colab.research.google.com/github/takayama-rado/trado_samples/blob/main/colab_files/exp_track_affine_jax.ipynb\" target=\"_parent\"><img src=\"https://colab.research.google.com/assets/colab-badge.svg\" alt=\"Open In Colab\"/></a>"
      ]
    },
    {
      "cell_type": "markdown",
      "source": [
        "# 1. Load library"
      ],
      "metadata": {
        "id": "vzmxyTjH-Oke"
      }
    },
    {
      "cell_type": "code",
      "execution_count": 1,
      "metadata": {
        "id": "kmLtZ6xq-LOX"
      },
      "outputs": [],
      "source": [
        "# Standard modules.\n",
        "import gc\n",
        "import sys\n",
        "import time\n",
        "from functools import partial\n",
        "\n",
        "# CV/ML.\n",
        "import numpy as np\n",
        "\n",
        "import jax\n",
        "import jax.numpy as jnp\n",
        "from jax import jit"
      ]
    },
    {
      "cell_type": "code",
      "source": [
        "print(f\"Python:{sys.version}\")\n",
        "print(f\"Numpy:{np.__version__}\")\n",
        "print(f\"JAX:{jax.__version__}\")"
      ],
      "metadata": {
        "colab": {
          "base_uri": "https://localhost:8080/"
        },
        "id": "aK_EVa5QgQSi",
        "outputId": "8f095913-ac38-4f99-e525-ecd2eb8520b1"
      },
      "execution_count": 2,
      "outputs": [
        {
          "output_type": "stream",
          "name": "stdout",
          "text": [
            "Python:3.10.12 (main, Jun 11 2023, 05:26:28) [GCC 11.4.0]\n",
            "Numpy:1.23.5\n",
            "JAX:0.4.16\n"
          ]
        }
      ]
    },
    {
      "cell_type": "markdown",
      "source": [
        "# 2. Load data"
      ],
      "metadata": {
        "id": "PwGcCA84Crzu"
      }
    },
    {
      "cell_type": "code",
      "source": [
        "!wget https://github.com/takayama-rado/trado_samples/raw/main/test_data/finger_far0_non_static.npy"
      ],
      "metadata": {
        "colab": {
          "base_uri": "https://localhost:8080/"
        },
        "id": "U6C_RDznCtqu",
        "outputId": "80dd7cb9-4792-4900-cfc0-d2d7c97b62b6"
      },
      "execution_count": 3,
      "outputs": [
        {
          "output_type": "stream",
          "name": "stdout",
          "text": [
            "--2023-10-31 04:21:59--  https://github.com/takayama-rado/trado_samples/raw/main/test_data/finger_far0_non_static.npy\n",
            "Resolving github.com (github.com)... 192.30.255.113\n",
            "Connecting to github.com (github.com)|192.30.255.113|:443... connected.\n",
            "HTTP request sent, awaiting response... 302 Found\n",
            "Location: https://raw.githubusercontent.com/takayama-rado/trado_samples/main/test_data/finger_far0_non_static.npy [following]\n",
            "--2023-10-31 04:21:59--  https://raw.githubusercontent.com/takayama-rado/trado_samples/main/test_data/finger_far0_non_static.npy\n",
            "Resolving raw.githubusercontent.com (raw.githubusercontent.com)... 185.199.108.133, 185.199.109.133, 185.199.110.133, ...\n",
            "Connecting to raw.githubusercontent.com (raw.githubusercontent.com)|185.199.108.133|:443... connected.\n",
            "HTTP request sent, awaiting response... 200 OK\n",
            "Length: 2300608 (2.2M) [application/octet-stream]\n",
            "Saving to: ‘finger_far0_non_static.npy’\n",
            "\n",
            "finger_far0_non_sta 100%[===================>]   2.19M  --.-KB/s    in 0.05s   \n",
            "\n",
            "2023-10-31 04:22:00 (41.6 MB/s) - ‘finger_far0_non_static.npy’ saved [2300608/2300608]\n",
            "\n"
          ]
        }
      ]
    },
    {
      "cell_type": "code",
      "source": [
        "!wget https://github.com/takayama-rado/trado_samples/raw/main/test_data/finger_far0_non_static_affine.npy"
      ],
      "metadata": {
        "colab": {
          "base_uri": "https://localhost:8080/"
        },
        "id": "Givf9SjfCu_U",
        "outputId": "ffdf3a6f-726a-4c07-d078-30a0c644c4ef"
      },
      "execution_count": 4,
      "outputs": [
        {
          "output_type": "stream",
          "name": "stdout",
          "text": [
            "--2023-10-31 04:22:00--  https://github.com/takayama-rado/trado_samples/raw/main/test_data/finger_far0_non_static_affine.npy\n",
            "Resolving github.com (github.com)... 20.29.134.23\n",
            "Connecting to github.com (github.com)|20.29.134.23|:443... connected.\n",
            "HTTP request sent, awaiting response... 302 Found\n",
            "Location: https://raw.githubusercontent.com/takayama-rado/trado_samples/main/test_data/finger_far0_non_static_affine.npy [following]\n",
            "--2023-10-31 04:22:00--  https://raw.githubusercontent.com/takayama-rado/trado_samples/main/test_data/finger_far0_non_static_affine.npy\n",
            "Resolving raw.githubusercontent.com (raw.githubusercontent.com)... 185.199.110.133, 185.199.108.133, 185.199.109.133, ...\n",
            "Connecting to raw.githubusercontent.com (raw.githubusercontent.com)|185.199.110.133|:443... connected.\n",
            "HTTP request sent, awaiting response... 200 OK\n",
            "Length: 2300608 (2.2M) [application/octet-stream]\n",
            "Saving to: ‘finger_far0_non_static_affine.npy’\n",
            "\n",
            "finger_far0_non_sta 100%[===================>]   2.19M  --.-KB/s    in 0.06s   \n",
            "\n",
            "2023-10-31 04:22:00 (37.3 MB/s) - ‘finger_far0_non_static_affine.npy’ saved [2300608/2300608]\n",
            "\n"
          ]
        }
      ]
    },
    {
      "cell_type": "code",
      "source": [
        "!ls"
      ],
      "metadata": {
        "colab": {
          "base_uri": "https://localhost:8080/"
        },
        "id": "9Qdd8kxLCwlM",
        "outputId": "fc9b0159-0475-42a1-db2f-db6b2723841b"
      },
      "execution_count": 5,
      "outputs": [
        {
          "output_type": "stream",
          "name": "stdout",
          "text": [
            "finger_far0_non_static_affine.npy  finger_far0_non_static.npy  sample_data\n"
          ]
        }
      ]
    },
    {
      "cell_type": "markdown",
      "source": [
        "# 3. Evaluation settings"
      ],
      "metadata": {
        "id": "uPjBT5081o9U"
      }
    },
    {
      "cell_type": "code",
      "source": [
        "def get_perf_str(val):\n",
        "    token_si = [\"\", \"m\", \"µ\", \"n\", \"p\"]\n",
        "    exp_si = [1, 1e3, 1e6, 1e9, 1e12]\n",
        "    perf_str = f\"{val:3g}s\"\n",
        "    si = \"\"\n",
        "    sval = val\n",
        "    for token, exp in zip(token_si, exp_si):\n",
        "        if val * exp > 1.0:\n",
        "            si = token\n",
        "            sval = val * exp\n",
        "            break\n",
        "    perf_str = f\"{sval:3g}{si}s\"\n",
        "    return perf_str"
      ],
      "metadata": {
        "id": "aHi7dpx01sME"
      },
      "execution_count": 6,
      "outputs": []
    },
    {
      "cell_type": "code",
      "source": [
        "def print_perf_time(intervals, top_k=None):\n",
        "    if top_k is not None:\n",
        "        intervals = np.sort(intervals)[:top_k]\n",
        "    min = intervals.min()\n",
        "    max = intervals.max()\n",
        "    mean = intervals.mean()\n",
        "    std = intervals.std()\n",
        "\n",
        "    smin = get_perf_str(min)\n",
        "    smax = get_perf_str(max)\n",
        "    mean = get_perf_str(mean)\n",
        "    std = get_perf_str(std)\n",
        "    if top_k:\n",
        "        print(f\"Top {top_k} summary: Max {smax}, Min {smin}, Mean +/- Std {mean} +/- {std}\")\n",
        "    else:\n",
        "        print(f\"Overall summary: Max {smax}, Min {smin}, Mean +/- Std {mean} +/- {std}\")"
      ],
      "metadata": {
        "id": "JrTGz-cd1t8L"
      },
      "execution_count": 7,
      "outputs": []
    },
    {
      "cell_type": "code",
      "source": [
        "class PerfMeasure():\n",
        "    def __init__(self,\n",
        "                 trials=100,\n",
        "                 top_k=10):\n",
        "        self.trials = trials\n",
        "        self.top_k = top_k\n",
        "\n",
        "    def __call__(self, func):\n",
        "        gc.collect()\n",
        "        gc.disable()\n",
        "        intervals = []\n",
        "        for _ in range(self.trials):\n",
        "            start = time.perf_counter()\n",
        "            func()\n",
        "            end = time.perf_counter()\n",
        "            intervals.append(end - start)\n",
        "        intervals = np.array(intervals)\n",
        "        print_perf_time(intervals)\n",
        "        if self.top_k:\n",
        "            print_perf_time(intervals, self.top_k)\n",
        "        gc.enable()\n",
        "        gc.collect()"
      ],
      "metadata": {
        "id": "P4VtOBo21v1j"
      },
      "execution_count": 8,
      "outputs": []
    },
    {
      "cell_type": "code",
      "source": [
        "TRIALS = 100\n",
        "TOPK = 10\n",
        "pmeasure = PerfMeasure(TRIALS, TOPK)"
      ],
      "metadata": {
        "id": "JHgJcVJX1xt1"
      },
      "execution_count": 9,
      "outputs": []
    },
    {
      "cell_type": "markdown",
      "source": [
        "# 4. Implement affine transformation"
      ],
      "metadata": {
        "id": "mIi3DR0nCyat"
      }
    },
    {
      "cell_type": "markdown",
      "source": [
        "## 4.1 Based on define-by-run"
      ],
      "metadata": {
        "id": "XiYDcqB7C1Z0"
      }
    },
    {
      "cell_type": "code",
      "source": [
        "def get_affine_matrix_2d_jax(center,\n",
        "                             trans,\n",
        "                             scale,\n",
        "                             rot,\n",
        "                             skew,\n",
        "                             dtype=jnp.float32):\n",
        "    center_m = jnp.array([[1.0, 0.0, -center[0]],\n",
        "                          [0.0, 1.0, -center[1]],\n",
        "                          [0.0, 0.0, 1.0]])\n",
        "    scale_m = jnp.array([[scale[0], 0.0, 0.0],\n",
        "                         [0.0, scale[1], 0.0],\n",
        "                         [0.0, 0.0, 1.0]])\n",
        "    _cos = jnp.cos(rot)\n",
        "    _sin = jnp.sin(rot)\n",
        "    rot_m = jnp.array([[_cos, -_sin, 0.0],\n",
        "                       [_sin, _cos, 0],\n",
        "                       [0.0, 0.0, 1.0]])\n",
        "    _tan = jnp.tan(skew)\n",
        "    skew_m = jnp.array([[1.0, _tan[0], 0.0],\n",
        "                        [_tan[1], 1.0, 0.0],\n",
        "                        [0.0, 0.0, 1.0]])\n",
        "    move = jnp.array(center) + jnp.array(trans)\n",
        "    trans_m = jnp.array([[1.0, 0.0, move[0]],\n",
        "                         [0.0, 1.0, move[1]],\n",
        "                         [0.0, 0.0, 1.0]])\n",
        "    # Make affine matrix.\n",
        "    mat = jnp.identity(3, dtype=dtype)\n",
        "    mat = jnp.matmul(center_m, mat)\n",
        "    mat = jnp.matmul(scale_m, mat)\n",
        "    mat = jnp.matmul(rot_m, mat)\n",
        "    mat = jnp.matmul(skew_m, mat)\n",
        "    mat = jnp.matmul(trans_m, mat)\n",
        "    return mat.astype(dtype)"
      ],
      "metadata": {
        "id": "14FBL4_qC4pE"
      },
      "execution_count": 10,
      "outputs": []
    },
    {
      "cell_type": "code",
      "source": [
        "def apply_affine_jax(inputs, mat):\n",
        "    # Apply transform.\n",
        "    xy = inputs[:, :, :2]\n",
        "    xy = jnp.concatenate([xy, jnp.ones([xy.shape[0], xy.shape[1], 1])], axis=-1)\n",
        "    xy = jnp.einsum(\"...j,ij\", xy, mat)\n",
        "    inputs = inputs.at[:, :, :2].set(xy[:, :, :-1])\n",
        "    return inputs"
      ],
      "metadata": {
        "id": "dKMzAV2KDAkl"
      },
      "execution_count": 11,
      "outputs": []
    },
    {
      "cell_type": "code",
      "source": [
        "# Load data.\n",
        "trackfile = \"./finger_far0_non_static.npy\"\n",
        "reffile = \"./finger_far0_non_static_affine.npy\"\n",
        "trackdata = np.load(trackfile).astype(np.float32)\n",
        "refdata = np.load(reffile).astype(np.float32)\n",
        "print(trackdata.shape)\n",
        "\n",
        "# Remove person axis.\n",
        "trackdata = trackdata[0]\n",
        "refdata = refdata[0]\n",
        "\n",
        "# Convert to jnp.array\n",
        "trackdata = jnp.array(trackdata)\n",
        "refdata = jnp.array(refdata)"
      ],
      "metadata": {
        "colab": {
          "base_uri": "https://localhost:8080/"
        },
        "id": "AFlxRWtGDCs8",
        "outputId": "affdc15a-aceb-439c-830b-8575c223a2d0"
      },
      "execution_count": 12,
      "outputs": [
        {
          "output_type": "stream",
          "name": "stderr",
          "text": [
            "WARNING:jax._src.xla_bridge:No GPU/TPU found, falling back to CPU. (Set TF_CPP_MIN_LOG_LEVEL=0 and rerun for more info.)\n"
          ]
        },
        {
          "output_type": "stream",
          "name": "stdout",
          "text": [
            "(1, 130, 553, 4)\n"
          ]
        }
      ]
    },
    {
      "cell_type": "code",
      "source": [
        " # Get affine matrix.\n",
        "center = jnp.array([638.0, 389.0])\n",
        "trans = jnp.array([100.0, 0.0])\n",
        "scale = jnp.array([2.0, 0.5])\n",
        "rot = float(jnp.radians(15.0))\n",
        "skew = jnp.radians(jnp.array([15.0, 15.0]))\n",
        "dtype = jnp.float32\n",
        "print(\"Parameters\")\n",
        "print(\"Center:\", center)\n",
        "print(\"Trans:\", trans)\n",
        "print(\"Scale:\", scale)\n",
        "print(\"Rot:\", rot)\n",
        "print(\"Skew:\", skew)"
      ],
      "metadata": {
        "colab": {
          "base_uri": "https://localhost:8080/"
        },
        "id": "Pz_5RkxFDSYU",
        "outputId": "bf2b8560-4a3f-456d-e0fd-e7f6b115868d"
      },
      "execution_count": 13,
      "outputs": [
        {
          "output_type": "stream",
          "name": "stdout",
          "text": [
            "Parameters\n",
            "Center: [638. 389.]\n",
            "Trans: [100.   0.]\n",
            "Scale: [2.  0.5]\n",
            "Rot: 0.2617993950843811\n",
            "Skew: [0.2617994 0.2617994]\n"
          ]
        }
      ]
    },
    {
      "cell_type": "code",
      "source": [
        "def perf_wrap_func(trackdata, center, trans, scale, rot, skew, dtype):\n",
        "    mat = get_affine_matrix_2d_jax(center, trans, scale, rot, skew, dtype=dtype)\n",
        "    newtrack = apply_affine_jax(trackdata, mat)"
      ],
      "metadata": {
        "id": "3oB1gCqs2Q08"
      },
      "execution_count": 14,
      "outputs": []
    },
    {
      "cell_type": "code",
      "source": [
        "testtrack = trackdata.copy()\n",
        "\n",
        "# The 1st call may be slow because of the computation graph construction.\n",
        "print(f\"Time of first call.\")\n",
        "start = time.perf_counter()\n",
        "mat = get_affine_matrix_2d_jax(center, trans, scale, rot, skew, dtype=dtype)\n",
        "newtrack = apply_affine_jax(testtrack, mat)\n",
        "interval = time.perf_counter() - start\n",
        "print_perf_time(np.array([interval]))\n",
        "\n",
        "# Evaluate difference.\n",
        "diff = (jnp.round(newtrack) - jnp.round(refdata)).sum()\n",
        "print(f\"Sum of error:{diff}\")\n",
        "\n",
        "testtrack = trackdata.copy()\n",
        "\n",
        "print(\"Time after second call.\")\n",
        "target_fn = partial(perf_wrap_func,\n",
        "                    trackdata=testtrack,\n",
        "                    center=center, trans=trans, scale=scale, rot=rot, skew=skew,\n",
        "                    dtype=dtype)\n",
        "pmeasure(target_fn)"
      ],
      "metadata": {
        "colab": {
          "base_uri": "https://localhost:8080/"
        },
        "id": "ALHvm_WyDzyF",
        "outputId": "a64577b9-fe0f-47bf-cc56-4ae6451e6702"
      },
      "execution_count": 15,
      "outputs": [
        {
          "output_type": "stream",
          "name": "stdout",
          "text": [
            "Time of first call.\n",
            "Overall summary: Max 662.249ms, Min 662.249ms, Mean +/- Std 662.249ms +/-   0s\n",
            "Sum of error:0.0\n",
            "Time after second call.\n",
            "Overall summary: Max 115.266ms, Min 17.1939ms, Mean +/- Std 36.2639ms +/- 16.9179ms\n",
            "Top 10 summary: Max 17.8094ms, Min 17.1939ms, Mean +/- Std 17.4581ms +/- 166.24µs\n"
          ]
        }
      ]
    },
    {
      "cell_type": "code",
      "source": [
        "testtrack = trackdata.copy()\n",
        "\n",
        "# The 1st call may be slow because of the computation graph construction.\n",
        "print(f\"Time of first call.\")\n",
        "start = time.perf_counter()\n",
        "mat = get_affine_matrix_2d_jax(center, trans, scale, rot, skew, dtype=dtype)\n",
        "newtrack = apply_affine_jax(testtrack[:-1], mat)\n",
        "interval = time.perf_counter() - start\n",
        "print_perf_time(np.array([interval]))\n",
        "\n",
        "testtrack = trackdata.copy()\n",
        "\n",
        "print(\"Time after second call.\")\n",
        "target_fn = partial(perf_wrap_func,\n",
        "                    trackdata=testtrack[:-1],\n",
        "                    center=center, trans=trans, scale=scale, rot=rot, skew=skew,\n",
        "                    dtype=dtype)\n",
        "pmeasure(target_fn)"
      ],
      "metadata": {
        "colab": {
          "base_uri": "https://localhost:8080/"
        },
        "id": "yYCs7hGSD_jk",
        "outputId": "1d2117bc-0f7d-4475-c383-7a9d09cea7e4"
      },
      "execution_count": 16,
      "outputs": [
        {
          "output_type": "stream",
          "name": "stdout",
          "text": [
            "Time of first call.\n",
            "Overall summary: Max 324.22ms, Min 324.22ms, Mean +/- Std 324.22ms +/-   0s\n",
            "Time after second call.\n",
            "Overall summary: Max 142.864ms, Min 27.1088ms, Mean +/- Std 65.1514ms +/- 26.8165ms\n",
            "Top 10 summary: Max 30.4011ms, Min 27.1088ms, Mean +/- Std 29.4172ms +/- 961.927µs\n"
          ]
        }
      ]
    },
    {
      "cell_type": "markdown",
      "source": [
        "## 4.2 Based on define-and-run"
      ],
      "metadata": {
        "id": "a4LlPks5EFE0"
      }
    },
    {
      "cell_type": "code",
      "source": [
        "@jit\n",
        "def get_affine_matrix_2d_jax_jit(center,\n",
        "                                 trans,\n",
        "                                 scale,\n",
        "                                 rot,\n",
        "                                 skew):\n",
        "    center_m = jnp.array([[1.0, 0.0, -center[0]],\n",
        "                          [0.0, 1.0, -center[1]],\n",
        "                          [0.0, 0.0, 1.0]])\n",
        "    scale_m = jnp.array([[scale[0], 0.0, 0.0],\n",
        "                         [0.0, scale[1], 0.0],\n",
        "                         [0.0, 0.0, 1.0]])\n",
        "    _cos = jnp.cos(rot)\n",
        "    _sin = jnp.sin(rot)\n",
        "    rot_m = jnp.array([[_cos, -_sin, 0.0],\n",
        "                       [_sin, _cos, 0],\n",
        "                       [0.0, 0.0, 1.0]])\n",
        "    _tan = jnp.tan(skew)\n",
        "    skew_m = jnp.array([[1.0, _tan[0], 0.0],\n",
        "                        [_tan[1], 1.0, 0.0],\n",
        "                        [0.0, 0.0, 1.0]])\n",
        "    move = jnp.array(center) + jnp.array(trans)\n",
        "    trans_m = jnp.array([[1.0, 0.0, move[0]],\n",
        "                         [0.0, 1.0, move[1]],\n",
        "                         [0.0, 0.0, 1.0]])\n",
        "    # Make affine matrix.\n",
        "    mat = jnp.identity(3)\n",
        "    mat = jnp.matmul(center_m, mat)\n",
        "    mat = jnp.matmul(scale_m, mat)\n",
        "    mat = jnp.matmul(rot_m, mat)\n",
        "    mat = jnp.matmul(skew_m, mat)\n",
        "    mat = jnp.matmul(trans_m, mat)\n",
        "    return mat"
      ],
      "metadata": {
        "id": "7cDY83K-EHnl"
      },
      "execution_count": 17,
      "outputs": []
    },
    {
      "cell_type": "code",
      "source": [
        "@jit\n",
        "def apply_affine_jax_jit(inputs, mat):\n",
        "    # Apply transform.\n",
        "    xy = inputs[:, :, :2]\n",
        "    xy = jnp.concatenate([xy, jnp.ones([xy.shape[0], xy.shape[1], 1])], axis=-1)\n",
        "    xy = jnp.einsum(\"...j,ij\", xy, mat)\n",
        "    inputs = inputs.at[:, :, :2].set(xy[:, :, :-1])\n",
        "    return inputs"
      ],
      "metadata": {
        "id": "NKlCqVT3ENWU"
      },
      "execution_count": 18,
      "outputs": []
    },
    {
      "cell_type": "code",
      "source": [
        "def perf_wrap_func(trackdata, center, trans, scale, rot, skew):\n",
        "    mat = get_affine_matrix_2d_jax_jit(center, trans, scale, rot, skew)\n",
        "    newtrack = apply_affine_jax_jit(trackdata, mat)"
      ],
      "metadata": {
        "id": "nBARUsGR3ETL"
      },
      "execution_count": 19,
      "outputs": []
    },
    {
      "cell_type": "code",
      "source": [
        "testtrack = trackdata.copy()\n",
        "\n",
        "# The 1st call may be slow because of the computation graph construction.\n",
        "print(f\"Time of first call.\")\n",
        "start = time.perf_counter()\n",
        "mat = get_affine_matrix_2d_jax_jit(center, trans, scale, rot, skew)\n",
        "newtrack = apply_affine_jax_jit(testtrack, mat)\n",
        "interval = time.perf_counter() - start\n",
        "print_perf_time(np.array([interval]))\n",
        "\n",
        "# Evaluate difference.\n",
        "diff = (jnp.round(newtrack) - jnp.round(refdata)).sum()\n",
        "print(f\"Sum of error:{diff}\")\n",
        "\n",
        "testtrack = trackdata.copy()\n",
        "\n",
        "print(\"Time after second call.\")\n",
        "target_fn = partial(perf_wrap_func,\n",
        "                    trackdata=testtrack,\n",
        "                    center=center, trans=trans, scale=scale, rot=rot, skew=skew)\n",
        "pmeasure(target_fn)"
      ],
      "metadata": {
        "colab": {
          "base_uri": "https://localhost:8080/"
        },
        "id": "eUF6tnhNESpN",
        "outputId": "097f54da-da8d-401e-b88b-7ce324267c98"
      },
      "execution_count": 20,
      "outputs": [
        {
          "output_type": "stream",
          "name": "stdout",
          "text": [
            "Time of first call.\n",
            "Overall summary: Max 445.719ms, Min 445.719ms, Mean +/- Std 445.719ms +/-   0s\n",
            "Sum of error:0.0\n",
            "Time after second call.\n",
            "Overall summary: Max 14.5279ms, Min 1.23261ms, Mean +/- Std 2.41537ms +/- 2.43119ms\n",
            "Top 10 summary: Max 1.36594ms, Min 1.23261ms, Mean +/- Std 1.2714ms +/- 43.6211µs\n"
          ]
        }
      ]
    },
    {
      "cell_type": "code",
      "source": [
        "testtrack = trackdata.copy()\n",
        "\n",
        "# The 1st call may be slow because of the computation graph construction.\n",
        "print(f\"Time of first call.\")\n",
        "start = time.perf_counter()\n",
        "mat = get_affine_matrix_2d_jax_jit(center, trans, scale, rot, skew)\n",
        "newtrack = apply_affine_jax_jit(testtrack[:-1], mat)\n",
        "interval = time.perf_counter() - start\n",
        "print_perf_time(np.array([interval]))\n",
        "\n",
        "# Evaluate difference.\n",
        "diff = (jnp.round(newtrack) - jnp.round(refdata[:-1])).sum()\n",
        "print(f\"Sum of error:{diff}\")\n",
        "\n",
        "testtrack = trackdata.copy()\n",
        "\n",
        "print(\"Time after second call.\")\n",
        "target_fn = partial(perf_wrap_func,\n",
        "                    trackdata=testtrack[:-1],\n",
        "                    center=center, trans=trans, scale=scale, rot=rot, skew=skew)\n",
        "pmeasure(target_fn)"
      ],
      "metadata": {
        "colab": {
          "base_uri": "https://localhost:8080/"
        },
        "id": "lxsNz1q_EVFs",
        "outputId": "930bb4ae-638b-4e63-bd65-bf91bafbd3e9"
      },
      "execution_count": 21,
      "outputs": [
        {
          "output_type": "stream",
          "name": "stdout",
          "text": [
            "Time of first call.\n",
            "Overall summary: Max 164.981ms, Min 164.981ms, Mean +/- Std 164.981ms +/-   0s\n",
            "Sum of error:0.0\n",
            "Time after second call.\n",
            "Overall summary: Max 8.83706ms, Min 1.21181ms, Mean +/- Std 2.05039ms +/- 1.7484ms\n",
            "Top 10 summary: Max 1.34863ms, Min 1.21181ms, Mean +/- Std 1.26267ms +/- 44.5478µs\n"
          ]
        }
      ]
    },
    {
      "cell_type": "markdown",
      "source": [
        "# 5. Application to randomized transformation"
      ],
      "metadata": {
        "id": "PMWHRUhdEat9"
      }
    },
    {
      "cell_type": "markdown",
      "source": [
        "## 5.1 Implement1: Call JIT function from a python process."
      ],
      "metadata": {
        "id": "85QGX7-hEqld"
      }
    },
    {
      "cell_type": "code",
      "source": [
        "class RandomAffineTransform2D_JAX():\n",
        "    def __init__(self,\n",
        "                 center_joints,\n",
        "                 apply_ratio,\n",
        "                 trans_range,\n",
        "                 scale_range,\n",
        "                 rot_range,\n",
        "                 skew_range,\n",
        "                 random_seed=None):\n",
        "        self.center_joints = center_joints\n",
        "        self.apply_ratio = apply_ratio\n",
        "        self.trans_range = trans_range\n",
        "        self.scale_range = scale_range\n",
        "        self.rot_range = jnp.radians(jnp.array(rot_range))\n",
        "        self.skew_range = jnp.radians(jnp.array(skew_range))\n",
        "        if random_seed is not None:\n",
        "            self.rng = jax.random.PRNGKey(random_seed)\n",
        "        else:\n",
        "            self.rng = jax.random.PRNGKey(0)\n",
        "\n",
        "    def gen_uniform_and_update_key(self, low=0.0, high=1.0, shape=(1,)):\n",
        "        # Generate random value.\n",
        "        val = jax.random.uniform(self.rng, shape)\n",
        "        # Scale to target range.\n",
        "        val = (high - low) * val + low\n",
        "        # Update key.\n",
        "        self.rng = jax.random.split(self.rng, num=1)[0]\n",
        "        return val\n",
        "\n",
        "    def __call__(self, inputs):\n",
        "        if self.gen_uniform_and_update_key() >= self.apply_ratio:\n",
        "            return inputs\n",
        "\n",
        "        # Calculate center position.\n",
        "        temp = inputs[:, self.center_joints, :]\n",
        "        temp = temp.reshape([inputs.shape[0], -1, inputs.shape[-1]])\n",
        "        mask = jnp.sum(temp, axis=(1, 2)) != 0\n",
        "        # Use x and y only.\n",
        "        center = temp[mask].mean(axis=0).mean(axis=0)[:2]\n",
        "\n",
        "        trans = self.gen_uniform_and_update_key(\n",
        "            self.trans_range[0], self.trans_range[1], (2,))\n",
        "        scale = self.gen_uniform_and_update_key(\n",
        "            self.scale_range[0], self.scale_range[1], (2,))\n",
        "        rot = self.gen_uniform_and_update_key(\n",
        "            self.rot_range[0], self.rot_range[1], (1,))[0]\n",
        "        skew = self.gen_uniform_and_update_key(\n",
        "            self.skew_range[0], self.skew_range[1], (2,))\n",
        "\n",
        "        # Calculate matrix.\n",
        "        mat = get_affine_matrix_2d_jax_jit(center, trans, scale, rot, skew)\n",
        "\n",
        "        # Apply transform.\n",
        "        inputs = apply_affine_jax_jit(inputs, mat)\n",
        "        return inputs"
      ],
      "metadata": {
        "id": "nBHwhtZREv48"
      },
      "execution_count": 22,
      "outputs": []
    },
    {
      "cell_type": "code",
      "source": [
        "aug_fn = RandomAffineTransform2D_JAX(\n",
        "    center_joints=[11, 12],\n",
        "    apply_ratio=1.0,\n",
        "    trans_range=[-100.0, 100.0],\n",
        "    scale_range=[0.5, 2.0],\n",
        "    rot_range=[-30.0, 30.0],\n",
        "    skew_range=[-30.0, 30.0])"
      ],
      "metadata": {
        "id": "-6nqa0dcFlcF"
      },
      "execution_count": 23,
      "outputs": []
    },
    {
      "cell_type": "code",
      "source": [
        "testtrack = trackdata.copy()\n",
        "\n",
        "# The 1st call may be slow because of the computation graph construction.\n",
        "print(f\"Time of first call.\")\n",
        "start = time.perf_counter()\n",
        "temp = aug_fn(testtrack)\n",
        "interval = time.perf_counter() - start\n",
        "print_perf_time(np.array([interval]))\n",
        "\n",
        "testtrack = trackdata.copy()\n",
        "print(\"Time after second call.\")\n",
        "target_fn = partial(aug_fn, inputs=testtrack)\n",
        "pmeasure(target_fn)"
      ],
      "metadata": {
        "colab": {
          "base_uri": "https://localhost:8080/"
        },
        "id": "k0lWiwhdFqdd",
        "outputId": "ed9e6d86-d105-4a8f-8f14-b6b095f59175"
      },
      "execution_count": 24,
      "outputs": [
        {
          "output_type": "stream",
          "name": "stdout",
          "text": [
            "Time of first call.\n",
            "Overall summary: Max 1.44494s, Min 1.44494s, Mean +/- Std 1.44494s +/-   0s\n",
            "Time after second call.\n",
            "Overall summary: Max 12.2906ms, Min 6.80869ms, Mean +/- Std 7.3811ms +/- 859.549µs\n",
            "Top 10 summary: Max 6.9176ms, Min 6.80869ms, Mean +/- Std 6.86691ms +/- 41.6897µs\n"
          ]
        }
      ]
    },
    {
      "cell_type": "code",
      "source": [
        "testtrack = trackdata.copy()\n",
        "\n",
        "# The 1st call may be slow because of the computation graph construction.\n",
        "print(f\"Time of first call.\")\n",
        "start = time.perf_counter()\n",
        "temp = aug_fn(testtrack[:-1])\n",
        "interval = time.perf_counter() - start\n",
        "print_perf_time(np.array([interval]))\n",
        "\n",
        "testtrack = trackdata.copy()\n",
        "print(\"Time after second call.\")\n",
        "target_fn = partial(aug_fn, inputs=testtrack[:-1])\n",
        "pmeasure(target_fn)"
      ],
      "metadata": {
        "colab": {
          "base_uri": "https://localhost:8080/"
        },
        "id": "qrZjonzVF2x-",
        "outputId": "02127526-88ad-45aa-ae08-7dc19395d07c"
      },
      "execution_count": 25,
      "outputs": [
        {
          "output_type": "stream",
          "name": "stdout",
          "text": [
            "Time of first call.\n",
            "Overall summary: Max 262.183ms, Min 262.183ms, Mean +/- Std 262.183ms +/-   0s\n",
            "Time after second call.\n",
            "Overall summary: Max 12.4024ms, Min 6.62738ms, Mean +/- Std 7.4838ms +/- 1.09016ms\n",
            "Top 10 summary: Max 6.83709ms, Min 6.62738ms, Mean +/- Std 6.77123ms +/- 66.6792µs\n"
          ]
        }
      ]
    },
    {
      "cell_type": "markdown",
      "source": [
        "## 5.2 Implementation2: Apply JIT to whole affine process."
      ],
      "metadata": {
        "id": "td9W3uXyGBeu"
      }
    },
    {
      "cell_type": "code",
      "source": [
        "class RandomAffineTransform2D_JAX_JIT():\n",
        "    def __init__(self,\n",
        "                 center_joints,\n",
        "                 apply_ratio,\n",
        "                 trans_range,\n",
        "                 scale_range,\n",
        "                 rot_range,\n",
        "                 skew_range,\n",
        "                 random_seed=None,\n",
        "                 dtype=np.float32):\n",
        "        self.center_joints = center_joints\n",
        "        self.apply_ratio = apply_ratio\n",
        "        self.trans_range = trans_range\n",
        "        self.scale_range = scale_range\n",
        "        self.rot_range = jnp.radians(jnp.array(rot_range))\n",
        "        self.skew_range = jnp.radians(jnp.array(skew_range))\n",
        "        self.dtype = dtype\n",
        "        if random_seed is not None:\n",
        "            self.rng = jax.random.PRNGKey(random_seed)\n",
        "        else:\n",
        "            self.rng = jax.random.PRNGKey(0)\n",
        "\n",
        "    def gen_uniform_and_update_key(self, rng, low=0.0, high=1.0, shape=(2,)):\n",
        "        # Generate random value.\n",
        "        val = jax.random.uniform(rng, shape)\n",
        "        # Scale to target range.\n",
        "        val = (high - low) * val + low\n",
        "        # Update key.\n",
        "        rng = jax.random.split(rng, num=1)[0]\n",
        "        return val, rng\n",
        "\n",
        "    def apply(self, inputs, rng):\n",
        "        # Calculate center position.\n",
        "        temp = inputs[:, self.center_joints, :]\n",
        "        temp = temp.reshape([inputs.shape[0], -1, inputs.shape[-1]])\n",
        "        mask = jnp.sum(temp, axis=(1, 2)) != 0\n",
        "        mask = mask.astype(self.dtype)\n",
        "\n",
        "        temp = temp * mask[:, None, None]\n",
        "        mask_sum = jnp.sum(mask)\n",
        "        # `[T, J, C] -> [J, C] -> [C]`\n",
        "        center = temp.sum(axis=0) / mask_sum\n",
        "        center = center.mean(axis=0)\n",
        "        # Use x and y only.\n",
        "        center = center[:2]\n",
        "\n",
        "        trans, rng = self.gen_uniform_and_update_key(rng,\n",
        "            self.trans_range[0], self.trans_range[1], (2,))\n",
        "        scale, rng = self.gen_uniform_and_update_key(rng,\n",
        "            self.scale_range[0], self.scale_range[1], (2,))\n",
        "        rot, rng = self.gen_uniform_and_update_key(rng,\n",
        "            self.rot_range[0], self.rot_range[1], (2,))\n",
        "        rot = rot[0]\n",
        "        skew, rng = self.gen_uniform_and_update_key(rng,\n",
        "            self.skew_range[0], self.skew_range[1], (2,))\n",
        "\n",
        "        # Calculate matrix.\n",
        "        mat = get_affine_matrix_2d_jax_jit(center, trans, scale, rot, skew)\n",
        "\n",
        "        # Apply transform.\n",
        "        inputs = apply_affine_jax_jit(inputs, mat)\n",
        "        return inputs, rng\n",
        "\n",
        "    @partial(jit, static_argnums=(0,))\n",
        "    def affine_proc(self, inputs, rng):\n",
        "        val, rng = self.gen_uniform_and_update_key(rng)\n",
        "        retval, rng = jax.lax.cond(\n",
        "            (val >= self.apply_ratio).astype(jnp.int32)[0],\n",
        "            lambda: (inputs, rng),\n",
        "            lambda: self.apply(inputs, rng))\n",
        "        return retval, rng\n",
        "\n",
        "    def __call__(self, inputs):\n",
        "        rng = self.rng\n",
        "        retval, rng = self.affine_proc(inputs, rng)\n",
        "        self.rng = rng\n",
        "        return retval"
      ],
      "metadata": {
        "id": "CFS-_VraGVnV"
      },
      "execution_count": 26,
      "outputs": []
    },
    {
      "cell_type": "code",
      "source": [
        "aug_fn = RandomAffineTransform2D_JAX_JIT(\n",
        "    center_joints=[11, 12],\n",
        "    apply_ratio=1.0,\n",
        "    trans_range=[-100.0, 100.0],\n",
        "    scale_range=[0.5, 2.0],\n",
        "    rot_range=[-30.0, 30.0],\n",
        "    skew_range=[-30.0, 30.0],\n",
        "    dtype=dtype)"
      ],
      "metadata": {
        "id": "3zX82JeDGhnl"
      },
      "execution_count": 27,
      "outputs": []
    },
    {
      "cell_type": "code",
      "source": [
        "testtrack = trackdata.copy()\n",
        "\n",
        "# The 1st call may be slow because of the computation graph construction.\n",
        "print(f\"Time of first call.\")\n",
        "start = time.perf_counter()\n",
        "temp = aug_fn(testtrack)\n",
        "interval = time.perf_counter() - start\n",
        "print_perf_time(np.array([interval]))\n",
        "\n",
        "testtrack = trackdata.copy()\n",
        "print(\"Time after second call.\")\n",
        "target_fn = partial(aug_fn, inputs=testtrack)\n",
        "pmeasure(target_fn)"
      ],
      "metadata": {
        "colab": {
          "base_uri": "https://localhost:8080/"
        },
        "id": "o_SfmiaeGn1P",
        "outputId": "b471d0f1-7ee9-4c7c-caf0-00c79a4789a1"
      },
      "execution_count": 28,
      "outputs": [
        {
          "output_type": "stream",
          "name": "stdout",
          "text": [
            "Time of first call.\n",
            "Overall summary: Max 759.034ms, Min 759.034ms, Mean +/- Std 759.034ms +/-   0s\n",
            "Time after second call.\n",
            "Overall summary: Max 2.33457ms, Min 648.916µs, Mean +/- Std 727.373µs +/- 231.14µs\n",
            "Top 10 summary: Max 657.18µs, Min 648.916µs, Mean +/- Std 654.719µs +/- 2.50747µs\n"
          ]
        }
      ]
    },
    {
      "cell_type": "code",
      "source": [
        "testtrack = trackdata.copy()\n",
        "\n",
        "# The 1st call may be slow because of the computation graph construction.\n",
        "print(f\"Time of first call.\")\n",
        "start = time.perf_counter()\n",
        "temp = aug_fn(testtrack[:-1])\n",
        "interval = time.perf_counter() - start\n",
        "print_perf_time(np.array([interval]))\n",
        "\n",
        "testtrack = trackdata.copy()\n",
        "print(\"Time after second call.\")\n",
        "target_fn = partial(aug_fn, inputs=testtrack[:-1])\n",
        "pmeasure(target_fn)"
      ],
      "metadata": {
        "colab": {
          "base_uri": "https://localhost:8080/"
        },
        "id": "zW4xa-8mGqIG",
        "outputId": "bf8aa1aa-ed3a-41bc-b95b-4aef89ad475d"
      },
      "execution_count": 29,
      "outputs": [
        {
          "output_type": "stream",
          "name": "stdout",
          "text": [
            "Time of first call.\n",
            "Overall summary: Max 729.709ms, Min 729.709ms, Mean +/- Std 729.709ms +/-   0s\n",
            "Time after second call.\n",
            "Overall summary: Max 3.6329ms, Min 653.367µs, Mean +/- Std 763.583µs +/- 352.963µs\n",
            "Top 10 summary: Max 664.35µs, Min 653.367µs, Mean +/- Std 662.35µs +/- 3.05068µs\n"
          ]
        }
      ]
    }
  ]
}